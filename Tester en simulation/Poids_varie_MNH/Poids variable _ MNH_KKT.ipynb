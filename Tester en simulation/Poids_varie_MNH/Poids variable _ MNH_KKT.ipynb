{
 "cells": [
  {
   "cell_type": "code",
   "execution_count": 1,
   "id": "4e48c03c",
   "metadata": {},
   "outputs": [],
   "source": [
    "import numpy as np\n",
    "import pandas as pd\n",
    "import matplotlib.pyplot as plt\n",
    "import random as random\n",
    "from casadi import *\n",
    "from pdfo import *"
   ]
  },
  {
   "cell_type": "code",
   "execution_count": 2,
   "id": "3719220b",
   "metadata": {},
   "outputs": [],
   "source": [
    "n = 500\n",
    "taux = 1/n\n",
    "t = np.linspace(0,1,n)"
   ]
  },
  {
   "cell_type": "code",
   "execution_count": 3,
   "id": "06b9cb34",
   "metadata": {},
   "outputs": [],
   "source": [
    "def tracer_orientation (x,y,theta, r, i):\n",
    "    if i == 1 :\n",
    "        plt.arrow(x, y, r*cos(theta),r*sin(theta), width = 0.01, color = 'red' , label = \"Axe local suivant x\")\n",
    "        plt.arrow(x, y, r*cos(pi/2+theta),r*sin(pi/2+theta), width = 0.01, color = 'yellow' , label = \"Axe local suivant y\")\n",
    "        plt.legend()\n",
    "    else :\n",
    "        plt.arrow(x, y, r*cos(theta),r*sin(theta), width = 0.01, color = 'red' )\n",
    "        plt.arrow(x, y, r*cos(pi/2+theta),r*sin(pi/2+theta), width = 0.01, color = 'yellow' )\n",
    " "
   ]
  },
  {
   "cell_type": "code",
   "execution_count": 4,
   "id": "825efb0b",
   "metadata": {},
   "outputs": [],
   "source": [
    "############################################# KKT\n",
    "\n",
    "x1i = SX.sym('x1i',1)                   \n",
    "x2i = SX.sym('x2i',1)                \n",
    "x3i = SX.sym('x3i',1)\n",
    "\n",
    "\n",
    "x1f = SX.sym('x1f',1)\n",
    "x2f = SX.sym('x2f',1)\n",
    "x3f = SX.sym('x3f',1)\n",
    "\n",
    "T = linspace (0,1,n)"
   ]
  },
  {
   "cell_type": "code",
   "execution_count": 5,
   "id": "56c006f1",
   "metadata": {},
   "outputs": [],
   "source": [
    "# Je defini les vecteurs suivant :\n",
    "\n",
    "A = SX.sym('A',6)\n",
    "B = SX.sym('B',6)\n",
    "\n",
    "\n",
    "u1=SX.sym('u1',n)  \n",
    "u1_prime = SX.sym('u1_prime', n+1)\n",
    "u1_prime[0] = 0\n",
    "u1_prime[n] = 0\n",
    "u1_prime[1:n] =u1[0:n-1]\n",
    "\n",
    "u2=SX.sym('u2',n)  \n",
    "u2_prime = SX.sym('u2_prime', n+1)\n",
    "u2_prime[0] = 0\n",
    "u2_prime[n] = 0\n",
    "u2_prime[1:n] =u2[0:n-1]\n",
    "\n",
    "x1=SX.sym('x1',n)\n",
    "x1_prime = SX.sym('x1_prime', n+1)\n",
    "x1_prime[0] = x1[0]\n",
    "x1_prime[1:] =x1\n",
    "\n",
    "\n",
    "x2=SX.sym('x2',n)\n",
    "x2_prime = SX.sym('x1_prime', n+1)\n",
    "x2_prime[0] = x2[0]\n",
    "x2_prime[1:] =x2\n",
    "\n",
    "x3=SX.sym('x3',n)\n",
    "x3_prime = SX.sym('x1_prime', n+1)\n",
    "x3_prime[0] = x3[0]\n",
    "x3_prime[1:] =x3\n",
    "\n",
    "Lambda = SX.sym('Lambda',n+2, 3)\n",
    "Mue = SX.sym('Mue',1)"
   ]
  },
  {
   "cell_type": "code",
   "execution_count": 6,
   "id": "be2cd959",
   "metadata": {},
   "outputs": [],
   "source": [
    "c1 = A[0]* (T**0) + A[1]* (T**1) + A[2]* (T**2) + A[3]* (T**3) + A[4]* (T**4) + A[5]* (T**5) \n",
    "c2 = B[0]* (T**0) + B[1]* (T**1) + B[2]* (T**2) + B[3]* (T**3) + B[4]* (T**4) + B[5]* (T**5) "
   ]
  },
  {
   "cell_type": "code",
   "execution_count": 7,
   "id": "16444b3e",
   "metadata": {},
   "outputs": [],
   "source": [
    "p1=vertcat(x1i + 10**(-4),x1_prime[2:] + 10**(-4),x1f + 10**(-4))  \n",
    "g = Function('g',[x1,x1i,x1f],[p1])"
   ]
  },
  {
   "cell_type": "code",
   "execution_count": 8,
   "id": "dbd85d11",
   "metadata": {},
   "outputs": [],
   "source": [
    "Y1 = (x1_prime+taux*u1_prime*cos(x3_prime) - g(x1,x1i,x1f))\n",
    "Y2 = (x2_prime+taux*u1_prime*sin(x3_prime) - g(x2,x2i,x2f)) \n",
    "Y3 = (x3_prime+taux*u2_prime - g(x3,x3i,x3f))\n",
    "Y = SX.sym('Y',n+1 , 3)        ## notre contrainte\n",
    "\n",
    "for i in range (n+1):\n",
    "    Y[i,0]= Y1[i]\n",
    "    Y[i,1]= Y2[i]\n",
    "    Y[i,2]= Y3[i]       \n",
    "\n",
    "for i in range (n+1):\n",
    "    Y[i,0]= Y1[i]\n",
    "    Y[i,1]= Y2[i]\n",
    "    Y[i,2]= Y3[i]       \n",
    "    \n",
    "Y_function = Function('Y_function', [u1,u2,x1,x2,x3], [Y])\n"
   ]
  },
  {
   "cell_type": "code",
   "execution_count": 9,
   "id": "43a23830",
   "metadata": {},
   "outputs": [],
   "source": [
    "## notre terme qui est relié a la contrainte.\n",
    "G_lambda = 0\n",
    "\n",
    "for i in range (n+1):\n",
    "    G_lambda += dot(Y[i,:], Lambda[i,:])\n",
    "    \n",
    "G_lambda += (u1[0]-0.0001)*Lambda[n+1,0] + (u2[0]-0.0001)*Lambda[n+1,1] + (u1[-1]-0.0001)*Lambda[n+1,2] + (u2[-1]-0.0001)*Mue\n",
    "\n",
    "\n",
    "G = Function('G', [x1,x2,x3, Lambda], [G_lambda])\n",
    "\n",
    "## notre fonction F \n",
    "F_val = (taux/2)*(dot(c1*u1,u1)+dot(c2*u2,u2))\n",
    "\n",
    "\n",
    "## le Lagrangien \n",
    "L_val = F_val + G_lambda\n",
    "#print(L_val.shape)"
   ]
  },
  {
   "cell_type": "code",
   "execution_count": 10,
   "id": "61887ede",
   "metadata": {},
   "outputs": [],
   "source": [
    "L_x = SX.zeros(5, n)\n",
    "\n",
    "for i in range (n):\n",
    "    L_x[2,i]= jacobian(L_val, x1[i])\n",
    "    L_x[3,i]= jacobian(L_val, x2[i])\n",
    "    L_x[4,i]= jacobian(L_val, x3[i])\n",
    "#print(L_x)\n",
    "    \n",
    "L_u = SX.zeros(5, n)\n",
    "for i in range (n):\n",
    "    L_u[0,i]= jacobian(L_val, u1[i])\n",
    "    L_u[1,i]= jacobian(L_val, u2[i])"
   ]
  },
  {
   "cell_type": "code",
   "execution_count": 11,
   "id": "905cc54c",
   "metadata": {},
   "outputs": [],
   "source": [
    "R = Function ('R', [u1,u2,x1,x2,x3, Lambda, Mue,  A, B, x1i,x2i,x3i, x1f,x2f,x3f ], [(dot(L_x,L_x) + dot(L_u,L_u))])"
   ]
  },
  {
   "cell_type": "code",
   "execution_count": 12,
   "id": "efd7c1a8",
   "metadata": {},
   "outputs": [],
   "source": [
    "def MNH_IOC (U1,U2,X1,X2,X3,  x1i,x2i,x3i, x1f,x2f,x3f) :\n",
    "    T = linspace(0,1,n)\n",
    "    \n",
    "    opti = casadi.Opti()   # cette fonction nous permet de trouver la solution de problème\n",
    "\n",
    "    A = opti.variable(6)\n",
    "    B = opti.variable(6)\n",
    "    \n",
    "    c1 = A[0]* (T**0) + A[1]* (T**1) + A[2]* (T**2) + A[3]* (T**3) + A[4]* (T**4) + A[5]* (T**5) \n",
    "    c2 = B[0]* (T**0) + B[1]* (T**1) + B[2]* (T**2) + B[3]* (T**3) + B[4]* (T**4) + B[5]* (T**5) \n",
    "\n",
    "\n",
    "    Lambda = opti.variable(n+2,3)\n",
    "    Mue = opti.variable(1)\n",
    "\n",
    "    opti.minimize( R(U1,U2,X1,X2,X3, Lambda,Mue, A, B , x1i,x2i,x3i, x1f,x2f,x3f )) \n",
    "    \n",
    "    \n",
    "    for j in range (n) : \n",
    "        opti.subject_to( 0 <= c1[j])\n",
    "        opti.subject_to( 0 <= c2[j] )\n",
    "        opti.subject_to(  c1[j] + c2[j] == 1)\n",
    "\n",
    "    opti.solver('ipopt')    \n",
    "\n",
    "    sol = opti.solve()\n",
    "    \n",
    "    return sol.value(A), sol.value(B)"
   ]
  },
  {
   "cell_type": "code",
   "execution_count": 13,
   "id": "46d55535",
   "metadata": {},
   "outputs": [],
   "source": [
    "A = [1/10,3/10,2/10,1/10,2/10,1/10]\n",
    "\n",
    "C1 = A[0]* (t**0) + A[1]* (t**1) + A[2]* (t**2) + A[3]* (t**3) + A[4]* (t**4) + A[5]* (t**5) \n",
    "C2 = 1 - C1"
   ]
  },
  {
   "cell_type": "code",
   "execution_count": 14,
   "id": "26bd728e",
   "metadata": {},
   "outputs": [],
   "source": [
    "x1i = -4                   # condition initiale de x1\n",
    "x2i = -3.4                 # condition initiale de x2\n",
    "x3i = pi/4              # condition initiale de x3\n",
    "\n",
    "\n",
    "x1f = 0           # condition final de x1\n",
    "x2f = 0            # condition final de x2\n",
    "x3f = pi/2         # condition final de x3"
   ]
  },
  {
   "cell_type": "code",
   "execution_count": 15,
   "id": "4566d957",
   "metadata": {
    "scrolled": true
   },
   "outputs": [
    {
     "name": "stdout",
     "output_type": "stream",
     "text": [
      "\n",
      "******************************************************************************\n",
      "This program contains Ipopt, a library for large-scale nonlinear optimization.\n",
      " Ipopt is released as open source code under the Eclipse Public License (EPL).\n",
      "         For more information visit https://github.com/coin-or/Ipopt\n",
      "******************************************************************************\n",
      "\n",
      "This is Ipopt version 3.14.4, running with linear solver MUMPS 5.2.1.\n",
      "\n",
      "Number of nonzeros in equality constraint Jacobian...:     5499\n",
      "Number of nonzeros in inequality constraint Jacobian.:        0\n",
      "Number of nonzeros in Lagrangian Hessian.............:     1998\n",
      "\n",
      "Total number of variables............................:     2500\n",
      "                     variables with only lower bounds:        0\n",
      "                variables with lower and upper bounds:        0\n",
      "                     variables with only upper bounds:        0\n",
      "Total number of equality constraints.................:     1507\n",
      "Total number of inequality constraints...............:        0\n",
      "        inequality constraints with only lower bounds:        0\n",
      "   inequality constraints with lower and upper bounds:        0\n",
      "        inequality constraints with only upper bounds:        0\n",
      "\n",
      "iter    objective    inf_pr   inf_du lg(mu)  ||d||  lg(rg) alpha_du alpha_pr  ls\n",
      "   0  0.0000000e+00 4.00e+00 0.00e+00  -1.0 0.00e+00    -  0.00e+00 0.00e+00   0\n",
      "   1  5.3879901e+00 6.31e-01 1.26e+06  -1.0 5.11e+01    -  1.00e+00 1.00e+00H  1\n",
      "   2  4.0601370e+00 8.01e-02 5.52e+04  -1.0 1.49e+00   4.0 1.00e+00 1.00e+00H  1\n",
      "   3  4.1078013e+00 3.22e-04 2.20e+02  -1.0 3.96e-02   3.5 1.00e+00 1.00e+00h  1\n",
      "   4  4.1078550e+00 9.39e-09 3.70e-01  -1.0 3.33e-04   3.0 1.00e+00 1.00e+00h  1\n",
      "   5  4.1078547e+00 2.06e-13 1.01e-03  -1.7 2.74e-06   2.6 1.00e+00 1.00e+00h  1\n",
      "   6  3.9844636e+00 4.96e-02 4.71e-04  -5.7 3.42e+01    -  1.00e+00 1.00e+00f  1\n",
      "   7  3.9874100e+00 5.30e-04 1.78e-06  -5.7 1.64e+00    -  1.00e+00 1.00e+00h  1\n",
      "   8  3.9875001e+00 1.60e-08 3.17e-11  -5.7 1.10e-02    -  1.00e+00 1.00e+00h  1\n",
      "\n",
      "Number of Iterations....: 8\n",
      "\n",
      "                                   (scaled)                 (unscaled)\n",
      "Objective...............:   3.9875001026372257e+00    3.9875001026372257e+00\n",
      "Dual infeasibility......:   3.1744940010014489e-11    3.1744940010014489e-11\n",
      "Constraint violation....:   3.2024988438905669e-09    1.6012494219452833e-08\n",
      "Variable bound violation:   0.0000000000000000e+00    0.0000000000000000e+00\n",
      "Complementarity.........:   0.0000000000000000e+00    0.0000000000000000e+00\n",
      "Overall NLP error.......:   3.2024988438905669e-09    1.6012494219452833e-08\n",
      "\n",
      "\n",
      "Number of objective function evaluations             = 14\n",
      "Number of objective gradient evaluations             = 9\n",
      "Number of equality constraint evaluations            = 14\n",
      "Number of inequality constraint evaluations          = 0\n",
      "Number of equality constraint Jacobian evaluations   = 9\n",
      "Number of inequality constraint Jacobian evaluations = 0\n",
      "Number of Lagrangian Hessian evaluations             = 8\n",
      "Total seconds in IPOPT                               = 0.496\n",
      "\n",
      "EXIT: Optimal Solution Found.\n",
      "      solver  :   t_proc      (avg)   t_wall      (avg)    n_eval\n",
      "       nlp_f  |        0 (       0) 140.20us ( 10.01us)        14\n",
      "       nlp_g  |        0 (       0) 715.80us ( 51.13us)        14\n",
      "  nlp_grad_f  |        0 (       0) 310.80us ( 31.08us)        10\n",
      "  nlp_hess_l  |        0 (       0) 793.90us ( 99.24us)         8\n",
      "   nlp_jac_g  |   5.00ms (500.00us)   1.53ms (153.31us)        10\n",
      "       total  | 497.00ms (497.00ms) 497.49ms (497.49ms)         1\n"
     ]
    }
   ],
   "source": [
    "opti = casadi.Opti()   # cette fonction nous permet de trouver la solution de problème\n",
    "\n",
    "u1 = opti.variable(n)\n",
    "u2 = opti.variable(n)\n",
    "x1 = opti.variable(n)\n",
    "x2 = opti.variable(n)\n",
    "x3 = opti.variable(n)\n",
    "\n",
    "opti.minimize(   (taux/2)*(dot(C1*u1,u1)+dot(C2*u2,u2))   )    # ma fonction objetion\n",
    "\n",
    "# mes fonctions de contrainte d'égalité:\n",
    "\n",
    "## pour les condition initial\n",
    "opti.subject_to( x1[0]==x1i + 10**(-4))        \n",
    "opti.subject_to( x2[0]==x2i + 10**(-4))\n",
    "opti.subject_to( x3[0]==x3i + 10**(-4))\n",
    "\n",
    "opti.subject_to( u1[0] == 0.0001 )\n",
    "opti.subject_to( u2[0] == 0.0001 )\n",
    "\n",
    "opti.subject_to( u1[-1] == 0.0001)\n",
    "opti.subject_to( u2[-1] == 0.0001)\n",
    "\n",
    "\n",
    "## pour les contraintes d'égaliter\n",
    "opti.subject_to( u1[:n-1]*cos(x3[:n-1])==(x1[1:] + 10**(-4) - x1[:n-1])/taux )\n",
    "opti.subject_to( u1[:n-1]*sin(x3[:n-1])==(x2[1:] + 10**(-4) - x2[:n-1])/taux )\n",
    "opti.subject_to( u2[:n-1] ==(x3[1:] + 10**(-4) - x3[:n-1])/taux)\n",
    "\n",
    "## pour les conditions finales\n",
    "opti.subject_to( x1[-1]==x1f + 10**(-4))\n",
    "opti.subject_to( x2[-1]==x2f + 10**(-4))\n",
    "opti.subject_to( x3[-1]==x3f + 10**(-4))\n",
    "\n",
    "#p_opts = dict(print_time = False, verbose = False)\n",
    "#s_opts = dict(print_level = 0)\n",
    "\n",
    "\n",
    "opti.solver('ipopt'  ) #, p_opts,s_opts)      \n",
    "\n",
    "\n",
    "sol = opti.solve()\n"
   ]
  },
  {
   "cell_type": "code",
   "execution_count": 16,
   "id": "89322015",
   "metadata": {},
   "outputs": [],
   "source": [
    "U1 = sol.value(u1)\n",
    "U2 = sol.value(u2)\n",
    "X1 = sol.value(x1)\n",
    "X2 = sol.value(x2)\n",
    "X3 = sol.value(x3)"
   ]
  },
  {
   "cell_type": "code",
   "execution_count": 17,
   "id": "af51c6bc",
   "metadata": {
    "scrolled": true
   },
   "outputs": [
    {
     "name": "stdout",
     "output_type": "stream",
     "text": [
      "This is Ipopt version 3.14.4, running with linear solver MUMPS 5.2.1.\n",
      "\n",
      "Number of nonzeros in equality constraint Jacobian...:     6000\n",
      "Number of nonzeros in inequality constraint Jacobian.:     6000\n",
      "Number of nonzeros in Lagrangian Hessian.............:    14528\n",
      "\n",
      "Total number of variables............................:     1519\n",
      "                     variables with only lower bounds:        0\n",
      "                variables with lower and upper bounds:        0\n",
      "                     variables with only upper bounds:        0\n",
      "Total number of equality constraints.................:      500\n",
      "Total number of inequality constraints...............:     1000\n",
      "        inequality constraints with only lower bounds:     1000\n",
      "   inequality constraints with lower and upper bounds:        0\n",
      "        inequality constraints with only upper bounds:        0\n",
      "\n",
      "iter    objective    inf_pr   inf_du lg(mu)  ||d||  lg(rg) alpha_du alpha_pr  ls\n",
      "   0  0.0000000e+00 1.00e+00 1.00e+00  -1.0 0.00e+00    -  0.00e+00 0.00e+00   0\n",
      "   1  1.5475434e-02 1.77e-07 4.70e+01  -1.7 2.53e+00    -  2.06e-02 1.00e+00f  1\n",
      "   2  1.3033156e-02 1.09e-11 2.00e-07  -1.7 9.98e+00    -  1.00e+00 1.00e+00H  1\n",
      "   3  1.2503430e-02 4.40e-11 7.22e-04  -3.8 2.33e+00    -  9.82e-01 1.00e+00f  1\n",
      "   4  5.5190132e-03 2.13e-13 3.09e-04  -5.7 3.57e+01    -  7.50e-01 1.00e+00f  1\n",
      "   5  2.2708366e-03 5.33e-14 1.09e-04  -5.7 7.80e+00    -  8.49e-01 1.00e+00f  1\n",
      "   6  6.2269417e-04 1.78e-14 2.04e-05  -5.7 1.02e+01    -  9.54e-01 1.00e+00f  1\n",
      "   7  1.1854271e-04 8.88e-15 1.84e-11  -5.7 2.04e+01    -  1.00e+00 1.00e+00f  1\n",
      "   8  1.2259689e-05 5.33e-15 1.51e-05  -8.6 1.60e+01    -  9.04e-01 1.00e+00f  1\n",
      "   9  6.9802599e-06 2.66e-15 1.09e-06  -8.6 1.09e-02  -4.0 1.00e+00 1.00e+00f  1\n",
      "iter    objective    inf_pr   inf_du lg(mu)  ||d||  lg(rg) alpha_du alpha_pr  ls\n",
      "  10  5.6203347e-06 4.00e-15 1.30e-06  -8.6 3.91e-02  -4.5 1.00e+00 1.00e+00f  1\n",
      "  11  4.6754879e-06 2.66e-15 8.24e-07  -8.6 7.41e-02  -5.0 1.00e+00 1.00e+00h  1\n",
      "  12  3.4358226e-06 3.55e-15 4.97e-07  -8.6 1.34e-01  -5.4 1.00e+00 1.00e+00f  1\n",
      "  13  2.2705983e-06 2.22e-15 2.95e-07  -8.6 2.39e-01  -5.9 1.00e+00 1.00e+00f  1\n",
      "  14  1.7851388e-06 2.66e-15 1.38e-07  -8.6 3.37e-01  -6.4 1.00e+00 1.00e+00h  1\n",
      "  15  1.7267227e-06 3.11e-15 1.11e-07  -8.6 1.01e-01  -6.0 1.00e+00 1.00e+00h  1\n",
      "  16  1.6259521e-06 1.78e-15 9.23e-08  -8.6 2.52e-01  -6.4 1.00e+00 1.00e+00h  1\n",
      "  17  1.5925674e-06 3.11e-15 8.91e-08  -8.6 9.14e-02  -6.0 1.00e+00 1.00e+00h  1\n",
      "  18  1.5001531e-06 3.11e-15 8.59e-08  -8.6 2.64e-01  -6.5 1.00e+00 1.00e+00h  1\n",
      "  19  1.4667840e-06 2.22e-15 8.50e-08  -8.6 9.81e-02  -6.1 1.00e+00 1.00e+00h  1\n",
      "iter    objective    inf_pr   inf_du lg(mu)  ||d||  lg(rg) alpha_du alpha_pr  ls\n",
      "  20  1.3723190e-06 1.78e-15 8.25e-08  -8.6 2.85e-01  -6.5 1.00e+00 1.00e+00h  1\n",
      "  21  1.3381586e-06 2.22e-15 8.16e-08  -8.6 1.06e-01  -6.1 1.00e+00 1.00e+00h  1\n",
      "  22  1.2418907e-06 1.78e-15 7.87e-08  -8.6 3.06e-01  -6.6 1.00e+00 1.00e+00h  1\n",
      "  23  1.2072175e-06 2.66e-15 7.76e-08  -8.6 1.13e-01  -6.2 1.00e+00 1.00e+00h  1\n",
      "  24  1.1102226e-06 1.33e-15 7.44e-08  -8.6 3.26e-01  -6.6 1.00e+00 1.00e+00h  1\n",
      "  25  1.0754601e-06 1.78e-15 7.32e-08  -8.6 1.20e-01  -6.2 1.00e+00 1.00e+00h  1\n",
      "\n",
      "Number of Iterations....: 25\n",
      "\n",
      "                                   (scaled)                 (unscaled)\n",
      "Objective...............:   1.0754600886818892e-06    1.0754600886818892e-06\n",
      "Dual infeasibility......:   7.3223659640257754e-08    7.3223659640257754e-08\n",
      "Constraint violation....:   1.7763568394002505e-15    1.7763568394002505e-15\n",
      "Variable bound violation:   0.0000000000000000e+00    0.0000000000000000e+00\n",
      "Complementarity.........:   2.5059035596800365e-09    2.5059035596800365e-09\n",
      "Overall NLP error.......:   7.3223659640257754e-08    7.3223659640257754e-08\n",
      "\n",
      "\n",
      "Number of objective function evaluations             = 27\n",
      "Number of objective gradient evaluations             = 26\n",
      "Number of equality constraint evaluations            = 27\n",
      "Number of inequality constraint evaluations          = 27\n",
      "Number of equality constraint Jacobian evaluations   = 26\n",
      "Number of inequality constraint Jacobian evaluations = 26\n",
      "Number of Lagrangian Hessian evaluations             = 25\n",
      "Total seconds in IPOPT                               = 2.704\n",
      "\n",
      "EXIT: Solved To Acceptable Level.\n",
      "      solver  :   t_proc      (avg)   t_wall      (avg)    n_eval\n",
      "       nlp_f  |   4.00ms (148.15us)   4.11ms (152.04us)        27\n",
      "       nlp_g  |  10.00ms (370.37us)   8.49ms (314.38us)        27\n",
      "  nlp_grad_f  |  15.00ms (555.56us)  13.48ms (499.08us)        27\n",
      "  nlp_hess_l  | 177.00ms (  7.08ms) 177.14ms (  7.09ms)        25\n",
      "   nlp_jac_g  |  45.00ms (  1.67ms)  47.54ms (  1.76ms)        27\n",
      "       total  |   2.71 s (  2.71 s)   2.70 s (  2.70 s)         1\n"
     ]
    }
   ],
   "source": [
    "A_KKT,B_KKT = MNH_IOC (U1,U2,X1,X2,X3,  x1i,x2i,x3i, x1f,x2f,x3f)"
   ]
  },
  {
   "cell_type": "code",
   "execution_count": 18,
   "id": "b3d929db",
   "metadata": {},
   "outputs": [],
   "source": [
    "c1_KKT = A_KKT[0] + A_KKT[1]*t + A_KKT[2]* (t**2) + A_KKT[3]* (t**3) + A_KKT[4]* (t**4) + A_KKT[5]* (t**5) \n",
    "c2_KKT = B_KKT[0] + B_KKT[1]*t + B_KKT[2]* (t**2) + B_KKT[3]* (t**3) + B_KKT[4]* (t**4) + B_KKT[5]* (t**5) "
   ]
  },
  {
   "cell_type": "code",
   "execution_count": 19,
   "id": "73ebf7fa",
   "metadata": {
    "scrolled": true
   },
   "outputs": [
    {
     "name": "stdout",
     "output_type": "stream",
     "text": [
      "This is Ipopt version 3.14.4, running with linear solver MUMPS 5.2.1.\n",
      "\n",
      "Number of nonzeros in equality constraint Jacobian...:     5499\n",
      "Number of nonzeros in inequality constraint Jacobian.:        0\n",
      "Number of nonzeros in Lagrangian Hessian.............:     1998\n",
      "\n",
      "Total number of variables............................:     2500\n",
      "                     variables with only lower bounds:        0\n",
      "                variables with lower and upper bounds:        0\n",
      "                     variables with only upper bounds:        0\n",
      "Total number of equality constraints.................:     1507\n",
      "Total number of inequality constraints...............:        0\n",
      "        inequality constraints with only lower bounds:        0\n",
      "   inequality constraints with lower and upper bounds:        0\n",
      "        inequality constraints with only upper bounds:        0\n",
      "\n",
      "iter    objective    inf_pr   inf_du lg(mu)  ||d||  lg(rg) alpha_du alpha_pr  ls\n",
      "   0  0.0000000e+00 4.00e+00 0.00e+00  -1.0 0.00e+00    -  0.00e+00 0.00e+00   0\n",
      "   1  5.4557659e+00 6.66e-01 9.31e+05  -1.0 4.74e+01    -  1.00e+00 1.00e+00H  1\n",
      "   2  3.9113769e+00 2.76e-01 2.73e+04  -1.0 1.35e+00   4.0 1.00e+00 1.00e+00h  1\n",
      "   3  4.0707645e+00 9.31e-03 1.62e+03  -1.0 2.39e-01   3.5 1.00e+00 1.00e+00h  1\n",
      "   4  4.0741139e+00 4.15e-06 6.47e+00  -1.0 5.83e-03   3.0 1.00e+00 1.00e+00h  1\n",
      "   5  4.0741159e+00 1.31e-12 1.40e-03  -1.0 3.77e-06   2.6 1.00e+00 1.00e+00h  1\n",
      "   6  3.9872029e+00 1.06e-01 1.70e-03  -5.7 3.80e+01    -  1.00e+00 1.00e+00f  1\n",
      "   7  3.9783714e+00 5.94e-03 2.09e-05  -5.7 5.55e+00    -  1.00e+00 1.00e+00h  1\n",
      "   8  3.9788790e+00 2.54e-06 4.51e-09  -5.7 1.44e-01    -  1.00e+00 1.00e+00h  1\n",
      "   9  3.9788795e+00 2.50e-13 8.88e-16  -8.6 2.77e-05    -  1.00e+00 1.00e+00h  1\n",
      "\n",
      "Number of Iterations....: 9\n",
      "\n",
      "                                   (scaled)                 (unscaled)\n",
      "Objective...............:   3.9788795043570762e+00    3.9788795043570762e+00\n",
      "Dual infeasibility......:   8.8817841970012523e-16    8.8817841970012523e-16\n",
      "Constraint violation....:   5.0093262871087068e-14    2.5046631435543532e-13\n",
      "Variable bound violation:   0.0000000000000000e+00    0.0000000000000000e+00\n",
      "Complementarity.........:   0.0000000000000000e+00    0.0000000000000000e+00\n",
      "Overall NLP error.......:   5.0093262871087068e-14    2.5046631435543532e-13\n",
      "\n",
      "\n",
      "Number of objective function evaluations             = 14\n",
      "Number of objective gradient evaluations             = 10\n",
      "Number of equality constraint evaluations            = 14\n",
      "Number of inequality constraint evaluations          = 0\n",
      "Number of equality constraint Jacobian evaluations   = 10\n",
      "Number of inequality constraint Jacobian evaluations = 0\n",
      "Number of Lagrangian Hessian evaluations             = 9\n",
      "Total seconds in IPOPT                               = 0.482\n",
      "\n",
      "EXIT: Optimal Solution Found.\n",
      "      solver  :   t_proc      (avg)   t_wall      (avg)    n_eval\n",
      "       nlp_f  |        0 (       0) 129.40us (  9.24us)        14\n",
      "       nlp_g  |   2.00ms (142.86us) 673.40us ( 48.10us)        14\n",
      "  nlp_grad_f  |        0 (       0) 279.60us ( 25.42us)        11\n",
      "  nlp_hess_l  |   1.00ms (111.11us) 964.60us (107.18us)         9\n",
      "   nlp_jac_g  |   1.00ms ( 90.91us)   1.50ms (136.45us)        11\n",
      "       total  | 483.00ms (483.00ms) 483.47ms (483.47ms)         1\n"
     ]
    }
   ],
   "source": [
    "opti = casadi.Opti()   # cette fonction nous permet de trouver la solution de problème\n",
    "\n",
    "u1 = opti.variable(n)\n",
    "u2 = opti.variable(n)\n",
    "x1 = opti.variable(n)\n",
    "x2 = opti.variable(n)\n",
    "x3 = opti.variable(n)\n",
    "\n",
    "opti.minimize(   (taux/2)*(dot(c1_KKT*u1,u1)+dot(c2_KKT*u2,u2))   )    # ma fonction objetion\n",
    "\n",
    "# mes fonctions de contrainte d'égalité:\n",
    "\n",
    "## pour les condition initial\n",
    "opti.subject_to( x1[0]==x1i + 10**(-4))        \n",
    "opti.subject_to( x2[0]==x2i + 10**(-4))\n",
    "opti.subject_to( x3[0]==x3i + 10**(-4))\n",
    "\n",
    "opti.subject_to( u1[0] == 0.0001 )\n",
    "opti.subject_to( u2[0] == 0.0001 )\n",
    "\n",
    "opti.subject_to( u1[-1] == 0.0001)\n",
    "opti.subject_to( u2[-1] == 0.0001)\n",
    "\n",
    "\n",
    "## pour les contraintes d'égaliter\n",
    "opti.subject_to( u1[:n-1]*cos(x3[:n-1])==(x1[1:] + 10**(-4) - x1[:n-1])/taux )\n",
    "opti.subject_to( u1[:n-1]*sin(x3[:n-1])==(x2[1:] + 10**(-4) - x2[:n-1])/taux )\n",
    "opti.subject_to( u2[:n-1] ==(x3[1:] + 10**(-4) - x3[:n-1])/taux)\n",
    "\n",
    "## pour les conditions finales\n",
    "opti.subject_to( x1[-1]==x1f + 10**(-4))\n",
    "opti.subject_to( x2[-1]==x2f + 10**(-4))\n",
    "opti.subject_to( x3[-1]==x3f + 10**(-4))\n",
    "\n",
    "#p_opts = dict(print_time = False, verbose = False)\n",
    "#s_opts = dict(print_level = 0)\n",
    "\n",
    "\n",
    "opti.solver('ipopt'  ) #, p_opts,s_opts)      \n",
    "\n",
    "\n",
    "sol = opti.solve()\n"
   ]
  },
  {
   "cell_type": "code",
   "execution_count": 20,
   "id": "c87db02a",
   "metadata": {},
   "outputs": [],
   "source": [
    "U1_KKT = sol.value(u1)\n",
    "U2_KKT = sol.value(u2)\n",
    "X1_KKT = sol.value(x1)\n",
    "X2_KKT = sol.value(x2)\n",
    "X3_KKT = sol.value(x3)"
   ]
  },
  {
   "cell_type": "code",
   "execution_count": 21,
   "id": "b6346a7f",
   "metadata": {},
   "outputs": [
    {
     "data": {
      "text/plain": [
       "<matplotlib.legend.Legend at 0x23c577e9f70>"
      ]
     },
     "execution_count": 21,
     "metadata": {},
     "output_type": "execute_result"
    },
    {
     "data": {
      "image/png": "[encoded data removed]",
      "text/plain": [
       "<Figure size 1440x720 with 2 Axes>"
      ]
     },
     "metadata": {
      "needs_background": "light"
     },
     "output_type": "display_data"
    }
   ],
   "source": [
    "plt.figure(figsize = (20,10))\n",
    "\n",
    "plt.subplot(1,2,1)\n",
    "plt.plot(t,C1, label = 'alpha1 initial')\n",
    "plt.plot(t,c1_KKT, label = 'alpha1 KKT')\n",
    "plt.xlabel('Times[s]')\n",
    "plt.ylabel('Alpha1')\n",
    "plt.legend()\n",
    "\n",
    "plt.subplot(1,2,2)\n",
    "plt.plot(t,C2, label = 'alpha2 initial')\n",
    "plt.plot(t,c2_KKT, label = 'alpha2 KKT')\n",
    "plt.xlabel('Times[s]')\n",
    "plt.ylabel('Alpha2')\n",
    "plt.legend()\n",
    "\n"
   ]
  },
  {
   "cell_type": "code",
   "execution_count": 22,
   "id": "e2133e91",
   "metadata": {},
   "outputs": [
    {
     "data": {
      "text/plain": [
       "Text(0, 0.5, 'Y[m]')"
      ]
     },
     "execution_count": 22,
     "metadata": {},
     "output_type": "execute_result"
    },
    {
     "data": {
      "image/png": "[encoded data removed]",
      "text/plain": [
       "<Figure size 1440x720 with 1 Axes>"
      ]
     },
     "metadata": {
      "needs_background": "light"
     },
     "output_type": "display_data"
    }
   ],
   "source": [
    "plt.figure(figsize = (20,10))\n",
    "plt.plot(X1,X2, 'r',label = 'trajectoire simulé')\n",
    "plt.plot(X1_KKT,X2_KKT, label = 'KKT')\n",
    "plt.legend()\n",
    "\n",
    "plt.xlabel('X[m]')\n",
    "plt.ylabel('Y[m]')"
   ]
  }
 ],
 "metadata": {
  "kernelspec": {
   "display_name": "Python 3 (ipykernel)",
   "language": "python",
   "name": "python3"
  },
  "language_info": {
   "codemirror_mode": {
    "name": "ipython",
    "version": 3
   },
   "file_extension": ".py",
   "mimetype": "text/x-python",
   "name": "python",
   "nbconvert_exporter": "python",
   "pygments_lexer": "ipython3",
   "version": "3.9.7"
  }
 },
 "nbformat": 4,
 "nbformat_minor": 5
}
