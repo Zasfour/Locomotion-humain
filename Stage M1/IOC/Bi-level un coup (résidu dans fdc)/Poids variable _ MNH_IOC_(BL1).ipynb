{
 "cells": [
  {
   "cell_type": "code",
   "execution_count": 1,
   "id": "4e48c03c",
   "metadata": {},
   "outputs": [],
   "source": [
    "import numpy as np\n",
    "import pandas as pd\n",
    "import matplotlib.pyplot as plt\n",
    "import random as random\n",
    "from casadi import *\n",
    "from pdfo import *"
   ]
  },
  {
   "cell_type": "code",
   "execution_count": 2,
   "id": "3719220b",
   "metadata": {},
   "outputs": [],
   "source": [
    "n = 500\n",
    "taux = 1/n\n",
    "t = np.linspace(0,1,n)"
   ]
  },
  {
   "cell_type": "code",
   "execution_count": 3,
   "id": "06b9cb34",
   "metadata": {},
   "outputs": [],
   "source": [
    "def tracer_orientation (x,y,theta, r, i):\n",
    "    if i == 1 :\n",
    "        plt.arrow(x, y, r*cos(theta),r*sin(theta), width = 0.01, color = 'red' , label = \"Axe local suivant x\")\n",
    "        plt.arrow(x, y, r*cos(pi/2+theta),r*sin(pi/2+theta), width = 0.01, color = 'yellow' , label = \"Axe local suivant y\")\n",
    "        plt.legend()\n",
    "    else :\n",
    "        plt.arrow(x, y, r*cos(theta),r*sin(theta), width = 0.01, color = 'red' )\n",
    "        plt.arrow(x, y, r*cos(pi/2+theta),r*sin(pi/2+theta), width = 0.01, color = 'yellow' )\n",
    " "
   ]
  },
  {
   "cell_type": "code",
   "execution_count": 4,
   "id": "825efb0b",
   "metadata": {},
   "outputs": [],
   "source": [
    "############################################# KKT\n",
    "\n",
    "x1i = SX.sym('x1i',1)                   \n",
    "x2i = SX.sym('x2i',1)                \n",
    "x3i = SX.sym('x3i',1)\n",
    "\n",
    "\n",
    "x1f = SX.sym('x1f',1)\n",
    "x2f = SX.sym('x2f',1)\n",
    "x3f = SX.sym('x3f',1)\n",
    "\n",
    "T = linspace (0,1,n)"
   ]
  },
  {
   "cell_type": "code",
   "execution_count": 5,
   "id": "56c006f1",
   "metadata": {},
   "outputs": [],
   "source": [
    "# Je defini les vecteurs suivant :\n",
    "\n",
    "A = SX.sym('A',6)\n",
    "B = SX.sym('B',6)\n",
    "\n",
    "\n",
    "u1=SX.sym('u1',n)  \n",
    "u1_prime = SX.sym('u1_prime', n+1)\n",
    "u1_prime[0] = 0\n",
    "u1_prime[n] = 0\n",
    "u1_prime[1:n] =u1[0:n-1]\n",
    "\n",
    "u2=SX.sym('u2',n)  \n",
    "u2_prime = SX.sym('u2_prime', n+1)\n",
    "u2_prime[0] = 0\n",
    "u2_prime[n] = 0\n",
    "u2_prime[1:n] =u2[0:n-1]\n",
    "\n",
    "x1=SX.sym('x1',n)\n",
    "x1_prime = SX.sym('x1_prime', n+1)\n",
    "x1_prime[0] = x1[0]\n",
    "x1_prime[1:] =x1\n",
    "\n",
    "\n",
    "x2=SX.sym('x2',n)\n",
    "x2_prime = SX.sym('x1_prime', n+1)\n",
    "x2_prime[0] = x2[0]\n",
    "x2_prime[1:] =x2\n",
    "\n",
    "x3=SX.sym('x3',n)\n",
    "x3_prime = SX.sym('x1_prime', n+1)\n",
    "x3_prime[0] = x3[0]\n",
    "x3_prime[1:] =x3\n",
    "\n",
    "Lambda = SX.sym('Lambda',n+2, 3)\n",
    "Mue = SX.sym('Mue',1)"
   ]
  },
  {
   "cell_type": "code",
   "execution_count": 6,
   "id": "be2cd959",
   "metadata": {},
   "outputs": [],
   "source": [
    "c1 = A[0]* (T**0) + A[1]* (T**1) + A[2]* (T**2) + A[3]* (T**3) + A[4]* (T**4) + A[5]* (T**5) \n",
    "c2 = B[0]* (T**0) + B[1]* (T**1) + B[2]* (T**2) + B[3]* (T**3) + B[4]* (T**4) + B[5]* (T**5) "
   ]
  },
  {
   "cell_type": "code",
   "execution_count": 7,
   "id": "16444b3e",
   "metadata": {},
   "outputs": [],
   "source": [
    "p1=vertcat(x1i + 10**(-4),x1_prime[2:] + 10**(-4),x1f + 10**(-4))  \n",
    "g = Function('g',[x1,x1i,x1f],[p1])"
   ]
  },
  {
   "cell_type": "code",
   "execution_count": 8,
   "id": "dbd85d11",
   "metadata": {},
   "outputs": [],
   "source": [
    "Y1 = (x1_prime+taux*u1_prime*cos(x3_prime) - g(x1,x1i,x1f))\n",
    "Y2 = (x2_prime+taux*u1_prime*sin(x3_prime) - g(x2,x2i,x2f)) \n",
    "Y3 = (x3_prime+taux*u2_prime - g(x3,x3i,x3f))\n",
    "Y = SX.sym('Y',n+1 , 3)        ## notre contrainte\n",
    "\n",
    "for i in range (n+1):\n",
    "    Y[i,0]= Y1[i]\n",
    "    Y[i,1]= Y2[i]\n",
    "    Y[i,2]= Y3[i]       \n",
    "\n",
    "for i in range (n+1):\n",
    "    Y[i,0]= Y1[i]\n",
    "    Y[i,1]= Y2[i]\n",
    "    Y[i,2]= Y3[i]       \n",
    "    \n",
    "Y_function = Function('Y_function', [u1,u2,x1,x2,x3], [Y])\n"
   ]
  },
  {
   "cell_type": "code",
   "execution_count": 9,
   "id": "43a23830",
   "metadata": {},
   "outputs": [],
   "source": [
    "## notre terme qui est relié a la contrainte.\n",
    "G_lambda = 0\n",
    "\n",
    "for i in range (n+1):\n",
    "    G_lambda += dot(Y[i,:], Lambda[i,:])\n",
    "    \n",
    "G_lambda += (u1[0]-0.0001)*Lambda[n+1,0] + (u2[0]-0.0001)*Lambda[n+1,1] + (u1[-1]-0.0001)*Lambda[n+1,2] + (u2[-1]-0.0001)*Mue\n",
    "\n",
    "\n",
    "G = Function('G', [x1,x2,x3, Lambda], [G_lambda])\n",
    "\n",
    "## notre fonction F \n",
    "F_val = (taux/2)*(dot(c1*u1,u1)+dot(c2*u2,u2))\n",
    "\n",
    "\n",
    "## le Lagrangien \n",
    "L_val = F_val + G_lambda\n",
    "#print(L_val.shape)"
   ]
  },
  {
   "cell_type": "code",
   "execution_count": 10,
   "id": "61887ede",
   "metadata": {},
   "outputs": [],
   "source": [
    "L_x = SX.zeros(5, n)\n",
    "\n",
    "for i in range (n):\n",
    "    L_x[2,i]= jacobian(L_val, x1[i])\n",
    "    L_x[3,i]= jacobian(L_val, x2[i])\n",
    "    L_x[4,i]= jacobian(L_val, x3[i])\n",
    "#print(L_x)\n",
    "    \n",
    "L_u = SX.zeros(5, n)\n",
    "for i in range (n):\n",
    "    L_u[0,i]= jacobian(L_val, u1[i])\n",
    "    L_u[1,i]= jacobian(L_val, u2[i])"
   ]
  },
  {
   "cell_type": "code",
   "execution_count": 11,
   "id": "905cc54c",
   "metadata": {},
   "outputs": [],
   "source": [
    "R = Function ('R', [u1,u2,x1,x2,x3, Lambda, Mue,  A, B, x1i,x2i,x3i, x1f,x2f,x3f ], [(dot(L_x,L_x) + dot(L_u,L_u))])"
   ]
  },
  {
   "cell_type": "code",
   "execution_count": 13,
   "id": "627f567d",
   "metadata": {},
   "outputs": [],
   "source": [
    "############################################# Bi-level en un coup\n",
    "\n",
    "X1=SX.sym('X1',n)\n",
    "X2=SX.sym('X2',n)  \n",
    "X3=SX.sym('X3',n)  \n",
    "m = SX.sym('m',1)\n",
    "m = (dot(X1-x1,X1-x1) + dot(X2-x2,X2-x2) + dot(X3-x3,X3-x3))\n",
    "\n",
    "M = Function ('M', [x1,x2,x3, X1,X2,X3], [m])"
   ]
  },
  {
   "cell_type": "code",
   "execution_count": null,
   "id": "f09d1271",
   "metadata": {},
   "outputs": [],
   "source": [
    "def BL (U1,U2,X1,X2,X3, Xi, Xf):\n",
    "    opti = casadi.Opti()   \n",
    "\n",
    "    A = opti.variable(6)\n",
    "    B = opti.variable(6)\n",
    "    Lambda = opti.variable(n+2,3)\n",
    "    Mue = opti.variable(1)\n",
    "    u1 = opti.variable(n)\n",
    "    u2 = opti.variable(n)\n",
    "    x1 = opti.variable(n)\n",
    "    x2 = opti.variable(n)\n",
    "    x3 = opti.variable(n)\n",
    "    c1 = A[0]* (T**0) + A[1]* (T**1) + A[2]* (T**2) + A[3]* (T**3) + A[4]* (T**4) + A[5]* (T**5) \n",
    "    c2 = B[0]* (T**0) + B[1]* (T**1) + B[2]* (T**2) + B[3]* (T**3) + B[4]* (T**4) + B[5]* (T**5) \n",
    "\n",
    "\n",
    "    opti.minimize((10**5)*R(u1,u2,x1,x2,x3, Lambda, Mue, A, B , X1[0],X2[0],X3[0], X1[-1],X2[-1],X3[-1] ) + (M(x1,x2,x3, X1,X2,X3)) )  \n",
    "\n",
    "    for j in range (n) : \n",
    "        opti.subject_to( 0 <= c1[j])\n",
    "        opti.subject_to( 0 <= c2[j] )\n",
    "        opti.subject_to(  c1[j] + c2[j] == 1)\n",
    "\n",
    "    opti.subject_to( x1[0]==Xi[0] + 10**(-4))        \n",
    "    opti.subject_to( x2[0]==Xi[1] + 10**(-4))\n",
    "    opti.subject_to( x3[0]==Xi[2] + 10**(-4))\n",
    "\n",
    "    opti.subject_to( u1[0] == 0.0001 )\n",
    "    opti.subject_to( u2[0] == 0.0001 )\n",
    "    opti.subject_to( u1[-1] == 0.0001)\n",
    "    opti.subject_to( u2[-1] == 0.0001)\n",
    "    \n",
    "    opti.subject_to( u1[:n-1]*cos(x3[:n-1])==(x1[1:] + 10**(-4) - x1[:n-1])/taux )\n",
    "    opti.subject_to( u1[:n-1]*sin(x3[:n-1])==(x2[1:] + 10**(-4) - x2[:n-1])/taux )\n",
    "    opti.subject_to( u2[:n-1] ==(x3[1:] + 10**(-4) - x3[:n-1])/taux)\n",
    "\n",
    "    opti.subject_to( x1[-1]==Xf[0] + 10**(-4))\n",
    "    opti.subject_to( x2[-1]==Xf[1] + 10**(-4))\n",
    "    opti.subject_to( x3[-1]==Xf[2] + 10**(-4))\n",
    "    \n",
    "    opti.set_initial(u1, U1)\n",
    "    opti.set_initial(u2, U2)\n",
    "    opti.set_initial(x1, X1)\n",
    "    opti.set_initial(x2, X2)\n",
    "    opti.set_initial(x3, X3)\n",
    "    \n",
    "\n",
    "    opti.solver('ipopt')      \n",
    "\n",
    "\n",
    "    sol = opti.solve()\n",
    "    \n",
    "    return sol.value(A), sol.value(B), sol.value(x1), sol.value(x2), sol.value(x3)"
   ]
  }
 ],
 "metadata": {
  "kernelspec": {
   "display_name": "Python 3 (ipykernel)",
   "language": "python",
   "name": "python3"
  },
  "language_info": {
   "codemirror_mode": {
    "name": "ipython",
    "version": 3
   },
   "file_extension": ".py",
   "mimetype": "text/x-python",
   "name": "python",
   "nbconvert_exporter": "python",
   "pygments_lexer": "ipython3",
   "version": "3.9.7"
  }
 },
 "nbformat": 4,
 "nbformat_minor": 5
}
