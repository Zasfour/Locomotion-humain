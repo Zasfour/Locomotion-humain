{
 "cells": [
  {
   "cell_type": "markdown",
   "id": "64b41f01",
   "metadata": {},
   "source": [
    "Notre problème est : "
   ]
  },
  {
   "cell_type": "markdown",
   "id": "7aa0d292",
   "metadata": {},
   "source": [
    "\\begin{align*}\n",
    "\\ \\ min_{X,u} \\ &   \\alpha_{0} T + \\alpha_{1} \\int_{0}^{T}u_{1}^2 dt + \\alpha_{2} \\int_{0}^{T}u_{2}^2 dt + \\alpha_{3} \\int_{0}^{T}u_{3}^2 dt    \\\\\n",
    "s.c \\ & \\dot{x} = cos(\\theta)v_{avant} - sin(\\theta)v_{orth} \\\\\n",
    "& \\dot{y} = sin(\\theta)v_{avant} + cos(\\theta)v_{orth}  \\\\\n",
    "& \\dot{\\theta} = w  \\\\\n",
    "& \\dot{v}_{avant} = u_1  \\\\\n",
    "& \\dot{w} = u_2  \\\\\n",
    "& \\dot{v}_{orth} = u_3  \\\\\n",
    "& X(0) = X_0  \\ \\ et \\ \\  X(T) = X_{final}\n",
    "\\end{align*}"
   ]
  },
  {
   "cell_type": "markdown",
   "id": "84ae5b5a",
   "metadata": {},
   "source": [
    "#### Notation :\n",
    "$ \\Delta t = \\frac{T}{n}  $\n",
    "\n",
    "$ x[i]  : = x(i \\Delta t )   \\ \\forall i \\in \\{1,...,n \\} $   \n",
    "\n",
    "#### Remarque : \n",
    "On va approché notre intégrale par la méthode des triangles.\n",
    "\n",
    "Prenons une subdivision de notre interval [0,T] en n sous intervalle. Nous allons transformer notre problème continue en un problème discret et de plus on va transformer nos équations diférentielle par un dévéloppement limité. \n",
    "\n",
    "Par exemple $ \\frac{x[i+1]+x[i]}{\\Delta t} $  qui est une approximation de $ \\dot{x}[i]  \\ \\ (donc \\ \\ \\dot{x}[i] := \\frac{x[i+1]+x[i]}{\\Delta t} $)\n",
    "\n"
   ]
  },
  {
   "cell_type": "markdown",
   "id": "8551ba02",
   "metadata": {},
   "source": [
    "Soit $ \\Delta t = \\frac{T}{n}  $\n",
    "\\begin{align*}\n",
    "(2)  \\ \\  \\ min_{X(i),u(i)} \\ &   \\Delta t  \\sum_{i=1}^{n} ( \\alpha_{0} + \\alpha_{1} u_{1}^2[i]+ \\alpha_{2} u_{2}^2[i] + \\alpha_{3}u_{3}^2[i]  )   \\\\\n",
    "s.c \\ &  \\forall i \\in \\{1,...,n \\}  \\\\\n",
    "& x[i+1] = x[i] + \\Delta t(cos(\\theta[i])v_{1}[i] - sin(\\theta[i])v_{2}[i]) \\\\\n",
    "& y[i+1] = y[i] + \\Delta t(sin(\\theta[i])v_{1}[i] + cos(\\theta[i])v_{2}[i])  \\\\\n",
    "& \\theta[i+1] = \\theta[i] + \\Delta t (w[i])  \\\\\n",
    "& u_1[i] = \\frac{v_{1}[i+1] - v_{1}[i] }{ \\Delta t}  \\\\\n",
    "& u_2[i] = \\frac{w[i+1] - w[i]}{\\Delta t}   \\\\\n",
    "& u_3[i] = \\frac{v_{2}[i+1] - v_{2}[i] }{\\Delta t }  \\\\\n",
    "& X[0] = X_0  \\ \\ et \\ \\  X[T] = X_{final}\n",
    "\\end{align*}"
   ]
  },
  {
   "cell_type": "markdown",
   "id": "4244cad3",
   "metadata": {},
   "source": [
    "#### REMARQUE :  \n",
    "Si un poids $α_i$ est grand, le terme correspondant a un  effet important sur la somme globale et donc est plus susceptible d’être réduit  dans le contexte global. Si $α_i$ est petit (ou égal à zéro), le terme a peu  (ou pas) d’influence sur la fonction objective et les quantités peuvent devenir  grandes sans faire beaucoup de mal. "
   ]
  },
  {
   "cell_type": "code",
   "execution_count": 1,
   "id": "5f74492b",
   "metadata": {},
   "outputs": [],
   "source": [
    "import numpy as np \n",
    "import matplotlib.pyplot as plt\n",
    "import random as random\n",
    "%matplotlib inline\n",
    "from casadi import *\n"
   ]
  },
  {
   "cell_type": "markdown",
   "id": "e375ed3a",
   "metadata": {},
   "source": [
    "## DOC  $ (Contrôle\\ optimal\\ direct)$"
   ]
  },
  {
   "cell_type": "code",
   "execution_count": 65,
   "id": "c81a5aeb",
   "metadata": {},
   "outputs": [],
   "source": [
    "n = 100\n",
    "T = 2.5\n",
    "taux = T/n\n",
    "\n",
    "Times = np.linspace(0, T, n)"
   ]
  },
  {
   "cell_type": "markdown",
   "id": "0189c84f",
   "metadata": {},
   "source": [
    "#### Exemple 1 "
   ]
  },
  {
   "cell_type": "code",
   "execution_count": 120,
   "id": "bf850d57",
   "metadata": {},
   "outputs": [],
   "source": [
    "alpha1 = 0.5\n",
    "alpha2 = 0.205\n",
    "alpha3 = 0.295"
   ]
  },
  {
   "cell_type": "code",
   "execution_count": 121,
   "id": "ce243130",
   "metadata": {},
   "outputs": [],
   "source": [
    "x0 = -1.5\n",
    "y0 = 1.2\n",
    "theta0 = pi\n",
    "\n",
    "xf = 0\n",
    "yf = 0\n",
    "thetaf = 0"
   ]
  },
  {
   "cell_type": "code",
   "execution_count": 122,
   "id": "ab082816",
   "metadata": {},
   "outputs": [],
   "source": [
    "## variable de position\n",
    "x = SX.sym('x', n )\n",
    "y = SX.sym('y', n )\n",
    "theta = SX.sym('theta', n )\n",
    "\n",
    "## variable de vitesse \n",
    "v1 = SX.sym('v1', n )\n",
    "v2 = SX.sym('v2', n )\n",
    "w = SX.sym('w', n )\n",
    "\n",
    "\n",
    "## variable de accélération \n",
    "u1 = SX.sym('u1', n )\n",
    "u2 = SX.sym('u2', n )\n",
    "u3 = SX.sym('u3', n )\n"
   ]
  },
  {
   "cell_type": "markdown",
   "id": "a31adaf3",
   "metadata": {},
   "source": [
    "#### Fonctions utile"
   ]
  },
  {
   "cell_type": "code",
   "execution_count": 123,
   "id": "93cec1ab",
   "metadata": {},
   "outputs": [],
   "source": [
    "f= Function('f',[x],[x[1:]])\n",
    "\n",
    "p =vertcat(v1[1:],0)\n",
    "g = Function ('g',[v1],[p])"
   ]
  },
  {
   "cell_type": "code",
   "execution_count": 124,
   "id": "8ca125da",
   "metadata": {},
   "outputs": [],
   "source": [
    "phi = Function ('phi', [u1,u2,u3], [ taux*( alpha1 * dot(u1,u1 ) + alpha2 * dot(u2 ,u2 ) + alpha3 * dot(u3 ,u3))]) "
   ]
  },
  {
   "cell_type": "code",
   "execution_count": 125,
   "id": "9a92ff98",
   "metadata": {},
   "outputs": [
    {
     "name": "stdout",
     "output_type": "stream",
     "text": [
      "This is Ipopt version 3.14.4, running with linear solver MUMPS 5.2.1.\n",
      "\n",
      "Number of nonzeros in equality constraint Jacobian...:     2190\n",
      "Number of nonzeros in inequality constraint Jacobian.:        0\n",
      "Number of nonzeros in Lagrangian Hessian.............:      597\n",
      "\n",
      "Total number of variables............................:      900\n",
      "                     variables with only lower bounds:        0\n",
      "                variables with lower and upper bounds:        0\n",
      "                     variables with only upper bounds:        0\n",
      "Total number of equality constraints.................:      603\n",
      "Total number of inequality constraints...............:        0\n",
      "        inequality constraints with only lower bounds:        0\n",
      "   inequality constraints with lower and upper bounds:        0\n",
      "        inequality constraints with only upper bounds:        0\n",
      "\n",
      "iter    objective    inf_pr   inf_du lg(mu)  ||d||  lg(rg) alpha_du alpha_pr  ls\n",
      "   0  0.0000000e+00 3.14e+00 0.00e+00  -1.0 0.00e+00    -  0.00e+00 0.00e+00   0\n",
      "   1  6.7625531e-01 4.50e-02 1.49e-02  -1.0 3.14e+00    -  1.00e+00 1.00e+00h  1\n",
      "   2  9.0677718e-01 1.81e-03 1.47e-02  -2.5 1.89e+00    -  1.00e+00 1.00e+00h  1\n",
      "   3  9.2171975e-01 2.38e-05 5.44e-06  -3.8 1.54e-01    -  1.00e+00 1.00e+00h  1\n",
      "   4  9.2200305e-01 2.43e-10 5.36e-09  -5.7 5.47e-04    -  1.00e+00 1.00e+00h  1\n",
      "\n",
      "Number of Iterations....: 4\n",
      "\n",
      "                                   (scaled)                 (unscaled)\n",
      "Objective...............:   9.2200305277498007e-01    9.2200305277498007e-01\n",
      "Dual infeasibility......:   5.3649812370437644e-09    5.3649812370437644e-09\n",
      "Constraint violation....:   2.4342483584405272e-10    2.4342483584405272e-10\n",
      "Variable bound violation:   0.0000000000000000e+00    0.0000000000000000e+00\n",
      "Complementarity.........:   0.0000000000000000e+00    0.0000000000000000e+00\n",
      "Overall NLP error.......:   5.3649812370437644e-09    5.3649812370437644e-09\n",
      "\n",
      "\n",
      "Number of objective function evaluations             = 5\n",
      "Number of objective gradient evaluations             = 5\n",
      "Number of equality constraint evaluations            = 5\n",
      "Number of inequality constraint evaluations          = 0\n",
      "Number of equality constraint Jacobian evaluations   = 5\n",
      "Number of inequality constraint Jacobian evaluations = 0\n",
      "Number of Lagrangian Hessian evaluations             = 4\n",
      "Total seconds in IPOPT                               = 0.034\n",
      "\n",
      "EXIT: Optimal Solution Found.\n",
      "      solver  :   t_proc      (avg)   t_wall      (avg)    n_eval\n",
      "       nlp_f  |        0 (       0)  32.90us (  6.58us)         5\n",
      "       nlp_g  |        0 (       0) 274.10us ( 54.82us)         5\n",
      "  nlp_grad_f  |        0 (       0)  77.00us ( 12.83us)         6\n",
      "  nlp_hess_l  |        0 (       0) 250.50us ( 62.62us)         4\n",
      "   nlp_jac_g  |        0 (       0) 501.00us ( 83.50us)         6\n",
      "       total  |  35.00ms ( 35.00ms)  34.52ms ( 34.52ms)         1\n"
     ]
    }
   ],
   "source": [
    "opti = casadi.Opti()   # cette fonction nous permet de trouver la solution de problème\n",
    "\n",
    "## les positions\n",
    "x = opti.variable(n)\n",
    "y = opti.variable(n)\n",
    "theta = opti.variable(n)\n",
    "\n",
    "## les vitesses \n",
    "v1 = opti.variable(n)        ## vitesse latérale\n",
    "v2 = opti.variable(n)        ## vitesse orthogonal\n",
    "w = opti.variable(n)         ## vitesse angulaire\n",
    "\n",
    "\n",
    "## les accélération \n",
    "u1 = opti.variable(n)        ## accélération latérale\n",
    "u3 = opti.variable(n)        ## accélération orthogonal\n",
    "u2 = opti.variable(n)        ## accélération angulaire\n",
    "\n",
    "\n",
    "opti.minimize(  taux*(alpha1 * dot(u1,u1) + alpha2 * dot(u2,u2 ) + alpha3 * dot( u3 ,u3 ) ) )    # ma fonction objetion\n",
    "\n",
    "    # mes fonctions de contrainte d'égalité:\n",
    "\n",
    "    ## pour les condition initial\n",
    "opti.subject_to( x[0] == x0)        \n",
    "opti.subject_to( y[0] == y0)\n",
    "opti.subject_to( theta[0] == theta0)\n",
    "\n",
    "    ## pour les contraintes d'égaliter\n",
    "opti.subject_to( x[1:] == x[:n-1]+taux*(cos(theta[:n-1])*v1[:n-1] - sin(theta[:n-1])*v2[:n-1]) )\n",
    "opti.subject_to( y[1:] == y[:n-1]+taux*(sin(theta[:n-1])*v1[:n-1] + cos(theta[:n-1])*v2[:n-1]) )\n",
    "opti.subject_to( theta[1:] == theta[:n-1] + taux*w[:n-1] )\n",
    "opti.subject_to( (g(v1)-v1)/taux  == u1 )\n",
    "opti.subject_to( (g(w)-w)/taux  == u2 )\n",
    "opti.subject_to( (g(v2)-v2)/taux  == u3 )\n",
    "    \n",
    "\n",
    "    ## pour les conditions finales\n",
    "opti.subject_to( x[-1]==xf)\n",
    "opti.subject_to( y[-1]==yf)\n",
    "opti.subject_to( theta[-1]==thetaf)\n",
    "\n",
    "\n",
    "opti.solver('ipopt')      # suivant la méthode de KKT\n",
    "\n",
    "sol = opti.solve()\n"
   ]
  },
  {
   "cell_type": "code",
   "execution_count": 126,
   "id": "4f571021",
   "metadata": {},
   "outputs": [],
   "source": [
    "U1_1 = sol.value(u1)\n",
    "U2_1 = sol.value(u2)\n",
    "U3_1 = sol.value(u3)\n",
    "V1_1 = sol.value(v1)\n",
    "W_1 = sol.value(w)\n",
    "V2_1 = sol.value(v2)\n",
    "X_1 = sol.value(x)\n",
    "Y_1 = sol.value(y)\n",
    "THETA_1 = sol.value(theta)"
   ]
  },
  {
   "cell_type": "code",
   "execution_count": 127,
   "id": "28d82db2",
   "metadata": {},
   "outputs": [],
   "source": [
    "F = np.zeros(n)\n",
    "\n",
    "for i in range (n):\n",
    "    F[i] = phi(U1_1[i], U2_1[i], U3_1[i])"
   ]
  },
  {
   "cell_type": "code",
   "execution_count": 128,
   "id": "3801ad50",
   "metadata": {},
   "outputs": [
    {
     "data": {
      "text/plain": [
       "<matplotlib.legend.Legend at 0x1f3e1c030a0>"
      ]
     },
     "execution_count": 128,
     "metadata": {},
     "output_type": "execute_result"
    },
    {
     "data": {
      "image/png": "[encoded data removed]",
      "text/plain": [
       "<Figure size 1080x720 with 4 Axes>"
      ]
     },
     "metadata": {
      "needs_background": "light"
     },
     "output_type": "display_data"
    }
   ],
   "source": [
    "plt.subplots(figsize=(15, 10))\n",
    "\n",
    "plt.subplot(2, 2, 1) \n",
    "plt.plot (Times,X_1 , '.')\n",
    "plt.xlabel('Times')\n",
    "plt.ylabel('x[m]')\n",
    "plt.grid(True)\n",
    "\n",
    "plt.subplot(2, 2, 2) \n",
    "plt.plot (Times,Y_1 , '.')\n",
    "plt.xlabel('Times')\n",
    "plt.ylabel('y[m]')\n",
    "plt.grid(True)\n",
    "\n",
    "plt.subplot(2, 2, 3) \n",
    "plt.plot (Times,F , '.')\n",
    "plt.xlabel('Times')\n",
    "plt.ylabel('phi[m]')\n",
    "plt.grid(True)\n",
    "\n",
    "plt.subplot(2, 2, 4) \n",
    "plt.plot (X_1,Y_1 , '.')\n",
    "plt.plot(x0,y0, '*', label = 'Point initial', color = 'red')\n",
    "plt.plot(xf,yf, '*', label = 'Point final', color = 'green')\n",
    "\n",
    "plt.xlabel('x[m]')\n",
    "plt.ylabel('y[m]')\n",
    "plt.grid(True)\n",
    "plt.legend()"
   ]
  },
  {
   "cell_type": "markdown",
   "id": "6370f372",
   "metadata": {},
   "source": [
    "#### Exemple 2 "
   ]
  },
  {
   "cell_type": "code",
   "execution_count": 112,
   "id": "640ee732",
   "metadata": {},
   "outputs": [],
   "source": [
    "alpha1 = 0.85\n",
    "alpha2 = 0.05\n",
    "alpha3 = 0.1"
   ]
  },
  {
   "cell_type": "code",
   "execution_count": 113,
   "id": "f99d9ae7",
   "metadata": {},
   "outputs": [],
   "source": [
    "x0 = -1.5\n",
    "y0 = 1.2\n",
    "theta0 = pi/10\n",
    "\n",
    "xf = 0\n",
    "yf = 0\n",
    "thetaf = 0"
   ]
  },
  {
   "cell_type": "code",
   "execution_count": 114,
   "id": "bb4d58f9",
   "metadata": {},
   "outputs": [
    {
     "name": "stdout",
     "output_type": "stream",
     "text": [
      "This is Ipopt version 3.14.4, running with linear solver MUMPS 5.2.1.\n",
      "\n",
      "Number of nonzeros in equality constraint Jacobian...:     2190\n",
      "Number of nonzeros in inequality constraint Jacobian.:        0\n",
      "Number of nonzeros in Lagrangian Hessian.............:      597\n",
      "\n",
      "Total number of variables............................:      900\n",
      "                     variables with only lower bounds:        0\n",
      "                variables with lower and upper bounds:        0\n",
      "                     variables with only upper bounds:        0\n",
      "Total number of equality constraints.................:      603\n",
      "Total number of inequality constraints...............:        0\n",
      "        inequality constraints with only lower bounds:        0\n",
      "   inequality constraints with lower and upper bounds:        0\n",
      "        inequality constraints with only upper bounds:        0\n",
      "\n",
      "iter    objective    inf_pr   inf_du lg(mu)  ||d||  lg(rg) alpha_du alpha_pr  ls\n",
      "   0  0.0000000e+00 1.50e+00 0.00e+00  -1.0 0.00e+00    -  0.00e+00 0.00e+00   0\n",
      "   1  3.9015655e-01 7.80e-03 5.02e-03  -1.0 1.50e+00    -  1.00e+00 1.00e+00h  1\n",
      "   2  3.1122575e-01 4.84e-03 4.16e-03  -3.8 1.81e+00    -  1.00e+00 1.00e+00h  1\n",
      "   3  2.4303676e-01 6.94e-04 3.32e-04  -3.8 5.89e-01    -  1.00e+00 1.00e+00h  1\n",
      "   4  2.3435937e-01 2.15e-07 6.11e-06  -5.7 1.99e-02    -  1.00e+00 1.00e+00h  1\n",
      "   5  2.3436222e-01 3.56e-10 7.50e-10  -8.6 8.83e-04    -  1.00e+00 1.00e+00h  1\n",
      "\n",
      "Number of Iterations....: 5\n",
      "\n",
      "                                   (scaled)                 (unscaled)\n",
      "Objective...............:   2.3436221872163340e-01    2.3436221872163340e-01\n",
      "Dual infeasibility......:   7.5049635950286131e-10    7.5049635950286131e-10\n",
      "Constraint violation....:   3.5647118590276250e-10    3.5647118590276250e-10\n",
      "Variable bound violation:   0.0000000000000000e+00    0.0000000000000000e+00\n",
      "Complementarity.........:   0.0000000000000000e+00    0.0000000000000000e+00\n",
      "Overall NLP error.......:   7.5049635950286131e-10    7.5049635950286131e-10\n",
      "\n",
      "\n",
      "Number of objective function evaluations             = 6\n",
      "Number of objective gradient evaluations             = 6\n",
      "Number of equality constraint evaluations            = 6\n",
      "Number of inequality constraint evaluations          = 0\n",
      "Number of equality constraint Jacobian evaluations   = 6\n",
      "Number of inequality constraint Jacobian evaluations = 0\n",
      "Number of Lagrangian Hessian evaluations             = 5\n",
      "Total seconds in IPOPT                               = 0.045\n",
      "\n",
      "EXIT: Optimal Solution Found.\n",
      "      solver  :   t_proc      (avg)   t_wall      (avg)    n_eval\n",
      "       nlp_f  |        0 (       0)  20.10us (  3.35us)         6\n",
      "       nlp_g  |        0 (       0) 186.20us ( 31.03us)         6\n",
      "  nlp_grad_f  |        0 (       0) 153.00us ( 21.86us)         7\n",
      "  nlp_hess_l  |        0 (       0) 199.80us ( 39.96us)         5\n",
      "   nlp_jac_g  |   1.00ms (142.86us) 959.70us (137.10us)         7\n",
      "       total  |  46.00ms ( 46.00ms)  45.98ms ( 45.98ms)         1\n"
     ]
    }
   ],
   "source": [
    "opti = casadi.Opti()   # cette fonction nous permet de trouver la solution de problème\n",
    "\n",
    "## les positions\n",
    "x = opti.variable(n)\n",
    "y = opti.variable(n)\n",
    "theta = opti.variable(n)\n",
    "\n",
    "## les vitesses \n",
    "v1 = opti.variable(n)        ## vitesse latérale\n",
    "v2 = opti.variable(n)        ## vitesse orthogonal\n",
    "w = opti.variable(n)         ## vitesse angulaire\n",
    "\n",
    "\n",
    "## les accélération \n",
    "u1 = opti.variable(n)        ## accélération latérale\n",
    "u3 = opti.variable(n)        ## accélération orthogonal\n",
    "u2 = opti.variable(n)        ## accélération angulaire\n",
    "\n",
    "\n",
    "opti.minimize(  taux*(alpha1 * dot(u1,u1) + alpha2 * dot(u2,u2 ) + alpha3 * dot( u3 ,u3 ) ) )    # ma fonction objetion\n",
    "\n",
    "    # mes fonctions de contrainte d'égalité:\n",
    "\n",
    "    ## pour les condition initial\n",
    "opti.subject_to( x[0] == x0)        \n",
    "opti.subject_to( y[0] == y0)\n",
    "opti.subject_to( theta[0] == theta0)\n",
    "\n",
    "    ## pour les contraintes d'égaliter\n",
    "opti.subject_to( x[1:] == x[:n-1]+taux*(cos(theta[:n-1])*v1[:n-1] - sin(theta[:n-1])*v2[:n-1]) )\n",
    "opti.subject_to( y[1:] == y[:n-1]+taux*(sin(theta[:n-1])*v1[:n-1] + cos(theta[:n-1])*v2[:n-1]) )\n",
    "opti.subject_to( theta[1:] == theta[:n-1] + taux*w[:n-1] )\n",
    "opti.subject_to( (g(v1)-v1)/taux  == u1 )\n",
    "opti.subject_to( (g(w)-w)/taux  == u2 )\n",
    "opti.subject_to( (g(v2)-v2)/taux  == u3 )\n",
    "    \n",
    "\n",
    "    ## pour les conditions finales\n",
    "opti.subject_to( x[-1]==xf)\n",
    "opti.subject_to( y[-1]==yf)\n",
    "opti.subject_to( theta[-1]==thetaf)\n",
    "\n",
    "\n",
    "opti.solver('ipopt')      # suivant la méthode de KKT\n",
    "\n",
    "sol = opti.solve()\n"
   ]
  },
  {
   "cell_type": "code",
   "execution_count": 115,
   "id": "9cb7d10e",
   "metadata": {},
   "outputs": [],
   "source": [
    "U1_2 = sol.value(u1)\n",
    "U2_2 = sol.value(u2)\n",
    "U3_2 = sol.value(u3)\n",
    "V1_2 = sol.value(v1)\n",
    "W_2 = sol.value(w)\n",
    "V2_2 = sol.value(v2)\n",
    "X_2 = sol.value(x)\n",
    "Y_2 = sol.value(y)\n",
    "THETA_2 = sol.value(theta)\n",
    "\n",
    "F = np.zeros(n)\n",
    "\n",
    "for i in range (n):\n",
    "    F[i] = phi(V1_2[i], W_2[i], V2_2[i])"
   ]
  },
  {
   "cell_type": "code",
   "execution_count": 116,
   "id": "1125d4cb",
   "metadata": {},
   "outputs": [
    {
     "data": {
      "text/plain": [
       "<matplotlib.legend.Legend at 0x1f3e1909b80>"
      ]
     },
     "execution_count": 116,
     "metadata": {},
     "output_type": "execute_result"
    },
    {
     "data": {
      "image/png": "[encoded data removed]",
      "text/plain": [
       "<Figure size 1080x720 with 4 Axes>"
      ]
     },
     "metadata": {
      "needs_background": "light"
     },
     "output_type": "display_data"
    }
   ],
   "source": [
    "plt.subplots(figsize=(15, 10))\n",
    "\n",
    "plt.subplot(2, 2, 1) \n",
    "plt.plot (Times,X_2 , '.')\n",
    "plt.xlabel('Times')\n",
    "plt.ylabel('x[m]')\n",
    "plt.grid(True)\n",
    "\n",
    "plt.subplot(2, 2, 2) \n",
    "plt.plot (Times,Y_2 , '.')\n",
    "plt.xlabel('Times')\n",
    "plt.ylabel('y[m]')\n",
    "plt.grid(True)\n",
    "\n",
    "plt.subplot(2, 2, 3) \n",
    "plt.plot (Times,F , '.')\n",
    "plt.xlabel('Times')\n",
    "plt.ylabel('phi[m]')\n",
    "plt.grid(True)\n",
    "\n",
    "plt.subplot(2, 2, 4) \n",
    "plt.plot (X_2,Y_2 , '.')\n",
    "plt.plot(x0,y0, '*', label = 'Point initial', color = 'red')\n",
    "plt.plot(xf,yf, '*', label = 'Point final', color = 'green')\n",
    "\n",
    "plt.xlabel('x[m]')\n",
    "plt.ylabel('y[m]')\n",
    "plt.grid(True)\n",
    "plt.legend()"
   ]
  },
  {
   "cell_type": "markdown",
   "id": "fefc07e6",
   "metadata": {},
   "source": [
    "## IOC $(Contrôle\\ optimal\\ inverse)$"
   ]
  },
  {
   "cell_type": "code",
   "execution_count": 80,
   "id": "f8b65512",
   "metadata": {},
   "outputs": [],
   "source": [
    "xi = SX.sym('xi',1)                   \n",
    "yi = SX.sym('yi',1)                \n",
    "thetai = SX.sym('thetai',1)\n",
    "\n",
    "\n",
    "xf = SX.sym('xf',1)\n",
    "yf = SX.sym('yf',1)\n",
    "thetaf = SX.sym('thetaf',1)"
   ]
  },
  {
   "cell_type": "markdown",
   "id": "a0534d99",
   "metadata": {},
   "source": [
    "### Pour les trois première contrainte."
   ]
  },
  {
   "cell_type": "code",
   "execution_count": 81,
   "id": "98652759",
   "metadata": {},
   "outputs": [],
   "source": [
    "alpha1 = SX.sym('alpha1',1)\n",
    "alpha2 = SX.sym('alpha2',1)\n",
    "alpha3 = SX.sym('alpha3',1)\n",
    "\n",
    "## Position\n",
    "x=SX.sym('x',n)\n",
    "x_prime = SX.sym('x_prime', n+1)\n",
    "x_prime[0] = x[0]\n",
    "x_prime[1:] =x\n",
    "\n",
    "\n",
    "y=SX.sym('y',n)\n",
    "y_prime = SX.sym('y_prime', n+1)\n",
    "y_prime[0] = y[0]\n",
    "y_prime[1:] =y\n",
    "\n",
    "theta=SX.sym('theta',n)\n",
    "theta_prime = SX.sym('theta_prime', n+1)\n",
    "theta_prime[0] = theta[0]\n",
    "theta_prime[1:] =theta\n",
    "\n",
    "\n",
    "## Vitesse\n",
    "v1=SX.sym('v1',n)  \n",
    "v1_prime = SX.sym('v1_prime', n+1)\n",
    "v1_prime[0] = 0\n",
    "v1_prime[n] = 0\n",
    "v1_prime[1:n] =v1[0:n-1]\n",
    "\n",
    "v1_prime_1 = SX.sym('v1_prime_1', n+1)\n",
    "v1_prime_1[0] = v1[0]\n",
    "v1_prime_1[1:] =v1\n",
    "\n",
    "\n",
    "v2=SX.sym('v2',n)  \n",
    "v2_prime = SX.sym('v2_prime', n+1)\n",
    "v2_prime[0] = 0\n",
    "v2_prime[n] = 0\n",
    "v2_prime[1:n] =v2[0:n-1]\n",
    "\n",
    "v2_prime_1 = SX.sym('v2_prime_1', n+1)\n",
    "v2_prime_1[0] = v2[0]\n",
    "v2_prime_1[1:] =v2\n",
    "\n",
    "\n",
    "w=SX.sym('w',n)  \n",
    "w_prime = SX.sym('w_prime', n+1)\n",
    "w_prime[0] = 0\n",
    "w_prime[n] = 0\n",
    "w_prime[1:n] =w[0:n-1]\n",
    "\n",
    "w_prime_1 = SX.sym('w_prime_1', n+1)\n",
    "w_prime_1[0] = w[0]\n",
    "w_prime_1[1:] =w\n",
    "\n",
    "\n",
    "## Accélération \n",
    "\n",
    "u1=SX.sym('u1',n)  \n",
    "u1_prime = SX.sym('u1_prime', n+1)\n",
    "u1_prime[0] = 0\n",
    "u1_prime[n] = 0\n",
    "u1_prime[1:n] = u1[0:n-1]\n",
    "\n",
    "u2=SX.sym('u2',n)  \n",
    "u2_prime = SX.sym('u2_prime', n+1)\n",
    "u2_prime[0] = 0\n",
    "u2_prime[n] = 0\n",
    "u2_prime[1:n] = u2[0:n-1]\n",
    "\n",
    "u3=SX.sym('u3',n)  \n",
    "u3_prime = SX.sym('u3_prime', n+1)\n",
    "u3_prime[0] = 0\n",
    "u3_prime[n] = 0\n",
    "u3_prime[1:n] = u3[0:n-1]\n",
    "\n",
    "Lambda = SX.sym('Lambda',n+1, 6)"
   ]
  },
  {
   "cell_type": "code",
   "execution_count": 82,
   "id": "d073d040",
   "metadata": {},
   "outputs": [],
   "source": [
    "p1=vertcat(xi,x_prime[2:],xf)   # Je définis un nouveau vecteur suivant x1 en prenant les n-1 dernières valeurs \n",
    "                               #  et la nième valeur vaut x1f\n",
    "h= Function('h',[x, xi, xf],[p1])\n",
    "\n",
    "p2=vertcat(0, v1)   \n",
    "K = Function('K', [v1], [p2])\n"
   ]
  },
  {
   "cell_type": "code",
   "execution_count": 83,
   "id": "6bc122a6",
   "metadata": {},
   "outputs": [],
   "source": [
    "Y1_K = (x_prime+taux*(v1_prime*cos(theta_prime) - v2_prime*sin(theta_prime)) - h(x, xi,xf))\n",
    "Y2_K = (y_prime+taux*(v1_prime*sin(theta_prime) + v2_prime*cos(theta_prime)) - h(y, yi,yf)) \n",
    "Y3_K = (theta_prime+taux*w_prime - h(theta, thetai,thetaf))\n",
    "\n",
    "U1 = (g(v1)-v1)/taux - u1\n",
    "U2 = (g(w)-w)/taux  - u2\n",
    "U3 = (g(v2)-v2)/taux  - u3 \n",
    "\n",
    "Y4_K = K(U1) \n",
    "Y5_K = K(U2)\n",
    "Y6_K = K(U3)\n",
    "\n",
    "\n",
    "Y_K = SX.sym('Y_K',n+1 , 6)        ## notre contrainte\n",
    "\n",
    "for i in range (0,n+1):\n",
    "    Y_K[i,0]= Y1_K[i]\n",
    "    Y_K[i,1]= Y2_K[i]\n",
    "    Y_K[i,2]= Y3_K[i]       \n",
    "    Y_K[i,3]= Y4_K[i]       \n",
    "    Y_K[i,4]= Y5_K[i]       \n",
    "    Y_K[i,5]= Y6_K[i]       \n",
    "    \n",
    "## notre terme qui est relié a la contrainte.\n",
    "G_lambda = 0\n",
    "\n",
    "for i in range (n+1):\n",
    "    G_lambda += dot(Y_K[i,:], Lambda[i,:])"
   ]
  },
  {
   "cell_type": "code",
   "execution_count": 84,
   "id": "9dd42f87",
   "metadata": {},
   "outputs": [],
   "source": [
    "F_val_K =  taux*( alpha1 * dot(u1,u1) + alpha2 * dot(u2,u2) + alpha3 * dot(u3,u3))\n",
    "\n",
    "## le Lagrangien \n",
    "L_val_K = F_val_K + G_lambda"
   ]
  },
  {
   "cell_type": "code",
   "execution_count": 85,
   "id": "88ae43da",
   "metadata": {},
   "outputs": [],
   "source": [
    "grad_L_K = SX.zeros(9, n)\n",
    "for i in range (n):\n",
    "    grad_L_K[0,i]= jacobian(L_val_K, v1[i])\n",
    "    grad_L_K[1,i]= jacobian(L_val_K, w[i])\n",
    "    grad_L_K[2,i]= jacobian(L_val_K, v2[i])\n",
    "    grad_L_K[3,i]= jacobian(L_val_K, x[i])\n",
    "    grad_L_K[4,i]= jacobian(L_val_K, y[i])\n",
    "    grad_L_K[5,i]= jacobian(L_val_K, theta[i])\n",
    "    grad_L_K[6,i]= jacobian(L_val_K, u1[i])\n",
    "    grad_L_K[7,i]= jacobian(L_val_K, u2[i])\n",
    "    grad_L_K[8,i]= jacobian(L_val_K, u3[i])\n",
    "    \n",
    "    \n",
    "    \n",
    "R_K = Function ('R_K', [u1,u2,u3,v1,w,v2,x,y,theta, Lambda, alpha1, alpha2, alpha3 ,xi,yi,thetai, xf,yf,thetaf  ], [dot(grad_L_K,grad_L_K)])\n",
    "    "
   ]
  },
  {
   "cell_type": "markdown",
   "id": "7a3f1dec",
   "metadata": {},
   "source": [
    "###  Exemple 1"
   ]
  },
  {
   "cell_type": "code",
   "execution_count": 129,
   "id": "e9f803bb",
   "metadata": {},
   "outputs": [],
   "source": [
    "x0 = -1.5\n",
    "y0 = 1.2\n",
    "theta0 = pi\n",
    "\n",
    "xf = 0\n",
    "yf = 0\n",
    "thetaf = 0"
   ]
  },
  {
   "cell_type": "code",
   "execution_count": 130,
   "id": "cab50976",
   "metadata": {},
   "outputs": [
    {
     "name": "stdout",
     "output_type": "stream",
     "text": [
      "This is Ipopt version 3.14.4, running with linear solver MUMPS 5.2.1.\n",
      "\n",
      "Number of nonzeros in equality constraint Jacobian...:        3\n",
      "Number of nonzeros in inequality constraint Jacobian.:        3\n",
      "Number of nonzeros in Lagrangian Hessian.............:     2983\n",
      "\n",
      "Total number of variables............................:      609\n",
      "                     variables with only lower bounds:        0\n",
      "                variables with lower and upper bounds:        0\n",
      "                     variables with only upper bounds:        0\n",
      "Total number of equality constraints.................:        1\n",
      "Total number of inequality constraints...............:        3\n",
      "        inequality constraints with only lower bounds:        3\n",
      "   inequality constraints with lower and upper bounds:        0\n",
      "        inequality constraints with only upper bounds:        0\n",
      "\n",
      "iter    objective    inf_pr   inf_du lg(mu)  ||d||  lg(rg) alpha_du alpha_pr  ls\n",
      "   0  0.0000000e+00 1.00e+00 0.00e+00  -1.0 0.00e+00    -  0.00e+00 0.00e+00   0\n",
      "   1  7.1349114e-04 0.00e+00 3.03e+01  -1.7 5.91e-01  -4.0 3.16e-02 1.00e+00f  1\n",
      "   2  1.0643143e-04 0.00e+00 3.15e-06  -1.7 9.45e-02  -4.5 1.00e+00 1.00e+00f  1\n",
      "   3  8.5158852e-05 0.00e+00 8.37e-04  -3.8 8.06e-03  -5.0 9.86e-01 1.00e+00f  1\n",
      "   4  9.9593887e-06 0.00e+00 3.09e-07  -5.7 8.33e-02  -5.4 1.00e+00 1.00e+00f  1\n",
      "   5  3.6725208e-07 0.00e+00 7.11e-08  -5.7 5.76e-02  -5.9 1.00e+00 1.00e+00f  1\n",
      "   6  9.9093955e-10 0.00e+00 6.69e-07  -8.6 1.30e-02  -6.4 9.89e-01 1.00e+00f  1\n",
      "   7  5.7763859e-14 0.00e+00 9.74e-11  -8.6 7.10e-04  -6.9 1.00e+00 1.00e+00f  1\n",
      "\n",
      "Number of Iterations....: 7\n",
      "\n",
      "                                   (scaled)                 (unscaled)\n",
      "Objective...............:   5.7763858544804959e-14    5.7763858544804959e-14\n",
      "Dual infeasibility......:   9.7374025509466833e-11    9.7374025509466833e-11\n",
      "Constraint violation....:   0.0000000000000000e+00    0.0000000000000000e+00\n",
      "Variable bound violation:   0.0000000000000000e+00    0.0000000000000000e+00\n",
      "Complementarity.........:   4.4050300552385597e-09    4.4050300552385597e-09\n",
      "Overall NLP error.......:   4.4050300552385597e-09    4.4050300552385597e-09\n",
      "\n",
      "\n",
      "Number of objective function evaluations             = 8\n",
      "Number of objective gradient evaluations             = 8\n",
      "Number of equality constraint evaluations            = 8\n",
      "Number of inequality constraint evaluations          = 8\n",
      "Number of equality constraint Jacobian evaluations   = 8\n",
      "Number of inequality constraint Jacobian evaluations = 8\n",
      "Number of Lagrangian Hessian evaluations             = 7\n",
      "Total seconds in IPOPT                               = 0.039\n",
      "\n",
      "EXIT: Optimal Solution Found.\n",
      "      solver  :   t_proc      (avg)   t_wall      (avg)    n_eval\n",
      "       nlp_f  |        0 (       0) 439.90us ( 54.99us)         8\n",
      "       nlp_g  |        0 (       0)  72.50us (  9.06us)         8\n",
      "  nlp_grad_f  |   1.00ms (111.11us) 731.60us ( 81.29us)         9\n",
      "  nlp_hess_l  |   7.00ms (  1.00ms)   6.76ms (965.24us)         7\n",
      "   nlp_jac_g  |        0 (       0)  53.20us (  5.91us)         9\n",
      "       total  |  40.00ms ( 40.00ms)  39.68ms ( 39.68ms)         1\n"
     ]
    }
   ],
   "source": [
    "opti = casadi.Opti()   # cette fonction nous permet de trouver la solution de problème\n",
    "\n",
    "alpha1 = opti.variable()\n",
    "alpha2 = opti.variable()\n",
    "alpha3 = opti.variable()\n",
    "Lambda = opti.variable(n+1,6)\n",
    "    \n",
    "opti.minimize( R_K(U1_1,U2_1,U3_1,V1_1,W_1,V2_1,X_1,Y_1,THETA_1, Lambda, alpha1, alpha2, alpha3, x0,y0,theta0, xf,yf,thetaf  )) \n",
    "\n",
    "opti.subject_to( 0 <= alpha1)\n",
    "#opti.subject_to( 1 >= alpha1)\n",
    "\n",
    "opti.subject_to( 0 <= alpha2 )\n",
    "#opti.subject_to( 1 >= alpha2)\n",
    "\n",
    "\n",
    "opti.subject_to( 0 <= alpha3 )\n",
    "#opti.subject_to( 1 >= alpha3)\n",
    "\n",
    "\n",
    "opti.subject_to(  alpha1 + alpha2 + alpha3 == 1)\n",
    "\n",
    "\n",
    "\n",
    "opti.solver('ipopt')    \n",
    "\n",
    "sol = opti.solve()"
   ]
  },
  {
   "cell_type": "code",
   "execution_count": 131,
   "id": "b6b3cf6d",
   "metadata": {},
   "outputs": [
    {
     "name": "stdout",
     "output_type": "stream",
     "text": [
      "0.4999974762295225\n",
      "0.20500402496189188\n",
      "0.29499849880858564\n"
     ]
    }
   ],
   "source": [
    "print(sol.value(alpha1))\n",
    "print(sol.value(alpha2))\n",
    "print(sol.value(alpha3))"
   ]
  },
  {
   "cell_type": "markdown",
   "id": "34e51b0d",
   "metadata": {},
   "source": [
    "#### Exemple 2"
   ]
  },
  {
   "cell_type": "code",
   "execution_count": 117,
   "id": "d50dcbcb",
   "metadata": {},
   "outputs": [],
   "source": [
    "x0 = -1.5\n",
    "y0 = 1.2\n",
    "theta0 = pi/10\n",
    "\n",
    "xf = 0\n",
    "yf = 0\n",
    "thetaf = 0"
   ]
  },
  {
   "cell_type": "code",
   "execution_count": 118,
   "id": "ea872bdf",
   "metadata": {},
   "outputs": [
    {
     "name": "stdout",
     "output_type": "stream",
     "text": [
      "This is Ipopt version 3.14.4, running with linear solver MUMPS 5.2.1.\n",
      "\n",
      "Number of nonzeros in equality constraint Jacobian...:        3\n",
      "Number of nonzeros in inequality constraint Jacobian.:        3\n",
      "Number of nonzeros in Lagrangian Hessian.............:     2983\n",
      "\n",
      "Total number of variables............................:      609\n",
      "                     variables with only lower bounds:        0\n",
      "                variables with lower and upper bounds:        0\n",
      "                     variables with only upper bounds:        0\n",
      "Total number of equality constraints.................:        1\n",
      "Total number of inequality constraints...............:        3\n",
      "        inequality constraints with only lower bounds:        3\n",
      "   inequality constraints with lower and upper bounds:        0\n",
      "        inequality constraints with only upper bounds:        0\n",
      "\n",
      "iter    objective    inf_pr   inf_du lg(mu)  ||d||  lg(rg) alpha_du alpha_pr  ls\n",
      "   0  0.0000000e+00 1.00e+00 0.00e+00  -1.0 0.00e+00    -  0.00e+00 0.00e+00   0\n",
      "   1  7.7231092e-03 0.00e+00 3.04e+01  -1.7 3.34e-01  -4.0 3.16e-02 1.00e+00f  1\n",
      "   2  3.2535042e-03 0.00e+00 1.52e+01  -1.7 2.33e-01  -4.5 1.00e+00 5.00e-01f  2\n",
      "   3  4.0046435e-03 1.11e-16 5.08e-07  -1.7 4.57e-02  -5.0 1.00e+00 1.00e+00f  1\n",
      "   4  2.3442922e-03 0.00e+00 6.36e-03  -3.8 5.65e-02  -5.4 9.01e-01 1.00e+00f  1\n",
      "   5  4.5305626e-04 0.00e+00 2.81e-07  -3.8 2.26e-01  -5.9 1.00e+00 1.00e+00f  1\n",
      "   6  6.2939015e-05 0.00e+00 9.76e-04  -5.7 1.05e-01  -6.4 8.72e-01 1.00e+00f  1\n",
      "   7  4.8450865e-06 0.00e+00 6.88e-09  -5.7 5.00e-02  -6.9 1.00e+00 1.00e+00f  1\n",
      "   8  1.0457579e-07 0.00e+00 8.04e-10  -5.7 1.72e-02  -7.3 1.00e+00 1.00e+00f  1\n",
      "   9  3.1858894e-10 0.00e+00 5.78e-07  -8.6 4.74e-03  -7.8 9.96e-01 1.00e+00f  1\n",
      "iter    objective    inf_pr   inf_du lg(mu)  ||d||  lg(rg) alpha_du alpha_pr  ls\n",
      "  10  7.8326442e-14 0.00e+00 2.04e-12  -8.6 4.01e-04  -8.3 1.00e+00 1.00e+00f  1\n",
      "\n",
      "Number of Iterations....: 10\n",
      "\n",
      "                                   (scaled)                 (unscaled)\n",
      "Objective...............:   7.8326442363070760e-14    7.8326442363070760e-14\n",
      "Dual infeasibility......:   2.0387357568338389e-12    2.0387357568338389e-12\n",
      "Constraint violation....:   0.0000000000000000e+00    0.0000000000000000e+00\n",
      "Variable bound violation:   0.0000000000000000e+00    0.0000000000000000e+00\n",
      "Complementarity.........:   3.2183950071983077e-09    3.2183950071983077e-09\n",
      "Overall NLP error.......:   3.2183950071983077e-09    3.2183950071983077e-09\n",
      "\n",
      "\n",
      "Number of objective function evaluations             = 13\n",
      "Number of objective gradient evaluations             = 11\n",
      "Number of equality constraint evaluations            = 13\n",
      "Number of inequality constraint evaluations          = 13\n",
      "Number of equality constraint Jacobian evaluations   = 11\n",
      "Number of inequality constraint Jacobian evaluations = 11\n",
      "Number of Lagrangian Hessian evaluations             = 10\n",
      "Total seconds in IPOPT                               = 0.048\n",
      "\n",
      "EXIT: Optimal Solution Found.\n",
      "      solver  :   t_proc      (avg)   t_wall      (avg)    n_eval\n",
      "       nlp_f  |        0 (       0) 392.10us ( 30.16us)        13\n",
      "       nlp_g  |        0 (       0)  54.00us (  4.15us)        13\n",
      "  nlp_grad_f  |   1.00ms ( 83.33us) 790.80us ( 65.90us)        12\n",
      "  nlp_hess_l  |   8.00ms (800.00us)   9.11ms (911.29us)        10\n",
      "   nlp_jac_g  |        0 (       0)  65.30us (  5.44us)        12\n",
      "       total  |  48.00ms ( 48.00ms)  48.55ms ( 48.55ms)         1\n"
     ]
    }
   ],
   "source": [
    "opti = casadi.Opti()   # cette fonction nous permet de trouver la solution de problème\n",
    "\n",
    "\n",
    "alpha1 = opti.variable()\n",
    "alpha2 = opti.variable()\n",
    "alpha3 = opti.variable()\n",
    "\n",
    "\n",
    "Lambda = opti.variable(n+1,6)\n",
    "\n",
    "opti.minimize( R_K(U1_2, U2_2, U3_2,V1_2,W_2,V2_2,X_2,Y_2,THETA_2, Lambda, alpha1, alpha2, alpha3,  x0,y0,theta0, xf,yf,thetaf )) \n",
    "\n",
    "opti.subject_to( 0 <= alpha1)\n",
    "#opti.subject_to( 1 >= alpha1)\n",
    "\n",
    "opti.subject_to( 0 <= alpha2 )\n",
    "#opti.subject_to( 1 >= alpha2)\n",
    "\n",
    "\n",
    "opti.subject_to( 0 <= alpha3 )\n",
    "#opti.subject_to( 1 >= alpha3)\n",
    "\n",
    "\n",
    "opti.subject_to(  alpha1 + alpha2 + alpha3 == 1)\n",
    "\n",
    "\n",
    "\n",
    "opti.solver('ipopt')    \n",
    "\n",
    "sol = opti.solve()"
   ]
  },
  {
   "cell_type": "code",
   "execution_count": 119,
   "id": "78346f8a",
   "metadata": {},
   "outputs": [
    {
     "name": "stdout",
     "output_type": "stream",
     "text": [
      "0.8499943897450873\n",
      "0.049999494789786464\n",
      "0.10000611546512628\n"
     ]
    }
   ],
   "source": [
    "print(sol.value(alpha1))\n",
    "print(sol.value(alpha2))\n",
    "print(sol.value(alpha3))"
   ]
  },
  {
   "cell_type": "code",
   "execution_count": null,
   "id": "26e16382",
   "metadata": {},
   "outputs": [],
   "source": []
  }
 ],
 "metadata": {
  "kernelspec": {
   "display_name": "Python 3.9.7 ('base')",
   "language": "python",
   "name": "python3"
  },
  "language_info": {
   "codemirror_mode": {
    "name": "ipython",
    "version": 3
   },
   "file_extension": ".py",
   "mimetype": "text/x-python",
   "name": "python",
   "nbconvert_exporter": "python",
   "pygments_lexer": "ipython3",
   "version": "3.9.7"
  },
  "vscode": {
   "interpreter": {
    "hash": "f54e52e1f8fcb0919fae341bfe8cdfc33f684a41677e67c1dde1ef0f788739d7"
   }
  }
 },
 "nbformat": 4,
 "nbformat_minor": 5
}
