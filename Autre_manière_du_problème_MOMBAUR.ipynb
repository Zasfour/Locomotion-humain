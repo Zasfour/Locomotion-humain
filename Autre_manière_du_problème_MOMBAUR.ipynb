{
 "cells": [
  {
   "cell_type": "markdown",
   "id": "64b41f01",
   "metadata": {},
   "source": [
    "Notre problème est : "
   ]
  },
  {
   "cell_type": "markdown",
   "id": "7aa0d292",
   "metadata": {},
   "source": [
    "\\begin{align*}\n",
    "\\ \\ min_{X,u} \\ &   \\alpha_{0} T + \\alpha_{1} \\int_{0}^{T}u_{1}^2 dt + \\alpha_{2} \\int_{0}^{T}u_{2}^2 dt + \\alpha_{3} \\int_{0}^{T}u_{3}^2 dt    \\\\\n",
    "s.c \\ & \\dot{x} = cos(\\theta)v_{avant} - sin(\\theta)v_{orth} \\\\\n",
    "& \\dot{y} = sin(\\theta)v_{avant} + cos(\\theta)v_{orth}  \\\\\n",
    "& \\dot{\\theta} = w  \\\\\n",
    "& \\dot{v}_{avant} = u_1  \\\\\n",
    "& \\dot{w} = u_2  \\\\\n",
    "& \\dot{v}_{orth} = u_3  \\\\\n",
    "& X(0) = X_0  \\ \\ et \\ \\  X(T) = X_{final}\n",
    "\\end{align*}"
   ]
  },
  {
   "cell_type": "markdown",
   "id": "84ae5b5a",
   "metadata": {},
   "source": [
    "#### Notation :\n",
    "$ \\Delta t = \\frac{T}{n}  $\n",
    "\n",
    "$ x[i]  : = x(i \\Delta t )   \\ \\forall i \\in \\{1,...,n \\} $   \n",
    "\n",
    "#### Remarque : \n",
    "On va approché notre intégrale par la méthode des triangles.\n",
    "\n",
    "Prenons une subdivision de notre interval [0,T] en n sous intervalle. Nous allons transformer notre problème continue en un problème discret et de plus on va transformer nos équations diférentielle par un dévéloppement limité. \n",
    "\n",
    "Par exemple $ \\frac{x[i+1]+x[i]}{\\Delta t} $  qui est une approximation de $ \\dot{x}[i]  \\ \\ (donc \\ \\ \\dot{x}[i] := \\frac{x[i+1]+x[i]}{\\Delta t} $)\n",
    "\n"
   ]
  },
  {
   "cell_type": "markdown",
   "id": "8551ba02",
   "metadata": {},
   "source": [
    "Soit $ \\Delta t = \\frac{T}{n}  $\n",
    "\\begin{align*}\n",
    "(2)  \\ \\  \\ min_{X(i),u(i)} \\ &   \\Delta t  \\sum_{i=1}^{n} ( \\alpha_{0} + \\alpha_{1} u_{1}^2[i]+ \\alpha_{2} u_{2}^2[i] + \\alpha_{3}u_{3}^2[i]  )   \\\\\n",
    "s.c \\ &  \\forall i \\in \\{1,...,n \\}  \\\\\n",
    "& x[i+1] = x[i] + \\Delta t(cos(\\theta[i])v_{1}[i] - sin(\\theta[i])v_{2}[i]) \\\\\n",
    "& y[i+1] = y[i] + \\Delta t(sin(\\theta[i])v_{1}[i] + cos(\\theta[i])v_{2}[i])  \\\\\n",
    "& \\theta[i+1] = \\theta[i] + \\Delta t (w[i])  \\\\\n",
    "& u_1[i] = \\frac{v_{1}[i+1] - v_{1}[i] }{ \\Delta t}  \\\\\n",
    "& u_2[i] = \\frac{w[i+1] - w[i]}{\\Delta t}   \\\\\n",
    "& u_3[i] = \\frac{v_{2}[i+1] - v_{2}[i] }{\\Delta t }  \\\\\n",
    "& X[0] = X_0  \\ \\ et \\ \\  X[T] = X_{final}\n",
    "\\end{align*}"
   ]
  },
  {
   "cell_type": "markdown",
   "id": "4244cad3",
   "metadata": {},
   "source": [
    "#### REMARQUE :  \n",
    "Si un poids $α_i$ est grand, le terme correspondant a un  effet important sur la somme globale et donc est plus susceptible d’être réduit  dans le contexte global. Si $α_i$ est petit (ou égal à zéro), le terme a peu  (ou pas) d’influence sur la fonction objective et les quantités peuvent devenir  grandes sans faire beaucoup de mal. "
   ]
  },
  {
   "cell_type": "code",
   "execution_count": 1,
   "id": "5f74492b",
   "metadata": {},
   "outputs": [],
   "source": [
    "import numpy as np \n",
    "import matplotlib.pyplot as plt\n",
    "import random as random\n",
    "%matplotlib inline\n",
    "from casadi import *\n"
   ]
  },
  {
   "cell_type": "code",
   "execution_count": 2,
   "id": "a3da15f9",
   "metadata": {},
   "outputs": [],
   "source": [
    "def distance (x,y, eps):\n",
    "    if x-y > 0 :\n",
    "        return eps\n",
    "    else :\n",
    "        return -eps"
   ]
  },
  {
   "cell_type": "markdown",
   "id": "e375ed3a",
   "metadata": {},
   "source": [
    "## DOC  $ (Contrôle\\ optimal\\ direct)$"
   ]
  },
  {
   "cell_type": "code",
   "execution_count": 3,
   "id": "c81a5aeb",
   "metadata": {},
   "outputs": [],
   "source": [
    "n = 500\n",
    "T = 2.5\n",
    "taux = T/n\n",
    "\n",
    "Times = np.linspace(0, T, n)"
   ]
  },
  {
   "cell_type": "markdown",
   "id": "0189c84f",
   "metadata": {},
   "source": [
    "#### Exemple 1 "
   ]
  },
  {
   "cell_type": "code",
   "execution_count": 4,
   "id": "bf850d57",
   "metadata": {},
   "outputs": [],
   "source": [
    "alpha1 = 0.499\n",
    "alpha2 = 0.206\n",
    "alpha3 = 0.295"
   ]
  },
  {
   "cell_type": "code",
   "execution_count": 5,
   "id": "ce243130",
   "metadata": {},
   "outputs": [],
   "source": [
    "x0 = -1.5\n",
    "y0 = 1.2\n",
    "theta0 = pi\n",
    "\n",
    "xf = 0\n",
    "yf = 0\n",
    "thetaf = 0"
   ]
  },
  {
   "cell_type": "code",
   "execution_count": 6,
   "id": "ab082816",
   "metadata": {},
   "outputs": [],
   "source": [
    "## variable de position\n",
    "x = SX.sym('x', n )\n",
    "y = SX.sym('y', n )\n",
    "theta = SX.sym('theta', n )\n",
    "\n",
    "## variable de vitesse \n",
    "v1 = SX.sym('v1', n )\n",
    "v2 = SX.sym('v2', n )\n",
    "w = SX.sym('w', n )\n",
    "\n",
    "\n",
    "## variable de accélération \n",
    "u1 = SX.sym('u1', n )\n",
    "u2 = SX.sym('u2', n )\n",
    "u3 = SX.sym('u3', n )\n"
   ]
  },
  {
   "cell_type": "markdown",
   "id": "a31adaf3",
   "metadata": {},
   "source": [
    "#### Fonctions utile"
   ]
  },
  {
   "cell_type": "code",
   "execution_count": 7,
   "id": "93cec1ab",
   "metadata": {},
   "outputs": [],
   "source": [
    "f= Function('f',[x],[x[1:]])\n",
    "\n",
    "p =vertcat(v1[1:],0)\n",
    "g = Function ('g',[v1],[p])"
   ]
  },
  {
   "cell_type": "code",
   "execution_count": 8,
   "id": "8ca125da",
   "metadata": {},
   "outputs": [],
   "source": [
    "phi = Function ('phi', [u1,u2,u3], [ taux*( alpha1 * dot(u1,u1 ) + alpha2 * dot(u2 ,u2 ) + alpha3 * dot(u3 ,u3))]) "
   ]
  },
  {
   "cell_type": "code",
   "execution_count": 9,
   "id": "9a92ff98",
   "metadata": {},
   "outputs": [
    {
     "name": "stdout",
     "output_type": "stream",
     "text": [
      "\n",
      "******************************************************************************\n",
      "This program contains Ipopt, a library for large-scale nonlinear optimization.\n",
      " Ipopt is released as open source code under the Eclipse Public License (EPL).\n",
      "         For more information visit https://github.com/coin-or/Ipopt\n",
      "******************************************************************************\n",
      "\n",
      "This is Ipopt version 3.14.4, running with linear solver MUMPS 5.2.1.\n",
      "\n",
      "Number of nonzeros in equality constraint Jacobian...:    10990\n",
      "Number of nonzeros in inequality constraint Jacobian.:        0\n",
      "Number of nonzeros in Lagrangian Hessian.............:     2997\n",
      "\n",
      "Total number of variables............................:     4500\n",
      "                     variables with only lower bounds:        0\n",
      "                variables with lower and upper bounds:        0\n",
      "                     variables with only upper bounds:        0\n",
      "Total number of equality constraints.................:     3003\n",
      "Total number of inequality constraints...............:        0\n",
      "        inequality constraints with only lower bounds:        0\n",
      "   inequality constraints with lower and upper bounds:        0\n",
      "        inequality constraints with only upper bounds:        0\n",
      "\n",
      "iter    objective    inf_pr   inf_du lg(mu)  ||d||  lg(rg) alpha_du alpha_pr  ls\n",
      "   0  0.0000000e+00 3.14e+00 0.00e+00  -1.0 0.00e+00    -  0.00e+00 0.00e+00   0\n",
      "   1  6.8545090e-01 9.05e-03 3.02e-03  -1.0 3.14e+00    -  1.00e+00 1.00e+00h  1\n",
      "   2  9.1247311e-01 3.57e-04 2.91e-03  -3.8 1.88e+00    -  1.00e+00 1.00e+00h  1\n",
      "   3  9.2710630e-01 4.27e-06 1.22e-06  -3.8 1.56e-01    -  1.00e+00 1.00e+00h  1\n",
      "   4  9.2733894e-01 6.41e-12 8.73e-10  -8.6 4.76e-04    -  1.00e+00 1.00e+00h  1\n",
      "\n",
      "Number of Iterations....: 4\n",
      "\n",
      "                                   (scaled)                 (unscaled)\n",
      "Objective...............:   9.2733894281750784e-01    9.2733894281750784e-01\n",
      "Dual infeasibility......:   8.7295914941165620e-10    8.7295914941165620e-10\n",
      "Constraint violation....:   6.4099836549758038e-12    6.4099836549758038e-12\n",
      "Variable bound violation:   0.0000000000000000e+00    0.0000000000000000e+00\n",
      "Complementarity.........:   0.0000000000000000e+00    0.0000000000000000e+00\n",
      "Overall NLP error.......:   8.7295914941165620e-10    8.7295914941165620e-10\n",
      "\n",
      "\n",
      "Number of objective function evaluations             = 5\n",
      "Number of objective gradient evaluations             = 5\n",
      "Number of equality constraint evaluations            = 5\n",
      "Number of inequality constraint evaluations          = 0\n",
      "Number of equality constraint Jacobian evaluations   = 5\n",
      "Number of inequality constraint Jacobian evaluations = 0\n",
      "Number of Lagrangian Hessian evaluations             = 4\n",
      "Total seconds in IPOPT                               = 0.174\n",
      "\n",
      "EXIT: Optimal Solution Found.\n",
      "      solver  :   t_proc      (avg)   t_wall      (avg)    n_eval\n",
      "       nlp_f  |        0 (       0)  38.30us (  7.66us)         5\n",
      "       nlp_g  |        0 (       0) 389.60us ( 77.92us)         5\n",
      "  nlp_grad_f  |        0 (       0) 170.00us ( 28.33us)         6\n",
      "  nlp_hess_l  |        0 (       0) 583.50us (145.88us)         4\n",
      "   nlp_jac_g  |   1.00ms (166.67us)   1.59ms (265.27us)         6\n",
      "       total  | 175.00ms (175.00ms) 175.61ms (175.61ms)         1\n"
     ]
    }
   ],
   "source": [
    "opti = casadi.Opti()   # cette fonction nous permet de trouver la solution de problème\n",
    "\n",
    "## les positions\n",
    "x = opti.variable(n)\n",
    "y = opti.variable(n)\n",
    "theta = opti.variable(n)\n",
    "\n",
    "## les vitesses \n",
    "v1 = opti.variable(n)        ## vitesse latérale\n",
    "v2 = opti.variable(n)        ## vitesse orthogonal\n",
    "w = opti.variable(n)         ## vitesse angulaire\n",
    "\n",
    "\n",
    "## les accélération \n",
    "u1 = opti.variable(n)        ## accélération latérale\n",
    "u3 = opti.variable(n)        ## accélération orthogonal\n",
    "u2 = opti.variable(n)        ## accélération angulaire\n",
    "\n",
    "\n",
    "opti.minimize(  taux*(alpha1 * dot(u1,u1) + alpha2 * dot(u2,u2 ) + alpha3 * dot( u3 ,u3 ) ) )    # ma fonction objetion\n",
    "\n",
    "    # mes fonctions de contrainte d'égalité:\n",
    "\n",
    "    ## pour les condition initial\n",
    "opti.subject_to( x[0] == x0)        \n",
    "opti.subject_to( y[0] == y0)\n",
    "opti.subject_to( theta[0] == theta0)\n",
    "\n",
    "    ## pour les contraintes d'égaliter\n",
    "opti.subject_to( x[1:] == x[:n-1]+taux*(cos(theta[:n-1])*v1[:n-1] - sin(theta[:n-1])*v2[:n-1]) )\n",
    "opti.subject_to( y[1:] == y[:n-1]+taux*(sin(theta[:n-1])*v1[:n-1] + cos(theta[:n-1])*v2[:n-1]) )\n",
    "opti.subject_to( theta[1:] == theta[:n-1] + taux*w[:n-1] )\n",
    "opti.subject_to( (g(v1)-v1)/taux  == u1 )\n",
    "opti.subject_to( (g(w)-w)/taux  == u2 )\n",
    "opti.subject_to( (g(v2)-v2)/taux  == u3 )\n",
    "    \n",
    "\n",
    "    ## pour les conditions finales\n",
    "opti.subject_to( x[-1]==xf)\n",
    "opti.subject_to( y[-1]==yf)\n",
    "opti.subject_to( theta[-1]==thetaf)\n",
    "\n",
    "\n",
    "opti.solver('ipopt')      # suivant la méthode de KKT\n",
    "\n",
    "sol = opti.solve()\n"
   ]
  },
  {
   "cell_type": "code",
   "execution_count": 10,
   "id": "4f571021",
   "metadata": {},
   "outputs": [],
   "source": [
    "U1_1 = sol.value(u1)\n",
    "U2_1 = sol.value(u2)\n",
    "U3_1 = sol.value(u3)\n",
    "V1_1 = sol.value(v1)\n",
    "W_1 = sol.value(w)\n",
    "V2_1 = sol.value(v2)\n",
    "X_1 = sol.value(x)\n",
    "Y_1 = sol.value(y)\n",
    "THETA_1 = sol.value(theta)"
   ]
  },
  {
   "cell_type": "code",
   "execution_count": 11,
   "id": "28d82db2",
   "metadata": {},
   "outputs": [],
   "source": [
    "F = np.zeros(n)\n",
    "\n",
    "for i in range (n):\n",
    "    F[i] = phi(U1_1[i], U2_1[i], U3_1[i])"
   ]
  },
  {
   "cell_type": "code",
   "execution_count": 12,
   "id": "3801ad50",
   "metadata": {},
   "outputs": [
    {
     "data": {
      "text/plain": [
       "<matplotlib.legend.Legend at 0x1d8632b3ac0>"
      ]
     },
     "execution_count": 12,
     "metadata": {},
     "output_type": "execute_result"
    },
    {
     "data": {
      "image/png": "[encoded data removed]",
      "text/plain": [
       "<Figure size 720x360 with 4 Axes>"
      ]
     },
     "metadata": {
      "needs_background": "light"
     },
     "output_type": "display_data"
    }
   ],
   "source": [
    "plt.subplots(figsize=(10, 5))\n",
    "\n",
    "plt.subplot(2, 2, 1) \n",
    "plt.plot (Times,X_1 , '.')\n",
    "plt.xlabel('Times')\n",
    "plt.ylabel('x[m]')\n",
    "plt.grid(True)\n",
    "\n",
    "plt.subplot(2, 2, 2) \n",
    "plt.plot (Times,Y_1 , '.')\n",
    "plt.xlabel('Times')\n",
    "plt.ylabel('y[m]')\n",
    "plt.grid(True)\n",
    "\n",
    "plt.subplot(2, 2, 3) \n",
    "plt.plot (Times,F , '.')\n",
    "plt.xlabel('Times')\n",
    "plt.ylabel('phi[m]')\n",
    "plt.grid(True)\n",
    "\n",
    "plt.subplot(2, 2, 4) \n",
    "plt.plot (X_1,Y_1 , '.')\n",
    "plt.plot(x0,y0, '*', label = 'Point initial', color = 'yellow')\n",
    "plt.plot(xf,yf, '*', label = 'Point final', color = 'black')\n",
    "plt.arrow(X_1[0], Y_1[0], distance(X_1[1],X_1[0], 0.2),0, width = 0.02 , color = 'red', label = \"Direction suivant x\")\n",
    "plt.arrow(X_1[0], Y_1[0], 0, distance(Y_1[1],Y_1[0],0.06), width = 0.02, color = 'green', label = \"Direction suivant y\")\n",
    "\n",
    "plt.arrow(X_1[-1], Y_1[-1], distance(X_1[-1],X_1[n-2],0.2),0, width = 0.02, color = 'red' )\n",
    "plt.arrow(X_1[-1], Y_1[-1], 0, distance(Y_1[-1],Y_1[n-2],0.06), width = 0.02, color = 'green')\n",
    "\n",
    "\n",
    "plt.xlabel('x[m]')\n",
    "plt.ylabel('y[m]')\n",
    "plt.grid(True)\n",
    "plt.legend()"
   ]
  },
  {
   "cell_type": "markdown",
   "id": "6370f372",
   "metadata": {},
   "source": [
    "#### Exemple 2 "
   ]
  },
  {
   "cell_type": "code",
   "execution_count": 13,
   "id": "640ee732",
   "metadata": {},
   "outputs": [],
   "source": [
    "alpha1 = 0.85\n",
    "alpha2 = 0.05\n",
    "alpha3 = 0.1"
   ]
  },
  {
   "cell_type": "code",
   "execution_count": 14,
   "id": "f99d9ae7",
   "metadata": {},
   "outputs": [],
   "source": [
    "x0 = -1.5\n",
    "y0 = 1.2\n",
    "theta0 = pi/10\n",
    "\n",
    "xf = 0\n",
    "yf = 0\n",
    "thetaf = 0"
   ]
  },
  {
   "cell_type": "code",
   "execution_count": 15,
   "id": "bb4d58f9",
   "metadata": {},
   "outputs": [
    {
     "name": "stdout",
     "output_type": "stream",
     "text": [
      "This is Ipopt version 3.14.4, running with linear solver MUMPS 5.2.1.\n",
      "\n",
      "Number of nonzeros in equality constraint Jacobian...:    10990\n",
      "Number of nonzeros in inequality constraint Jacobian.:        0\n",
      "Number of nonzeros in Lagrangian Hessian.............:     2997\n",
      "\n",
      "Total number of variables............................:     4500\n",
      "                     variables with only lower bounds:        0\n",
      "                variables with lower and upper bounds:        0\n",
      "                     variables with only upper bounds:        0\n",
      "Total number of equality constraints.................:     3003\n",
      "Total number of inequality constraints...............:        0\n",
      "        inequality constraints with only lower bounds:        0\n",
      "   inequality constraints with lower and upper bounds:        0\n",
      "        inequality constraints with only upper bounds:        0\n",
      "\n",
      "iter    objective    inf_pr   inf_du lg(mu)  ||d||  lg(rg) alpha_du alpha_pr  ls\n",
      "   0  0.0000000e+00 1.50e+00 0.00e+00  -1.0 0.00e+00    -  0.00e+00 0.00e+00   0\n",
      "   1  3.9462029e-01 1.57e-03 1.02e-03  -1.0 1.50e+00    -  1.00e+00 1.00e+00h  1\n",
      "   2  3.1676890e-01 9.94e-04 8.61e-04  -3.8 1.93e+00    -  1.00e+00 1.00e+00h  1\n",
      "   3  2.4619535e-01 1.45e-04 7.05e-05  -5.7 6.33e-01    -  1.00e+00 1.00e+00h  1\n",
      "   4  2.3702349e-01 6.58e-08 1.35e-06  -5.7 2.07e-02    -  1.00e+00 1.00e+00h  1\n",
      "   5  2.3702789e-01 7.67e-11 1.75e-10  -8.6 9.88e-04    -  1.00e+00 1.00e+00h  1\n",
      "\n",
      "Number of Iterations....: 5\n",
      "\n",
      "                                   (scaled)                 (unscaled)\n",
      "Objective...............:   2.3702788515074699e-01    2.3702788515074699e-01\n",
      "Dual infeasibility......:   1.7469832525041085e-10    1.7469832525041085e-10\n",
      "Constraint violation....:   7.6688100314470375e-11    7.6688100314470375e-11\n",
      "Variable bound violation:   0.0000000000000000e+00    0.0000000000000000e+00\n",
      "Complementarity.........:   0.0000000000000000e+00    0.0000000000000000e+00\n",
      "Overall NLP error.......:   1.7469832525041085e-10    1.7469832525041085e-10\n",
      "\n",
      "\n",
      "Number of objective function evaluations             = 6\n",
      "Number of objective gradient evaluations             = 6\n",
      "Number of equality constraint evaluations            = 6\n",
      "Number of inequality constraint evaluations          = 0\n",
      "Number of equality constraint Jacobian evaluations   = 6\n",
      "Number of inequality constraint Jacobian evaluations = 0\n",
      "Number of Lagrangian Hessian evaluations             = 5\n",
      "Total seconds in IPOPT                               = 0.146\n",
      "\n",
      "EXIT: Optimal Solution Found.\n",
      "      solver  :   t_proc      (avg)   t_wall      (avg)    n_eval\n",
      "       nlp_f  |        0 (       0)  35.80us (  5.97us)         6\n",
      "       nlp_g  |        0 (       0) 339.20us ( 56.53us)         6\n",
      "  nlp_grad_f  |   1.00ms (142.86us) 189.40us ( 27.06us)         7\n",
      "  nlp_hess_l  |        0 (       0) 541.90us (108.38us)         5\n",
      "   nlp_jac_g  |   3.00ms (428.57us)   1.83ms (261.70us)         7\n",
      "       total  | 148.00ms (148.00ms) 147.41ms (147.41ms)         1\n"
     ]
    }
   ],
   "source": [
    "opti = casadi.Opti()   # cette fonction nous permet de trouver la solution de problème\n",
    "\n",
    "## les positions\n",
    "x = opti.variable(n)\n",
    "y = opti.variable(n)\n",
    "theta = opti.variable(n)\n",
    "\n",
    "## les vitesses \n",
    "v1 = opti.variable(n)        ## vitesse latérale\n",
    "v2 = opti.variable(n)        ## vitesse orthogonal\n",
    "w = opti.variable(n)         ## vitesse angulaire\n",
    "\n",
    "\n",
    "## les accélération \n",
    "u1 = opti.variable(n)        ## accélération latérale\n",
    "u3 = opti.variable(n)        ## accélération orthogonal\n",
    "u2 = opti.variable(n)        ## accélération angulaire\n",
    "\n",
    "\n",
    "opti.minimize(  taux*(alpha1 * dot(u1,u1) + alpha2 * dot(u2,u2 ) + alpha3 * dot( u3 ,u3 ) ) )    # ma fonction objetion\n",
    "\n",
    "    # mes fonctions de contrainte d'égalité:\n",
    "\n",
    "    ## pour les condition initial\n",
    "opti.subject_to( x[0] == x0)        \n",
    "opti.subject_to( y[0] == y0)\n",
    "opti.subject_to( theta[0] == theta0)\n",
    "\n",
    "    ## pour les contraintes d'égaliter\n",
    "opti.subject_to( x[1:] == x[:n-1]+taux*(cos(theta[:n-1])*v1[:n-1] - sin(theta[:n-1])*v2[:n-1]) )\n",
    "opti.subject_to( y[1:] == y[:n-1]+taux*(sin(theta[:n-1])*v1[:n-1] + cos(theta[:n-1])*v2[:n-1]) )\n",
    "opti.subject_to( theta[1:] == theta[:n-1] + taux*w[:n-1] )\n",
    "opti.subject_to( (g(v1)-v1)/taux  == u1 )\n",
    "opti.subject_to( (g(w)-w)/taux  == u2 )\n",
    "opti.subject_to( (g(v2)-v2)/taux  == u3 )\n",
    "    \n",
    "\n",
    "    ## pour les conditions finales\n",
    "opti.subject_to( x[-1]==xf)\n",
    "opti.subject_to( y[-1]==yf)\n",
    "opti.subject_to( theta[-1]==thetaf)\n",
    "\n",
    "\n",
    "opti.solver('ipopt')      # suivant la méthode de KKT\n",
    "\n",
    "sol = opti.solve()\n"
   ]
  },
  {
   "cell_type": "code",
   "execution_count": 16,
   "id": "9cb7d10e",
   "metadata": {},
   "outputs": [],
   "source": [
    "U1_2 = sol.value(u1)\n",
    "U2_2 = sol.value(u2)\n",
    "U3_2 = sol.value(u3)\n",
    "V1_2 = sol.value(v1)\n",
    "W_2 = sol.value(w)\n",
    "V2_2 = sol.value(v2)\n",
    "X_2 = sol.value(x)\n",
    "Y_2 = sol.value(y)\n",
    "THETA_2 = sol.value(theta)\n",
    "\n",
    "F = np.zeros(n)\n",
    "\n",
    "for i in range (n):\n",
    "    F[i] = phi(V1_2[i], W_2[i], V2_2[i])"
   ]
  },
  {
   "cell_type": "code",
   "execution_count": 17,
   "id": "1125d4cb",
   "metadata": {},
   "outputs": [
    {
     "data": {
      "text/plain": [
       "<matplotlib.legend.Legend at 0x1d862e583a0>"
      ]
     },
     "execution_count": 17,
     "metadata": {},
     "output_type": "execute_result"
    },
    {
     "data": {
      "image/png": "[encoded data removed]",
      "text/plain": [
       "<Figure size 720x360 with 4 Axes>"
      ]
     },
     "metadata": {
      "needs_background": "light"
     },
     "output_type": "display_data"
    }
   ],
   "source": [
    "plt.subplots(figsize=(10, 5))\n",
    "\n",
    "plt.subplot(2, 2, 1) \n",
    "plt.plot (Times,X_2 , '.')\n",
    "plt.xlabel('Times')\n",
    "plt.ylabel('x[m]')\n",
    "plt.grid(True)\n",
    "\n",
    "plt.subplot(2, 2, 2) \n",
    "plt.plot (Times,Y_2 , '.')\n",
    "plt.xlabel('Times')\n",
    "plt.ylabel('y[m]')\n",
    "plt.grid(True)\n",
    "\n",
    "plt.subplot(2, 2, 3) \n",
    "plt.plot (Times,F , '.')\n",
    "plt.xlabel('Times')\n",
    "plt.ylabel('phi[m]')\n",
    "plt.grid(True)\n",
    "\n",
    "plt.subplot(2, 2, 4) \n",
    "plt.plot (X_2,Y_2 , '.')\n",
    "plt.plot(x0,y0, '*', label = 'Point initial', color = 'red')\n",
    "plt.plot(xf,yf, '*', label = 'Point final', color = 'green')\n",
    "\n",
    "plt.arrow(X_2[0], Y_2[0], distance(X_2[1],X_2[0], 0.2),0, width = 0.02 , color = 'red', label = \"Direction suivant x\")\n",
    "plt.arrow(X_2[0], Y_2[0], 0, distance(Y_2[1],Y_2[0],0.06), width = 0.02, color = 'green', label = \"Direction suivant y\")\n",
    "\n",
    "plt.arrow(X_2[-1], Y_2[-1], distance(X_2[-1],X_2[n-2],0.2),0, width = 0.02, color = 'red' )\n",
    "plt.arrow(X_2[-1], Y_2[-1], 0, distance(Y_2[-1],Y_2[n-2],0.06), width = 0.02, color = 'green')\n",
    "\n",
    "\n",
    "plt.xlabel('x[m]')\n",
    "plt.ylabel('y[m]')\n",
    "plt.grid(True)\n",
    "plt.legend()"
   ]
  },
  {
   "cell_type": "markdown",
   "id": "fefc07e6",
   "metadata": {},
   "source": [
    "## IOC $(Contrôle\\ optimal\\ inverse)$"
   ]
  },
  {
   "cell_type": "code",
   "execution_count": 18,
   "id": "f8b65512",
   "metadata": {},
   "outputs": [],
   "source": [
    "xi = SX.sym('xi',1)                   \n",
    "yi = SX.sym('yi',1)                \n",
    "thetai = SX.sym('thetai',1)\n",
    "\n",
    "\n",
    "xf = SX.sym('xf',1)\n",
    "yf = SX.sym('yf',1)\n",
    "thetaf = SX.sym('thetaf',1)"
   ]
  },
  {
   "cell_type": "markdown",
   "id": "a0534d99",
   "metadata": {},
   "source": [
    "### Pour les trois première contrainte."
   ]
  },
  {
   "cell_type": "code",
   "execution_count": 19,
   "id": "98652759",
   "metadata": {},
   "outputs": [],
   "source": [
    "alpha1 = SX.sym('alpha1',1)\n",
    "alpha2 = SX.sym('alpha2',1)\n",
    "alpha3 = SX.sym('alpha3',1)\n",
    "\n",
    "## Position\n",
    "x=SX.sym('x',n)\n",
    "x_prime = SX.sym('x_prime', n+1)\n",
    "x_prime[0] = x[0]\n",
    "x_prime[1:] =x\n",
    "\n",
    "\n",
    "y=SX.sym('y',n)\n",
    "y_prime = SX.sym('y_prime', n+1)\n",
    "y_prime[0] = y[0]\n",
    "y_prime[1:] =y\n",
    "\n",
    "theta=SX.sym('theta',n)\n",
    "theta_prime = SX.sym('theta_prime', n+1)\n",
    "theta_prime[0] = theta[0]\n",
    "theta_prime[1:] =theta\n",
    "\n",
    "\n",
    "## Vitesse\n",
    "v1=SX.sym('v1',n)  \n",
    "v1_prime = SX.sym('v1_prime', n+1)\n",
    "v1_prime[0] = 0\n",
    "v1_prime[n] = 0\n",
    "v1_prime[1:n] =v1[0:n-1]\n",
    "\n",
    "v1_prime_1 = SX.sym('v1_prime_1', n+1)\n",
    "v1_prime_1[0] = v1[0]\n",
    "v1_prime_1[1:] =v1\n",
    "\n",
    "\n",
    "v2=SX.sym('v2',n)  \n",
    "v2_prime = SX.sym('v2_prime', n+1)\n",
    "v2_prime[0] = 0\n",
    "v2_prime[n] = 0\n",
    "v2_prime[1:n] =v2[0:n-1]\n",
    "\n",
    "v2_prime_1 = SX.sym('v2_prime_1', n+1)\n",
    "v2_prime_1[0] = v2[0]\n",
    "v2_prime_1[1:] =v2\n",
    "\n",
    "\n",
    "w=SX.sym('w',n)  \n",
    "w_prime = SX.sym('w_prime', n+1)\n",
    "w_prime[0] = 0\n",
    "w_prime[n] = 0\n",
    "w_prime[1:n] =w[0:n-1]\n",
    "\n",
    "w_prime_1 = SX.sym('w_prime_1', n+1)\n",
    "w_prime_1[0] = w[0]\n",
    "w_prime_1[1:] =w\n",
    "\n",
    "\n",
    "## Accélération \n",
    "\n",
    "u1=SX.sym('u1',n)  \n",
    "u1_prime = SX.sym('u1_prime', n+1)\n",
    "u1_prime[0] = 0\n",
    "u1_prime[n] = 0\n",
    "u1_prime[1:n] = u1[0:n-1]\n",
    "\n",
    "u2=SX.sym('u2',n)  \n",
    "u2_prime = SX.sym('u2_prime', n+1)\n",
    "u2_prime[0] = 0\n",
    "u2_prime[n] = 0\n",
    "u2_prime[1:n] = u2[0:n-1]\n",
    "\n",
    "u3=SX.sym('u3',n)  \n",
    "u3_prime = SX.sym('u3_prime', n+1)\n",
    "u3_prime[0] = 0\n",
    "u3_prime[n] = 0\n",
    "u3_prime[1:n] = u3[0:n-1]\n",
    "\n",
    "Lambda = SX.sym('Lambda',n+1, 6)"
   ]
  },
  {
   "cell_type": "code",
   "execution_count": 20,
   "id": "d073d040",
   "metadata": {},
   "outputs": [],
   "source": [
    "p1=vertcat(xi,x_prime[2:],xf)   # Je définis un nouveau vecteur suivant x1 en prenant les n-1 dernières valeurs \n",
    "                               #  et la nième valeur vaut x1f\n",
    "h= Function('h',[x, xi, xf],[p1])\n",
    "\n",
    "p2=vertcat(0, v1)   \n",
    "K = Function('K', [v1], [p2])\n"
   ]
  },
  {
   "cell_type": "code",
   "execution_count": 21,
   "id": "6bc122a6",
   "metadata": {},
   "outputs": [],
   "source": [
    "Y1_K = (x_prime+taux*(v1_prime*cos(theta_prime) - v2_prime*sin(theta_prime)) - h(x, xi,xf))\n",
    "Y2_K = (y_prime+taux*(v1_prime*sin(theta_prime) + v2_prime*cos(theta_prime)) - h(y, yi,yf)) \n",
    "Y3_K = (theta_prime+taux*w_prime - h(theta, thetai,thetaf))\n",
    "\n",
    "U1 = (g(v1)-v1)/taux - u1\n",
    "U2 = (g(w)-w)/taux  - u2\n",
    "U3 = (g(v2)-v2)/taux  - u3 \n",
    "\n",
    "Y4_K = K(U1) \n",
    "Y5_K = K(U2)\n",
    "Y6_K = K(U3)\n",
    "\n",
    "\n",
    "Y_K = SX.sym('Y_K',n+1 , 6)        ## notre contrainte\n",
    "\n",
    "for i in range (0,n+1):\n",
    "    Y_K[i,0]= Y1_K[i]\n",
    "    Y_K[i,1]= Y2_K[i]\n",
    "    Y_K[i,2]= Y3_K[i]       \n",
    "    Y_K[i,3]= Y4_K[i]       \n",
    "    Y_K[i,4]= Y5_K[i]       \n",
    "    Y_K[i,5]= Y6_K[i]       \n",
    "    \n",
    "## notre terme qui est relié a la contrainte.\n",
    "G_lambda = 0\n",
    "\n",
    "for i in range (n+1):\n",
    "    G_lambda += dot(Y_K[i,:], Lambda[i,:])"
   ]
  },
  {
   "cell_type": "code",
   "execution_count": 22,
   "id": "9dd42f87",
   "metadata": {},
   "outputs": [],
   "source": [
    "F_val_K =  taux*( alpha1 * dot(u1,u1) + alpha2 * dot(u2,u2) + alpha3 * dot(u3,u3))\n",
    "\n",
    "## le Lagrangien \n",
    "L_val_K = F_val_K + G_lambda"
   ]
  },
  {
   "cell_type": "code",
   "execution_count": 23,
   "id": "88ae43da",
   "metadata": {},
   "outputs": [],
   "source": [
    "grad_L_K = SX.zeros(9, n)\n",
    "for i in range (n):\n",
    "    grad_L_K[0,i]= jacobian(L_val_K, v1[i])\n",
    "    grad_L_K[1,i]= jacobian(L_val_K, w[i])\n",
    "    grad_L_K[2,i]= jacobian(L_val_K, v2[i])\n",
    "    grad_L_K[3,i]= jacobian(L_val_K, x[i])\n",
    "    grad_L_K[4,i]= jacobian(L_val_K, y[i])\n",
    "    grad_L_K[5,i]= jacobian(L_val_K, theta[i])\n",
    "    grad_L_K[6,i]= jacobian(L_val_K, u1[i])\n",
    "    grad_L_K[7,i]= jacobian(L_val_K, u2[i])\n",
    "    grad_L_K[8,i]= jacobian(L_val_K, u3[i])\n",
    "    \n",
    "    \n",
    "    \n",
    "R_K = Function ('R_K', [u1,u2,u3,v1,w,v2,x,y,theta, Lambda, alpha1, alpha2, alpha3 ,xi,yi,thetai, xf,yf,thetaf  ], [dot(grad_L_K,grad_L_K)])\n",
    "    "
   ]
  },
  {
   "cell_type": "markdown",
   "id": "7a3f1dec",
   "metadata": {},
   "source": [
    "###  Exemple 1"
   ]
  },
  {
   "cell_type": "code",
   "execution_count": 24,
   "id": "e9f803bb",
   "metadata": {},
   "outputs": [],
   "source": [
    "x0 = -1.5\n",
    "y0 = 1.2\n",
    "theta0 = pi\n",
    "\n",
    "xf = 0\n",
    "yf = 0\n",
    "thetaf = 0"
   ]
  },
  {
   "cell_type": "code",
   "execution_count": 25,
   "id": "cab50976",
   "metadata": {},
   "outputs": [
    {
     "name": "stdout",
     "output_type": "stream",
     "text": [
      "This is Ipopt version 3.14.4, running with linear solver MUMPS 5.2.1.\n",
      "\n",
      "Number of nonzeros in equality constraint Jacobian...:        3\n",
      "Number of nonzeros in inequality constraint Jacobian.:        3\n",
      "Number of nonzeros in Lagrangian Hessian.............:    14983\n",
      "\n",
      "Total number of variables............................:     3009\n",
      "                     variables with only lower bounds:        0\n",
      "                variables with lower and upper bounds:        0\n",
      "                     variables with only upper bounds:        0\n",
      "Total number of equality constraints.................:        1\n",
      "Total number of inequality constraints...............:        3\n",
      "        inequality constraints with only lower bounds:        3\n",
      "   inequality constraints with lower and upper bounds:        0\n",
      "        inequality constraints with only upper bounds:        0\n",
      "\n",
      "iter    objective    inf_pr   inf_du lg(mu)  ||d||  lg(rg) alpha_du alpha_pr  ls\n",
      "   0  0.0000000e+00 1.00e+00 0.00e+00  -1.0 0.00e+00    -  0.00e+00 0.00e+00   0\n",
      "   1  1.6459625e-03 0.00e+00 3.03e+01  -1.7 3.33e-01  -4.0 3.16e-02 1.00e+00f  1\n",
      "   2  5.9524243e-04 0.00e+00 7.66e-06  -1.7 2.30e-01  -4.5 1.00e+00 1.00e+00f  1\n",
      "   3  1.1130090e-04 0.00e+00 2.17e-04  -3.8 2.04e-01  -5.0 9.96e-01 1.00e+00f  1\n",
      "   4  6.9680392e-06 0.00e+00 3.31e-07  -5.7 8.93e-02  -5.4 1.00e+00 1.00e+00f  1\n",
      "   5  1.3273444e-06 0.00e+00 6.56e-08  -5.7 5.32e-02  -5.9 1.00e+00 1.00e+00f  1\n",
      "   6  7.8460380e-08 0.00e+00 5.22e-07  -8.6 4.47e-02  -6.4 9.63e-01 1.00e+00f  1\n",
      "   7  6.5324408e-10 0.00e+00 1.80e-09  -8.6 1.31e-02  -6.9 1.00e+00 1.00e+00f  1\n",
      "   8  6.5079143e-13 0.00e+00 5.85e-11  -9.0 1.28e-03  -7.3 1.00e+00 1.00e+00f  1\n",
      "\n",
      "Number of Iterations....: 8\n",
      "\n",
      "                                   (scaled)                 (unscaled)\n",
      "Objective...............:   6.5079142994659198e-13    6.5079142994659198e-13\n",
      "Dual infeasibility......:   5.8469060704169349e-11    5.8469060704169349e-11\n",
      "Constraint violation....:   0.0000000000000000e+00    0.0000000000000000e+00\n",
      "Variable bound violation:   0.0000000000000000e+00    0.0000000000000000e+00\n",
      "Complementarity.........:   1.0169128816877301e-09    1.0169128816877301e-09\n",
      "Overall NLP error.......:   1.0169128816877301e-09    1.0169128816877301e-09\n",
      "\n",
      "\n",
      "Number of objective function evaluations             = 9\n",
      "Number of objective gradient evaluations             = 9\n",
      "Number of equality constraint evaluations            = 9\n",
      "Number of inequality constraint evaluations          = 9\n",
      "Number of equality constraint Jacobian evaluations   = 9\n",
      "Number of inequality constraint Jacobian evaluations = 9\n",
      "Number of Lagrangian Hessian evaluations             = 8\n",
      "Total seconds in IPOPT                               = 0.125\n",
      "\n",
      "EXIT: Optimal Solution Found.\n",
      "      solver  :   t_proc      (avg)   t_wall      (avg)    n_eval\n",
      "       nlp_f  |   1.00ms (111.11us)   1.13ms (125.44us)         9\n",
      "       nlp_g  |        0 (       0)  60.70us (  6.74us)         9\n",
      "  nlp_grad_f  |   5.00ms (500.00us)   3.62ms (361.90us)        10\n",
      "  nlp_hess_l  |  35.00ms (  4.38ms)  34.66ms (  4.33ms)         8\n",
      "   nlp_jac_g  |   1.00ms (100.00us) 101.40us ( 10.14us)        10\n",
      "       total  | 126.00ms (126.00ms) 125.71ms (125.71ms)         1\n"
     ]
    }
   ],
   "source": [
    "opti = casadi.Opti()   # cette fonction nous permet de trouver la solution de problème\n",
    "\n",
    "alpha1 = opti.variable()\n",
    "alpha2 = opti.variable()\n",
    "alpha3 = opti.variable()\n",
    "Lambda = opti.variable(n+1,6)\n",
    "    \n",
    "opti.minimize( R_K(U1_1,U2_1,U3_1,V1_1,W_1,V2_1,X_1,Y_1,THETA_1, Lambda, alpha1, alpha2, alpha3, x0,y0,theta0, xf,yf,thetaf  )) \n",
    "\n",
    "opti.subject_to( 0 <= alpha1)\n",
    "#opti.subject_to( 1 >= alpha1)\n",
    "\n",
    "opti.subject_to( 0 <= alpha2 )\n",
    "#opti.subject_to( 1 >= alpha2)\n",
    "\n",
    "\n",
    "opti.subject_to( 0 <= alpha3 )\n",
    "#opti.subject_to( 1 >= alpha3)\n",
    "\n",
    "\n",
    "opti.subject_to(  alpha1 + alpha2 + alpha3 == 1)\n",
    "\n",
    "\n",
    "\n",
    "opti.solver('ipopt')    \n",
    "\n",
    "sol = opti.solve()"
   ]
  },
  {
   "cell_type": "code",
   "execution_count": 26,
   "id": "b6b3cf6d",
   "metadata": {},
   "outputs": [
    {
     "name": "stdout",
     "output_type": "stream",
     "text": [
      "0.49898211331374226\n",
      "0.20602921128306265\n",
      "0.29498867540319507\n"
     ]
    }
   ],
   "source": [
    "print(sol.value(alpha1))\n",
    "print(sol.value(alpha2))\n",
    "print(sol.value(alpha3))"
   ]
  },
  {
   "cell_type": "markdown",
   "id": "34e51b0d",
   "metadata": {},
   "source": [
    "#### Exemple 2"
   ]
  },
  {
   "cell_type": "code",
   "execution_count": 27,
   "id": "d50dcbcb",
   "metadata": {},
   "outputs": [],
   "source": [
    "x0 = -1.5\n",
    "y0 = 1.2\n",
    "theta0 = pi/10\n",
    "\n",
    "xf = 0\n",
    "yf = 0\n",
    "thetaf = 0"
   ]
  },
  {
   "cell_type": "code",
   "execution_count": 28,
   "id": "ea872bdf",
   "metadata": {},
   "outputs": [
    {
     "name": "stdout",
     "output_type": "stream",
     "text": [
      "This is Ipopt version 3.14.4, running with linear solver MUMPS 5.2.1.\n",
      "\n",
      "Number of nonzeros in equality constraint Jacobian...:        3\n",
      "Number of nonzeros in inequality constraint Jacobian.:        3\n",
      "Number of nonzeros in Lagrangian Hessian.............:    14983\n",
      "\n",
      "Total number of variables............................:     3009\n",
      "                     variables with only lower bounds:        0\n",
      "                variables with lower and upper bounds:        0\n",
      "                     variables with only upper bounds:        0\n",
      "Total number of equality constraints.................:        1\n",
      "Total number of inequality constraints...............:        3\n",
      "        inequality constraints with only lower bounds:        3\n",
      "   inequality constraints with lower and upper bounds:        0\n",
      "        inequality constraints with only upper bounds:        0\n",
      "\n",
      "iter    objective    inf_pr   inf_du lg(mu)  ||d||  lg(rg) alpha_du alpha_pr  ls\n",
      "   0  0.0000000e+00 1.00e+00 0.00e+00  -1.0 0.00e+00    -  0.00e+00 0.00e+00   0\n",
      "   1  2.0883021e-03 0.00e+00 3.03e+01  -1.7 3.33e-01  -4.0 3.16e-02 1.00e+00f  1\n",
      "   2  1.3352895e-03 0.00e+00 1.52e+01  -1.7 1.23e-01  -4.5 1.00e+00 5.00e-01f  2\n",
      "   3  1.3347029e-03 0.00e+00 1.76e-06  -1.7 1.59e-01  -5.0 1.00e+00 1.00e+00f  1\n",
      "   4  1.0997962e-03 0.00e+00 2.31e-03  -3.8 5.74e-02  -5.4 9.62e-01 1.00e+00f  1\n",
      "   5  2.3154983e-04 0.00e+00 3.33e-07  -3.8 2.68e-01  -5.9 1.00e+00 1.00e+00f  1\n",
      "   6  4.7387539e-05 0.00e+00 3.43e-04  -5.7 1.04e-01  -6.4 8.65e-01 1.00e+00f  1\n",
      "   7  6.0512787e-06 0.00e+00 1.01e-08  -5.7 7.36e-02  -6.9 1.00e+00 1.00e+00f  1\n",
      "   8  3.5005747e-07 0.00e+00 1.20e-09  -5.7 2.59e-02  -7.3 1.00e+00 1.00e+00f  1\n",
      "   9  1.5581720e-09 1.11e-16 1.32e-06  -8.6 9.27e-03  -7.8 9.90e-01 1.00e+00f  1\n",
      "iter    objective    inf_pr   inf_du lg(mu)  ||d||  lg(rg) alpha_du alpha_pr  ls\n",
      "  10  2.6614921e-13 0.00e+00 2.44e-12  -8.6 4.75e-04  -8.3 1.00e+00 1.00e+00h  1\n",
      "\n",
      "Number of Iterations....: 10\n",
      "\n",
      "                                   (scaled)                 (unscaled)\n",
      "Objective...............:   2.6614920647415174e-13    2.6614920647415174e-13\n",
      "Dual infeasibility......:   2.4384668117264746e-12    2.4384668117264746e-12\n",
      "Constraint violation....:   0.0000000000000000e+00    0.0000000000000000e+00\n",
      "Variable bound violation:   0.0000000000000000e+00    0.0000000000000000e+00\n",
      "Complementarity.........:   5.6475229751093749e-09    5.6475229751093749e-09\n",
      "Overall NLP error.......:   5.6475229751093749e-09    5.6475229751093749e-09\n",
      "\n",
      "\n",
      "Number of objective function evaluations             = 13\n",
      "Number of objective gradient evaluations             = 11\n",
      "Number of equality constraint evaluations            = 13\n",
      "Number of inequality constraint evaluations          = 13\n",
      "Number of equality constraint Jacobian evaluations   = 11\n",
      "Number of inequality constraint Jacobian evaluations = 11\n",
      "Number of Lagrangian Hessian evaluations             = 10\n",
      "Total seconds in IPOPT                               = 0.157\n",
      "\n",
      "EXIT: Optimal Solution Found.\n",
      "      solver  :   t_proc      (avg)   t_wall      (avg)    n_eval\n",
      "       nlp_f  |   1.00ms ( 76.92us)   1.55ms (119.20us)        13\n",
      "       nlp_g  |        0 (       0)  81.50us (  6.27us)        13\n",
      "  nlp_grad_f  |   1.00ms ( 83.33us)   4.06ms (338.69us)        12\n",
      "  nlp_hess_l  |  48.00ms (  4.80ms)  47.21ms (  4.72ms)        10\n",
      "   nlp_jac_g  |   1.00ms ( 83.33us) 125.90us ( 10.49us)        12\n",
      "       total  | 158.00ms (158.00ms) 157.28ms (157.28ms)         1\n"
     ]
    }
   ],
   "source": [
    "opti = casadi.Opti()   # cette fonction nous permet de trouver la solution de problème\n",
    "\n",
    "\n",
    "alpha1 = opti.variable()\n",
    "alpha2 = opti.variable()\n",
    "alpha3 = opti.variable()\n",
    "\n",
    "\n",
    "Lambda = opti.variable(n+1,6)\n",
    "\n",
    "opti.minimize( R_K(U1_2, U2_2, U3_2,V1_2,W_2,V2_2,X_2,Y_2,THETA_2, Lambda, alpha1, alpha2, alpha3,  x0,y0,theta0, xf,yf,thetaf )) \n",
    "\n",
    "opti.subject_to( 0 <= alpha1)\n",
    "#opti.subject_to( 1 >= alpha1)\n",
    "\n",
    "opti.subject_to( 0 <= alpha2 )\n",
    "#opti.subject_to( 1 >= alpha2)\n",
    "\n",
    "\n",
    "opti.subject_to( 0 <= alpha3 )\n",
    "#opti.subject_to( 1 >= alpha3)\n",
    "\n",
    "\n",
    "opti.subject_to(  alpha1 + alpha2 + alpha3 == 1)\n",
    "\n",
    "\n",
    "\n",
    "opti.solver('ipopt')    \n",
    "\n",
    "sol = opti.solve()"
   ]
  },
  {
   "cell_type": "code",
   "execution_count": 29,
   "id": "78346f8a",
   "metadata": {},
   "outputs": [
    {
     "name": "stdout",
     "output_type": "stream",
     "text": [
      "0.849984790435448\n",
      "0.05000174674448977\n",
      "0.10001346282006238\n"
     ]
    }
   ],
   "source": [
    "print(sol.value(alpha1))\n",
    "print(sol.value(alpha2))\n",
    "print(sol.value(alpha3))"
   ]
  }
 ],
 "metadata": {
  "kernelspec": {
   "display_name": "Python 3.9.7 ('base')",
   "language": "python",
   "name": "python3"
  },
  "language_info": {
   "codemirror_mode": {
    "name": "ipython",
    "version": 3
   },
   "file_extension": ".py",
   "mimetype": "text/x-python",
   "name": "python",
   "nbconvert_exporter": "python",
   "pygments_lexer": "ipython3",
   "version": "3.9.7"
  },
  "vscode": {
   "interpreter": {
    "hash": "f54e52e1f8fcb0919fae341bfe8cdfc33f684a41677e67c1dde1ef0f788739d7"
   }
  }
 },
 "nbformat": 4,
 "nbformat_minor": 5
}
