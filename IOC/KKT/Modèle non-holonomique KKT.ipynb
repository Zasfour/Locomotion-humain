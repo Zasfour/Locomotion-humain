{
 "cells": [
  {
   "cell_type": "code",
   "execution_count": 1,
   "id": "70b6476f",
   "metadata": {},
   "outputs": [],
   "source": [
    "import numpy as np\n",
    "import matplotlib.pyplot as plt\n",
    "import random as random\n",
    "%matplotlib inline\n",
    "from casadi import *"
   ]
  },
  {
   "cell_type": "code",
   "execution_count": 4,
   "id": "65a32559",
   "metadata": {},
   "outputs": [],
   "source": [
    "n = 500\n",
    "T = 1\n",
    "taux = T/n"
   ]
  },
  {
   "cell_type": "code",
   "execution_count": 5,
   "id": "9bde19b6",
   "metadata": {},
   "outputs": [],
   "source": [
    "x1i = SX.sym('x1i',1)                   \n",
    "x2i = SX.sym('x2i',1)                \n",
    "x3i = SX.sym('x3i',1)\n",
    "\n",
    "\n",
    "x1f = SX.sym('x1f',1)\n",
    "x2f = SX.sym('x2f',1)\n",
    "x3f = SX.sym('x3f',1)"
   ]
  },
  {
   "cell_type": "code",
   "execution_count": 6,
   "id": "5cf52727",
   "metadata": {},
   "outputs": [],
   "source": [
    "# Je defini les vecteurs suivant :\n",
    "\n",
    "c1 = SX.sym('c1',1)\n",
    "c2 = SX.sym('c2',1)\n",
    "\n",
    "\n",
    "u1=SX.sym('u1',n)  \n",
    "u1_prime = SX.sym('u1_prime', n+1)\n",
    "u1_prime[0] = 0\n",
    "u1_prime[n] = 0\n",
    "u1_prime[1:n] =u1[0:n-1]\n",
    "\n",
    "u2=SX.sym('u2',n)  \n",
    "u2_prime = SX.sym('u2_prime', n+1)\n",
    "u2_prime[0] = 0\n",
    "u2_prime[n] = 0\n",
    "u2_prime[1:n] =u2[0:n-1]\n",
    "\n",
    "x1=SX.sym('x1',n)\n",
    "x1_prime = SX.sym('x1_prime', n+1)\n",
    "x1_prime[0] = x1[0]\n",
    "x1_prime[1:] =x1\n",
    "\n",
    "\n",
    "x2=SX.sym('x2',n)\n",
    "x2_prime = SX.sym('x1_prime', n+1)\n",
    "x2_prime[0] = x2[0]\n",
    "x2_prime[1:] =x2\n",
    "\n",
    "x3=SX.sym('x3',n)\n",
    "x3_prime = SX.sym('x1_prime', n+1)\n",
    "x3_prime[0] = x3[0]\n",
    "x3_prime[1:] =x3\n",
    "\n",
    "Lambda = SX.sym('Lambda',n+2, 3)\n",
    "Mue = SX.sym('Mue',1)"
   ]
  },
  {
   "cell_type": "code",
   "execution_count": 7,
   "id": "dd623133",
   "metadata": {},
   "outputs": [],
   "source": [
    "p1=vertcat(x1i + 10**(-4),x1_prime[2:] + 10**(-4),x1f + 10**(-4))  \n",
    "g = Function('g',[x1,x1i,x1f],[p1])"
   ]
  },
  {
   "cell_type": "code",
   "execution_count": 8,
   "id": "e6634222",
   "metadata": {},
   "outputs": [],
   "source": [
    "Y1 = (x1_prime+taux*u1_prime*cos(x3_prime) - g(x1,x1i,x1f))\n",
    "Y2 = (x2_prime+taux*u1_prime*sin(x3_prime) - g(x2,x2i,x2f)) \n",
    "Y3 = (x3_prime+taux*u2_prime - g(x3,x3i,x3f))\n",
    "Y = SX.sym('Y',n+1 , 3)        ## notre contrainte\n",
    "\n",
    "for i in range (n+1):\n",
    "    Y[i,0]= Y1[i]\n",
    "    Y[i,1]= Y2[i]\n",
    "    Y[i,2]= Y3[i]       \n",
    "\n",
    "for i in range (n+1):\n",
    "    Y[i,0]= Y1[i]\n",
    "    Y[i,1]= Y2[i]\n",
    "    Y[i,2]= Y3[i]       \n",
    "    \n",
    "Y_function = Function('Y_function', [u1,u2,x1,x2,x3], [Y])\n"
   ]
  },
  {
   "cell_type": "code",
   "execution_count": 9,
   "id": "48f55dd7",
   "metadata": {},
   "outputs": [],
   "source": [
    "## notre terme qui est relié a la contrainte.\n",
    "G_lambda = 0\n",
    "\n",
    "for i in range (n+1):\n",
    "    G_lambda += dot(Y[i,:], Lambda[i,:])\n",
    "    \n",
    "G_lambda += (u1[0]-0.0001)*Lambda[n+1,0] + (u2[0]-0.0001)*Lambda[n+1,1] + (u1[-1]-0.0001)*Lambda[n+1,2] + (u2[-1]-0.0001)*Mue\n",
    "\n",
    "\n",
    "G = Function('G', [x1,x2,x3, Lambda], [G_lambda])\n",
    "\n",
    "## notre fonction F \n",
    "F_val = (taux/2)*(c1*dot(u1,u1)+c2*dot(u2,u2))\n",
    "\n",
    "\n",
    "## le Lagrangien \n",
    "L_val = F_val + G_lambda\n",
    "#print(L_val.shape)"
   ]
  },
  {
   "cell_type": "code",
   "execution_count": 10,
   "id": "3feef1b1",
   "metadata": {},
   "outputs": [],
   "source": [
    "L_x = SX.zeros(5, n)\n",
    "\n",
    "for i in range (n):\n",
    "    L_x[2,i]= jacobian(L_val, x1[i])\n",
    "    L_x[3,i]= jacobian(L_val, x2[i])\n",
    "    L_x[4,i]= jacobian(L_val, x3[i])\n",
    "#print(L_x)\n",
    "    \n",
    "L_u = SX.zeros(5, n)\n",
    "for i in range (n):\n",
    "    L_u[0,i]= jacobian(L_val, u1[i])\n",
    "    L_u[1,i]= jacobian(L_val, u2[i])"
   ]
  },
  {
   "cell_type": "code",
   "execution_count": 11,
   "id": "0040c64f",
   "metadata": {},
   "outputs": [],
   "source": [
    "R = Function ('R', [u1,u2,x1,x2,x3, Lambda, Mue,  c1, c2, x1i,x2i,x3i, x1f,x2f,x3f ], [(dot(L_x,L_x) + dot(L_u,L_u))])"
   ]
  },
  {
   "cell_type": "code",
   "execution_count": 12,
   "id": "5fbea646",
   "metadata": {},
   "outputs": [],
   "source": [
    "def MNH_IOC (U1,U2,X1,X2,X3) :\n",
    "    opti = casadi.Opti()   # cette fonction nous permet de trouver la solution de problème\n",
    "\n",
    "    c1 = opti.variable(1)\n",
    "    c2 = opti.variable(1)\n",
    "\n",
    "\n",
    "    Lambda = opti.variable(n+2,3)\n",
    "    Mue = opti.variable(1)\n",
    "\n",
    "    opti.minimize( R(U1_1,U2_1,X1_1,X2_1,X3_1, Lambda,Mue, c1, c2 , x1i,x2i,x3i, x1f,x2f,x3f ))  \n",
    "\n",
    "    opti.subject_to( 0 <= c1)\n",
    "    opti.subject_to( 0 <= c2 )\n",
    "    opti.subject_to(  c1 + c2 == 1)\n",
    "\n",
    "    opti.solver('ipopt')    \n",
    "\n",
    "    sol = opti.solve()\n",
    "    \n",
    "    return sol.value(c1), sol.value(c2)"
   ]
  },
  {
   "cell_type": "code",
   "execution_count": null,
   "id": "c73825d9",
   "metadata": {},
   "outputs": [],
   "source": []
  }
 ],
 "metadata": {
  "kernelspec": {
   "display_name": "Python 3 (ipykernel)",
   "language": "python",
   "name": "python3"
  },
  "language_info": {
   "codemirror_mode": {
    "name": "ipython",
    "version": 3
   },
   "file_extension": ".py",
   "mimetype": "text/x-python",
   "name": "python",
   "nbconvert_exporter": "python",
   "pygments_lexer": "ipython3",
   "version": "3.9.7"
  }
 },
 "nbformat": 4,
 "nbformat_minor": 5
}
