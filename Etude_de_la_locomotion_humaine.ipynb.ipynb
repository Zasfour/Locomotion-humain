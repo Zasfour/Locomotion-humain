{
 "cells": [
  {
   "cell_type": "code",
   "execution_count": 1,
   "id": "5f74492b",
   "metadata": {},
   "outputs": [],
   "source": [
    "import numpy as np\n",
    "import matplotlib.pyplot as plt\n",
    "import random as random\n",
    "%matplotlib inline\n",
    "from casadi import *\n",
    "import matplotlib.image as mpimg"
   ]
  },
  {
   "cell_type": "markdown",
   "id": "64b41f01",
   "metadata": {},
   "source": [
    "Bonjour, Ici on va résoudre un problème optimal inverse qui est representer comme un problème optimal a deux niveaux. \n",
    "\n",
    "Notre problème est : "
   ]
  },
  {
   "cell_type": "markdown",
   "id": "7aa0d292",
   "metadata": {},
   "source": [
    " $$(1) \\ \\ min_{ \\alpha} \\sum_{i=1}^{m} \\left\\| z^{*}(t_{j},\\alpha) - z_{M}(t_{j}) \\right\\|    \\\\ $$\n",
    "où $z^{*}(t,\\alpha)$ solution de  (2)\n",
    "\n",
    "$$ \\updownarrow $$\n",
    "\n",
    " \\begin{align*}\n",
    "(2)  \\ \\ min_{X,u} \\ &   \\alpha_{0} T + \\alpha_{1} \\int_{0}^{T}u_{1}^2 dt + \\alpha_{2} \\int_{0}^{T}u_{2}^2 dt + \\alpha_{3} \\int_{0}^{T}u_{3}^2 dt    \\\\\n",
    "s.c \\ & \\dot{x} = cos(\\theta)v_{avant} - sin(\\theta)v_{orth} \\\\\n",
    "& \\dot{y} = sin(\\theta)v_{avant} + cos(\\theta)v_{orth}  \\\\\n",
    "& \\dot{\\theta} = w  \\\\\n",
    "& \\dot{v}_{avant} = u_1  \\\\\n",
    "& \\dot{w} = u_2  \\\\\n",
    "& \\dot{v}_{orth} = u_3  \\\\\n",
    "& X(0) = X_0  \\ \\ et \\ \\  X(T) = X_{final}\n",
    "\\end{align*}"
   ]
  },
  {
   "cell_type": "markdown",
   "id": "84ae5b5a",
   "metadata": {},
   "source": [
    "#### Remarque : \n",
    "Notre intégrale on va l'approché par la méthode des triangles.\n",
    "\n",
    "Prenons une subdivision de notre interval [0,T] en N sous intervalle. Nous allons transformer notre problème continue en un problème discret et de plus on va transformer nos équations diférentielle prenons par exemple $ \\frac{x[i+1]+x[i]}{\\Delta t} $  qui est une approximation de $ \\dot{x}[i]  \\ \\ (donc \\ \\ \\dot{x}[i] := \\frac{x[i+1]+x[i]}{\\Delta t} $)\n"
   ]
  },
  {
   "cell_type": "markdown",
   "id": "c9b177b5",
   "metadata": {},
   "source": [
    "Soit $ \\Delta t = \\frac{T}{n}  $\n",
    "\\begin{align*}\n",
    "(2)  \\ \\  \\ min_{X(i),u(i)} \\ &   \\Delta t  \\sum_{i=1}^{n} ( \\alpha_{0} + \\alpha_{1} u_{1}^2[i]+ \\alpha_{2} u_{2}^2[i] + \\alpha_{3}u_{3}^2[i]  )   \\\\\n",
    "s.c \\ &  \\forall i \\in \\{1,...,n \\}  \\\\\n",
    "& x[i+1] = x[i] + \\Delta t(cos(\\theta[i])v_{avant}[i] - sin(\\theta[i])v_{orth}[i]) \\\\\n",
    "& y[i+1] = y[i] + \\Delta t(sin(\\theta[i])v_{avant}[i] + cos(\\theta[i])v_{orth}[i])  \\\\\n",
    "& \\theta[i+1] = \\theta[i] + \\Delta t (w[i])  \\\\\n",
    "& v_{avant}[i+1] = v_{avant}[i] + \\Delta t (u_1[i])  \\\\\n",
    "& w[i+1] = w[i] + \\Delta t (u_2[i])  \\\\\n",
    "& v_{orth}[i+1] = v_{orth}[i] + \\Delta t (u_3[i])  \\\\\n",
    "& X[0] = X_0  \\ \\ et \\ \\  X[T] = X_{final}\n",
    "\\end{align*}"
   ]
  },
  {
   "cell_type": "markdown",
   "id": "96af6a7c",
   "metadata": {},
   "source": [
    "Pour résoudre le problème (1), dans l'article ils ont utilisé la méthode d'optimisation sans dérivées BOBYQA.\n",
    "\n",
    "Pour résoudre le problème (2), ils ont utilisé la méthode MUSCOD, un problème de la valeur limite directe."
   ]
  },
  {
   "cell_type": "markdown",
   "id": "6d76557c",
   "metadata": {},
   "source": [
    "Soit $ \\Delta t = \\frac{T}{n}  $\n",
    "\\begin{align*}\n",
    "(2)  \\ \\  \\ min_{X(i),u(i)} \\ &   \\Delta t  \\sum_{i=1}^{n} ( \\alpha_{0} + \\alpha_{1} u_{1}^2[i]+ \\alpha_{2} u_{2}^2[i] + \\alpha_{3}u_{3}^2[i]  )   \\\\\n",
    "s.c \\ &  \\forall i \\in \\{1,...,n \\}  \\\\\n",
    "& x[i+1] = x[i] + \\Delta t(cos(\\theta[i])v_{avant}[i] - sin(\\theta[i])v_{orth}[i]) \\\\\n",
    "& y[i+1] = y[i] + \\Delta t(sin(\\theta[i])v_{avant}[i] + cos(\\theta[i])v_{orth}[i])  \\\\\n",
    "& \\theta[i+1] = \\theta[i] + \\Delta t (w[i])  \\\\\n",
    "& v_{avant}[i+1] = v_{avant}[i] + \\Delta t (u_1[i])  \\\\\n",
    "& w[i+1] = w[i] + \\Delta t (u_2[i])  \\\\\n",
    "& v_{orth}[i+1] = v_{orth}[i] + \\Delta t (u_3[i])  \\\\\n",
    "& X[0] = X_0  \\ \\ et \\ \\  X[T] = X_{final}\n",
    "\\end{align*}"
   ]
  },
  {
   "cell_type": "markdown",
   "id": "006d72eb",
   "metadata": {},
   "source": [
    "Essayons de résoudre (2) indépendement de (1) "
   ]
  },
  {
   "cell_type": "code",
   "execution_count": 114,
   "id": "c81a5aeb",
   "metadata": {},
   "outputs": [],
   "source": [
    "n = 100\n",
    "T = 0.05\n",
    "taux = T/n"
   ]
  },
  {
   "cell_type": "code",
   "execution_count": 115,
   "id": "bf850d57",
   "metadata": {},
   "outputs": [],
   "source": [
    "## selon le rapport\n",
    "\n",
    "alfa0 = 1\n",
    "alfa1 = 1.139\n",
    "alfa2 = 0.159\n",
    "alfa3 = 2.681"
   ]
  },
  {
   "cell_type": "code",
   "execution_count": 201,
   "id": "ce243130",
   "metadata": {},
   "outputs": [],
   "source": [
    "x0 = 0\n",
    "y0 = 0\n",
    "teta0 = 41\n",
    "\n",
    "xf = 4\n",
    "yf = 1\n",
    "tetaf = 40"
   ]
  },
  {
   "cell_type": "code",
   "execution_count": 202,
   "id": "ab082816",
   "metadata": {},
   "outputs": [],
   "source": [
    "## variable de position\n",
    "x = SX.sym('x', n )\n",
    "y = SX.sym('y', n )\n",
    "teta = SX.sym('teta', n )\n",
    "\n",
    "## variable de vitesse \n",
    "v1 = SX.sym('v1', n )\n",
    "v2 = SX.sym('v2', n )\n",
    "w = SX.sym('w', n )\n",
    "\n",
    "## variable des accélérations \n",
    "u1 = SX.sym('u1', n )         ## accélération de v1 \n",
    "u2 = SX.sym('u2', n )         ## accélération angulaire \n",
    "u3 = SX.sym('u3', n )         ## accélération de v2"
   ]
  },
  {
   "cell_type": "markdown",
   "id": "a31adaf3",
   "metadata": {},
   "source": [
    "#### Fonction utile"
   ]
  },
  {
   "cell_type": "code",
   "execution_count": 203,
   "id": "93cec1ab",
   "metadata": {},
   "outputs": [],
   "source": [
    "f= Function('f',[x],[x[1:]])"
   ]
  },
  {
   "cell_type": "code",
   "execution_count": 204,
   "id": "9a92ff98",
   "metadata": {},
   "outputs": [],
   "source": [
    "opti = casadi.Opti()   # cette fonction nous permet de trouver la solution de problème\n",
    "\n",
    "## les positions\n",
    "x = opti.variable(n)\n",
    "y = opti.variable(n)\n",
    "teta = opti.variable(n)\n",
    "\n",
    "## les vitesses \n",
    "v1 = opti.variable(n)\n",
    "v2 = opti.variable(n)\n",
    "w = opti.variable(n)\n",
    "\n",
    "## les accélération\n",
    "u1 = opti.variable(n)\n",
    "u2 = opti.variable(n)\n",
    "u3 = opti.variable(n)\n"
   ]
  },
  {
   "cell_type": "code",
   "execution_count": 205,
   "id": "2dd1d279",
   "metadata": {},
   "outputs": [
    {
     "name": "stdout",
     "output_type": "stream",
     "text": [
      "This is Ipopt version 3.14.4, running with linear solver MUMPS 5.2.1.\n",
      "\n",
      "Number of nonzeros in equality constraint Jacobian...:     2184\n",
      "Number of nonzeros in inequality constraint Jacobian.:        0\n",
      "Number of nonzeros in Lagrangian Hessian.............:      597\n",
      "\n",
      "Total number of variables............................:      900\n",
      "                     variables with only lower bounds:        0\n",
      "                variables with lower and upper bounds:        0\n",
      "                     variables with only upper bounds:        0\n",
      "Total number of equality constraints.................:      600\n",
      "Total number of inequality constraints...............:        0\n",
      "        inequality constraints with only lower bounds:        0\n",
      "   inequality constraints with lower and upper bounds:        0\n",
      "        inequality constraints with only upper bounds:        0\n",
      "\n",
      "iter    objective    inf_pr   inf_du lg(mu)  ||d||  lg(rg) alpha_du alpha_pr  ls\n",
      "   0  5.0000000e-04 4.10e+01 0.00e+00  -1.0 0.00e+00    -  0.00e+00 0.00e+00   0\n",
      "   1  5.0000000e-04 8.21e-02 7.46e-19  -1.0 8.08e+01    -  1.00e+00 1.00e+00h  1\n",
      "   2  5.0000000e-04 7.11e-15 1.32e-19  -2.5 1.53e+02    -  1.00e+00 1.00e+00h  1\n",
      "\n",
      "Number of Iterations....: 2\n",
      "\n",
      "                                   (scaled)                 (unscaled)\n",
      "Objective...............:   5.0000000000000001e-04    5.0000000000000001e-04\n",
      "Dual infeasibility......:   1.3161188008269968e-19    1.3161188008269968e-19\n",
      "Constraint violation....:   7.1054273576010019e-15    7.1054273576010019e-15\n",
      "Variable bound violation:   0.0000000000000000e+00    0.0000000000000000e+00\n",
      "Complementarity.........:   0.0000000000000000e+00    0.0000000000000000e+00\n",
      "Overall NLP error.......:   7.1054273576010019e-15    7.1054273576010019e-15\n",
      "\n",
      "\n",
      "Number of objective function evaluations             = 3\n",
      "Number of objective gradient evaluations             = 3\n",
      "Number of equality constraint evaluations            = 3\n",
      "Number of inequality constraint evaluations          = 0\n",
      "Number of equality constraint Jacobian evaluations   = 3\n",
      "Number of inequality constraint Jacobian evaluations = 0\n",
      "Number of Lagrangian Hessian evaluations             = 2\n",
      "Total seconds in IPOPT                               = 0.015\n",
      "\n",
      "EXIT: Optimal Solution Found.\n",
      "      solver  :   t_proc      (avg)   t_wall      (avg)    n_eval\n",
      "       nlp_f  |        0 (       0)  10.30us (  3.43us)         3\n",
      "       nlp_g  |        0 (       0)  57.00us ( 19.00us)         3\n",
      "  nlp_grad_f  |        0 (       0)  33.50us (  8.38us)         4\n",
      "  nlp_hess_l  |        0 (       0)  61.90us ( 30.95us)         2\n",
      "   nlp_jac_g  |        0 (       0) 273.10us ( 68.28us)         4\n",
      "       total  |  16.00ms ( 16.00ms)  15.54ms ( 15.54ms)         1\n"
     ]
    }
   ],
   "source": [
    "opti.minimize(   (taux)*(alfa0+ alfa1*dot(u1,u1)+alfa2*dot(u2,u2)+ alfa3*dot(u3,u3))   )    # ma fonction objetion\n",
    "\n",
    "# mes fonctions de contrainte d'égalité:\n",
    "\n",
    "## pour les condition initial\n",
    "opti.subject_to( x[0] == x0)        \n",
    "opti.subject_to( y[0] == y0)\n",
    "opti.subject_to( teta[0] == teta0)\n",
    "\n",
    "## pour les contraintes d'égaliter\n",
    "opti.subject_to( f(x) == x[:n-1]+taux*(cos(teta[:n-1])*v1[:n-1] - sin(teta[:n-1])*v2[:n-1]) )\n",
    "opti.subject_to( f(y) == y[:n-1]+taux*(sin(teta[:n-1])*v1[:n-1] + cos(teta[:n-1])*v2[:n-1]) )\n",
    "opti.subject_to( f(teta) == teta[:n-1] + taux*w[:n-1] )\n",
    "opti.subject_to( f(v1) == v1[:n-1]+taux*u1[:n-1] )\n",
    "opti.subject_to( f(w) == w[:n-1] + taux*u2[:n-1] )\n",
    "opti.subject_to( f(v2) == v2[:n-1]+taux*u3[:n-1] )\n",
    "\n",
    "## pour les conditions finales\n",
    "opti.subject_to( x[-1]==xf)\n",
    "opti.subject_to( y[-1]==yf)\n",
    "opti.subject_to( teta[-1]==tetaf)\n",
    "\n",
    "\n",
    "opti.solver('ipopt')      # suivant la méthode de KKT\n",
    "\n",
    "\n",
    "sol = opti.solve()\n"
   ]
  },
  {
   "cell_type": "code",
   "execution_count": 206,
   "id": "4f571021",
   "metadata": {},
   "outputs": [
    {
     "data": {
      "text/plain": [
       "array([41.        , 40.98989899, 40.97979798, 40.96969697, 40.95959596,\n",
       "       40.94949495, 40.93939394, 40.92929293, 40.91919192, 40.90909091,\n",
       "       40.8989899 , 40.88888889, 40.87878788, 40.86868687, 40.85858586,\n",
       "       40.84848485, 40.83838384, 40.82828283, 40.81818182, 40.80808081,\n",
       "       40.7979798 , 40.78787879, 40.77777778, 40.76767677, 40.75757576,\n",
       "       40.74747475, 40.73737374, 40.72727273, 40.71717172, 40.70707071,\n",
       "       40.6969697 , 40.68686869, 40.67676768, 40.66666667, 40.65656566,\n",
       "       40.64646465, 40.63636364, 40.62626263, 40.61616162, 40.60606061,\n",
       "       40.5959596 , 40.58585859, 40.57575758, 40.56565657, 40.55555556,\n",
       "       40.54545455, 40.53535354, 40.52525253, 40.51515152, 40.50505051,\n",
       "       40.49494949, 40.48484848, 40.47474747, 40.46464646, 40.45454545,\n",
       "       40.44444444, 40.43434343, 40.42424242, 40.41414141, 40.4040404 ,\n",
       "       40.39393939, 40.38383838, 40.37373737, 40.36363636, 40.35353535,\n",
       "       40.34343434, 40.33333333, 40.32323232, 40.31313131, 40.3030303 ,\n",
       "       40.29292929, 40.28282828, 40.27272727, 40.26262626, 40.25252525,\n",
       "       40.24242424, 40.23232323, 40.22222222, 40.21212121, 40.2020202 ,\n",
       "       40.19191919, 40.18181818, 40.17171717, 40.16161616, 40.15151515,\n",
       "       40.14141414, 40.13131313, 40.12121212, 40.11111111, 40.1010101 ,\n",
       "       40.09090909, 40.08080808, 40.07070707, 40.06060606, 40.05050505,\n",
       "       40.04040404, 40.03030303, 40.02020202, 40.01010101, 40.        ])"
      ]
     },
     "execution_count": 206,
     "metadata": {},
     "output_type": "execute_result"
    }
   ],
   "source": [
    "X = sol.value(x)\n",
    "Y = sol.value(y)\n",
    "sol.value(teta)"
   ]
  },
  {
   "cell_type": "code",
   "execution_count": 207,
   "id": "fa50d6d8",
   "metadata": {},
   "outputs": [
    {
     "data": {
      "text/plain": [
       "<matplotlib.legend.Legend at 0x165a3e767f0>"
      ]
     },
     "execution_count": 207,
     "metadata": {},
     "output_type": "execute_result"
    },
    {
     "data": {
      "image/png": "[encoded data removed]",
      "text/plain": [
       "<Figure size 432x288 with 1 Axes>"
      ]
     },
     "metadata": {
      "needs_background": "light"
     },
     "output_type": "display_data"
    }
   ],
   "source": [
    "plt.plot (X,Y , '.')\n",
    "\n",
    "plt.plot(x0,y0, '*', label = 'Point initial', color = 'red')\n",
    "plt.plot(xf,yf, '*', label = 'Point final', color = 'green')\n",
    "\n",
    "plt.xlabel('x[m]')\n",
    "plt.ylabel('y[m]')\n",
    "plt.grid(True)\n",
    "\n",
    "plt.legend()"
   ]
  },
  {
   "cell_type": "code",
   "execution_count": 208,
   "id": "636a5d81",
   "metadata": {},
   "outputs": [
    {
     "name": "stdout",
     "output_type": "stream",
     "text": [
      "True True\n",
      "True True\n"
     ]
    }
   ],
   "source": [
    "print(x0 == X[0], xf == X[-1])\n",
    "print(y0 == Y[0], yf == Y[-1])"
   ]
  }
 ],
 "metadata": {
  "kernelspec": {
   "display_name": "Python 3 (ipykernel)",
   "language": "python",
   "name": "python3"
  },
  "language_info": {
   "codemirror_mode": {
    "name": "ipython",
    "version": 3
   },
   "file_extension": ".py",
   "mimetype": "text/x-python",
   "name": "python",
   "nbconvert_exporter": "python",
   "pygments_lexer": "ipython3",
   "version": "3.9.7"
  }
 },
 "nbformat": 4,
 "nbformat_minor": 5
}
