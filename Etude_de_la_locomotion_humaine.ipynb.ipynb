{
 "cells": [
  {
   "cell_type": "code",
   "execution_count": 18,
   "id": "5f74492b",
   "metadata": {},
   "outputs": [],
   "source": [
    "import numpy as np \n",
    "import matplotlib.pyplot as plt\n",
    "import random as random\n",
    "%matplotlib inline\n",
    "from casadi import *\n"
   ]
  },
  {
   "cell_type": "markdown",
   "id": "64b41f01",
   "metadata": {},
   "source": [
    "Ici on va résoudre un problème optimal inverse qui est representer comme un problème optimal a deux niveaux. \n",
    "\n",
    "Notre problème est : "
   ]
  },
  {
   "cell_type": "markdown",
   "id": "7aa0d292",
   "metadata": {},
   "source": [
    " $$(1) \\ \\ min_{ \\alpha} \\sum_{i=1}^{m} \\left\\| z^{*}(t_{j},\\alpha) - z_{M}(t_{j}) \\right\\|    \\\\ $$\n",
    "où $z^{*}(t,\\alpha)$ solution de  (2)\n",
    "\n",
    "$$ \\updownarrow $$\n",
    "\n",
    " \\begin{align*}\n",
    "(2)  \\ \\ min_{X,u} \\ &   \\alpha_{0} T + \\alpha_{1} \\int_{0}^{T}u_{1}^2 dt + \\alpha_{2} \\int_{0}^{T}u_{2}^2 dt + \\alpha_{3} \\int_{0}^{T}u_{3}^2 dt    \\\\\n",
    "s.c \\ & \\dot{x} = cos(\\theta)v_{avant} - sin(\\theta)v_{orth} \\\\\n",
    "& \\dot{y} = sin(\\theta)v_{avant} + cos(\\theta)v_{orth}  \\\\\n",
    "& \\dot{\\theta} = w  \\\\\n",
    "& \\dot{v}_{avant} = u_1  \\\\\n",
    "& \\dot{w} = u_2  \\\\\n",
    "& \\dot{v}_{orth} = u_3  \\\\\n",
    "& X(0) = X_0  \\ \\ et \\ \\  X(T) = X_{final}\n",
    "\\end{align*}"
   ]
  },
  {
   "cell_type": "markdown",
   "id": "84ae5b5a",
   "metadata": {},
   "source": [
    "#### Notation :\n",
    "$ \\Delta t = \\frac{T}{n}  $\n",
    "\n",
    "$ x[i]  : = x(i \\Delta t )   \\ \\forall i \\in \\{1,...,n \\} $   \n",
    "\n",
    "#### Remarque : \n",
    "Notre intégrale on va l'approché par la méthode des triangles.\n",
    "\n",
    "Prenons une subdivision de notre interval [0,T] en N sous intervalle. Nous allons transformer notre problème continue en un problème discret et de plus on va transformer nos équations diférentielle prenons par exemple $ \\frac{x[i+1]+x[i]}{\\Delta t} $  qui est une approximation de $ \\dot{x}[i]  \\ \\ (donc \\ \\ \\dot{x}[i] := \\frac{x[i+1]+x[i]}{\\Delta t} $  Formule de Taylor)\n"
   ]
  },
  {
   "cell_type": "markdown",
   "id": "c9b177b5",
   "metadata": {},
   "source": [
    "\\begin{align*}\n",
    "(2)  \\ \\  \\ min_{X(i),u(i)} \\ &   \\Delta t  \\sum_{i=1}^{n} ( \\alpha_{0} + \\alpha_{1} u_{1}^2[i]+ \\alpha_{2} u_{2}^2[i] + \\alpha_{3}u_{3}^2[i]  )   \\\\\n",
    "s.c \\ &  \\forall i \\in \\{1,...,n \\}  \\\\\n",
    "& x[i+1] = x[i] + \\Delta t(cos(\\theta[i])v_{avant}[i] - sin(\\theta[i])v_{orth}[i]) \\\\\n",
    "& y[i+1] = y[i] + \\Delta t(sin(\\theta[i])v_{avant}[i] + cos(\\theta[i])v_{orth}[i])  \\\\\n",
    "& \\theta[i+1] = \\theta[i] + \\Delta t (w[i])  \\\\\n",
    "& v_{avant}[i+1] = v_{avant}[i] + \\Delta t (u_1[i])  \\\\\n",
    "& w[i+1] = w[i] + \\Delta t (u_2[i])  \\\\\n",
    "& v_{orth}[i+1] = v_{orth}[i] + \\Delta t (u_3[i])  \\\\\n",
    "& X[0] = X_0  \\ \\ et \\ \\  X[T] = X_{final}\n",
    "\\end{align*}"
   ]
  },
  {
   "cell_type": "markdown",
   "id": "96af6a7c",
   "metadata": {},
   "source": [
    "Pour résoudre le problème (1), dans l'article ils ont utilisé la méthode d'optimisation sans dérivées BOBYQA.\n",
    "\n",
    "Pour résoudre le problème (2), ils ont utilisé la méthode MUSCOD, un problème de la valeur limite directe."
   ]
  },
  {
   "cell_type": "markdown",
   "id": "6d76557c",
   "metadata": {},
   "source": [
    "Soit $ \\Delta t = \\frac{T}{n}  $\n",
    "\\begin{align*}\n",
    "(2)  \\ \\  \\ min_{X(i),u(i)} \\ &   \\Delta t  \\sum_{i=1}^{n} ( \\alpha_{0} + \\alpha_{1} u_{1}^2[i]+ \\alpha_{2} u_{2}^2[i] + \\alpha_{3}u_{3}^2[i]  )   \\\\\n",
    "s.c \\ &  \\forall i \\in \\{1,...,n \\}  \\\\\n",
    "& x[i+1] = x[i] + \\Delta t(cos(\\theta[i])v_{avant}[i] - sin(\\theta[i])v_{orth}[i]) \\\\\n",
    "& y[i+1] = y[i] + \\Delta t(sin(\\theta[i])v_{avant}[i] + cos(\\theta[i])v_{orth}[i])  \\\\\n",
    "& \\theta[i+1] = \\theta[i] + \\Delta t (w[i])  \\\\\n",
    "& v_{avant}[i+1] = v_{avant}[i] + \\Delta t (u_1[i])  \\\\\n",
    "& w[i+1] = w[i] + \\Delta t (u_2[i])  \\\\\n",
    "& v_{orth}[i+1] = v_{orth}[i] + \\Delta t (u_3[i])  \\\\\n",
    "& X[0] = X_0  \\ \\ et \\ \\  X[T] = X_{final}\n",
    "\\end{align*}"
   ]
  },
  {
   "cell_type": "markdown",
   "id": "006d72eb",
   "metadata": {},
   "source": [
    "Essayons de résoudre (2) indépendement de (1) "
   ]
  },
  {
   "cell_type": "code",
   "execution_count": 161,
   "id": "c81a5aeb",
   "metadata": {},
   "outputs": [],
   "source": [
    "n = 100\n",
    "T = 2.5\n",
    "taux = T/n\n",
    "\n",
    "Times = np.linspace(0, T, n)"
   ]
  },
  {
   "cell_type": "code",
   "execution_count": 162,
   "id": "bf850d57",
   "metadata": {},
   "outputs": [],
   "source": [
    "## selon le rapport\n",
    "\n",
    "alfa0 = 1\n",
    "alfa1 = 1.139\n",
    "alfa2 = 0.159\n",
    "alfa3 = 2.681"
   ]
  },
  {
   "cell_type": "code",
   "execution_count": 172,
   "id": "ce243130",
   "metadata": {},
   "outputs": [],
   "source": [
    "x0 = 0\n",
    "y0 = 0\n",
    "teta0 = 90\n",
    "\n",
    "xf = 0.5\n",
    "yf = 0\n",
    "tetaf = 91"
   ]
  },
  {
   "cell_type": "code",
   "execution_count": 173,
   "id": "ab082816",
   "metadata": {},
   "outputs": [],
   "source": [
    "## variable de position\n",
    "x = SX.sym('x', n )\n",
    "y = SX.sym('y', n )\n",
    "teta = SX.sym('teta', n )\n",
    "\n",
    "## variable de vitesse \n",
    "v1 = SX.sym('v1', n )\n",
    "v2 = SX.sym('v2', n )\n",
    "w = SX.sym('w', n )\n",
    "\n",
    "## variable des accélérations \n",
    "u1 = SX.sym('u1', n )         ## accélération de v1 \n",
    "u2 = SX.sym('u2', n )         ## accélération angulaire \n",
    "u3 = SX.sym('u3', n )         ## accélération de v2"
   ]
  },
  {
   "cell_type": "markdown",
   "id": "a31adaf3",
   "metadata": {},
   "source": [
    "#### Fonctions utile"
   ]
  },
  {
   "cell_type": "code",
   "execution_count": 174,
   "id": "93cec1ab",
   "metadata": {},
   "outputs": [],
   "source": [
    "f= Function('f',[x],[x[1:]])"
   ]
  },
  {
   "cell_type": "code",
   "execution_count": 175,
   "id": "8ca125da",
   "metadata": {},
   "outputs": [],
   "source": [
    "phi = Function ('phi', [u1,u2,u3], [(taux)*(alfa0+ alfa1*dot(u1,u1)+alfa2*dot(u2,u2)+ alfa3*dot(u3,u3))]) "
   ]
  },
  {
   "cell_type": "code",
   "execution_count": 176,
   "id": "9a92ff98",
   "metadata": {},
   "outputs": [],
   "source": [
    "opti = casadi.Opti()   # cette fonction nous permet de trouver la solution de problème\n",
    "\n",
    "## les positions\n",
    "x = opti.variable(n)\n",
    "y = opti.variable(n)\n",
    "teta = opti.variable(n)\n",
    "\n",
    "## les vitesses \n",
    "v1 = opti.variable(n)\n",
    "v2 = opti.variable(n)\n",
    "w = opti.variable(n)\n",
    "\n",
    "## les accélération\n",
    "u1 = opti.variable(n)\n",
    "u2 = opti.variable(n)\n",
    "u3 = opti.variable(n)\n"
   ]
  },
  {
   "cell_type": "code",
   "execution_count": 177,
   "id": "2dd1d279",
   "metadata": {},
   "outputs": [
    {
     "name": "stdout",
     "output_type": "stream",
     "text": [
      "This is Ipopt version 3.14.4, running with linear solver MUMPS 5.2.1.\n",
      "\n",
      "Number of nonzeros in equality constraint Jacobian...:     2184\n",
      "Number of nonzeros in inequality constraint Jacobian.:        0\n",
      "Number of nonzeros in Lagrangian Hessian.............:      597\n",
      "\n",
      "Total number of variables............................:      900\n",
      "                     variables with only lower bounds:        0\n",
      "                variables with lower and upper bounds:        0\n",
      "                     variables with only upper bounds:        0\n",
      "Total number of equality constraints.................:      600\n",
      "Total number of inequality constraints...............:        0\n",
      "        inequality constraints with only lower bounds:        0\n",
      "   inequality constraints with lower and upper bounds:        0\n",
      "        inequality constraints with only upper bounds:        0\n",
      "\n",
      "iter    objective    inf_pr   inf_du lg(mu)  ||d||  lg(rg) alpha_du alpha_pr  ls\n",
      "   0  2.5000000e-02 9.10e+01 0.00e+00  -1.0 0.00e+00    -  0.00e+00 0.00e+00   0\n",
      "   1  2.5000000e-02 1.01e-02 1.03e-20  -1.0 9.10e+01    -  1.00e+00 1.00e+00h  1\n",
      "   2  2.5000000e-02 1.42e-14 1.43e-26  -3.8 3.75e-01    -  1.00e+00 1.00e+00h  1\n",
      "\n",
      "Number of Iterations....: 2\n",
      "\n",
      "                                   (scaled)                 (unscaled)\n",
      "Objective...............:   2.5000000000000001e-02    2.5000000000000001e-02\n",
      "Dual infeasibility......:   1.4293285186827906e-26    1.4293285186827906e-26\n",
      "Constraint violation....:   1.4210854715202004e-14    1.4210854715202004e-14\n",
      "Variable bound violation:   0.0000000000000000e+00    0.0000000000000000e+00\n",
      "Complementarity.........:   0.0000000000000000e+00    0.0000000000000000e+00\n",
      "Overall NLP error.......:   1.4210854715202004e-14    1.4210854715202004e-14\n",
      "\n",
      "\n",
      "Number of objective function evaluations             = 3\n",
      "Number of objective gradient evaluations             = 3\n",
      "Number of equality constraint evaluations            = 3\n",
      "Number of inequality constraint evaluations          = 0\n",
      "Number of equality constraint Jacobian evaluations   = 3\n",
      "Number of inequality constraint Jacobian evaluations = 0\n",
      "Number of Lagrangian Hessian evaluations             = 2\n",
      "Total seconds in IPOPT                               = 0.021\n",
      "\n",
      "EXIT: Optimal Solution Found.\n",
      "      solver  :   t_proc      (avg)   t_wall      (avg)    n_eval\n",
      "       nlp_f  |        0 (       0)  19.10us (  6.37us)         3\n",
      "       nlp_g  |        0 (       0) 127.00us ( 42.33us)         3\n",
      "  nlp_grad_f  |        0 (       0)  45.80us ( 11.45us)         4\n",
      "  nlp_hess_l  |        0 (       0)  64.30us ( 32.15us)         2\n",
      "   nlp_jac_g  |   1.00ms (250.00us) 353.70us ( 88.42us)         4\n",
      "       total  |  24.00ms ( 24.00ms)  23.35ms ( 23.35ms)         1\n"
     ]
    }
   ],
   "source": [
    "opti.minimize( (taux)*(alfa0+ alfa1*dot(u1,u1)+alfa2*dot(u2,u2)+ alfa3*dot(u3,u3)) )    # ma fonction objetion\n",
    "\n",
    "# mes fonctions de contrainte d'égalité:\n",
    "\n",
    "## pour les condition initial\n",
    "opti.subject_to( x[0] == x0)        \n",
    "opti.subject_to( y[0] == y0)\n",
    "opti.subject_to( teta[0] == teta0)\n",
    "\n",
    "## pour les contraintes d'égaliter\n",
    "opti.subject_to( f(x) == x[:n-1]+taux*(cos(teta[:n-1])*v1[:n-1] - sin(teta[:n-1])*v2[:n-1]) )\n",
    "opti.subject_to( f(y) == y[:n-1]+taux*(sin(teta[:n-1])*v1[:n-1] + cos(teta[:n-1])*v2[:n-1]) )\n",
    "opti.subject_to( f(teta) == teta[:n-1] + taux*w[:n-1] )\n",
    "opti.subject_to( f(v1) == v1[:n-1]+taux*u1[:n-1] )\n",
    "opti.subject_to( f(w) == w[:n-1] + taux*u2[:n-1] )\n",
    "opti.subject_to( f(v2) == v2[:n-1]+taux*u3[:n-1] )\n",
    "\n",
    "## pour les conditions finales\n",
    "opti.subject_to( x[-1]==xf)\n",
    "opti.subject_to( y[-1]==yf)\n",
    "opti.subject_to( teta[-1]==tetaf)\n",
    "\n",
    "\n",
    "opti.solver('ipopt')      # suivant la méthode de KKT\n",
    "\n",
    "\n",
    "sol = opti.solve()\n"
   ]
  },
  {
   "cell_type": "code",
   "execution_count": 178,
   "id": "4f571021",
   "metadata": {},
   "outputs": [],
   "source": [
    "X = sol.value(x)\n",
    "Y = sol.value(y)\n",
    "U1 = sol.value(u1)\n",
    "U2 = sol.value(u2)\n",
    "U3 = sol.value(u3)\n",
    "\n",
    "#sol.value(teta)"
   ]
  },
  {
   "cell_type": "code",
   "execution_count": 179,
   "id": "28d82db2",
   "metadata": {},
   "outputs": [],
   "source": [
    "F = np.zeros(n)\n",
    "\n",
    "for i in range (n):\n",
    "    F[i] = phi(U1[i], U2[i], U3[i])"
   ]
  },
  {
   "cell_type": "code",
   "execution_count": 180,
   "id": "3801ad50",
   "metadata": {},
   "outputs": [
    {
     "data": {
      "text/plain": [
       "<matplotlib.legend.Legend at 0x219dd788e50>"
      ]
     },
     "execution_count": 180,
     "metadata": {},
     "output_type": "execute_result"
    },
    {
     "data": {
      "image/png": "[encoded data removed]",
      "text/plain": [
       "<Figure size 1080x720 with 4 Axes>"
      ]
     },
     "metadata": {
      "needs_background": "light"
     },
     "output_type": "display_data"
    }
   ],
   "source": [
    "plt.subplots(figsize=(15, 10))\n",
    "\n",
    "plt.subplot(2, 2, 1) \n",
    "plt.plot (Times,X , '.')\n",
    "plt.xlabel('Times')\n",
    "plt.ylabel('x[m]')\n",
    "plt.grid(True)\n",
    "\n",
    "plt.subplot(2, 2, 2) \n",
    "plt.plot (Times,Y , '.')\n",
    "plt.xlabel('Times')\n",
    "plt.ylabel('y[m]')\n",
    "plt.grid(True)\n",
    "\n",
    "plt.subplot(2, 2, 3) \n",
    "plt.plot (Times,F , '.')\n",
    "plt.xlabel('Times')\n",
    "plt.ylabel('phi[m]')\n",
    "plt.grid(True)\n",
    "\n",
    "plt.subplot(2, 2, 4) \n",
    "plt.plot (X,Y , '.')\n",
    "plt.plot(x0,y0, '*', label = 'Point initial', color = 'red')\n",
    "plt.plot(xf,yf, '*', label = 'Point final', color = 'green')\n",
    "\n",
    "plt.xlabel('x[m]')\n",
    "plt.ylabel('y[m]')\n",
    "plt.grid(True)\n",
    "plt.legend()"
   ]
  },
  {
   "cell_type": "code",
   "execution_count": null,
   "id": "6510681a",
   "metadata": {},
   "outputs": [],
   "source": []
  }
 ],
 "metadata": {
  "kernelspec": {
   "display_name": "Python 3 (ipykernel)",
   "language": "python",
   "name": "python3"
  },
  "language_info": {
   "codemirror_mode": {
    "name": "ipython",
    "version": 3
   },
   "file_extension": ".py",
   "mimetype": "text/x-python",
   "name": "python",
   "nbconvert_exporter": "python",
   "pygments_lexer": "ipython3",
   "version": "3.9.7"
  }
 },
 "nbformat": 4,
 "nbformat_minor": 5
}
