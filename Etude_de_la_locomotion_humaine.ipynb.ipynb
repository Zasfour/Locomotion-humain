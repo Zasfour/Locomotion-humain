{
 "cells": [
  {
   "cell_type": "markdown",
   "id": "64b41f01",
   "metadata": {},
   "source": [
    "Notre problème est : "
   ]
  },
  {
   "cell_type": "markdown",
   "id": "7aa0d292",
   "metadata": {},
   "source": [
    "\\begin{align*}\n",
    "\\ \\ min_{X,u} \\ &   \\alpha_{0} T + \\alpha_{1} \\int_{0}^{T}u_{1}^2 dt + \\alpha_{2} \\int_{0}^{T}u_{2}^2 dt + \\alpha_{3} \\int_{0}^{T}u_{3}^2 dt    \\\\\n",
    "s.c \\ & \\dot{x} = cos(\\theta)v_{avant} - sin(\\theta)v_{orth} \\\\\n",
    "& \\dot{y} = sin(\\theta)v_{avant} + cos(\\theta)v_{orth}  \\\\\n",
    "& \\dot{\\theta} = w  \\\\\n",
    "& \\dot{v}_{avant} = u_1  \\\\\n",
    "& \\dot{w} = u_2  \\\\\n",
    "& \\dot{v}_{orth} = u_3  \\\\\n",
    "& X(0) = X_0  \\ \\ et \\ \\  X(T) = X_{final}\n",
    "\\end{align*}"
   ]
  },
  {
   "cell_type": "markdown",
   "id": "84ae5b5a",
   "metadata": {},
   "source": [
    "#### Notation :\n",
    "$ \\Delta t = \\frac{T}{n}  $\n",
    "\n",
    "$ x[i]  : = x(i \\Delta t )   \\ \\forall i \\in \\{1,...,n \\} $   \n",
    "\n",
    "#### Remarque : \n",
    "On va approché notre intégrale par la méthode des triangles.\n",
    "\n",
    "Prenons une subdivision de notre interval [0,T] en n sous intervalle. Nous allons transformer notre problème continue en un problème discret et de plus on va transformer nos équations diférentielle par un dévéloppement limité. \n",
    "\n",
    "Par exemple $ \\frac{x[i+1]+x[i]}{\\Delta t} $  qui est une approximation de $ \\dot{x}[i]  \\ \\ (donc \\ \\ \\dot{x}[i] := \\frac{x[i+1]+x[i]}{\\Delta t} $)\n",
    "\n"
   ]
  },
  {
   "cell_type": "markdown",
   "id": "8551ba02",
   "metadata": {},
   "source": [
    "Soit $ \\Delta t = \\frac{T}{n}  $\n",
    "\\begin{align*}\n",
    "(2)  \\ \\  \\ min_{X(i),u(i)} \\ &   \\Delta t  \\sum_{i=1}^{n} ( \\alpha_{0} + \\alpha_{1} u_{1}^2[i]+ \\alpha_{2} u_{2}^2[i] + \\alpha_{3}u_{3}^2[i]  )   \\\\\n",
    "s.c \\ &  \\forall i \\in \\{1,...,n \\}  \\\\\n",
    "& x[i+1] = x[i] + \\Delta t(cos(\\theta[i])v_{1}[i] - sin(\\theta[i])v_{2}[i]) \\\\\n",
    "& y[i+1] = y[i] + \\Delta t(sin(\\theta[i])v_{1}[i] + cos(\\theta[i])v_{2}[i])  \\\\\n",
    "& \\theta[i+1] = \\theta[i] + \\Delta t (w[i])  \\\\\n",
    "& u_1[i] = \\frac{v_{1}[i+1] - v_{1}[i] }{ \\Delta t}  \\\\\n",
    "& u_2[i] = \\frac{w[i+1] - w[i]}{\\Delta t}   \\\\\n",
    "& u_3[i] = \\frac{v_{2}[i+1] - v_{2}[i] }{\\Delta t }  \\\\\n",
    "& X[0] = X_0  \\ \\ et \\ \\  X[T] = X_{final}\n",
    "\\end{align*}"
   ]
  },
  {
   "cell_type": "markdown",
   "id": "6d76557c",
   "metadata": {},
   "source": [
    "### Pour les trois dernières contraintes.\n",
    "\n",
    "Je vais modifier mon problème de tel sorte que je veux minimiser X = (x,y,theta) et V = (v1,w,v2) et non X et U = (u1,u2,u3).\n",
    "\n",
    "Donc la fonction objectif sera :\n",
    "$ \\Delta t  \\sum_{i=1}^{n} ( \\alpha_{0} + \\alpha_{1} (\\frac{v_{1}[i+1] - v_{1}[i]}{ \\Delta t})^2+ \\alpha_{2} (\\frac{w[i+1] - w[i]}{ \\Delta t})^2 + \\alpha_{3} (\\frac{v_{2}[i+1] - v_{2}[i]}{ \\Delta t})^2   ) $ \n",
    "\n",
    "Avec $ v_1[n+1] = v_2[n+1] = w [n+1] = 0$ car on s'arrête."
   ]
  },
  {
   "cell_type": "markdown",
   "id": "006d72eb",
   "metadata": {},
   "source": [
    "Le problème est alors :\n",
    "\\begin{align*}\n",
    "(2)  \\ \\  \\ min_{X(i),u(i)} \\ &  \\Delta t  \\sum_{i=1}^{n} ( \\alpha_{0} + \\alpha_{1} (\\frac{v_{1}[i+1] - v_{1}[i]}{ \\Delta t})^2+ \\alpha_{2} (\\frac{w[i+1] - w[i]}{ \\Delta t})^2 + \\alpha_{3} (\\frac{v_{2}[i+1] - v_{2}[i]}{ \\Delta t})^2   )   \\\\\n",
    "s.c \\ &  \\forall i \\in \\{1,...,n \\}  \\\\\n",
    "& x[i+1] = x[i] + \\Delta t(cos(\\theta[i])v_{1}[i] - sin(\\theta[i])v_{2}[i]) \\\\\n",
    "& y[i+1] = y[i] + \\Delta t(sin(\\theta[i])v_{1}[i] + cos(\\theta[i])v_{2}[i])  \\\\\n",
    "& \\theta[i+1] = \\theta[i] + \\Delta t (w[i])  \\\\\n",
    "& X[0] = X_0  \\ \\ et \\ \\  X[T] = X_{final}\n",
    "\\end{align*}"
   ]
  },
  {
   "cell_type": "markdown",
   "id": "4244cad3",
   "metadata": {},
   "source": [
    "#### REMARQUE :  \n",
    "Si un poids $α_i$ est grand, le terme correspondant a un  effet important sur la somme globale et donc est plus susceptible d’être réduit  dans le contexte global. Si $α_i$ est petit (ou égal à zéro), le terme a peu  (ou pas) d’influence sur la fonction objective et les quantités peuvent devenir  grandes sans faire beaucoup de mal. "
   ]
  },
  {
   "cell_type": "code",
   "execution_count": 2,
   "id": "5f74492b",
   "metadata": {},
   "outputs": [],
   "source": [
    "import numpy as np \n",
    "import matplotlib.pyplot as plt\n",
    "import random as random\n",
    "%matplotlib inline\n",
    "from casadi import *\n"
   ]
  },
  {
   "cell_type": "markdown",
   "id": "e375ed3a",
   "metadata": {},
   "source": [
    "## DOC  $ (Contrôle\\ optimal\\ direct)$"
   ]
  },
  {
   "cell_type": "code",
   "execution_count": 3,
   "id": "c81a5aeb",
   "metadata": {},
   "outputs": [],
   "source": [
    "n = 100\n",
    "T = 2.5\n",
    "taux = T/n\n",
    "\n",
    "Times = np.linspace(0, T, n)"
   ]
  },
  {
   "cell_type": "code",
   "execution_count": 4,
   "id": "bf850d57",
   "metadata": {},
   "outputs": [],
   "source": [
    "alpha0 = 0\n",
    "alpha1 = 0.7\n",
    "alpha2 = 0.2\n",
    "alpha3 = 0.1"
   ]
  },
  {
   "cell_type": "code",
   "execution_count": 24,
   "id": "ce243130",
   "metadata": {},
   "outputs": [],
   "source": [
    "x0 = 0\n",
    "y0 = 1\n",
    "theta0 = 0\n",
    "\n",
    "xf = 4\n",
    "yf = 0\n",
    "thetaf = 5"
   ]
  },
  {
   "cell_type": "code",
   "execution_count": 25,
   "id": "ab082816",
   "metadata": {},
   "outputs": [],
   "source": [
    "## variable de position\n",
    "x = SX.sym('x', n )\n",
    "y = SX.sym('y', n )\n",
    "theta = SX.sym('theta', n )\n",
    "\n",
    "## variable de vitesse \n",
    "v1 = SX.sym('v1', n )\n",
    "v2 = SX.sym('v2', n )\n",
    "w = SX.sym('w', n )\n"
   ]
  },
  {
   "cell_type": "markdown",
   "id": "a31adaf3",
   "metadata": {},
   "source": [
    "#### Fonctions utile"
   ]
  },
  {
   "cell_type": "code",
   "execution_count": 26,
   "id": "93cec1ab",
   "metadata": {},
   "outputs": [],
   "source": [
    "f= Function('f',[x],[x[1:]])\n",
    "\n",
    "p =vertcat(v1[1:],0)\n",
    "g = Function ('g',[v1],[p])"
   ]
  },
  {
   "cell_type": "code",
   "execution_count": 27,
   "id": "8ca125da",
   "metadata": {},
   "outputs": [],
   "source": [
    "phi = Function ('phi', [v1,w,v2], [ taux*(alpha0 + alpha1 * dot((g(v1)-v1)/taux ,(g(v1)-v1)/taux ) + alpha2 * dot((g(w)-w)/taux ,(g(w)-w)/taux ) + alpha3 * dot((g(v2)-v2)/taux ,(g(v2)-v2)/taux ))]) "
   ]
  },
  {
   "cell_type": "code",
   "execution_count": 28,
   "id": "a7341690",
   "metadata": {},
   "outputs": [],
   "source": [
    "opti = casadi.Opti()   # cette fonction nous permet de trouver la solution de problème\n",
    "\n",
    "## les positions\n",
    "x = opti.variable(n)\n",
    "y = opti.variable(n)\n",
    "theta = opti.variable(n)\n",
    "\n",
    "## les vitesses \n",
    "v1 = opti.variable(n)        ## vitesse latérale\n",
    "v2 = opti.variable(n)        ## vitesse orthogonal\n",
    "w = opti.variable(n)\n"
   ]
  },
  {
   "cell_type": "code",
   "execution_count": 29,
   "id": "9a92ff98",
   "metadata": {},
   "outputs": [
    {
     "name": "stdout",
     "output_type": "stream",
     "text": [
      "This is Ipopt version 3.14.4, running with linear solver MUMPS 5.2.1.\n",
      "\n",
      "Number of nonzeros in equality constraint Jacobian...:     1293\n",
      "Number of nonzeros in inequality constraint Jacobian.:        0\n",
      "Number of nonzeros in Lagrangian Hessian.............:      894\n",
      "\n",
      "Total number of variables............................:      600\n",
      "                     variables with only lower bounds:        0\n",
      "                variables with lower and upper bounds:        0\n",
      "                     variables with only upper bounds:        0\n",
      "Total number of equality constraints.................:      303\n",
      "Total number of inequality constraints...............:        0\n",
      "        inequality constraints with only lower bounds:        0\n",
      "   inequality constraints with lower and upper bounds:        0\n",
      "        inequality constraints with only upper bounds:        0\n",
      "\n",
      "iter    objective    inf_pr   inf_du lg(mu)  ||d||  lg(rg) alpha_du alpha_pr  ls\n",
      "   0  0.0000000e+00 5.00e+00 0.00e+00  -1.0 0.00e+00    -  0.00e+00 0.00e+00   0\n",
      "   1  3.0850123e+00 9.51e-02 6.15e-02  -1.0 5.00e+00    -  1.00e+00 1.00e+00h  1\n",
      "   2  4.2499859e+00 5.29e-03 9.20e-02  -2.5 4.34e+00    -  1.00e+00 1.00e+00h  1\n",
      "   3  4.0701698e+00 3.50e-03 8.72e-03  -2.5 6.64e-01  -2.0 1.00e+00 1.00e+00h  1\n",
      "   4  2.5381831e+00 1.02e-01 5.22e-02  -3.8 4.71e+00    -  1.00e+00 1.00e+00F  1\n",
      "   5  3.3888591e+00 3.64e-03 2.42e-02  -3.8 1.25e+00    -  1.00e+00 1.00e+00h  1\n",
      "   6  3.5295852e+00 1.69e-04 7.64e-04  -3.8 3.37e-01    -  1.00e+00 1.00e+00h  1\n",
      "   7  3.5257416e+00 7.23e-07 7.12e-07  -5.7 1.14e-02    -  1.00e+00 1.00e+00h  1\n",
      "   8  3.5257245e+00 4.73e-12 3.83e-12  -8.6 3.04e-05    -  1.00e+00 1.00e+00h  1\n",
      "\n",
      "Number of Iterations....: 8\n",
      "\n",
      "                                   (scaled)                 (unscaled)\n",
      "Objective...............:   3.5257244512297241e+00    3.5257244512297241e+00\n",
      "Dual infeasibility......:   3.8265501878242958e-12    3.8265501878242958e-12\n",
      "Constraint violation....:   4.7288839510883918e-12    4.7288839510883918e-12\n",
      "Variable bound violation:   0.0000000000000000e+00    0.0000000000000000e+00\n",
      "Complementarity.........:   0.0000000000000000e+00    0.0000000000000000e+00\n",
      "Overall NLP error.......:   4.7288839510883918e-12    4.7288839510883918e-12\n",
      "\n",
      "\n",
      "Number of objective function evaluations             = 10\n",
      "Number of objective gradient evaluations             = 9\n",
      "Number of equality constraint evaluations            = 10\n",
      "Number of inequality constraint evaluations          = 0\n",
      "Number of equality constraint Jacobian evaluations   = 9\n",
      "Number of inequality constraint Jacobian evaluations = 0\n",
      "Number of Lagrangian Hessian evaluations             = 8\n",
      "Total seconds in IPOPT                               = 0.049\n",
      "\n",
      "EXIT: Optimal Solution Found.\n",
      "      solver  :   t_proc      (avg)   t_wall      (avg)    n_eval\n",
      "       nlp_f  |        0 (       0) 208.90us ( 20.89us)        10\n",
      "       nlp_g  |        0 (       0) 640.50us ( 64.05us)        10\n",
      "  nlp_grad_f  |   1.00ms (100.00us) 298.60us ( 29.86us)        10\n",
      "  nlp_hess_l  |   3.00ms (375.00us)   1.57ms (196.74us)         8\n",
      "   nlp_jac_g  |   1.00ms (100.00us)   1.03ms (103.22us)        10\n",
      "       total  |  50.00ms ( 50.00ms)  49.58ms ( 49.58ms)         1\n"
     ]
    }
   ],
   "source": [
    "opti.minimize(  taux*(alpha0 + alpha1 * dot((g(v1)-v1)/taux ,(g(v1)-v1)/taux ) + alpha2 * dot((g(w)-w)/taux ,(g(w)-w)/taux ) + alpha3 * dot((g(v2)-v2)/taux ,(g(v2)-v2)/taux ))   )    # ma fonction objetion\n",
    "\n",
    "# mes fonctions de contrainte d'égalité:\n",
    "\n",
    "## pour les condition initial\n",
    "opti.subject_to( x[0] == x0)        \n",
    "opti.subject_to( y[0] == y0)\n",
    "opti.subject_to( theta[0] == theta0)\n",
    "\n",
    "## pour les contraintes d'égaliter\n",
    "opti.subject_to( f(x) == x[:n-1]+taux*(cos(theta[:n-1])*v1[:n-1] - sin(theta[:n-1])*v2[:n-1]) )\n",
    "opti.subject_to( f(y) == y[:n-1]+taux*(sin(theta[:n-1])*v1[:n-1] + cos(theta[:n-1])*v2[:n-1]) )\n",
    "opti.subject_to( f(theta) == theta[:n-1] + taux*w[:n-1] )\n",
    "\n",
    "\n",
    "## pour les conditions finales\n",
    "opti.subject_to( x[-1]==xf)\n",
    "opti.subject_to( y[-1]==yf)\n",
    "opti.subject_to( theta[-1]==thetaf)\n",
    "\n",
    "\n",
    "opti.solver('ipopt')      # suivant la méthode de KKT\n",
    "\n",
    "\n",
    "sol = opti.solve()"
   ]
  },
  {
   "cell_type": "code",
   "execution_count": 30,
   "id": "4f571021",
   "metadata": {},
   "outputs": [],
   "source": [
    "X = sol.value(x)\n",
    "Y = sol.value(y)\n",
    "V1 = sol.value(v1)\n",
    "W = sol.value(w)\n",
    "V2 = sol.value(v2)\n",
    "\n",
    "#sol.value(teta)"
   ]
  },
  {
   "cell_type": "code",
   "execution_count": 31,
   "id": "28d82db2",
   "metadata": {},
   "outputs": [],
   "source": [
    "F = np.zeros(n)\n",
    "\n",
    "for i in range (n):\n",
    "    F[i] = phi(V1[i], W[i], V2[i])"
   ]
  },
  {
   "cell_type": "code",
   "execution_count": 32,
   "id": "3801ad50",
   "metadata": {},
   "outputs": [
    {
     "data": {
      "text/plain": [
       "<matplotlib.legend.Legend at 0x1e7748ca880>"
      ]
     },
     "execution_count": 32,
     "metadata": {},
     "output_type": "execute_result"
    },
    {
     "data": {
      "image/png": "[encoded data removed]",
      "text/plain": [
       "<Figure size 1080x720 with 4 Axes>"
      ]
     },
     "metadata": {
      "needs_background": "light"
     },
     "output_type": "display_data"
    }
   ],
   "source": [
    "plt.subplots(figsize=(15, 10))\n",
    "\n",
    "plt.subplot(2, 2, 1) \n",
    "plt.plot (Times,X , '.')\n",
    "plt.xlabel('Times')\n",
    "plt.ylabel('x[m]')\n",
    "plt.grid(True)\n",
    "\n",
    "plt.subplot(2, 2, 2) \n",
    "plt.plot (Times,Y , '.')\n",
    "plt.xlabel('Times')\n",
    "plt.ylabel('y[m]')\n",
    "plt.grid(True)\n",
    "\n",
    "plt.subplot(2, 2, 3) \n",
    "plt.plot (Times,F , '.')\n",
    "plt.xlabel('Times')\n",
    "plt.ylabel('phi[m]')\n",
    "plt.grid(True)\n",
    "\n",
    "plt.subplot(2, 2, 4) \n",
    "plt.plot (X,Y , '.')\n",
    "plt.plot(x0,y0, '*', label = 'Point initial', color = 'red')\n",
    "plt.plot(xf,yf, '*', label = 'Point final', color = 'green')\n",
    "\n",
    "plt.xlabel('x[m]')\n",
    "plt.ylabel('y[m]')\n",
    "plt.grid(True)\n",
    "plt.legend()"
   ]
  },
  {
   "cell_type": "code",
   "execution_count": 33,
   "id": "6510681a",
   "metadata": {},
   "outputs": [],
   "source": [
    "V1 = sol.value(v1)\n",
    "W = sol.value(w)\n",
    "V2 = sol.value(v2)\n",
    "X = sol.value(x)\n",
    "Y = sol.value(y)\n",
    "THETA = sol.value(theta)"
   ]
  },
  {
   "cell_type": "markdown",
   "id": "fefc07e6",
   "metadata": {},
   "source": [
    "## IOC $(Contrôle\\ optimal\\ inverse)$"
   ]
  },
  {
   "cell_type": "code",
   "execution_count": 34,
   "id": "f8b65512",
   "metadata": {},
   "outputs": [],
   "source": [
    "xi = SX.sym('xi',1)                   \n",
    "yi = SX.sym('yi',1)                \n",
    "thetai = SX.sym('thetai',1)\n",
    "\n",
    "\n",
    "xf = SX.sym('xf',1)\n",
    "yf = SX.sym('yf',1)\n",
    "thetaf = SX.sym('thetaf',1)"
   ]
  },
  {
   "cell_type": "markdown",
   "id": "a0534d99",
   "metadata": {},
   "source": [
    "### Pour les trois première contrainte."
   ]
  },
  {
   "cell_type": "code",
   "execution_count": 35,
   "id": "98652759",
   "metadata": {},
   "outputs": [],
   "source": [
    "## Position\n",
    "alpha0 = SX.sym('alpha0',1)\n",
    "alpha1 = SX.sym('alpha1',1)\n",
    "alpha2 = SX.sym('alpha2',1)\n",
    "alpha3 = SX.sym('alpha3',1)\n",
    "\n",
    "\n",
    "x=SX.sym('x',n)\n",
    "x_prime = SX.sym('x_prime', n+1)\n",
    "x_prime[0] = x[0]\n",
    "x_prime[1:] =x\n",
    "\n",
    "\n",
    "y=SX.sym('y',n)\n",
    "y_prime = SX.sym('y_prime', n+1)\n",
    "y_prime[0] = y[0]\n",
    "y_prime[1:] =y\n",
    "\n",
    "theta=SX.sym('theta',n)\n",
    "theta_prime = SX.sym('theta_prime', n+1)\n",
    "theta_prime[0] = theta[0]\n",
    "theta_prime[1:] =theta\n",
    "\n",
    "\n",
    "## Vitesse\n",
    "v1=SX.sym('v1',n)  \n",
    "v1_prime = SX.sym('v1_prime', n+1)\n",
    "v1_prime[0] = 0\n",
    "v1_prime[n] = 0\n",
    "v1_prime[1:n] =v1[0:n-1]\n",
    "\n",
    "v2=SX.sym('v2',n)  \n",
    "v2_prime = SX.sym('v2_prime', n+1)\n",
    "v2_prime[0] = 0\n",
    "v2_prime[n] = 0\n",
    "v2_prime[1:n] =v2[0:n-1]\n",
    "\n",
    "\n",
    "w=SX.sym('w',n)  \n",
    "w_prime = SX.sym('w_prime', n+1)\n",
    "w_prime[0] = 0\n",
    "w_prime[n] = 0\n",
    "w_prime[1:n] =w[0:n-1]\n",
    "\n",
    "Lambda = SX.sym('Lambda',n+1, 3)"
   ]
  },
  {
   "cell_type": "code",
   "execution_count": 37,
   "id": "d073d040",
   "metadata": {},
   "outputs": [],
   "source": [
    "p1=vertcat(xi,x_prime[2:],xf)   # Je définis un nouveau vecteur suivant x1 en prenant les n-1 dernières valeurs \n",
    "                               #  et la nième valeur vaut x1f\n",
    "h = Function('h',[x, xi, xf],[p1])"
   ]
  },
  {
   "cell_type": "code",
   "execution_count": 38,
   "id": "6bc122a6",
   "metadata": {},
   "outputs": [],
   "source": [
    "Y1 = (x_prime+taux*(v1_prime*cos(theta_prime) - v2_prime*sin(theta_prime)) - h(x, xi,xf))\n",
    "Y2 = (y_prime+taux*(v1_prime*sin(theta_prime) + v2_prime*cos(theta_prime)) - h(y, yi,yf)) \n",
    "Y3 = (theta_prime+taux*w_prime - h(theta, thetai,thetaf))\n",
    "Y_K = SX.sym('Y',n+1 , 3)        ## notre contrainte\n",
    "\n",
    "for i in range (n+1):\n",
    "    Y_K[i,0]= Y1[i]\n",
    "    Y_K[i,1]= Y2[i]\n",
    "    Y_K[i,2]= Y3[i]       \n",
    "    "
   ]
  },
  {
   "cell_type": "code",
   "execution_count": 39,
   "id": "98c24b84",
   "metadata": {},
   "outputs": [],
   "source": [
    "## notre terme qui est relié a la contrainte.\n",
    "G_lambda = 0\n",
    "\n",
    "for i in range (n+1):\n",
    "    G_lambda += dot(Y_K[i,:], Lambda[i,:])"
   ]
  },
  {
   "cell_type": "code",
   "execution_count": 40,
   "id": "46f71f97",
   "metadata": {},
   "outputs": [],
   "source": [
    "p =vertcat(v1[1:],0)\n",
    "g = Function ('g',[v1],[p])\n",
    "\n",
    "U1 = (g(v1)-v1)/taux \n",
    "\n",
    "U2 = (g(w)-w)/taux \n",
    "\n",
    "U3 = (g(v2)-v2)/taux "
   ]
  },
  {
   "cell_type": "code",
   "execution_count": 41,
   "id": "9dd42f87",
   "metadata": {},
   "outputs": [],
   "source": [
    "F_val =  taux*( alpha0 + alpha1 * dot(U1,U1) + alpha2 * dot(U2,U2) + alpha3 * dot(U3,U3))"
   ]
  },
  {
   "cell_type": "code",
   "execution_count": 42,
   "id": "4c29e848",
   "metadata": {},
   "outputs": [],
   "source": [
    "## le Lagrangien \n",
    "L_val = F_val + G_lambda"
   ]
  },
  {
   "cell_type": "code",
   "execution_count": 43,
   "id": "88ae43da",
   "metadata": {},
   "outputs": [],
   "source": [
    "grad_L = SX.zeros(6, n)\n",
    "for i in range (n):\n",
    "    grad_L[0,i]= jacobian(L_val, v1[i])\n",
    "    grad_L[1,i]= jacobian(L_val, w[i])\n",
    "    grad_L[2,i]= jacobian(L_val, v2[i])\n",
    "    grad_L[3,i]= jacobian(L_val, x[i])\n",
    "    grad_L[4,i]= jacobian(L_val, y[i])\n",
    "    grad_L[5,i]= jacobian(L_val, theta[i])\n",
    "    "
   ]
  },
  {
   "cell_type": "code",
   "execution_count": 44,
   "id": "052875bf",
   "metadata": {},
   "outputs": [],
   "source": [
    "R = Function ('R', [v1,w,v2,x,y,theta, Lambda, alpha0, alpha1, alpha2, alpha3 ], [dot(grad_L,grad_L)])"
   ]
  },
  {
   "cell_type": "code",
   "execution_count": 45,
   "id": "52c87270",
   "metadata": {},
   "outputs": [],
   "source": [
    "x0 = 0\n",
    "y0 = 1\n",
    "theta0 = 1\n",
    "\n",
    "xf = 4\n",
    "yf = 0\n",
    "thetaf = 0\n",
    "\n",
    "\n",
    "## les valeur qu'on cherche\n",
    "alpha0 = 0             ### on minimise pas suivant T\n",
    "#alpha1 = 0.8\n",
    "#alpha2 = 0.\n",
    "#alpha3 = 0.2\n"
   ]
  },
  {
   "cell_type": "code",
   "execution_count": 46,
   "id": "2f999f74",
   "metadata": {},
   "outputs": [],
   "source": [
    "opti = casadi.Opti()   # cette fonction nous permet de trouver la solution de problème\n",
    "\n",
    "\n",
    "alpha1 = opti.variable()\n",
    "alpha2 = opti.variable()\n",
    "alpha3 = opti.variable()\n",
    "\n",
    "\n",
    "Lambda = opti.variable(n+1,3)"
   ]
  },
  {
   "cell_type": "code",
   "execution_count": 47,
   "id": "cab50976",
   "metadata": {},
   "outputs": [
    {
     "name": "stdout",
     "output_type": "stream",
     "text": [
      "This is Ipopt version 3.14.4, running with linear solver MUMPS 5.2.1.\n",
      "\n",
      "Number of nonzeros in equality constraint Jacobian...:        3\n",
      "Number of nonzeros in inequality constraint Jacobian.:        6\n",
      "Number of nonzeros in Lagrangian Hessian.............:     1596\n",
      "\n",
      "Total number of variables............................:      306\n",
      "                     variables with only lower bounds:        0\n",
      "                variables with lower and upper bounds:        0\n",
      "                     variables with only upper bounds:        0\n",
      "Total number of equality constraints.................:        1\n",
      "Total number of inequality constraints...............:        6\n",
      "        inequality constraints with only lower bounds:        3\n",
      "   inequality constraints with lower and upper bounds:        0\n",
      "        inequality constraints with only upper bounds:        3\n",
      "\n",
      "iter    objective    inf_pr   inf_du lg(mu)  ||d||  lg(rg) alpha_du alpha_pr  ls\n",
      "   0  0.0000000e+00 1.00e+00 0.00e+00  -1.0 0.00e+00    -  0.00e+00 0.00e+00   0\n",
      "   1  1.0494060e-01 0.00e+00 3.07e+01  -1.7 3.03e+00    -  3.13e-02 1.00e+00f  1\n",
      "   2  2.8125583e-02 0.00e+00 1.60e-01  -1.7 5.80e-01    -  8.58e-01 1.00e+00f  1\n",
      "   3  7.3336941e-03 2.22e-16 2.83e-02  -2.5 4.76e-01    -  8.76e-01 1.00e+00f  1\n",
      "   4  9.0955389e-04 2.22e-16 2.83e-08  -2.5 5.05e-01    -  1.00e+00 1.00e+00f  1\n",
      "   5  2.8342610e-05 2.22e-16 3.92e-04  -3.8 2.14e-01    -  9.83e-01 1.00e+00f  1\n",
      "   6  2.9725196e-08 2.22e-16 1.84e-11  -5.7 4.47e-02    -  1.00e+00 1.00e+00f  1\n",
      "   7  1.2681497e-10 2.22e-16 1.84e-11  -5.7 1.41e-03    -  1.00e+00 1.00e+00f  1\n",
      "   8  2.5963468e-16 0.00e+00 2.51e-14  -8.6 9.16e-05    -  1.00e+00 1.00e+00h  1\n",
      "\n",
      "Number of Iterations....: 8\n",
      "\n",
      "                                   (scaled)                 (unscaled)\n",
      "Objective...............:   2.5963467642439302e-16    2.5963467642439302e-16\n",
      "Dual infeasibility......:   2.5059036063649481e-14    2.5059036063649481e-14\n",
      "Constraint violation....:   0.0000000000000000e+00    0.0000000000000000e+00\n",
      "Variable bound violation:   0.0000000000000000e+00    0.0000000000000000e+00\n",
      "Complementarity.........:   2.6233196623667876e-09    2.6233196623667876e-09\n",
      "Overall NLP error.......:   2.6233196623667876e-09    2.6233196623667876e-09\n",
      "\n",
      "\n",
      "Number of objective function evaluations             = 9\n",
      "Number of objective gradient evaluations             = 9\n",
      "Number of equality constraint evaluations            = 9\n",
      "Number of inequality constraint evaluations          = 9\n",
      "Number of equality constraint Jacobian evaluations   = 9\n",
      "Number of inequality constraint Jacobian evaluations = 9\n",
      "Number of Lagrangian Hessian evaluations             = 8\n",
      "Total seconds in IPOPT                               = 0.066\n",
      "\n",
      "EXIT: Optimal Solution Found.\n",
      "      solver  :   t_proc      (avg)   t_wall      (avg)    n_eval\n",
      "       nlp_f  |        0 (       0) 429.50us ( 47.72us)         9\n",
      "       nlp_g  |        0 (       0)  73.20us (  8.13us)         9\n",
      "  nlp_grad_f  |   1.00ms (100.00us)   1.53ms (153.35us)        10\n",
      "  nlp_hess_l  |  11.00ms (  1.38ms)   9.58ms (  1.20ms)         8\n",
      "   nlp_jac_g  |        0 (       0) 109.70us ( 10.97us)        10\n",
      "       total  |  68.00ms ( 68.00ms)  68.72ms ( 68.72ms)         1\n"
     ]
    }
   ],
   "source": [
    "opti.minimize( R(V1,W,V2,X,Y,THETA, Lambda, alpha0, alpha1, alpha2, alpha3 )) \n",
    "\n",
    "opti.subject_to( 0 <= alpha1)\n",
    "opti.subject_to( alpha1 <= 1)\n",
    "opti.subject_to( 0 <= alpha2 )\n",
    "opti.subject_to( alpha2 <= 1)\n",
    "opti.subject_to( 0 <= alpha3 )\n",
    "opti.subject_to( alpha3 <= 1)\n",
    "opti.subject_to(  alpha1 + alpha2 + alpha3 == 1)\n",
    "\n",
    "\n",
    "\n",
    "opti.solver('ipopt')    \n",
    "\n",
    "sol = opti.solve()"
   ]
  },
  {
   "cell_type": "code",
   "execution_count": 48,
   "id": "b6b3cf6d",
   "metadata": {},
   "outputs": [
    {
     "name": "stdout",
     "output_type": "stream",
     "text": [
      "0.6999999738926109\n",
      "0.20000001703415796\n",
      "0.10000000907323119\n"
     ]
    }
   ],
   "source": [
    "print(sol.value(alpha1))\n",
    "print(sol.value(alpha2))\n",
    "print(sol.value(alpha3))\n"
   ]
  }
 ],
 "metadata": {
  "kernelspec": {
   "display_name": "Python 3 (ipykernel)",
   "language": "python",
   "name": "python3"
  },
  "language_info": {
   "codemirror_mode": {
    "name": "ipython",
    "version": 3
   },
   "file_extension": ".py",
   "mimetype": "text/x-python",
   "name": "python",
   "nbconvert_exporter": "python",
   "pygments_lexer": "ipython3",
   "version": "3.9.7"
  }
 },
 "nbformat": 4,
 "nbformat_minor": 5
}
