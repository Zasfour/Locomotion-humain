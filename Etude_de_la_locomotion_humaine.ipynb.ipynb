{
 "cells": [
  {
   "cell_type": "markdown",
   "id": "64b41f01",
   "metadata": {},
   "source": [
    "Notre problème est : "
   ]
  },
  {
   "cell_type": "markdown",
   "id": "7aa0d292",
   "metadata": {},
   "source": [
    "\\begin{align*}\n",
    "\\ \\ min_{X,u} \\ &   \\alpha_{0} T + \\alpha_{1} \\int_{0}^{T}u_{1}^2 dt + \\alpha_{2} \\int_{0}^{T}u_{2}^2 dt + \\alpha_{3} \\int_{0}^{T}u_{3}^2 dt    \\\\\n",
    "s.c \\ & \\dot{x} = cos(\\theta)v_{avant} - sin(\\theta)v_{orth} \\\\\n",
    "& \\dot{y} = sin(\\theta)v_{avant} + cos(\\theta)v_{orth}  \\\\\n",
    "& \\dot{\\theta} = w  \\\\\n",
    "& \\dot{v}_{avant} = u_1  \\\\\n",
    "& \\dot{w} = u_2  \\\\\n",
    "& \\dot{v}_{orth} = u_3  \\\\\n",
    "& X(0) = X_0  \\ \\ et \\ \\  X(T) = X_{final}\n",
    "\\end{align*}"
   ]
  },
  {
   "cell_type": "markdown",
   "id": "84ae5b5a",
   "metadata": {},
   "source": [
    "#### Notation :\n",
    "$ \\Delta t = \\frac{T}{n}  $\n",
    "\n",
    "$ x[i]  : = x(i \\Delta t )   \\ \\forall i \\in \\{1,...,n \\} $   \n",
    "\n",
    "#### Remarque : \n",
    "On va approché notre intégrale par la méthode des triangles.\n",
    "\n",
    "Prenons une subdivision de notre interval [0,T] en n sous intervalle. Nous allons transformer notre problème continue en un problème discret et de plus on va transformer nos équations diférentielle par un dévéloppement limité. \n",
    "\n",
    "Par exemple $ \\frac{x[i+1]+x[i]}{\\Delta t} $  qui est une approximation de $ \\dot{x}[i]  \\ \\ (donc \\ \\ \\dot{x}[i] := \\frac{x[i+1]+x[i]}{\\Delta t} $)\n",
    "\n"
   ]
  },
  {
   "cell_type": "markdown",
   "id": "8551ba02",
   "metadata": {},
   "source": [
    "Soit $ \\Delta t = \\frac{T}{n}  $\n",
    "\\begin{align*}\n",
    "(2)  \\ \\  \\ min_{X(i),u(i)} \\ &   \\Delta t  \\sum_{i=1}^{n} ( \\alpha_{0} + \\alpha_{1} u_{1}^2[i]+ \\alpha_{2} u_{2}^2[i] + \\alpha_{3}u_{3}^2[i]  )   \\\\\n",
    "s.c \\ &  \\forall i \\in \\{1,...,n \\}  \\\\\n",
    "& x[i+1] = x[i] + \\Delta t(cos(\\theta[i])v_{1}[i] - sin(\\theta[i])v_{2}[i]) \\\\\n",
    "& y[i+1] = y[i] + \\Delta t(sin(\\theta[i])v_{1}[i] + cos(\\theta[i])v_{2}[i])  \\\\\n",
    "& \\theta[i+1] = \\theta[i] + \\Delta t (w[i])  \\\\\n",
    "& u_1[i] = \\frac{v_{1}[i+1] - v_{1}[i] }{ \\Delta t}  \\\\\n",
    "& u_2[i] = \\frac{w[i+1] - w[i]}{\\Delta t}   \\\\\n",
    "& u_3[i] = \\frac{v_{2}[i+1] - v_{2}[i] }{\\Delta t }  \\\\\n",
    "& X[0] = X_0  \\ \\ et \\ \\  X[T] = X_{final}\n",
    "\\end{align*}"
   ]
  },
  {
   "cell_type": "markdown",
   "id": "6d76557c",
   "metadata": {},
   "source": [
    "### Pour les trois dernières contraintes.\n",
    "\n",
    "Je vais modifier mon problème de tel sorte que je veux minimiser X = (x,y,theta) et V = (v1,w,v2) et non X et U = (u1,u2,u3).\n",
    "\n",
    "Donc la fonction objectif sera :\n",
    "$ \\Delta t  \\sum_{i=1}^{n} ( \\alpha_{0} + \\alpha_{1} (\\frac{v_{1}[i+1] - v_{1}[i]}{ \\Delta t})^2+ \\alpha_{2} (\\frac{w[i+1] - w[i]}{ \\Delta t})^2 + \\alpha_{3} (\\frac{v_{2}[i+1] - v_{2}[i]}{ \\Delta t})^2   ) $ \n",
    "\n",
    "Avec $ v_1[n+1] = v_2[n+1] = w [n+1] = 0$ car on s'arrête."
   ]
  },
  {
   "cell_type": "markdown",
   "id": "006d72eb",
   "metadata": {},
   "source": [
    "Le problème est alors :\n",
    "\\begin{align*}\n",
    "(2)  \\ \\  \\ min_{X(i),u(i)} \\ &  \\Delta t  \\sum_{i=1}^{n} ( \\alpha_{0} + \\alpha_{1} (\\frac{v_{1}[i+1] - v_{1}[i]}{ \\Delta t})^2+ \\alpha_{2} (\\frac{w[i+1] - w[i]}{ \\Delta t})^2 + \\alpha_{3} (\\frac{v_{2}[i+1] - v_{2}[i]}{ \\Delta t})^2   )   \\\\\n",
    "s.c  \\ \\ \\ & x[i+1] = x[i] + \\Delta t(cos(\\theta[i])v_{1}[i] - sin(\\theta[i])v_{2}[i]) \\\\\n",
    "& y[i+1] = y[i] + \\Delta t(sin(\\theta[i])v_{1}[i] + cos(\\theta[i])v_{2}[i])  \\\\\n",
    "& \\theta[i+1] = \\theta[i] + \\Delta t (w[i])  \\\\\n",
    "& X[0] = X_0  \\ \\ et \\ \\  X[T] = X_{final}\n",
    "\\end{align*}"
   ]
  },
  {
   "cell_type": "markdown",
   "id": "4244cad3",
   "metadata": {},
   "source": [
    "#### REMARQUE :  \n",
    "Si un poids $α_i$ est grand, le terme correspondant a un  effet important sur la somme globale et donc est plus susceptible d’être réduit  dans le contexte global. Si $α_i$ est petit (ou égal à zéro), le terme a peu  (ou pas) d’influence sur la fonction objective et les quantités peuvent devenir  grandes sans faire beaucoup de mal. "
   ]
  },
  {
   "cell_type": "code",
   "execution_count": 1,
   "id": "5f74492b",
   "metadata": {},
   "outputs": [],
   "source": [
    "import numpy as np \n",
    "import matplotlib.pyplot as plt\n",
    "import random as random\n",
    "%matplotlib inline\n",
    "from casadi import *\n"
   ]
  },
  {
   "cell_type": "markdown",
   "id": "e375ed3a",
   "metadata": {},
   "source": [
    "## DOC  $ (Contrôle\\ optimal\\ direct)$"
   ]
  },
  {
   "cell_type": "code",
   "execution_count": 2,
   "id": "c81a5aeb",
   "metadata": {},
   "outputs": [],
   "source": [
    "n = 500\n",
    "T = 5\n",
    "taux = T/n\n",
    "\n",
    "Times = np.linspace(0, T, n)"
   ]
  },
  {
   "cell_type": "markdown",
   "id": "0189c84f",
   "metadata": {},
   "source": [
    "#### Exemple 1 "
   ]
  },
  {
   "cell_type": "code",
   "execution_count": 3,
   "id": "bf850d57",
   "metadata": {},
   "outputs": [],
   "source": [
    "alpha0 = 0\n",
    "alpha1 = 0.1\n",
    "alpha2 = 0.3\n",
    "alpha3 = 0.7"
   ]
  },
  {
   "cell_type": "code",
   "execution_count": 4,
   "id": "ce243130",
   "metadata": {},
   "outputs": [],
   "source": [
    "x0 = -4\n",
    "y0 = -0.5\n",
    "theta0 = pi/4\n",
    "\n",
    "xf = 0\n",
    "yf = 0\n",
    "thetaf = pi/2"
   ]
  },
  {
   "cell_type": "code",
   "execution_count": 5,
   "id": "ab082816",
   "metadata": {},
   "outputs": [],
   "source": [
    "## variable de position\n",
    "x = SX.sym('x', n )\n",
    "y = SX.sym('y', n )\n",
    "theta = SX.sym('theta', n )\n",
    "\n",
    "## variable de vitesse \n",
    "v1 = SX.sym('v1', n )\n",
    "v2 = SX.sym('v2', n )\n",
    "w = SX.sym('w', n )\n"
   ]
  },
  {
   "cell_type": "markdown",
   "id": "a31adaf3",
   "metadata": {},
   "source": [
    "#### Fonctions utile"
   ]
  },
  {
   "cell_type": "code",
   "execution_count": 6,
   "id": "93cec1ab",
   "metadata": {},
   "outputs": [],
   "source": [
    "f= Function('f',[x],[x[1:]])\n",
    "\n",
    "p =vertcat(v1[1:],0)\n",
    "g = Function ('g',[v1],[p])"
   ]
  },
  {
   "cell_type": "code",
   "execution_count": 7,
   "id": "8ca125da",
   "metadata": {},
   "outputs": [],
   "source": [
    "phi = Function ('phi', [v1,w,v2], [ taux*(alpha0 + alpha1 * dot((g(v1)-v1)/taux ,(g(v1)-v1)/taux ) + alpha2 * dot((g(w)-w)/taux ,(g(w)-w)/taux ) + alpha3 * dot((g(v2)-v2)/taux ,(g(v2)-v2)/taux ))]) "
   ]
  },
  {
   "cell_type": "code",
   "execution_count": 8,
   "id": "a7341690",
   "metadata": {},
   "outputs": [],
   "source": [
    "opti = casadi.Opti()   # cette fonction nous permet de trouver la solution de problème\n",
    "\n",
    "## les positions\n",
    "x = opti.variable(n)\n",
    "y = opti.variable(n)\n",
    "theta = opti.variable(n)\n",
    "\n",
    "## les vitesses \n",
    "v1 = opti.variable(n)        ## vitesse latérale\n",
    "v2 = opti.variable(n)        ## vitesse orthogonal\n",
    "w = opti.variable(n)         ## vitesse angulaire\n"
   ]
  },
  {
   "cell_type": "code",
   "execution_count": 9,
   "id": "9a92ff98",
   "metadata": {},
   "outputs": [
    {
     "name": "stdout",
     "output_type": "stream",
     "text": [
      "\n",
      "******************************************************************************\n",
      "This program contains Ipopt, a library for large-scale nonlinear optimization.\n",
      " Ipopt is released as open source code under the Eclipse Public License (EPL).\n",
      "         For more information visit https://github.com/coin-or/Ipopt\n",
      "******************************************************************************\n",
      "\n",
      "This is Ipopt version 3.14.4, running with linear solver MUMPS 5.2.1.\n",
      "\n",
      "Number of nonzeros in equality constraint Jacobian...:     6493\n",
      "Number of nonzeros in inequality constraint Jacobian.:        0\n",
      "Number of nonzeros in Lagrangian Hessian.............:     4494\n",
      "\n",
      "Total number of variables............................:     3000\n",
      "                     variables with only lower bounds:        0\n",
      "                variables with lower and upper bounds:        0\n",
      "                     variables with only upper bounds:        0\n",
      "Total number of equality constraints.................:     1503\n",
      "Total number of inequality constraints...............:        0\n",
      "        inequality constraints with only lower bounds:        0\n",
      "   inequality constraints with lower and upper bounds:        0\n",
      "        inequality constraints with only upper bounds:        0\n",
      "\n",
      "iter    objective    inf_pr   inf_du lg(mu)  ||d||  lg(rg) alpha_du alpha_pr  ls\n",
      "   0  0.0000000e+00 4.00e+00 0.00e+00  -1.0 0.00e+00    -  0.00e+00 0.00e+00   0\n",
      "   1  4.6901648e-02 9.14e-03 3.59e-04  -1.0 4.00e+00    -  1.00e+00 1.00e+00h  1\n",
      "   2  1.5802786e-01 2.96e-03 5.01e-04  -3.8 9.19e-01    -  1.00e+00 1.00e+00h  1\n",
      "   3  1.9547549e-01 1.17e-04 4.76e-05  -3.8 2.36e-01    -  1.00e+00 1.00e+00h  1\n",
      "   4  1.9814206e-01 1.05e-06 4.71e-08  -5.7 2.12e-02    -  1.00e+00 1.00e+00h  1\n",
      "   5  1.9813610e-01 1.43e-11 3.88e-12  -8.6 6.95e-05    -  1.00e+00 1.00e+00h  1\n",
      "\n",
      "Number of Iterations....: 5\n",
      "\n",
      "                                   (scaled)                 (unscaled)\n",
      "Objective...............:   1.9813610118433619e-01    1.9813610118433619e-01\n",
      "Dual infeasibility......:   3.8797992596428799e-12    3.8797992596428799e-12\n",
      "Constraint violation....:   1.4335865827774796e-11    1.4335865827774796e-11\n",
      "Variable bound violation:   0.0000000000000000e+00    0.0000000000000000e+00\n",
      "Complementarity.........:   0.0000000000000000e+00    0.0000000000000000e+00\n",
      "Overall NLP error.......:   1.4335865827774796e-11    1.4335865827774796e-11\n",
      "\n",
      "\n",
      "Number of objective function evaluations             = 6\n",
      "Number of objective gradient evaluations             = 6\n",
      "Number of equality constraint evaluations            = 6\n",
      "Number of inequality constraint evaluations          = 0\n",
      "Number of equality constraint Jacobian evaluations   = 6\n",
      "Number of inequality constraint Jacobian evaluations = 0\n",
      "Number of Lagrangian Hessian evaluations             = 5\n",
      "Total seconds in IPOPT                               = 0.082\n",
      "\n",
      "EXIT: Optimal Solution Found.\n",
      "      solver  :   t_proc      (avg)   t_wall      (avg)    n_eval\n",
      "       nlp_f  |        0 (       0) 130.50us ( 21.75us)         6\n",
      "       nlp_g  |        0 (       0) 294.70us ( 49.12us)         6\n",
      "  nlp_grad_f  |   1.00ms (142.86us) 359.80us ( 51.40us)         7\n",
      "  nlp_hess_l  |   3.00ms (600.00us)   1.63ms (326.08us)         5\n",
      "   nlp_jac_g  |   2.00ms (285.71us) 966.20us (138.03us)         7\n",
      "       total  |  84.00ms ( 84.00ms)  83.55ms ( 83.55ms)         1\n"
     ]
    }
   ],
   "source": [
    "opti.minimize(  taux*(alpha0 + alpha1 * dot((g(v1)-v1)/taux ,(g(v1)-v1)/taux ) + alpha2 * dot((g(w)-w)/taux ,(g(w)-w)/taux ) + alpha3 * dot((g(v2)-v2)/taux ,(g(v2)-v2)/taux ))   )    # ma fonction objetion\n",
    "\n",
    "# mes fonctions de contrainte d'égalité:\n",
    "\n",
    "## pour les condition initial\n",
    "opti.subject_to( x[0] == x0)        \n",
    "opti.subject_to( y[0] == y0)\n",
    "opti.subject_to( theta[0] == theta0)\n",
    "\n",
    "## pour les contraintes d'égaliter\n",
    "opti.subject_to( f(x) == x[:n-1]+taux*(cos(theta[:n-1])*v1[:n-1] - sin(theta[:n-1])*v2[:n-1]) )\n",
    "opti.subject_to( f(y) == y[:n-1]+taux*(sin(theta[:n-1])*v1[:n-1] + cos(theta[:n-1])*v2[:n-1]) )\n",
    "opti.subject_to( f(theta) == theta[:n-1] + taux*w[:n-1] )\n",
    "\n",
    "\n",
    "## pour les conditions finales\n",
    "opti.subject_to( x[-1]==xf)\n",
    "opti.subject_to( y[-1]==yf)\n",
    "opti.subject_to( theta[-1]==thetaf)\n",
    "\n",
    "\n",
    "opti.solver('ipopt')      # suivant la méthode de KKT\n",
    "\n",
    "\n",
    "sol = opti.solve()"
   ]
  },
  {
   "cell_type": "code",
   "execution_count": 10,
   "id": "4f571021",
   "metadata": {},
   "outputs": [],
   "source": [
    "V1_1 = sol.value(v1)\n",
    "W_1 = sol.value(w)\n",
    "V2_1 = sol.value(v2)\n",
    "X_1 = sol.value(x)\n",
    "Y_1 = sol.value(y)\n",
    "THETA_1 = sol.value(theta)"
   ]
  },
  {
   "cell_type": "code",
   "execution_count": 11,
   "id": "28d82db2",
   "metadata": {},
   "outputs": [],
   "source": [
    "F = np.zeros(n)\n",
    "\n",
    "for i in range (n):\n",
    "    F[i] = phi(V1_1[i], W_1[i], V2_1[i])"
   ]
  },
  {
   "cell_type": "code",
   "execution_count": 12,
   "id": "3801ad50",
   "metadata": {},
   "outputs": [
    {
     "data": {
      "text/plain": [
       "<matplotlib.legend.Legend at 0x2c43bf55cd0>"
      ]
     },
     "execution_count": 12,
     "metadata": {},
     "output_type": "execute_result"
    },
    {
     "data": {
      "image/png": "[encoded data removed]",
      "text/plain": [
       "<Figure size 1080x720 with 4 Axes>"
      ]
     },
     "metadata": {
      "needs_background": "light"
     },
     "output_type": "display_data"
    }
   ],
   "source": [
    "plt.subplots(figsize=(15, 10))\n",
    "\n",
    "plt.subplot(2, 2, 1) \n",
    "plt.plot (Times,X_1 , '.')\n",
    "plt.xlabel('Times')\n",
    "plt.ylabel('x[m]')\n",
    "plt.grid(True)\n",
    "\n",
    "plt.subplot(2, 2, 2) \n",
    "plt.plot (Times,Y_1 , '.')\n",
    "plt.xlabel('Times')\n",
    "plt.ylabel('y[m]')\n",
    "plt.grid(True)\n",
    "\n",
    "plt.subplot(2, 2, 3) \n",
    "plt.plot (Times,F , '.')\n",
    "plt.xlabel('Times')\n",
    "plt.ylabel('phi[m]')\n",
    "plt.grid(True)\n",
    "\n",
    "plt.subplot(2, 2, 4) \n",
    "plt.plot (X_1,Y_1 , '.')\n",
    "plt.plot(x0,y0, '*', label = 'Point initial', color = 'red')\n",
    "plt.plot(xf,yf, '*', label = 'Point final', color = 'green')\n",
    "\n",
    "plt.xlabel('x[m]')\n",
    "plt.ylabel('y[m]')\n",
    "plt.grid(True)\n",
    "plt.legend()"
   ]
  },
  {
   "cell_type": "markdown",
   "id": "6370f372",
   "metadata": {},
   "source": [
    "#### Exemple 2 "
   ]
  },
  {
   "cell_type": "code",
   "execution_count": 13,
   "id": "640ee732",
   "metadata": {},
   "outputs": [],
   "source": [
    "alpha0 = 0\n",
    "alpha1 = 0.4\n",
    "alpha2 = 0.3\n",
    "alpha3 = 0.3"
   ]
  },
  {
   "cell_type": "code",
   "execution_count": 14,
   "id": "f99d9ae7",
   "metadata": {},
   "outputs": [],
   "source": [
    "x0 = -1.5\n",
    "y0 = 1.2\n",
    "theta0 = 0\n",
    "\n",
    "xf = 0\n",
    "yf = 0\n",
    "thetaf = pi/2"
   ]
  },
  {
   "cell_type": "code",
   "execution_count": 18,
   "id": "bb4d58f9",
   "metadata": {},
   "outputs": [
    {
     "name": "stdout",
     "output_type": "stream",
     "text": [
      "This is Ipopt version 3.14.4, running with linear solver MUMPS 5.2.1.\n",
      "\n",
      "Number of nonzeros in equality constraint Jacobian...:     6493\n",
      "Number of nonzeros in inequality constraint Jacobian.:        0\n",
      "Number of nonzeros in Lagrangian Hessian.............:     4494\n",
      "\n",
      "Total number of variables............................:     3000\n",
      "                     variables with only lower bounds:        0\n",
      "                variables with lower and upper bounds:        0\n",
      "                     variables with only upper bounds:        0\n",
      "Total number of equality constraints.................:     1503\n",
      "Total number of inequality constraints...............:        0\n",
      "        inequality constraints with only lower bounds:        0\n",
      "   inequality constraints with lower and upper bounds:        0\n",
      "        inequality constraints with only upper bounds:        0\n",
      "\n",
      "iter    objective    inf_pr   inf_du lg(mu)  ||d||  lg(rg) alpha_du alpha_pr  ls\n",
      "   0  0.0000000e+00 1.57e+00 0.00e+00  -1.0 0.00e+00    -  0.00e+00 0.00e+00   0\n",
      "   1  4.9585621e-02 4.41e-03 4.59e-04  -1.0 1.57e+00    -  1.00e+00 1.00e+00h  1\n",
      "   2  4.9750303e-02 1.16e-05 8.09e-06  -3.8 3.43e-01    -  1.00e+00 1.00e+00h  1\n",
      "   3  4.9701582e-02 1.93e-08 2.53e-09  -8.6 3.15e-03    -  1.00e+00 1.00e+00h  1\n",
      "   4  4.9701460e-02 3.11e-15 1.10e-14  -9.0 1.16e-06    -  1.00e+00 1.00e+00h  1\n",
      "\n",
      "Number of Iterations....: 4\n",
      "\n",
      "                                   (scaled)                 (unscaled)\n",
      "Objective...............:   4.9701460376576280e-02    4.9701460376576280e-02\n",
      "Dual infeasibility......:   1.0953044027317560e-14    1.0953044027317560e-14\n",
      "Constraint violation....:   3.1086244689504383e-15    3.1086244689504383e-15\n",
      "Variable bound violation:   0.0000000000000000e+00    0.0000000000000000e+00\n",
      "Complementarity.........:   0.0000000000000000e+00    0.0000000000000000e+00\n",
      "Overall NLP error.......:   1.0953044027317560e-14    1.0953044027317560e-14\n",
      "\n",
      "\n",
      "Number of objective function evaluations             = 5\n",
      "Number of objective gradient evaluations             = 5\n",
      "Number of equality constraint evaluations            = 5\n",
      "Number of inequality constraint evaluations          = 0\n",
      "Number of equality constraint Jacobian evaluations   = 5\n",
      "Number of inequality constraint Jacobian evaluations = 0\n",
      "Number of Lagrangian Hessian evaluations             = 4\n",
      "Total seconds in IPOPT                               = 0.060\n",
      "\n",
      "EXIT: Optimal Solution Found.\n",
      "      solver  :   t_proc      (avg)   t_wall      (avg)    n_eval\n",
      "       nlp_f  |        0 (       0)  96.60us ( 19.32us)         5\n",
      "       nlp_g  |        0 (       0) 212.60us ( 42.52us)         5\n",
      "  nlp_grad_f  |        0 (       0) 304.90us ( 50.82us)         6\n",
      "  nlp_hess_l  |   1.00ms (250.00us)   1.28ms (321.18us)         4\n",
      "   nlp_jac_g  |   1.00ms (166.67us) 888.10us (148.02us)         6\n",
      "       total  |  60.00ms ( 60.00ms)  60.72ms ( 60.72ms)         1\n"
     ]
    }
   ],
   "source": [
    "opti = casadi.Opti()   # cette fonction nous permet de trouver la solution de problème\n",
    "\n",
    "## les positions\n",
    "x = opti.variable(n)\n",
    "y = opti.variable(n)\n",
    "theta = opti.variable(n)\n",
    "\n",
    "## les vitesses \n",
    "v1 = opti.variable(n)        ## vitesse latérale\n",
    "v2 = opti.variable(n)        ## vitesse orthogonal\n",
    "w = opti.variable(n)         ## vitesse angulaire\n",
    "\n",
    "opti.minimize(  taux*(alpha0 + alpha1 * dot((g(v1)-v1)/taux ,(g(v1)-v1)/taux ) + alpha2 * dot((g(w)-w)/taux ,(g(w)-w)/taux ) + alpha3 * dot((g(v2)-v2)/taux ,(g(v2)-v2)/taux ))   )    # ma fonction objetion\n",
    "\n",
    "# mes fonctions de contrainte d'égalité:\n",
    "\n",
    "## pour les condition initial\n",
    "opti.subject_to( x[0] == x0)        \n",
    "opti.subject_to( y[0] == y0)\n",
    "opti.subject_to( theta[0] == theta0)\n",
    "\n",
    "## pour les contraintes d'égaliter\n",
    "opti.subject_to( f(x) == x[:n-1]+taux*(cos(theta[:n-1])*v1[:n-1] - sin(theta[:n-1])*v2[:n-1]) )\n",
    "opti.subject_to( f(y) == y[:n-1]+taux*(sin(theta[:n-1])*v1[:n-1] + cos(theta[:n-1])*v2[:n-1]) )\n",
    "opti.subject_to( f(theta) == theta[:n-1] + taux*w[:n-1] )\n",
    "\n",
    "\n",
    "## pour les conditions finales\n",
    "opti.subject_to( x[-1]==xf)\n",
    "opti.subject_to( y[-1]==yf)\n",
    "opti.subject_to( theta[-1]==thetaf)\n",
    "\n",
    "\n",
    "opti.solver('ipopt')      # suivant la méthode de KKT\n",
    "\n",
    "\n",
    "sol = opti.solve()"
   ]
  },
  {
   "cell_type": "code",
   "execution_count": 19,
   "id": "9cb7d10e",
   "metadata": {},
   "outputs": [],
   "source": [
    "V1_2 = sol.value(v1)\n",
    "W_2 = sol.value(w)\n",
    "V2_2 = sol.value(v2)\n",
    "X_2 = sol.value(x)\n",
    "Y_2 = sol.value(y)\n",
    "THETA_2 = sol.value(theta)\n",
    "\n",
    "F = np.zeros(n)\n",
    "\n",
    "for i in range (n):\n",
    "    F[i] = phi(V1_2[i], W_2[i], V2_2[i])"
   ]
  },
  {
   "cell_type": "code",
   "execution_count": 20,
   "id": "1125d4cb",
   "metadata": {},
   "outputs": [
    {
     "data": {
      "text/plain": [
       "<matplotlib.legend.Legend at 0x2c43d3370d0>"
      ]
     },
     "execution_count": 20,
     "metadata": {},
     "output_type": "execute_result"
    },
    {
     "data": {
      "image/png": "[encoded data removed]",
      "text/plain": [
       "<Figure size 1080x720 with 4 Axes>"
      ]
     },
     "metadata": {
      "needs_background": "light"
     },
     "output_type": "display_data"
    }
   ],
   "source": [
    "plt.subplots(figsize=(15, 10))\n",
    "\n",
    "plt.subplot(2, 2, 1) \n",
    "plt.plot (Times,X_2 , '.')\n",
    "plt.xlabel('Times')\n",
    "plt.ylabel('x[m]')\n",
    "plt.grid(True)\n",
    "\n",
    "plt.subplot(2, 2, 2) \n",
    "plt.plot (Times,Y_2 , '.')\n",
    "plt.xlabel('Times')\n",
    "plt.ylabel('y[m]')\n",
    "plt.grid(True)\n",
    "\n",
    "plt.subplot(2, 2, 3) \n",
    "plt.plot (Times,F , '.')\n",
    "plt.xlabel('Times')\n",
    "plt.ylabel('phi[m]')\n",
    "plt.grid(True)\n",
    "\n",
    "plt.subplot(2, 2, 4) \n",
    "plt.plot (X_2,Y_2 , '.')\n",
    "plt.plot(x0,y0, '*', label = 'Point initial', color = 'red')\n",
    "plt.plot(xf,yf, '*', label = 'Point final', color = 'green')\n",
    "\n",
    "plt.xlabel('x[m]')\n",
    "plt.ylabel('y[m]')\n",
    "plt.grid(True)\n",
    "plt.legend()"
   ]
  },
  {
   "cell_type": "markdown",
   "id": "fefc07e6",
   "metadata": {},
   "source": [
    "## IOC $(Contrôle\\ optimal\\ inverse)$"
   ]
  },
  {
   "cell_type": "code",
   "execution_count": 21,
   "id": "f8b65512",
   "metadata": {},
   "outputs": [],
   "source": [
    "xi = SX.sym('xi',1)                   \n",
    "yi = SX.sym('yi',1)                \n",
    "thetai = SX.sym('thetai',1)\n",
    "\n",
    "\n",
    "xf = SX.sym('xf',1)\n",
    "yf = SX.sym('yf',1)\n",
    "thetaf = SX.sym('thetaf',1)"
   ]
  },
  {
   "cell_type": "markdown",
   "id": "a0534d99",
   "metadata": {},
   "source": [
    "### Pour les trois première contrainte."
   ]
  },
  {
   "cell_type": "code",
   "execution_count": 22,
   "id": "98652759",
   "metadata": {},
   "outputs": [],
   "source": [
    "## Position\n",
    "alpha0 = SX.sym('alpha0',1)\n",
    "alpha1 = SX.sym('alpha1',1)\n",
    "alpha2 = SX.sym('alpha2',1)\n",
    "alpha3 = SX.sym('alpha3',1)\n",
    "\n",
    "\n",
    "x=SX.sym('x',n)\n",
    "x_prime = SX.sym('x_prime', n+1)\n",
    "x_prime[0] = x[0]\n",
    "x_prime[1:] =x\n",
    "\n",
    "\n",
    "y=SX.sym('y',n)\n",
    "y_prime = SX.sym('y_prime', n+1)\n",
    "y_prime[0] = y[0]\n",
    "y_prime[1:] =y\n",
    "\n",
    "theta=SX.sym('theta',n)\n",
    "theta_prime = SX.sym('theta_prime', n+1)\n",
    "theta_prime[0] = theta[0]\n",
    "theta_prime[1:] =theta\n",
    "\n",
    "\n",
    "## Vitesse\n",
    "v1=SX.sym('v1',n)  \n",
    "v1_prime = SX.sym('v1_prime', n+1)\n",
    "v1_prime[0] = 0\n",
    "v1_prime[n] = 0\n",
    "v1_prime[1:n] =v1[0:n-1]\n",
    "\n",
    "v2=SX.sym('v2',n)  \n",
    "v2_prime = SX.sym('v2_prime', n+1)\n",
    "v2_prime[0] = 0\n",
    "v2_prime[n] = 0\n",
    "v2_prime[1:n] =v2[0:n-1]\n",
    "\n",
    "\n",
    "w=SX.sym('w',n)  \n",
    "w_prime = SX.sym('w_prime', n+1)\n",
    "w_prime[0] = 0\n",
    "w_prime[n] = 0\n",
    "w_prime[1:n] =w[0:n-1]\n",
    "\n",
    "Lambda = SX.sym('Lambda',n+1, 3)"
   ]
  },
  {
   "cell_type": "code",
   "execution_count": 23,
   "id": "d073d040",
   "metadata": {},
   "outputs": [],
   "source": [
    "p1=vertcat(xi,x_prime[2:],xf)   # Je définis un nouveau vecteur suivant x1 en prenant les n-1 dernières valeurs \n",
    "                               #  et la nième valeur vaut x1f\n",
    "h = Function('h',[x, xi, xf],[p1])"
   ]
  },
  {
   "cell_type": "code",
   "execution_count": 24,
   "id": "6bc122a6",
   "metadata": {},
   "outputs": [],
   "source": [
    "Y1 = (x_prime+taux*(v1_prime*cos(theta_prime) - v2_prime*sin(theta_prime)) - h(x, xi,xf))\n",
    "Y2 = (y_prime+taux*(v1_prime*sin(theta_prime) + v2_prime*cos(theta_prime)) - h(y, yi,yf)) \n",
    "Y3 = (theta_prime+taux*w_prime - h(theta, thetai,thetaf))\n",
    "Y_K = SX.sym('Y',n+1 , 3)        ## notre contrainte\n",
    "\n",
    "for i in range (n+1):\n",
    "    Y_K[i,0]= Y1[i]\n",
    "    Y_K[i,1]= Y2[i]\n",
    "    Y_K[i,2]= Y3[i]       \n",
    "    "
   ]
  },
  {
   "cell_type": "code",
   "execution_count": 25,
   "id": "98c24b84",
   "metadata": {},
   "outputs": [],
   "source": [
    "## notre terme qui est relié a la contrainte.\n",
    "G_lambda = 0\n",
    "\n",
    "for i in range (n+1):\n",
    "    G_lambda += dot(Y_K[i,:], Lambda[i,:])"
   ]
  },
  {
   "cell_type": "code",
   "execution_count": 26,
   "id": "46f71f97",
   "metadata": {},
   "outputs": [],
   "source": [
    "p =vertcat(v1[1:],0)\n",
    "g = Function ('g',[v1],[p])\n",
    "\n",
    "U1 = (g(v1)-v1)/taux \n",
    "\n",
    "U2 = (g(w)-w)/taux \n",
    "\n",
    "U3 = (g(v2)-v2)/taux "
   ]
  },
  {
   "cell_type": "code",
   "execution_count": 27,
   "id": "9dd42f87",
   "metadata": {},
   "outputs": [],
   "source": [
    "F_val =  taux*( alpha0 + alpha1 * dot(U1,U1) + alpha2 * dot(U2,U2) + alpha3 * dot(U3,U3))"
   ]
  },
  {
   "cell_type": "code",
   "execution_count": 28,
   "id": "4c29e848",
   "metadata": {},
   "outputs": [],
   "source": [
    "## le Lagrangien \n",
    "L_val = F_val + G_lambda"
   ]
  },
  {
   "cell_type": "code",
   "execution_count": 29,
   "id": "88ae43da",
   "metadata": {},
   "outputs": [],
   "source": [
    "grad_L = SX.zeros(6, n)\n",
    "for i in range (n):\n",
    "    grad_L[0,i]= jacobian(L_val, v1[i])\n",
    "    grad_L[1,i]= jacobian(L_val, w[i])\n",
    "    grad_L[2,i]= jacobian(L_val, v2[i])\n",
    "    grad_L[3,i]= jacobian(L_val, x[i])\n",
    "    grad_L[4,i]= jacobian(L_val, y[i])\n",
    "    grad_L[5,i]= jacobian(L_val, theta[i])\n",
    "    "
   ]
  },
  {
   "cell_type": "code",
   "execution_count": 30,
   "id": "052875bf",
   "metadata": {},
   "outputs": [],
   "source": [
    "R = Function ('R', [v1,w,v2,x,y,theta, Lambda, alpha0, alpha1, alpha2, alpha3 ], [dot(grad_L,grad_L)])"
   ]
  },
  {
   "cell_type": "code",
   "execution_count": 31,
   "id": "52c87270",
   "metadata": {},
   "outputs": [],
   "source": [
    "alpha0 = 0             ### on minimise pas suivant T"
   ]
  },
  {
   "cell_type": "markdown",
   "id": "7a3f1dec",
   "metadata": {},
   "source": [
    "###  Exemple 1"
   ]
  },
  {
   "cell_type": "code",
   "execution_count": 32,
   "id": "e9f803bb",
   "metadata": {},
   "outputs": [],
   "source": [
    "x0 = -4\n",
    "y0 = -0.5\n",
    "theta0 = pi/4\n",
    "\n",
    "xf = 0\n",
    "yf = 0\n",
    "thetaf = pi/2"
   ]
  },
  {
   "cell_type": "code",
   "execution_count": 33,
   "id": "cab50976",
   "metadata": {},
   "outputs": [
    {
     "name": "stdout",
     "output_type": "stream",
     "text": [
      "This is Ipopt version 3.14.4, running with linear solver MUMPS 5.2.1.\n",
      "\n",
      "Number of nonzeros in equality constraint Jacobian...:        3\n",
      "Number of nonzeros in inequality constraint Jacobian.:        3\n",
      "Number of nonzeros in Lagrangian Hessian.............:     7996\n",
      "\n",
      "Total number of variables............................:     1506\n",
      "                     variables with only lower bounds:        0\n",
      "                variables with lower and upper bounds:        0\n",
      "                     variables with only upper bounds:        0\n",
      "Total number of equality constraints.................:        1\n",
      "Total number of inequality constraints...............:        3\n",
      "        inequality constraints with only lower bounds:        3\n",
      "   inequality constraints with lower and upper bounds:        0\n",
      "        inequality constraints with only upper bounds:        0\n",
      "\n",
      "iter    objective    inf_pr   inf_du lg(mu)  ||d||  lg(rg) alpha_du alpha_pr  ls\n",
      "   0  0.0000000e+00 1.00e+00 0.00e+00  -1.0 0.00e+00    -  0.00e+00 0.00e+00   0\n",
      "   1  1.3878861e-04 0.00e+00 3.03e+01  -1.7 3.33e-01    -  3.16e-02 1.00e+00f  1\n",
      "   2  1.3478012e-04 0.00e+00 2.28e+01  -1.7 1.60e-02    -  1.00e+00 2.50e-01f  3\n",
      "   3  1.3596604e-04 0.00e+00 2.00e-07  -1.7 1.19e-03    -  1.00e+00 1.00e+00f  1\n",
      "   4  1.3321760e-04 0.00e+00 5.21e-05  -3.8 2.77e-03    -  9.99e-01 1.00e+00f  1\n",
      "   5  2.0550865e-05 0.00e+00 1.84e-11  -5.7 2.05e-01    -  1.00e+00 1.00e+00f  1\n",
      "   6  2.9117357e-06 1.11e-16 1.84e-11  -5.7 7.33e-02    -  1.00e+00 1.00e+00f  1\n",
      "   7  2.0562171e-07 0.00e+00 7.04e-06  -8.6 3.34e-02    -  9.31e-01 1.00e+00f  1\n",
      "   8  3.1259070e-09 0.00e+00 2.51e-14  -8.6 1.06e-02    -  1.00e+00 1.00e+00f  1\n",
      "   9  1.3316164e-12 0.00e+00 2.51e-14  -8.6 1.46e-03    -  1.00e+00 1.00e+00f  1\n",
      "\n",
      "Number of Iterations....: 9\n",
      "\n",
      "                                   (scaled)                 (unscaled)\n",
      "Objective...............:   1.3316164266557473e-12    1.3316164266557473e-12\n",
      "Dual infeasibility......:   2.5059035597119616e-14    2.5059035597119616e-14\n",
      "Constraint violation....:   0.0000000000000000e+00    0.0000000000000000e+00\n",
      "Variable bound violation:   0.0000000000000000e+00    0.0000000000000000e+00\n",
      "Complementarity.........:   8.5027454809141739e-09    8.5027454809141739e-09\n",
      "Overall NLP error.......:   8.5027454809141739e-09    8.5027454809141739e-09\n",
      "\n",
      "\n",
      "Number of objective function evaluations             = 13\n",
      "Number of objective gradient evaluations             = 10\n",
      "Number of equality constraint evaluations            = 13\n",
      "Number of inequality constraint evaluations          = 13\n",
      "Number of equality constraint Jacobian evaluations   = 10\n",
      "Number of inequality constraint Jacobian evaluations = 10\n",
      "Number of Lagrangian Hessian evaluations             = 9\n",
      "Total seconds in IPOPT                               = 0.075\n",
      "\n",
      "EXIT: Optimal Solution Found.\n",
      "      solver  :   t_proc      (avg)   t_wall      (avg)    n_eval\n",
      "       nlp_f  |        0 (       0)   1.32ms (101.75us)        13\n",
      "       nlp_g  |        0 (       0)  51.80us (  3.98us)        13\n",
      "  nlp_grad_f  |   5.00ms (454.55us)   4.00ms (363.37us)        11\n",
      "  nlp_hess_l  |  27.00ms (  3.00ms)  27.19ms (  3.02ms)         9\n",
      "   nlp_jac_g  |        0 (       0)  82.70us (  7.52us)        11\n",
      "       total  |  75.00ms ( 75.00ms)  75.13ms ( 75.13ms)         1\n"
     ]
    }
   ],
   "source": [
    "opti = casadi.Opti()   # cette fonction nous permet de trouver la solution de problème\n",
    "\n",
    "\n",
    "alpha1 = opti.variable()\n",
    "alpha2 = opti.variable()\n",
    "alpha3 = opti.variable()\n",
    "\n",
    "\n",
    "Lambda = opti.variable(n+1,3)\n",
    "\n",
    "opti.minimize( R(V1_1,W_1,V2_1,X_1,Y_1,THETA_1, Lambda, alpha0, alpha1, alpha2, alpha3 )) \n",
    "\n",
    "opti.subject_to( 0 <= alpha1)\n",
    "\n",
    "opti.subject_to( 0 <= alpha2 )\n",
    "\n",
    "opti.subject_to( 0 <= alpha3 )\n",
    "\n",
    "opti.subject_to(  alpha1 + alpha2 + alpha3 == 1)\n",
    "\n",
    "\n",
    "\n",
    "opti.solver('ipopt')    \n",
    "\n",
    "sol = opti.solve()"
   ]
  },
  {
   "cell_type": "code",
   "execution_count": 34,
   "id": "b6b3cf6d",
   "metadata": {},
   "outputs": [
    {
     "name": "stdout",
     "output_type": "stream",
     "text": [
      "0.09093989015471529\n",
      "0.2727091475234155\n",
      "0.6363509623218692\n"
     ]
    }
   ],
   "source": [
    "print(sol.value(alpha1))\n",
    "print(sol.value(alpha2))\n",
    "print(sol.value(alpha3))"
   ]
  },
  {
   "cell_type": "markdown",
   "id": "34e51b0d",
   "metadata": {},
   "source": [
    "#### Exemple 2"
   ]
  },
  {
   "cell_type": "code",
   "execution_count": 38,
   "id": "d50dcbcb",
   "metadata": {},
   "outputs": [],
   "source": [
    "x0 = -1.5\n",
    "y0 = 1.2\n",
    "theta0 = 0\n",
    "\n",
    "xf = 0\n",
    "yf = 0\n",
    "thetaf = pi/2"
   ]
  },
  {
   "cell_type": "code",
   "execution_count": 39,
   "id": "ea872bdf",
   "metadata": {},
   "outputs": [
    {
     "name": "stdout",
     "output_type": "stream",
     "text": [
      "This is Ipopt version 3.14.4, running with linear solver MUMPS 5.2.1.\n",
      "\n",
      "Number of nonzeros in equality constraint Jacobian...:        3\n",
      "Number of nonzeros in inequality constraint Jacobian.:        3\n",
      "Number of nonzeros in Lagrangian Hessian.............:     7996\n",
      "\n",
      "Total number of variables............................:     1506\n",
      "                     variables with only lower bounds:        0\n",
      "                variables with lower and upper bounds:        0\n",
      "                     variables with only upper bounds:        0\n",
      "Total number of equality constraints.................:        1\n",
      "Total number of inequality constraints...............:        3\n",
      "        inequality constraints with only lower bounds:        3\n",
      "   inequality constraints with lower and upper bounds:        0\n",
      "        inequality constraints with only upper bounds:        0\n",
      "\n",
      "iter    objective    inf_pr   inf_du lg(mu)  ||d||  lg(rg) alpha_du alpha_pr  ls\n",
      "   0  0.0000000e+00 1.00e+00 0.00e+00  -1.0 0.00e+00    -  0.00e+00 0.00e+00   0\n",
      "   1  2.6020040e-07 0.00e+00 3.03e+01  -1.7 3.33e-01    -  3.16e-02 1.00e+00f  1\n",
      "   2  2.5975550e-07 2.22e-16 2.28e+01  -1.7 1.73e-04    -  1.00e+00 2.50e-01f  3\n",
      "   3  2.5990287e-07 2.22e-16 2.00e-07  -1.7 1.43e-05    -  1.00e+00 1.00e+00h  1\n",
      "   4  2.5960739e-07 0.00e+00 1.50e-09  -3.8 2.87e-05    -  1.00e+00 1.00e+00h  1\n",
      "   5  2.2427490e-07 0.00e+00 1.84e-11  -5.7 3.58e-03    -  1.00e+00 1.00e+00f  1\n",
      "   6  2.7389896e-09 0.00e+00 1.25e-06  -8.6 5.46e-02    -  8.68e-01 1.00e+00f  1\n",
      "   7  8.1396362e-12 0.00e+00 2.51e-14  -8.6 7.80e-03    -  1.00e+00 1.00e+00f  1\n",
      "\n",
      "Number of Iterations....: 7\n",
      "\n",
      "                                   (scaled)                 (unscaled)\n",
      "Objective...............:   8.1396362173327980e-12    8.1396362173327980e-12\n",
      "Dual infeasibility......:   2.5059036063649481e-14    2.5059036063649481e-14\n",
      "Constraint violation....:   0.0000000000000000e+00    0.0000000000000000e+00\n",
      "Variable bound violation:   0.0000000000000000e+00    0.0000000000000000e+00\n",
      "Complementarity.........:   8.9685621613969881e-09    8.9685621613969881e-09\n",
      "Overall NLP error.......:   8.9685621613969881e-09    8.9685621613969881e-09\n",
      "\n",
      "\n",
      "Number of objective function evaluations             = 11\n",
      "Number of objective gradient evaluations             = 8\n",
      "Number of equality constraint evaluations            = 11\n",
      "Number of inequality constraint evaluations          = 11\n",
      "Number of equality constraint Jacobian evaluations   = 8\n",
      "Number of inequality constraint Jacobian evaluations = 8\n",
      "Number of Lagrangian Hessian evaluations             = 7\n",
      "Total seconds in IPOPT                               = 0.103\n",
      "\n",
      "EXIT: Optimal Solution Found.\n",
      "      solver  :   t_proc      (avg)   t_wall      (avg)    n_eval\n",
      "       nlp_f  |   1.00ms ( 90.91us)   1.69ms (153.85us)        11\n",
      "       nlp_g  |        0 (       0) 112.40us ( 10.22us)        11\n",
      "  nlp_grad_f  |   4.00ms (444.44us)   4.29ms (476.79us)         9\n",
      "  nlp_hess_l  |  27.00ms (  3.86ms)  27.42ms (  3.92ms)         7\n",
      "   nlp_jac_g  |        0 (       0) 108.90us ( 12.10us)         9\n",
      "       total  | 104.00ms (104.00ms) 103.61ms (103.61ms)         1\n"
     ]
    }
   ],
   "source": [
    "opti = casadi.Opti()   # cette fonction nous permet de trouver la solution de problème\n",
    "\n",
    "\n",
    "alpha1 = opti.variable()\n",
    "alpha2 = opti.variable()\n",
    "alpha3 = opti.variable()\n",
    "\n",
    "\n",
    "Lambda = opti.variable(n+1,3)\n",
    "\n",
    "opti.minimize( R(V1_2,W_2,V2_2,X_2,Y_2,THETA_2, Lambda, alpha0, alpha1, alpha2, alpha3 )) \n",
    "\n",
    "opti.subject_to( 0 <= alpha1)\n",
    "\n",
    "opti.subject_to( 0 <= alpha2 )\n",
    "\n",
    "opti.subject_to( 0 <= alpha3 )\n",
    "\n",
    "opti.subject_to(  alpha1 + alpha2 + alpha3 == 1)\n",
    "\n",
    "\n",
    "\n",
    "opti.solver('ipopt')    \n",
    "\n",
    "sol = opti.solve()"
   ]
  },
  {
   "cell_type": "code",
   "execution_count": 40,
   "id": "78346f8a",
   "metadata": {},
   "outputs": [
    {
     "name": "stdout",
     "output_type": "stream",
     "text": [
      "0.39941438867089135\n",
      "0.30093023370407995\n",
      "0.29965537762502875\n"
     ]
    }
   ],
   "source": [
    "print(sol.value(alpha1))\n",
    "print(sol.value(alpha2))\n",
    "print(sol.value(alpha3))"
   ]
  }
 ],
 "metadata": {
  "kernelspec": {
   "display_name": "Python 3.9.7 ('base')",
   "language": "python",
   "name": "python3"
  },
  "language_info": {
   "codemirror_mode": {
    "name": "ipython",
    "version": 3
   },
   "file_extension": ".py",
   "mimetype": "text/x-python",
   "name": "python",
   "nbconvert_exporter": "python",
   "pygments_lexer": "ipython3",
   "version": "3.9.7"
  },
  "vscode": {
   "interpreter": {
    "hash": "f54e52e1f8fcb0919fae341bfe8cdfc33f684a41677e67c1dde1ef0f788739d7"
   }
  }
 },
 "nbformat": 4,
 "nbformat_minor": 5
}
