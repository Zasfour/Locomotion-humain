{
 "cells": [
  {
   "cell_type": "markdown",
   "id": "64b41f01",
   "metadata": {},
   "source": [
    "Notre problème est : "
   ]
  },
  {
   "cell_type": "markdown",
   "id": "7aa0d292",
   "metadata": {},
   "source": [
    "\\begin{align*}\n",
    "\\ \\ min_{X,u} \\ &   \\alpha_{0} T + \\alpha_{1} \\int_{0}^{T}u_{1}^2 dt + \\alpha_{2} \\int_{0}^{T}u_{2}^2 dt + \\alpha_{3} \\int_{0}^{T}u_{3}^2 dt    \\\\\n",
    "s.c \\ & \\dot{x} = cos(\\theta)v_{avant} - sin(\\theta)v_{orth} \\\\\n",
    "& \\dot{y} = sin(\\theta)v_{avant} + cos(\\theta)v_{orth}  \\\\\n",
    "& \\dot{\\theta} = w  \\\\\n",
    "& \\dot{v}_{avant} = u_1  \\\\\n",
    "& \\dot{w} = u_2  \\\\\n",
    "& \\dot{v}_{orth} = u_3  \\\\\n",
    "& X(0) = X_0  \\ \\ et \\ \\  X(T) = X_{final}\n",
    "\\end{align*}"
   ]
  },
  {
   "cell_type": "markdown",
   "id": "84ae5b5a",
   "metadata": {},
   "source": [
    "#### Notation :\n",
    "$ \\Delta t = \\frac{T}{n}  $\n",
    "\n",
    "$ x[i]  : = x(i \\Delta t )   \\ \\forall i \\in \\{1,...,n \\} $   \n",
    "\n",
    "#### Remarque : \n",
    "On va approché notre intégrale par la méthode des triangles.\n",
    "\n",
    "Prenons une subdivision de notre interval [0,T] en n sous intervalle. Nous allons transformer notre problème continue en un problème discret et de plus on va transformer nos équations diférentielle par un dévéloppement limité. \n",
    "\n",
    "Par exemple $ \\frac{x[i+1]+x[i]}{\\Delta t} $  qui est une approximation de $ \\dot{x}[i]  \\ \\ (donc \\ \\ \\dot{x}[i] := \\frac{x[i+1]+x[i]}{\\Delta t} $)\n",
    "\n"
   ]
  },
  {
   "cell_type": "markdown",
   "id": "8551ba02",
   "metadata": {},
   "source": [
    "Soit $ \\Delta t = \\frac{T}{n}  $\n",
    "\\begin{align*}\n",
    "(2)  \\ \\  \\ min_{X(i),u(i)} \\ &   \\Delta t  \\sum_{i=1}^{n} ( \\alpha_{0} + \\alpha_{1} u_{1}^2[i]+ \\alpha_{2} u_{2}^2[i] + \\alpha_{3}u_{3}^2[i]  )   \\\\\n",
    "s.c \\ &  \\forall i \\in \\{1,...,n \\}  \\\\\n",
    "& x[i+1] = x[i] + \\Delta t(cos(\\theta[i])v_{1}[i] - sin(\\theta[i])v_{2}[i]) \\\\\n",
    "& y[i+1] = y[i] + \\Delta t(sin(\\theta[i])v_{1}[i] + cos(\\theta[i])v_{2}[i])  \\\\\n",
    "& \\theta[i+1] = \\theta[i] + \\Delta t (w[i])  \\\\\n",
    "& u_1[i] = \\frac{v_{1}[i+1] - v_{1}[i] }{ \\Delta t}  \\\\\n",
    "& u_2[i] = \\frac{w[i+1] - w[i]}{\\Delta t}   \\\\\n",
    "& u_3[i] = \\frac{v_{2}[i+1] - v_{2}[i] }{\\Delta t }  \\\\\n",
    "& X[0] = X_0  \\ \\ et \\ \\  X[T] = X_{final}\n",
    "\\end{align*}"
   ]
  },
  {
   "cell_type": "markdown",
   "id": "4244cad3",
   "metadata": {},
   "source": [
    "#### REMARQUE :  \n",
    "Si un poids $α_i$ est grand, le terme correspondant a un  effet important sur la somme globale et donc est plus susceptible d’être réduit  dans le contexte global. Si $α_i$ est petit (ou égal à zéro), le terme a peu  (ou pas) d’influence sur la fonction objective et les quantités peuvent devenir  grandes sans faire beaucoup de mal. "
   ]
  },
  {
   "cell_type": "code",
   "execution_count": 29,
   "id": "5f74492b",
   "metadata": {},
   "outputs": [],
   "source": [
    "import numpy as np \n",
    "import matplotlib.pyplot as plt\n",
    "import random as random\n",
    "%matplotlib inline\n",
    "from casadi import *\n"
   ]
  },
  {
   "cell_type": "markdown",
   "id": "e375ed3a",
   "metadata": {},
   "source": [
    "## DOC  $ (Contrôle\\ optimal\\ direct)$"
   ]
  },
  {
   "cell_type": "code",
   "execution_count": 78,
   "id": "c81a5aeb",
   "metadata": {},
   "outputs": [],
   "source": [
    "n = 100\n",
    "T = 5\n",
    "taux = T/n\n",
    "\n",
    "Times = np.linspace(0, T, n)"
   ]
  },
  {
   "cell_type": "markdown",
   "id": "0189c84f",
   "metadata": {},
   "source": [
    "#### Exemple 1 "
   ]
  },
  {
   "cell_type": "code",
   "execution_count": 168,
   "id": "bf850d57",
   "metadata": {},
   "outputs": [],
   "source": [
    "alpha0 = 0\n",
    "alpha1 = 0.\n",
    "alpha2 = 0.\n",
    "alpha3 = 1"
   ]
  },
  {
   "cell_type": "code",
   "execution_count": 169,
   "id": "ce243130",
   "metadata": {},
   "outputs": [],
   "source": [
    "x0 = -4\n",
    "y0 = -0.5\n",
    "theta0 = pi/4\n",
    "\n",
    "xf = 0\n",
    "yf = 0\n",
    "thetaf = pi/2"
   ]
  },
  {
   "cell_type": "code",
   "execution_count": 170,
   "id": "ab082816",
   "metadata": {},
   "outputs": [],
   "source": [
    "## variable de position\n",
    "x = SX.sym('x', n )\n",
    "y = SX.sym('y', n )\n",
    "theta = SX.sym('theta', n )\n",
    "\n",
    "## variable de vitesse \n",
    "v1 = SX.sym('v1', n )\n",
    "v2 = SX.sym('v2', n )\n",
    "w = SX.sym('w', n )\n",
    "\n",
    "\n",
    "## variable de accélération \n",
    "u1 = SX.sym('u1', n )\n",
    "u2 = SX.sym('u2', n )\n",
    "u3 = SX.sym('u3', n )\n"
   ]
  },
  {
   "cell_type": "markdown",
   "id": "a31adaf3",
   "metadata": {},
   "source": [
    "#### Fonctions utile"
   ]
  },
  {
   "cell_type": "code",
   "execution_count": 171,
   "id": "93cec1ab",
   "metadata": {},
   "outputs": [],
   "source": [
    "f= Function('f',[x],[x[1:]])"
   ]
  },
  {
   "cell_type": "code",
   "execution_count": 172,
   "id": "8ca125da",
   "metadata": {},
   "outputs": [],
   "source": [
    "phi = Function ('phi', [u1,u2,u3], [ taux*(alpha0 + alpha1 * dot(u1,u1 ) + alpha2 * dot(u2 ,u2 ) + alpha3 * dot(u3 ,u3))]) "
   ]
  },
  {
   "cell_type": "code",
   "execution_count": 173,
   "id": "a7341690",
   "metadata": {},
   "outputs": [],
   "source": [
    "opti = casadi.Opti()   # cette fonction nous permet de trouver la solution de problème\n",
    "\n",
    "## les positions\n",
    "x = opti.variable(n)\n",
    "y = opti.variable(n)\n",
    "theta = opti.variable(n)\n",
    "\n",
    "## les vitesses \n",
    "v1 = opti.variable(n)        ## vitesse latérale\n",
    "v2 = opti.variable(n)        ## vitesse orthogonal\n",
    "w = opti.variable(n)         ## vitesse angulaire\n",
    "\n",
    "\n",
    "## les accélération \n",
    "u1 = opti.variable(n)        ## accélération latérale\n",
    "u3 = opti.variable(n)        ## accélération orthogonal\n",
    "u2 = opti.variable(n)        ## accélération angulaire\n"
   ]
  },
  {
   "cell_type": "code",
   "execution_count": 174,
   "id": "9a92ff98",
   "metadata": {},
   "outputs": [
    {
     "name": "stdout",
     "output_type": "stream",
     "text": [
      "This is Ipopt version 3.14.4, running with linear solver MUMPS 5.2.1.\n",
      "\n",
      "Number of nonzeros in equality constraint Jacobian...:     2184\n",
      "Number of nonzeros in inequality constraint Jacobian.:        0\n",
      "Number of nonzeros in Lagrangian Hessian.............:      397\n",
      "\n",
      "Total number of variables............................:      900\n",
      "                     variables with only lower bounds:        0\n",
      "                variables with lower and upper bounds:        0\n",
      "                     variables with only upper bounds:        0\n",
      "Total number of equality constraints.................:      600\n",
      "Total number of inequality constraints...............:        0\n",
      "        inequality constraints with only lower bounds:        0\n",
      "   inequality constraints with lower and upper bounds:        0\n",
      "        inequality constraints with only upper bounds:        0\n",
      "\n",
      "iter    objective    inf_pr   inf_du lg(mu)  ||d||  lg(rg) alpha_du alpha_pr  ls\n",
      "   0  0.0000000e+00 4.00e+00 0.00e+00  -1.0 0.00e+00    -  0.00e+00 0.00e+00   0\n",
      "   1  1.5544841e-06 8.01e-02 5.50e-04  -1.0 4.00e+00  -4.0 1.00e+00 1.00e+00h  1\n",
      "   2  9.9096703e-07 6.91e-04 2.02e-04  -2.5 7.66e-01  -4.5 1.00e+00 1.00e+00h  1\n",
      "   3  1.0956609e-13 1.72e-06 1.97e-07  -5.7 9.50e-03  -5.0 1.00e+00 1.00e+00h  1\n",
      "   4  8.9085665e-18 1.83e-12 7.91e-11  -8.6 2.14e-05  -5.4 1.00e+00 1.00e+00h  1\n",
      "\n",
      "Number of Iterations....: 4\n",
      "\n",
      "                                   (scaled)                 (unscaled)\n",
      "Objective...............:   8.9085664537241196e-18    8.9085664537241196e-18\n",
      "Dual infeasibility......:   7.9132300020141252e-11    7.9132300020141252e-11\n",
      "Constraint violation....:   1.8252066524837574e-12    1.8252066524837574e-12\n",
      "Variable bound violation:   0.0000000000000000e+00    0.0000000000000000e+00\n",
      "Complementarity.........:   0.0000000000000000e+00    0.0000000000000000e+00\n",
      "Overall NLP error.......:   7.9132300020141252e-11    7.9132300020141252e-11\n",
      "\n",
      "\n",
      "Number of objective function evaluations             = 5\n",
      "Number of objective gradient evaluations             = 5\n",
      "Number of equality constraint evaluations            = 5\n",
      "Number of inequality constraint evaluations          = 0\n",
      "Number of equality constraint Jacobian evaluations   = 5\n",
      "Number of inequality constraint Jacobian evaluations = 0\n",
      "Number of Lagrangian Hessian evaluations             = 4\n",
      "Total seconds in IPOPT                               = 0.034\n",
      "\n",
      "EXIT: Optimal Solution Found.\n",
      "      solver  :   t_proc      (avg)   t_wall      (avg)    n_eval\n",
      "       nlp_f  |        0 (       0)   9.10us (  1.82us)         5\n",
      "       nlp_g  |        0 (       0) 182.80us ( 36.56us)         5\n",
      "  nlp_grad_f  |        0 (       0)  73.30us ( 12.22us)         6\n",
      "  nlp_hess_l  |        0 (       0) 103.20us ( 25.80us)         4\n",
      "   nlp_jac_g  |   1.00ms (166.67us) 590.30us ( 98.38us)         6\n",
      "       total  |  35.00ms ( 35.00ms)  35.30ms ( 35.30ms)         1\n"
     ]
    }
   ],
   "source": [
    "opti = casadi.Opti()   # cette fonction nous permet de trouver la solution de problème\n",
    "\n",
    "## les positions\n",
    "x = opti.variable(n)\n",
    "y = opti.variable(n)\n",
    "theta = opti.variable(n)\n",
    "\n",
    "## les vitesses \n",
    "v1 = opti.variable(n)        ## vitesse latérale\n",
    "v2 = opti.variable(n)        ## vitesse orthogonal\n",
    "w = opti.variable(n)         ## vitesse angulaire\n",
    "\n",
    "\n",
    "## les accélération \n",
    "u1 = opti.variable(n)        ## accélération latérale\n",
    "u3 = opti.variable(n)        ## accélération orthogonal\n",
    "u2 = opti.variable(n)        ## accélération angulaire\n",
    "\n",
    "\n",
    "opti.minimize(  taux*(alpha1 * dot(u1,u1) + alpha2 * dot(u2,u2 ) + alpha3 * dot( u3 ,u3 ) ) )    # ma fonction objetion\n",
    "\n",
    "    # mes fonctions de contrainte d'égalité:\n",
    "\n",
    "    ## pour les condition initial\n",
    "opti.subject_to( x[0] == x0)        \n",
    "opti.subject_to( y[0] == y0)\n",
    "opti.subject_to( theta[0] == theta0)\n",
    "\n",
    "    ## pour les contraintes d'égaliter\n",
    "opti.subject_to( f(x) == x[:n-1]+taux*(cos(theta[:n-1])*v1[:n-1] - sin(theta[:n-1])*v2[:n-1]) )\n",
    "opti.subject_to( f(y) == y[:n-1]+taux*(sin(theta[:n-1])*v1[:n-1] + cos(theta[:n-1])*v2[:n-1]) )\n",
    "opti.subject_to( f(theta) == theta[:n-1] + taux*w[:n-1] )\n",
    "opti.subject_to( (v1[:n-1] + taux* u1[:n-1] == v1[1:])  )\n",
    "opti.subject_to( (v2[:n-1] + taux* u3[:n-1] == v2[1:]) )\n",
    "opti.subject_to( (w[:n-1] + taux* u2[:n-1] == w[1:]) )\n",
    "    \n",
    "\n",
    "    ## pour les conditions finales\n",
    "opti.subject_to( x[-1]==xf)\n",
    "opti.subject_to( y[-1]==yf)\n",
    "opti.subject_to( theta[-1]==thetaf)\n",
    "\n",
    "\n",
    "opti.solver('ipopt')      # suivant la méthode de KKT\n",
    "\n",
    "sol = opti.solve()\n"
   ]
  },
  {
   "cell_type": "code",
   "execution_count": 175,
   "id": "4f571021",
   "metadata": {},
   "outputs": [],
   "source": [
    "U1_1 = sol.value(u1)\n",
    "U2_1 = sol.value(u2)\n",
    "U3_1 = sol.value(u3)\n",
    "V1_1 = sol.value(v1)\n",
    "W_1 = sol.value(w)\n",
    "V2_1 = sol.value(v2)\n",
    "X_1 = sol.value(x)\n",
    "Y_1 = sol.value(y)\n",
    "THETA_1 = sol.value(theta)"
   ]
  },
  {
   "cell_type": "code",
   "execution_count": 176,
   "id": "28d82db2",
   "metadata": {},
   "outputs": [],
   "source": [
    "F = np.zeros(n)\n",
    "\n",
    "for i in range (n):\n",
    "    F[i] = phi(U1_1[i], U2_1[i], U3_1[i])"
   ]
  },
  {
   "cell_type": "code",
   "execution_count": 177,
   "id": "3801ad50",
   "metadata": {},
   "outputs": [
    {
     "data": {
      "text/plain": [
       "<matplotlib.legend.Legend at 0x1970bbcf400>"
      ]
     },
     "execution_count": 177,
     "metadata": {},
     "output_type": "execute_result"
    },
    {
     "data": {
      "image/png": "[encoded data removed]",
      "text/plain": [
       "<Figure size 1080x720 with 4 Axes>"
      ]
     },
     "metadata": {
      "needs_background": "light"
     },
     "output_type": "display_data"
    }
   ],
   "source": [
    "plt.subplots(figsize=(15, 10))\n",
    "\n",
    "plt.subplot(2, 2, 1) \n",
    "plt.plot (Times,X_1 , '.')\n",
    "plt.xlabel('Times')\n",
    "plt.ylabel('x[m]')\n",
    "plt.grid(True)\n",
    "\n",
    "plt.subplot(2, 2, 2) \n",
    "plt.plot (Times,Y_1 , '.')\n",
    "plt.xlabel('Times')\n",
    "plt.ylabel('y[m]')\n",
    "plt.grid(True)\n",
    "\n",
    "plt.subplot(2, 2, 3) \n",
    "plt.plot (Times,F , '.')\n",
    "plt.xlabel('Times')\n",
    "plt.ylabel('phi[m]')\n",
    "plt.grid(True)\n",
    "\n",
    "plt.subplot(2, 2, 4) \n",
    "plt.plot (X_1,Y_1 , '.')\n",
    "plt.plot(x0,y0, '*', label = 'Point initial', color = 'red')\n",
    "plt.plot(xf,yf, '*', label = 'Point final', color = 'green')\n",
    "\n",
    "plt.xlabel('x[m]')\n",
    "plt.ylabel('y[m]')\n",
    "plt.grid(True)\n",
    "plt.legend()"
   ]
  },
  {
   "cell_type": "markdown",
   "id": "6370f372",
   "metadata": {},
   "source": [
    "#### Exemple 2 "
   ]
  },
  {
   "cell_type": "code",
   "execution_count": 181,
   "id": "640ee732",
   "metadata": {},
   "outputs": [],
   "source": [
    "alpha0 = 0\n",
    "alpha1 = 0.5\n",
    "alpha2 = 0.5\n",
    "alpha3 = 0."
   ]
  },
  {
   "cell_type": "code",
   "execution_count": 182,
   "id": "f99d9ae7",
   "metadata": {},
   "outputs": [],
   "source": [
    "x0 = -1.5\n",
    "y0 = 1.2\n",
    "theta0 = pi/3\n",
    "\n",
    "xf = 0\n",
    "yf = 0\n",
    "thetaf = pi/2"
   ]
  },
  {
   "cell_type": "code",
   "execution_count": 183,
   "id": "bb4d58f9",
   "metadata": {},
   "outputs": [
    {
     "name": "stdout",
     "output_type": "stream",
     "text": [
      "This is Ipopt version 3.14.4, running with linear solver MUMPS 5.2.1.\n",
      "\n",
      "Number of nonzeros in equality constraint Jacobian...:     2184\n",
      "Number of nonzeros in inequality constraint Jacobian.:        0\n",
      "Number of nonzeros in Lagrangian Hessian.............:      497\n",
      "\n",
      "Total number of variables............................:      900\n",
      "                     variables with only lower bounds:        0\n",
      "                variables with lower and upper bounds:        0\n",
      "                     variables with only upper bounds:        0\n",
      "Total number of equality constraints.................:      600\n",
      "Total number of inequality constraints...............:        0\n",
      "        inequality constraints with only lower bounds:        0\n",
      "   inequality constraints with lower and upper bounds:        0\n",
      "        inequality constraints with only upper bounds:        0\n",
      "\n",
      "iter    objective    inf_pr   inf_du lg(mu)  ||d||  lg(rg) alpha_du alpha_pr  ls\n",
      "   0  0.0000000e+00 1.57e+00 0.00e+00  -1.0 0.00e+00    -  0.00e+00 0.00e+00   0\n",
      "   1  1.0904911e-04 3.11e-02 2.37e-04  -1.0 1.57e+00  -4.0 1.00e+00 1.00e+00h  1\n",
      "   2  8.3403016e-07 4.54e-04 1.36e-04  -2.5 4.44e-01  -4.5 1.00e+00 1.00e+00h  1\n",
      "   3  2.7443052e-11 1.38e-07 1.57e-07  -5.7 6.44e-03  -5.0 1.00e+00 1.00e+00h  1\n",
      "   4  1.4484824e-17 3.02e-13 4.12e-11  -8.6 1.11e-05  -5.4 1.00e+00 1.00e+00h  1\n",
      "\n",
      "Number of Iterations....: 4\n",
      "\n",
      "                                   (scaled)                 (unscaled)\n",
      "Objective...............:   1.4484824147316223e-17    1.4484824147316223e-17\n",
      "Dual infeasibility......:   4.1159645427962891e-11    4.1159645427962891e-11\n",
      "Constraint violation....:   3.0198066269804258e-13    3.0198066269804258e-13\n",
      "Variable bound violation:   0.0000000000000000e+00    0.0000000000000000e+00\n",
      "Complementarity.........:   0.0000000000000000e+00    0.0000000000000000e+00\n",
      "Overall NLP error.......:   4.1159645427962891e-11    4.1159645427962891e-11\n",
      "\n",
      "\n",
      "Number of objective function evaluations             = 5\n",
      "Number of objective gradient evaluations             = 5\n",
      "Number of equality constraint evaluations            = 5\n",
      "Number of inequality constraint evaluations          = 0\n",
      "Number of equality constraint Jacobian evaluations   = 5\n",
      "Number of inequality constraint Jacobian evaluations = 0\n",
      "Number of Lagrangian Hessian evaluations             = 4\n",
      "Total seconds in IPOPT                               = 0.056\n",
      "\n",
      "EXIT: Optimal Solution Found.\n",
      "      solver  :   t_proc      (avg)   t_wall      (avg)    n_eval\n",
      "       nlp_f  |        0 (       0)  17.00us (  3.40us)         5\n",
      "       nlp_g  |        0 (       0) 177.70us ( 35.54us)         5\n",
      "  nlp_grad_f  |   1.00ms (166.67us)  71.20us ( 11.87us)         6\n",
      "  nlp_hess_l  |        0 (       0) 119.50us ( 29.88us)         4\n",
      "   nlp_jac_g  |        0 (       0) 539.20us ( 89.87us)         6\n",
      "       total  |  57.00ms ( 57.00ms)  57.30ms ( 57.30ms)         1\n"
     ]
    }
   ],
   "source": [
    "opti = casadi.Opti()   # cette fonction nous permet de trouver la solution de problème\n",
    "\n",
    "## les positions\n",
    "x = opti.variable(n)\n",
    "y = opti.variable(n)\n",
    "theta = opti.variable(n)\n",
    "\n",
    "## les vitesses \n",
    "v1 = opti.variable(n)        ## vitesse latérale\n",
    "v2 = opti.variable(n)        ## vitesse orthogonal\n",
    "w = opti.variable(n)         ## vitesse angulaire\n",
    "\n",
    "\n",
    "## les accélération \n",
    "u1 = opti.variable(n)        ## accélération latérale\n",
    "u3 = opti.variable(n)        ## accélération orthogonal\n",
    "u2 = opti.variable(n)        ## accélération angulaire\n",
    "\n",
    "\n",
    "opti.minimize(  taux*(alpha1 * dot(u1,u1) + alpha2 * dot(u2,u2 ) + alpha3 * dot( u3 ,u3 ) ) )    # ma fonction objetion\n",
    "\n",
    "    # mes fonctions de contrainte d'égalité:\n",
    "\n",
    "    ## pour les condition initial\n",
    "opti.subject_to( x[0] == x0)        \n",
    "opti.subject_to( y[0] == y0)\n",
    "opti.subject_to( theta[0] == theta0)\n",
    "\n",
    "    ## pour les contraintes d'égaliter\n",
    "opti.subject_to( f(x) == x[:n-1]+taux*(cos(theta[:n-1])*v1[:n-1] - sin(theta[:n-1])*v2[:n-1]) )\n",
    "opti.subject_to( f(y) == y[:n-1]+taux*(sin(theta[:n-1])*v1[:n-1] + cos(theta[:n-1])*v2[:n-1]) )\n",
    "opti.subject_to( f(theta) == theta[:n-1] + taux*w[:n-1] )\n",
    "opti.subject_to( (v1[:n-1] + taux* u1[:n-1] == v1[1:])  )\n",
    "opti.subject_to( (v2[:n-1] + taux* u3[:n-1] == v2[1:]) )\n",
    "opti.subject_to( (w[:n-1] + taux* u2[:n-1] == w[1:]) )\n",
    "    \n",
    "\n",
    "    ## pour les conditions finales\n",
    "opti.subject_to( x[-1]==xf)\n",
    "opti.subject_to( y[-1]==yf)\n",
    "opti.subject_to( theta[-1]==thetaf)\n",
    "\n",
    "\n",
    "opti.solver('ipopt')      # suivant la méthode de KKT\n",
    "\n",
    "sol = opti.solve()\n"
   ]
  },
  {
   "cell_type": "code",
   "execution_count": 184,
   "id": "9cb7d10e",
   "metadata": {},
   "outputs": [],
   "source": [
    "U1_2 = sol.value(u1)\n",
    "U2_2 = sol.value(u2)\n",
    "U3_2 = sol.value(u3)\n",
    "V1_2 = sol.value(v1)\n",
    "W_2 = sol.value(w)\n",
    "V2_2 = sol.value(v2)\n",
    "X_2 = sol.value(x)\n",
    "Y_2 = sol.value(y)\n",
    "THETA_2 = sol.value(theta)\n",
    "\n",
    "F = np.zeros(n)\n",
    "\n",
    "for i in range (n):\n",
    "    F[i] = phi(V1_2[i], W_2[i], V2_2[i])"
   ]
  },
  {
   "cell_type": "code",
   "execution_count": 185,
   "id": "1125d4cb",
   "metadata": {},
   "outputs": [
    {
     "data": {
      "text/plain": [
       "<matplotlib.legend.Legend at 0x1970c256fa0>"
      ]
     },
     "execution_count": 185,
     "metadata": {},
     "output_type": "execute_result"
    },
    {
     "data": {
      "image/png": "[encoded data removed]",
      "text/plain": [
       "<Figure size 1080x720 with 4 Axes>"
      ]
     },
     "metadata": {
      "needs_background": "light"
     },
     "output_type": "display_data"
    }
   ],
   "source": [
    "plt.subplots(figsize=(15, 10))\n",
    "\n",
    "plt.subplot(2, 2, 1) \n",
    "plt.plot (Times,X_2 , '.')\n",
    "plt.xlabel('Times')\n",
    "plt.ylabel('x[m]')\n",
    "plt.grid(True)\n",
    "\n",
    "plt.subplot(2, 2, 2) \n",
    "plt.plot (Times,Y_2 , '.')\n",
    "plt.xlabel('Times')\n",
    "plt.ylabel('y[m]')\n",
    "plt.grid(True)\n",
    "\n",
    "plt.subplot(2, 2, 3) \n",
    "plt.plot (Times,F , '.')\n",
    "plt.xlabel('Times')\n",
    "plt.ylabel('phi[m]')\n",
    "plt.grid(True)\n",
    "\n",
    "plt.subplot(2, 2, 4) \n",
    "plt.plot (X_2,Y_2 , '.')\n",
    "plt.plot(x0,y0, '*', label = 'Point initial', color = 'red')\n",
    "plt.plot(xf,yf, '*', label = 'Point final', color = 'green')\n",
    "\n",
    "plt.xlabel('x[m]')\n",
    "plt.ylabel('y[m]')\n",
    "plt.grid(True)\n",
    "plt.legend()"
   ]
  },
  {
   "cell_type": "markdown",
   "id": "fefc07e6",
   "metadata": {},
   "source": [
    "## IOC $(Contrôle\\ optimal\\ inverse)$"
   ]
  },
  {
   "cell_type": "code",
   "execution_count": 94,
   "id": "f8b65512",
   "metadata": {},
   "outputs": [],
   "source": [
    "xi = SX.sym('xi',1)                   \n",
    "yi = SX.sym('yi',1)                \n",
    "thetai = SX.sym('thetai',1)\n",
    "\n",
    "\n",
    "xf = SX.sym('xf',1)\n",
    "yf = SX.sym('yf',1)\n",
    "thetaf = SX.sym('thetaf',1)"
   ]
  },
  {
   "cell_type": "markdown",
   "id": "a0534d99",
   "metadata": {},
   "source": [
    "### Pour les trois première contrainte."
   ]
  },
  {
   "cell_type": "code",
   "execution_count": 95,
   "id": "98652759",
   "metadata": {},
   "outputs": [],
   "source": [
    "alpha1 = SX.sym('alpha1',1)\n",
    "alpha2 = SX.sym('alpha2',1)\n",
    "alpha3 = SX.sym('alpha3',1)\n",
    "\n",
    "## Position\n",
    "x=SX.sym('x',n)\n",
    "x_prime = SX.sym('x_prime', n+1)\n",
    "x_prime[0] = x[0]\n",
    "x_prime[1:] =x\n",
    "\n",
    "\n",
    "y=SX.sym('y',n)\n",
    "y_prime = SX.sym('y_prime', n+1)\n",
    "y_prime[0] = y[0]\n",
    "y_prime[1:] =y\n",
    "\n",
    "theta=SX.sym('theta',n)\n",
    "theta_prime = SX.sym('theta_prime', n+1)\n",
    "theta_prime[0] = theta[0]\n",
    "theta_prime[1:] =theta\n",
    "\n",
    "\n",
    "## Vitesse\n",
    "v1=SX.sym('v1',n)  \n",
    "v1_prime = SX.sym('v1_prime', n+1)\n",
    "v1_prime[0] = 0\n",
    "v1_prime[n] = 0\n",
    "v1_prime[1:n] =v1[0:n-1]\n",
    "\n",
    "v2=SX.sym('v2',n)  \n",
    "v2_prime = SX.sym('v2_prime', n+1)\n",
    "v2_prime[0] = 0\n",
    "v2_prime[n] = 0\n",
    "v2_prime[1:n] =v2[0:n-1]\n",
    "\n",
    "\n",
    "w=SX.sym('w',n)  \n",
    "w_prime = SX.sym('w_prime', n+1)\n",
    "w_prime[0] = 0\n",
    "w_prime[n] = 0\n",
    "w_prime[1:n] =w[0:n-1]\n",
    "\n",
    "\n",
    "## Accélération \n",
    "\n",
    "u1=SX.sym('u1',n)  \n",
    "u1_prime = SX.sym('u1_prime', n+1)\n",
    "u1_prime[0] = 0\n",
    "u1_prime[n] = 0\n",
    "u1_prime[1:n] = u1[0:n-1]\n",
    "\n",
    "u2=SX.sym('u2',n)  \n",
    "u2_prime = SX.sym('u2_prime', n+1)\n",
    "u2_prime[0] = 0\n",
    "u2_prime[n] = 0\n",
    "u2_prime[1:n] = u2[0:n-1]\n",
    "\n",
    "u3=SX.sym('u3',n)  \n",
    "u3_prime = SX.sym('u3_prime', n+1)\n",
    "u3_prime[0] = 0\n",
    "u3_prime[n] = 0\n",
    "u3_prime[1:n] = u3[0:n-1]\n",
    "\n",
    "Lambda = SX.sym('Lambda',n+1, 6)"
   ]
  },
  {
   "cell_type": "code",
   "execution_count": 96,
   "id": "d073d040",
   "metadata": {},
   "outputs": [],
   "source": [
    "p1=vertcat(xi,x_prime[2:],xf)   # Je définis un nouveau vecteur suivant x1 en prenant les n-1 dernières valeurs \n",
    "                               #  et la nième valeur vaut x1f\n",
    "g= Function('g',[x, xi, xf],[p1])"
   ]
  },
  {
   "cell_type": "code",
   "execution_count": 97,
   "id": "6bc122a6",
   "metadata": {},
   "outputs": [],
   "source": [
    "Y1_K = (x_prime+taux*(v1_prime*cos(theta_prime) - v2_prime*sin(theta_prime)) - g(x, xi,xf))\n",
    "Y2_K = (y_prime+taux*(v1_prime*sin(theta_prime) + v2_prime*cos(theta_prime)) - g(y, yi,yf)) \n",
    "Y3_K = (theta_prime+taux*w_prime - g(theta, thetai,thetaf))\n",
    "Y4_K = (v1_prime + taux*u1_prime  - g(v1,0,0)) \n",
    "Y5_K = (w_prime + taux*u2_prime  - g(w,0,0))\n",
    "Y6_K = (v2_prime + taux*u3_prime  - g(v2,0,0))\n",
    "\n",
    "Y_K = SX.sym('Y_K',n+1 , 6)        ## notre contrainte\n",
    "\n",
    "for i in range (0,n+1):\n",
    "    Y_K[i,0]= Y1_K[i]\n",
    "    Y_K[i,1]= Y2_K[i]\n",
    "    Y_K[i,2]= Y3_K[i]       \n",
    "    Y_K[i,3]= Y4_K[i]       \n",
    "    Y_K[i,4]= Y5_K[i]       \n",
    "    Y_K[i,5]= Y6_K[i]       \n",
    "    \n",
    "## notre terme qui est relié a la contrainte.\n",
    "G_lambda = 0\n",
    "\n",
    "for i in range (n+1):\n",
    "    G_lambda += dot(Y_K[i,:], Lambda[i,:])"
   ]
  },
  {
   "cell_type": "code",
   "execution_count": 98,
   "id": "fc861bee",
   "metadata": {},
   "outputs": [],
   "source": [
    "p =vertcat(0,v1[:n-1])\n",
    "K = Function ('K',[v1],[p])"
   ]
  },
  {
   "cell_type": "code",
   "execution_count": 99,
   "id": "9dd42f87",
   "metadata": {},
   "outputs": [],
   "source": [
    "F_val_K =  taux*( alpha1 * dot(u1,u1) + alpha2 * dot(u2,u2) + alpha3 * dot(u3,u3))\n",
    "\n",
    "## le Lagrangien \n",
    "L_val_K = F_val_K + G_lambda"
   ]
  },
  {
   "cell_type": "code",
   "execution_count": 100,
   "id": "88ae43da",
   "metadata": {},
   "outputs": [],
   "source": [
    "grad_L_K = SX.zeros(9, n)\n",
    "for i in range (n):\n",
    "    grad_L_K[0,i]= jacobian(L_val_K, v1[i])\n",
    "    grad_L_K[1,i]= jacobian(L_val_K, w[i])\n",
    "    grad_L_K[2,i]= jacobian(L_val_K, v2[i])\n",
    "    grad_L_K[3,i]= jacobian(L_val_K, x[i])\n",
    "    grad_L_K[4,i]= jacobian(L_val_K, y[i])\n",
    "    grad_L_K[5,i]= jacobian(L_val_K, theta[i])\n",
    "    grad_L_K[6,i]= jacobian(L_val_K, u1[i])\n",
    "    grad_L_K[7,i]= jacobian(L_val_K, u2[i])\n",
    "    grad_L_K[8,i]= jacobian(L_val_K, u3[i])\n",
    "    \n",
    "    \n",
    "    \n",
    "R_K = Function ('R_K', [u1,u2,u3,v1,w,v2,x,y,theta, Lambda, alpha1, alpha2, alpha3 ,xi,yi,thetai, xf,yf,thetaf  ], [dot(grad_L_K,grad_L_K)])\n",
    "    "
   ]
  },
  {
   "cell_type": "markdown",
   "id": "7a3f1dec",
   "metadata": {},
   "source": [
    "###  Exemple 1"
   ]
  },
  {
   "cell_type": "code",
   "execution_count": 178,
   "id": "e9f803bb",
   "metadata": {},
   "outputs": [],
   "source": [
    "x0 = -4\n",
    "y0 = -0.5\n",
    "theta0 = pi/4\n",
    "\n",
    "xf = 0\n",
    "yf = 0\n",
    "thetaf = pi/2"
   ]
  },
  {
   "cell_type": "code",
   "execution_count": 179,
   "id": "cab50976",
   "metadata": {},
   "outputs": [
    {
     "name": "stdout",
     "output_type": "stream",
     "text": [
      "This is Ipopt version 3.14.4, running with linear solver MUMPS 5.2.1.\n",
      "\n",
      "Number of nonzeros in equality constraint Jacobian...:        3\n",
      "Number of nonzeros in inequality constraint Jacobian.:        3\n",
      "Number of nonzeros in Lagrangian Hessian.............:     2974\n",
      "\n",
      "Total number of variables............................:      609\n",
      "                     variables with only lower bounds:        0\n",
      "                variables with lower and upper bounds:        0\n",
      "                     variables with only upper bounds:        0\n",
      "Total number of equality constraints.................:        1\n",
      "Total number of inequality constraints...............:        3\n",
      "        inequality constraints with only lower bounds:        3\n",
      "   inequality constraints with lower and upper bounds:        0\n",
      "        inequality constraints with only upper bounds:        0\n",
      "\n",
      "iter    objective    inf_pr   inf_du lg(mu)  ||d||  lg(rg) alpha_du alpha_pr  ls\n",
      "   0  0.0000000e+00 1.00e+00 0.00e+00  -1.0 0.00e+00    -  0.00e+00 0.00e+00   0\n",
      "   1  7.9541920e-03 0.00e+00 3.04e+01  -1.7 4.02e-01  -4.0 3.16e-02 1.00e+00f  1\n",
      "   2  4.4537236e-03 2.22e-16 1.52e+01  -1.7 2.41e-01  -4.5 1.00e+00 5.00e-01f  2\n",
      "   3  5.3560894e-03 1.11e-16 5.28e-07  -1.7 4.75e-02  -5.0 1.00e+00 1.00e+00f  1\n",
      "   4  3.9069574e-03 0.00e+00 7.81e-03  -3.8 6.30e-02  -5.4 8.76e-01 1.00e+00f  1\n",
      "   5  1.0310612e-03 0.00e+00 3.23e-07  -3.8 2.61e-01  -5.9 1.00e+00 1.00e+00f  1\n",
      "   6  2.7303744e-04 0.00e+00 9.37e-04  -5.7 1.32e-01  -6.4 8.52e-01 1.00e+00f  1\n",
      "   7  7.8254428e-05 0.00e+00 9.04e-09  -5.7 6.58e-02  -6.9 1.00e+00 1.00e+00f  1\n",
      "   8  2.0479286e-05 1.11e-16 1.71e-09  -5.7 3.69e-02  -7.3 1.00e+00 1.00e+00f  1\n",
      "   9  6.0747582e-06 0.00e+00 2.85e-10  -5.7 1.75e-02  -7.8 1.00e+00 1.00e+00f  1\n",
      "iter    objective    inf_pr   inf_du lg(mu)  ||d||  lg(rg) alpha_du alpha_pr  ls\n",
      "  10  1.5250432e-06 0.00e+00 4.29e-06  -8.6 1.06e-02  -8.3 9.91e-01 1.00e+00f  1\n",
      "  11  3.8607334e-07 1.11e-16 9.02e-12  -8.6 5.31e-03  -8.8 1.00e+00 1.00e+00f  1\n",
      "  12  9.7773279e-08 0.00e+00 1.53e-12  -8.6 2.67e-03  -9.2 1.00e+00 1.00e+00f  1\n",
      "  13  2.5711722e-08 1.11e-16 2.73e-13  -8.6 1.32e-03  -9.7 1.00e+00 1.00e+00f  1\n",
      "  14  7.7430202e-09 0.00e+00 6.41e-14  -8.6 6.23e-04 -10.2 1.00e+00 1.00e+00h  1\n",
      "\n",
      "Number of Iterations....: 14\n",
      "\n",
      "                                   (scaled)                 (unscaled)\n",
      "Objective...............:   7.7430201582979062e-09    7.7430201582979062e-09\n",
      "Dual infeasibility......:   6.4132942017662395e-14    6.4132942017662395e-14\n",
      "Constraint violation....:   0.0000000000000000e+00    0.0000000000000000e+00\n",
      "Variable bound violation:   0.0000000000000000e+00    0.0000000000000000e+00\n",
      "Complementarity.........:   8.8024033234263583e-09    8.8024033234263583e-09\n",
      "Overall NLP error.......:   8.8024033234263583e-09    8.8024033234263583e-09\n",
      "\n",
      "\n",
      "Number of objective function evaluations             = 17\n",
      "Number of objective gradient evaluations             = 15\n",
      "Number of equality constraint evaluations            = 17\n",
      "Number of inequality constraint evaluations          = 17\n",
      "Number of equality constraint Jacobian evaluations   = 15\n",
      "Number of inequality constraint Jacobian evaluations = 15\n",
      "Number of Lagrangian Hessian evaluations             = 14\n",
      "Total seconds in IPOPT                               = 0.074\n",
      "\n",
      "EXIT: Optimal Solution Found.\n",
      "      solver  :   t_proc      (avg)   t_wall      (avg)    n_eval\n",
      "       nlp_f  |   1.00ms ( 58.82us) 495.10us ( 29.12us)        17\n",
      "       nlp_g  |   1.00ms ( 58.82us) 105.00us (  6.18us)        17\n",
      "  nlp_grad_f  |   1.00ms ( 62.50us)   1.11ms ( 69.58us)        16\n",
      "  nlp_hess_l  |  13.00ms (928.57us)  12.67ms (905.06us)        14\n",
      "   nlp_jac_g  |        0 (       0)  91.70us (  5.73us)        16\n",
      "       total  |  75.00ms ( 75.00ms)  75.21ms ( 75.21ms)         1\n"
     ]
    }
   ],
   "source": [
    "opti = casadi.Opti()   # cette fonction nous permet de trouver la solution de problème\n",
    "\n",
    "alpha1 = opti.variable()\n",
    "alpha2 = opti.variable()\n",
    "alpha3 = opti.variable()\n",
    "Lambda = opti.variable(n+1,6)\n",
    "    \n",
    "opti.minimize( R_K(U1_1,U2_1,U3_1,V1_1,W_1,V2_1,X_1,Y_1,THETA_1, Lambda, alpha1, alpha2, alpha3, x0,y0,theta0, xf,yf,thetaf  )) \n",
    "\n",
    "opti.subject_to( 0 <= alpha1)\n",
    "\n",
    "opti.subject_to( 0 <= alpha2 )\n",
    "\n",
    "opti.subject_to( 0 <= alpha3 )\n",
    "opti.subject_to(  alpha1 + alpha2 + alpha3 == 1)\n",
    "\n",
    "\n",
    "\n",
    "opti.solver('ipopt')    \n",
    "\n",
    "sol = opti.solve()"
   ]
  },
  {
   "cell_type": "code",
   "execution_count": 180,
   "id": "b6b3cf6d",
   "metadata": {},
   "outputs": [
    {
     "name": "stdout",
     "output_type": "stream",
     "text": [
      "0.0002768990617528469\n",
      "0.0004912843611159229\n",
      "0.9992318165771312\n"
     ]
    }
   ],
   "source": [
    "print(sol.value(alpha1))\n",
    "print(sol.value(alpha2))\n",
    "print(sol.value(alpha3))"
   ]
  },
  {
   "cell_type": "markdown",
   "id": "34e51b0d",
   "metadata": {},
   "source": [
    "#### Exemple 2"
   ]
  },
  {
   "cell_type": "code",
   "execution_count": 187,
   "id": "d50dcbcb",
   "metadata": {},
   "outputs": [],
   "source": [
    "x0 = -1.5\n",
    "y0 = 1.2\n",
    "theta0 = pi/3\n",
    "\n",
    "xf = 0\n",
    "yf = 0\n",
    "thetaf = pi/2"
   ]
  },
  {
   "cell_type": "code",
   "execution_count": 188,
   "id": "ea872bdf",
   "metadata": {},
   "outputs": [
    {
     "name": "stdout",
     "output_type": "stream",
     "text": [
      "This is Ipopt version 3.14.4, running with linear solver MUMPS 5.2.1.\n",
      "\n",
      "Number of nonzeros in equality constraint Jacobian...:        3\n",
      "Number of nonzeros in inequality constraint Jacobian.:        3\n",
      "Number of nonzeros in Lagrangian Hessian.............:     2974\n",
      "\n",
      "Total number of variables............................:      609\n",
      "                     variables with only lower bounds:        0\n",
      "                variables with lower and upper bounds:        0\n",
      "                     variables with only upper bounds:        0\n",
      "Total number of equality constraints.................:        1\n",
      "Total number of inequality constraints...............:        3\n",
      "        inequality constraints with only lower bounds:        3\n",
      "   inequality constraints with lower and upper bounds:        0\n",
      "        inequality constraints with only upper bounds:        0\n",
      "\n",
      "iter    objective    inf_pr   inf_du lg(mu)  ||d||  lg(rg) alpha_du alpha_pr  ls\n",
      "   0  0.0000000e+00 1.00e+00 0.00e+00  -1.0 0.00e+00    -  0.00e+00 0.00e+00   0\n",
      "   1  7.1232933e-04 0.00e+00 3.03e+01  -1.7 3.33e-01  -4.0 3.16e-02 1.00e+00f  1\n",
      "   2  6.3635874e-04 0.00e+00 2.28e+01  -1.7 7.29e-02  -4.5 1.00e+00 2.50e-01f  3\n",
      "   3  6.5027594e-04 0.00e+00 2.39e-07  -1.7 3.50e-03  -5.0 1.00e+00 1.00e+00f  1\n",
      "   4  5.9560887e-04 0.00e+00 7.48e-04  -3.8 1.37e-02  -5.4 9.87e-01 1.00e+00f  1\n",
      "   5  1.4962225e-04 0.00e+00 1.88e-07  -5.7 1.52e-01  -5.9 1.00e+00 1.00e+00f  1\n",
      "   6  3.7758713e-05 0.00e+00 3.13e-08  -5.7 7.60e-02  -6.4 1.00e+00 1.00e+00f  1\n",
      "   7  9.8686401e-06 0.00e+00 5.15e-09  -5.7 3.75e-02  -6.9 1.00e+00 1.00e+00f  1\n",
      "   8  2.4871363e-06 2.22e-16 4.74e-06  -8.6 1.95e-02  -7.3 9.81e-01 1.00e+00f  1\n",
      "   9  6.3380838e-07 1.11e-16 1.49e-10  -8.6 9.76e-03  -7.8 1.00e+00 1.00e+00f  1\n",
      "iter    objective    inf_pr   inf_du lg(mu)  ||d||  lg(rg) alpha_du alpha_pr  ls\n",
      "  10  1.5907190e-07 0.00e+00 2.52e-11  -8.6 4.96e-03  -8.3 1.00e+00 1.00e+00f  1\n",
      "  11  4.0393586e-08 0.00e+00 4.19e-12  -8.6 2.47e-03  -8.8 1.00e+00 1.00e+00f  1\n",
      "  12  1.0732867e-08 0.00e+00 6.87e-13  -8.6 1.22e-03  -9.2 1.00e+00 1.00e+00f  1\n",
      "  13  2.9154766e-09 2.22e-16 1.17e-13  -9.0 6.20e-04  -9.7 1.00e+00 1.00e+00f  1\n",
      "\n",
      "Number of Iterations....: 13\n",
      "\n",
      "                                   (scaled)                 (unscaled)\n",
      "Objective...............:   2.9154765762660786e-09    2.9154765762660786e-09\n",
      "Dual infeasibility......:   1.1660954015271004e-13    1.1660954015271004e-13\n",
      "Constraint violation....:   2.2204460492503131e-16    2.2204460492503131e-16\n",
      "Variable bound violation:   0.0000000000000000e+00    0.0000000000000000e+00\n",
      "Complementarity.........:   5.8322645512959212e-09    5.8322645512959212e-09\n",
      "Overall NLP error.......:   5.8322645512959212e-09    5.8322645512959212e-09\n",
      "\n",
      "\n",
      "Number of objective function evaluations             = 17\n",
      "Number of objective gradient evaluations             = 14\n",
      "Number of equality constraint evaluations            = 17\n",
      "Number of inequality constraint evaluations          = 17\n",
      "Number of equality constraint Jacobian evaluations   = 14\n",
      "Number of inequality constraint Jacobian evaluations = 14\n",
      "Number of Lagrangian Hessian evaluations             = 13\n",
      "Total seconds in IPOPT                               = 0.052\n",
      "\n",
      "EXIT: Optimal Solution Found.\n",
      "      solver  :   t_proc      (avg)   t_wall      (avg)    n_eval\n",
      "       nlp_f  |   2.00ms (117.65us) 447.40us ( 26.32us)        17\n",
      "       nlp_g  |        0 (       0)  77.30us (  4.55us)        17\n",
      "  nlp_grad_f  |        0 (       0) 941.40us ( 62.76us)        15\n",
      "  nlp_hess_l  |   8.00ms (615.38us)  10.02ms (770.83us)        13\n",
      "   nlp_jac_g  |        0 (       0)  69.80us (  4.65us)        15\n",
      "       total  |  53.00ms ( 53.00ms)  52.87ms ( 52.87ms)         1\n"
     ]
    }
   ],
   "source": [
    "opti = casadi.Opti()   # cette fonction nous permet de trouver la solution de problème\n",
    "\n",
    "\n",
    "alpha1 = opti.variable()\n",
    "alpha2 = opti.variable()\n",
    "alpha3 = opti.variable()\n",
    "\n",
    "\n",
    "Lambda = opti.variable(n+1,6)\n",
    "\n",
    "opti.minimize( R_K(U1_2, U2_2, U3_2,V1_2,W_2,V2_2,X_2,Y_2,THETA_2, Lambda, alpha1, alpha2, alpha3,  x0,y0,theta0, xf,yf,thetaf )) \n",
    "\n",
    "opti.subject_to( 0 <= alpha1)\n",
    "\n",
    "opti.subject_to( 0 <= alpha2 )\n",
    "\n",
    "opti.subject_to( 0 <= alpha3 )\n",
    "\n",
    "opti.subject_to(  alpha1 + alpha2 + alpha3 == 1)\n",
    "\n",
    "\n",
    "\n",
    "opti.solver('ipopt')    \n",
    "\n",
    "sol = opti.solve()"
   ]
  },
  {
   "cell_type": "code",
   "execution_count": 189,
   "id": "78346f8a",
   "metadata": {},
   "outputs": [
    {
     "name": "stdout",
     "output_type": "stream",
     "text": [
      "0.4996630754006063\n",
      "0.49966235981464174\n",
      "0.0006745647847520834\n"
     ]
    }
   ],
   "source": [
    "print(sol.value(alpha1))\n",
    "print(sol.value(alpha2))\n",
    "print(sol.value(alpha3))"
   ]
  },
  {
   "cell_type": "code",
   "execution_count": null,
   "id": "6e59fe92",
   "metadata": {},
   "outputs": [],
   "source": []
  }
 ],
 "metadata": {
  "kernelspec": {
   "display_name": "Python 3.9.7 ('base')",
   "language": "python",
   "name": "python3"
  },
  "language_info": {
   "codemirror_mode": {
    "name": "ipython",
    "version": 3
   },
   "file_extension": ".py",
   "mimetype": "text/x-python",
   "name": "python",
   "nbconvert_exporter": "python",
   "pygments_lexer": "ipython3",
   "version": "3.9.7"
  },
  "vscode": {
   "interpreter": {
    "hash": "f54e52e1f8fcb0919fae341bfe8cdfc33f684a41677e67c1dde1ef0f788739d7"
   }
  }
 },
 "nbformat": 4,
 "nbformat_minor": 5
}
