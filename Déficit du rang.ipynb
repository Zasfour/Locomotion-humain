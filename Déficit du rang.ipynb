{
 "cells": [
  {
   "cell_type": "code",
   "execution_count": 1,
   "id": "534d5873",
   "metadata": {},
   "outputs": [],
   "source": [
    "import numpy as np\n",
    "import matplotlib.pyplot as plt\n",
    "import random as random\n",
    "%matplotlib inline\n",
    "from casadi import *"
   ]
  },
  {
   "cell_type": "markdown",
   "id": "7cb5405a",
   "metadata": {},
   "source": [
    "# Puydupin\n"
   ]
  },
  {
   "cell_type": "code",
   "execution_count": 2,
   "id": "384e4f1a",
   "metadata": {},
   "outputs": [],
   "source": [
    "n = 25\n",
    "taux = 1/n"
   ]
  },
  {
   "cell_type": "code",
   "execution_count": 3,
   "id": "16804251",
   "metadata": {},
   "outputs": [],
   "source": [
    "x1i = SX.sym('x1i',1)                   \n",
    "x2i = SX.sym('x2i',1)                \n",
    "x3i = SX.sym('x3i',1)\n",
    "\n",
    "\n",
    "x1f = SX.sym('x1f',1)\n",
    "x2f = SX.sym('x2f',1)\n",
    "x3f = SX.sym('x3f',1)\n",
    "\n",
    "\n",
    "c1 = SX.sym('c1',1)\n",
    "c2 = SX.sym('c2',1)\n",
    "\n",
    "u1=SX.sym('u1',n)  \n",
    "\n",
    "u2=SX.sym('u2',n)  \n",
    "\n",
    "x1=SX.sym('x1',n)\n",
    "\n",
    "x2=SX.sym('x2',n)\n",
    "\n",
    "x3=SX.sym('x3',n)\n",
    "\n",
    "Lambda = SX.sym('Lambda',3*(n+1))"
   ]
  },
  {
   "cell_type": "code",
   "execution_count": 4,
   "id": "beb94c18",
   "metadata": {},
   "outputs": [],
   "source": [
    "F = SX.sym('F',2)\n",
    "\n",
    "F[0] = (taux/2)*dot(u1,u1)\n",
    "F[1] = (taux/2)*dot(u2,u2)\n",
    "\n",
    "G = SX.sym('G',3*(n+1))\n",
    "\n",
    "G[0] = x1[0] - x1i\n",
    "G[1] = x2[0] - x2i\n",
    "G[2] = x3[0] - x3i\n",
    "\n",
    "for i in range (1,n) :\n",
    "    G[3*i] = x1[i-1] + taux * u1[i-1] * cos(x3[i-1]) - x1[i]\n",
    "    G[3*i+1] = x2[i-1] + taux * u1[i-1] * sin(x3[i-1]) - x2[i]\n",
    "    G[3*i+2] = x3[i-1] + taux * u2[i-1]  - x3[i]\n",
    "    \n",
    "G [3*(n+1)-3] = x1[-1] - x1f\n",
    "G [3*(n+1)-2] = x2[-1] - x2f\n",
    "G [3*(n+1)-1] = x3[-1] - x3f\n",
    "\n",
    "F_G = vertcat(F , G)\n",
    "X = vertcat(u1,u2,x1,x2,x3)\n"
   ]
  },
  {
   "cell_type": "code",
   "execution_count": 5,
   "id": "4798ba42",
   "metadata": {},
   "outputs": [],
   "source": [
    "J = SX.zeros(5*n, 2+ 3*(n+1))\n",
    "J_w = SX.zeros(X.shape[0],F.shape[0])\n",
    "J_lambda = SX.zeros(X.shape[0],G.shape[0])"
   ]
  },
  {
   "cell_type": "code",
   "execution_count": 6,
   "id": "5a84aeed",
   "metadata": {},
   "outputs": [],
   "source": [
    "for i in range (X.shape[0]):\n",
    "    for j in range (F_G.shape[0]) :\n",
    "        J[i,j] = jacobian(F_G[j], X[i])\n",
    "        \n",
    "for i in range (X.shape[0]):\n",
    "    for j in range (F.shape[0]) :\n",
    "        J_w[i,j] = jacobian(F[j], X[i])\n",
    "        \n",
    "for i in range (X.shape[0]):\n",
    "    for j in range (G.shape[0]) :\n",
    "        J_lambda[i,j] = jacobian(G[j], X[i])\n",
    "        \n",
    "        \n",
    "Jacobienne = Function ('Jacobienne', [u1,u2,x1,x2,x3], [J])\n",
    "Jacobienne_w1 = Function ('Jacobienne_w1', [u1,u2,x1,x2,x3], [J_w])\n",
    "Jacobienne_lambda1 = Function ('Jacobienne_lambda1', [u1,u2,x1,x2,x3], [J_lambda])"
   ]
  },
  {
   "cell_type": "code",
   "execution_count": 7,
   "id": "bae05fd8",
   "metadata": {},
   "outputs": [],
   "source": [
    "x=SX.sym('x',n)\n",
    "f= Function('f',[x],[x[1:]])"
   ]
  },
  {
   "cell_type": "code",
   "execution_count": 8,
   "id": "83a93ad6",
   "metadata": {},
   "outputs": [],
   "source": [
    "def Unicycle_DOC (f, Xi , Xf , c1 , c2) :\n",
    "    x1i = Xi[0] \n",
    "    x2i = Xi[1]\n",
    "    x3i = Xi[2]\n",
    "    \n",
    "    x1f = Xf[0] \n",
    "    x2f = Xf[1]\n",
    "    x3f = Xf[2]\n",
    "    \n",
    "    opti = casadi.Opti()   # cette fonction nous permet de trouver la solution de problème\n",
    "\n",
    "    u1 = opti.variable(n)\n",
    "    u2 = opti.variable(n)\n",
    "    x1 = opti.variable(n)\n",
    "    x2 = opti.variable(n)\n",
    "    x3 = opti.variable(n)\n",
    "\n",
    "    opti.minimize(   (taux/2)*(c1*dot(u1,u1)+c2*dot(u2,u2))   )    # ma fonction objetion\n",
    "\n",
    "    # mes fonctions de contrainte d'égalité:\n",
    "\n",
    "    ## pour les condition initial\n",
    "    opti.subject_to( x1[0]==x1i)        \n",
    "    opti.subject_to( x2[0]==x2i)\n",
    "    opti.subject_to( x3[0]==x3i)\n",
    "\n",
    "    ## pour les contraintes d'égaliter\n",
    "    opti.subject_to( x1[:n-1]+taux*u1[:n-1]*cos(x3[:n-1])==f(x1) )\n",
    "    opti.subject_to( x2[:n-1]+taux*u1[:n-1]*sin(x3[:n-1])==f(x2) )\n",
    "    opti.subject_to( x3[:n-1]+taux*u2[:n-1] ==f(x3))\n",
    "\n",
    "    ## pour les conditions finales\n",
    "    opti.subject_to( x1[-1]==x1f)\n",
    "    opti.subject_to( x2[-1]==x2f)\n",
    "    opti.subject_to( x3[-1]==x3f)\n",
    "\n",
    "\n",
    "    opti.solver('ipopt')      # suivant la méthode de KKT\n",
    "\n",
    "\n",
    "    sol = opti.solve()\n",
    "    \n",
    "    X1 = sol.value(x1)\n",
    "    X2 = sol.value(x2)\n",
    "    X3 = sol.value(x3)\n",
    "    \n",
    "    U1 = sol.value(u1)\n",
    "    U2 = sol.value(u2)\n",
    "    \n",
    "    return X1,X2,X3,U1,U2"
   ]
  },
  {
   "cell_type": "code",
   "execution_count": 9,
   "id": "d6543e04",
   "metadata": {
    "scrolled": true
   },
   "outputs": [
    {
     "name": "stdout",
     "output_type": "stream",
     "text": [
      "\n",
      "******************************************************************************\n",
      "This program contains Ipopt, a library for large-scale nonlinear optimization.\n",
      " Ipopt is released as open source code under the Eclipse Public License (EPL).\n",
      "         For more information visit https://github.com/coin-or/Ipopt\n",
      "******************************************************************************\n",
      "\n",
      "This is Ipopt version 3.14.4, running with linear solver MUMPS 5.2.1.\n",
      "\n",
      "Number of nonzeros in equality constraint Jacobian...:      270\n",
      "Number of nonzeros in inequality constraint Jacobian.:        0\n",
      "Number of nonzeros in Lagrangian Hessian.............:       98\n",
      "\n",
      "Total number of variables............................:      125\n",
      "                     variables with only lower bounds:        0\n",
      "                variables with lower and upper bounds:        0\n",
      "                     variables with only upper bounds:        0\n",
      "Total number of equality constraints.................:       78\n",
      "Total number of inequality constraints...............:        0\n",
      "        inequality constraints with only lower bounds:        0\n",
      "   inequality constraints with lower and upper bounds:        0\n",
      "        inequality constraints with only upper bounds:        0\n",
      "\n",
      "iter    objective    inf_pr   inf_du lg(mu)  ||d||  lg(rg) alpha_du alpha_pr  ls\n",
      "   0  0.0000000e+00 4.00e+00 0.00e+00  -1.0 0.00e+00    -  0.00e+00 0.00e+00   0\n",
      "   1  1.1242679e+01 3.33e-01 3.42e+06  -1.0 4.91e+00    -  1.00e+00 1.00e+00h  1\n",
      "   2  1.6951055e+01 2.31e-01 2.75e+07  -1.0 5.50e+00   6.0 1.00e+00 1.00e+00h  1\n",
      "   3  1.3668224e+01 1.15e-01 2.89e+07  -1.0 5.96e+00   6.4 1.00e+00 1.00e+00f  1\n",
      "   4  1.5332852e+01 1.15e-02 1.62e+07  -1.0 1.60e+00   6.9 1.00e+00 1.00e+00h  1\n",
      "   5  1.5389928e+01 1.19e-04 3.12e+06  -1.0 2.25e-01   6.4 1.00e+00 1.00e+00h  1\n",
      "   6  1.5391445e+01 7.01e-09 1.07e+03  -1.0 1.33e-03   5.9 1.00e+00 1.00e+00h  1\n",
      "   7  1.5391444e+01 8.88e-16 8.62e-02  -1.0 3.27e-07   5.4 1.00e+00 1.00e+00h  1\n",
      "   8  1.4133575e+01 3.27e-01 1.76e-01  -2.5 2.10e+01    -  1.00e+00 5.00e-01f  2\n",
      "   9  1.2603037e+01 2.67e-02 6.62e-02  -2.5 3.07e+00    -  1.00e+00 1.00e+00f  1\n",
      "iter    objective    inf_pr   inf_du lg(mu)  ||d||  lg(rg) alpha_du alpha_pr  ls\n",
      "  10  1.2533697e+01 2.55e-03 1.54e-03  -2.5 1.33e+00    -  1.00e+00 1.00e+00h  1\n",
      "  11  1.2525228e+01 1.46e-06 2.91e-06  -3.8 2.38e-02    -  1.00e+00 1.00e+00h  1\n",
      "  12  1.2525221e+01 1.55e-11 3.50e-12  -8.6 7.44e-05    -  1.00e+00 1.00e+00h  1\n",
      "\n",
      "Number of Iterations....: 12\n",
      "\n",
      "                                   (scaled)                 (unscaled)\n",
      "Objective...............:   1.2525221295750409e+01    1.2525221295750409e+01\n",
      "Dual infeasibility......:   3.4994229736184934e-12    3.4994229736184934e-12\n",
      "Constraint violation....:   1.5484946658261833e-11    1.5484946658261833e-11\n",
      "Variable bound violation:   0.0000000000000000e+00    0.0000000000000000e+00\n",
      "Complementarity.........:   0.0000000000000000e+00    0.0000000000000000e+00\n",
      "Overall NLP error.......:   1.5484946658261833e-11    1.5484946658261833e-11\n",
      "\n",
      "\n",
      "Number of objective function evaluations             = 15\n",
      "Number of objective gradient evaluations             = 13\n",
      "Number of equality constraint evaluations            = 15\n",
      "Number of inequality constraint evaluations          = 0\n",
      "Number of equality constraint Jacobian evaluations   = 13\n",
      "Number of inequality constraint Jacobian evaluations = 0\n",
      "Number of Lagrangian Hessian evaluations             = 12\n",
      "Total seconds in IPOPT                               = 0.047\n",
      "\n",
      "EXIT: Optimal Solution Found.\n",
      "      solver  :   t_proc      (avg)   t_wall      (avg)    n_eval\n",
      "       nlp_f  |        0 (       0)  14.50us (966.67ns)        15\n",
      "       nlp_g  |   1.00ms ( 66.67us)  89.90us (  5.99us)        15\n",
      "  nlp_grad_f  |        0 (       0)  43.20us (  3.09us)        14\n",
      "  nlp_hess_l  |        0 (       0) 119.10us (  9.93us)        12\n",
      "   nlp_jac_g  |        0 (       0) 184.90us ( 13.21us)        14\n",
      "       total  |  48.00ms ( 48.00ms)  47.32ms ( 47.32ms)         1\n"
     ]
    }
   ],
   "source": [
    "c1 = 0.1                 # suivant l'article  on va essayé de le retrouver\n",
    "c2 = 0.9\n",
    "\n",
    "x1i = -4                   # condition initiale de x1\n",
    "x2i = -3                 # condition initiale de x2\n",
    "x3i = -pi              # condition initiale de x3\n",
    "\n",
    "\n",
    "x1f = 0            # condition final de x1\n",
    "x2f = 0            # condition final de x2\n",
    "x3f = pi/2         # condition final de x3\n",
    "\n",
    "Xi = [x1i,x2i,x3i]\n",
    "Xf = [x1f,x2f,x3f]\n",
    "\n",
    "X1,X2,X3,U1,U2 = Unicycle_DOC (f, Xi , Xf , c1 , c2)"
   ]
  },
  {
   "cell_type": "code",
   "execution_count": 10,
   "id": "b81cca85",
   "metadata": {},
   "outputs": [],
   "source": [
    "J = Jacobienne(U1,U2,X1,X2,X3)\n",
    "J_w = Jacobienne_w1 (U1,U2, X1,X2,X3)\n",
    "J_lambda = Jacobienne_lambda1 (U1,U2, X1,X2,X3)\n",
    "\n",
    "U, Eps , V = np.linalg.svd(J)"
   ]
  },
  {
   "cell_type": "code",
   "execution_count": 11,
   "id": "24c595fc",
   "metadata": {},
   "outputs": [
    {
     "data": {
      "text/plain": [
       "<matplotlib.legend.Legend at 0x1d75f0185e0>"
      ]
     },
     "execution_count": 11,
     "metadata": {},
     "output_type": "execute_result"
    },
    {
     "data": {
      "image/png": "[encoded data removed]",
      "text/plain": [
       "<Figure size 432x288 with 1 Axes>"
      ]
     },
     "metadata": {
      "needs_background": "light"
     },
     "output_type": "display_data"
    }
   ],
   "source": [
    "plt.plot(Eps, \"*\", label = \"Valeur singulière avec la fonction svd 'de python'\")\n",
    "\n",
    "plt.ylabel(\"valeur singulière\")\n",
    "plt.yscale('log')\n",
    "plt.legend()"
   ]
  },
  {
   "cell_type": "code",
   "execution_count": 12,
   "id": "dfaab7f6",
   "metadata": {},
   "outputs": [
    {
     "name": "stdout",
     "output_type": "stream",
     "text": [
      "The rank of the matrice J_w is :  2 and his dimension is :  (125, 2)\n",
      "The rank of the matrice J_lambda is  :  78 and his dimension is :  (125, 78)\n",
      "The rank of the matrice J is :  79 and his dimension is :  (125, 80)\n"
     ]
    }
   ],
   "source": [
    "print(\"The rank of the matrice J_w is : \", np.linalg.matrix_rank(J_w) , \"and his dimension is : \", J_w.shape)\n",
    "print(\"The rank of the matrice J_lambda is  : \", np.linalg.matrix_rank(J_lambda) , \"and his dimension is : \", J_lambda.shape)\n",
    "print(\"The rank of the matrice J is : \", np.linalg.matrix_rank(J) , \"and his dimension is : \", J.shape)\n"
   ]
  },
  {
   "cell_type": "markdown",
   "id": "cefd329b",
   "metadata": {},
   "source": [
    "# Katja_MOMBAUR"
   ]
  },
  {
   "cell_type": "code",
   "execution_count": 13,
   "id": "73ee225e",
   "metadata": {},
   "outputs": [],
   "source": [
    "T = 5\n",
    "taux = T/n"
   ]
  },
  {
   "cell_type": "code",
   "execution_count": 14,
   "id": "c54d236e",
   "metadata": {},
   "outputs": [],
   "source": [
    "xi = SX.sym('xi',1)                   \n",
    "yi = SX.sym('yi',1)                \n",
    "thetai = SX.sym('thetai',1)\n",
    "\n",
    "\n",
    "xf = SX.sym('xf',1)\n",
    "yf = SX.sym('yf',1)\n",
    "thetaf = SX.sym('thetaf',1)\n",
    "\n",
    "alpha1 = SX.sym('alpha1',1)\n",
    "alpha2 = SX.sym('alpha2',1)\n",
    "alpha3 = SX.sym('alpha3',1)\n",
    "\n",
    "## Position\n",
    "x=SX.sym('x',n)\n",
    "\n",
    "y=SX.sym('y',n)\n",
    "\n",
    "theta=SX.sym('theta',n)\n",
    "\n",
    "## Vitesse\n",
    "v1=SX.sym('v1',n)  \n",
    "\n",
    "v2=SX.sym('v2',n)  \n",
    "\n",
    "w=SX.sym('w',n)\n",
    "\n",
    "## accélération \n",
    "u1 = SX.sym('u1',n)\n",
    "u2 = SX.sym('u2',n)\n",
    "u3 = SX.sym('u3',n)\n",
    "\n",
    "\n",
    "Lambda = SX.sym('Lambda',6*(n))"
   ]
  },
  {
   "cell_type": "code",
   "execution_count": 15,
   "id": "8c09a505",
   "metadata": {},
   "outputs": [],
   "source": [
    "F_K = SX.sym('F_K',3)\n",
    "\n",
    "F_K[0] = taux*dot(u1,u1)\n",
    "F_K[1] = taux*dot(u2,u2)\n",
    "F_K[2] = taux*dot(u3,u3)\n",
    "\n",
    "\n",
    "\n",
    "G = SX.sym('G',6*(n))\n",
    "\n",
    "G[0] = x[0] - xi\n",
    "G[1] = y[0] - yi\n",
    "G[2] = theta[0] - thetai\n",
    "\n",
    "\n",
    "for i in range (0,n) :\n",
    "    G[6*i-3] = x[i-1] + taux * (v1[i-1] * cos(theta[i-1]) - sin(theta[i-1])*v2[i-1])- x[i]\n",
    "    G[6*i-2] = y[i-1] + taux *(v1[i-1] * sin(theta[i-1]) + cos(theta[i-1])*v2[i-1]) - y[i]\n",
    "    G[6*i-1] = theta[i-1] + taux * w[i-1]  - theta[i]\n",
    "    G[6*i] = v1[i-1] + taux * u1[i-1]  - v1[i]\n",
    "    G[6*i+1] = w[i-1] + taux * u2[i-1]  - w[i]\n",
    "    G[6*i+2] = v2[i-1] + taux * u3[i-1]  - v2[i]\n",
    "    \n",
    "    \n",
    "G [6*(n)-3] = x[-1] - xf\n",
    "G [6*(n)-2] = y[-1] - yf\n",
    "G [6*(n)-1] = theta[-1] - thetaf\n",
    "\n"
   ]
  },
  {
   "cell_type": "code",
   "execution_count": 16,
   "id": "309282bb",
   "metadata": {},
   "outputs": [],
   "source": [
    "F_G = vertcat(F_K , G)\n",
    "X = vertcat(u1,u2,u3, v1,w,v2,x,y,theta)\n",
    "J_K = SX.zeros(X.shape[0],F_G.shape[0])\n",
    "J_w = SX.zeros(X.shape[0],F_K.shape[0])\n",
    "J_lambda = SX.zeros(X.shape[0],G.shape[0])\n",
    "\n",
    "\n",
    "for i in range (X.shape[0]):\n",
    "    for j in range (F_G.shape[0]) :\n",
    "        J_K[i,j] = jacobian(F_G[j], X[i])\n",
    "        \n",
    "for i in range (X.shape[0]):\n",
    "    for j in range (F_K.shape[0]) :\n",
    "        J_w[i,j] = jacobian(F_K[j], X[i])\n",
    "        \n",
    "for i in range (X.shape[0]):\n",
    "    for j in range (G.shape[0]) :\n",
    "        J_lambda[i,j] = jacobian(G[j], X[i])"
   ]
  },
  {
   "cell_type": "code",
   "execution_count": 17,
   "id": "a8285acb",
   "metadata": {},
   "outputs": [],
   "source": [
    "Jacobienne_K = Function ('Jacobienne_K', [u1,u2, u3, v1,w,v2,x,y,theta], [J_K])\n",
    "Jacobienne_w = Function ('Jacobienne_w', [u1,u2, u3, v1,w,v2,x,y,theta], [J_w])\n",
    "Jacobienne_lambda = Function ('Jacobienne_lambda', [u1,u2, u3, v1,w,v2,x,y,theta], [J_lambda])"
   ]
  },
  {
   "cell_type": "code",
   "execution_count": 18,
   "id": "9fbe25c1",
   "metadata": {},
   "outputs": [],
   "source": [
    "def Katja_Mombaur_DOC ( Xi, Xf, alpha1, alpha2, alpha3):\n",
    "    xi = Xi[0] \n",
    "    yi = Xi[1]\n",
    "    thetai = Xi[2]\n",
    "    \n",
    "    xf = Xf[0] \n",
    "    yf = Xf[1]\n",
    "    thetaf = Xf[2]\n",
    "    \n",
    "    opti = casadi.Opti()   # cette fonction nous permet de trouver la solution de problème\n",
    "\n",
    "    ## les positions\n",
    "    x = opti.variable(n)\n",
    "    y = opti.variable(n)\n",
    "    theta = opti.variable(n)\n",
    "\n",
    "    ## les vitesses \n",
    "    v1 = opti.variable(n)        ## vitesse latérale\n",
    "    v2 = opti.variable(n)        ## vitesse orthogonal\n",
    "    w = opti.variable(n)         ## vitesse angulaire\n",
    "    \n",
    "        ## les vitesses \n",
    "    u1 = opti.variable(n)        ## accélération latérale\n",
    "    u3 = opti.variable(n)        ## accélération orthogonal\n",
    "    u2 = opti.variable(n)        ## accélération angulaire\n",
    "    \n",
    "    \n",
    "    \n",
    "    opti.minimize(  taux*(alpha1 * dot(u1,u1) + alpha2 * dot(u2,u2 ) + alpha3 * dot( u3 ,u3 ) ) )    # ma fonction objetion\n",
    "\n",
    "    # mes fonctions de contrainte d'égalité:\n",
    "\n",
    "    ## pour les condition initial\n",
    "    opti.subject_to( x[0] == xi)        \n",
    "    opti.subject_to( y[0] == yi)\n",
    "    opti.subject_to( theta[0] == thetai)\n",
    "\n",
    "    ## pour les contraintes d'égaliter\n",
    "    opti.subject_to( x[1:] == x[:n-1]+taux*(cos(theta[:n-1])*v1[:n-1] - sin(theta[:n-1])*v2[:n-1]) )\n",
    "    opti.subject_to( y[1:] == y[:n-1]+taux*(sin(theta[:n-1])*v1[:n-1] + cos(theta[:n-1])*v2[:n-1]) )\n",
    "    opti.subject_to( theta[1:] == theta[:n-1] + taux*w[:n-1] )\n",
    "    opti.subject_to( (v1[:n-1] + taux* u1[:n-1] == v1[1:])  )\n",
    "    opti.subject_to( (v2[:n-1] + taux* u3[:n-1] == v2[1:]) )\n",
    "    opti.subject_to( (w[:n-1] + taux* u2[:n-1] == w[1:]) )\n",
    "    \n",
    "\n",
    "    ## pour les conditions finales\n",
    "    opti.subject_to( x[-1]==xf)\n",
    "    opti.subject_to( y[-1]==yf)\n",
    "    opti.subject_to( theta[-1]==thetaf)\n",
    "\n",
    "\n",
    "    opti.solver('ipopt')      # suivant la méthode de KKT\n",
    "\n",
    "\n",
    "    sol = opti.solve()\n",
    "    \n",
    "    \n",
    "    X = sol.value(x)\n",
    "    Y = sol.value(y)\n",
    "    THETA = sol.value(theta)\n",
    "    \n",
    "    V1 = sol.value(v1)\n",
    "    V2 = sol.value(v2)\n",
    "    W = sol.value(w)\n",
    "    \n",
    "    return X,Y,THETA, V1,V2,W, sol.value(u1),sol.value(u2),sol.value(u3)"
   ]
  },
  {
   "cell_type": "code",
   "execution_count": 19,
   "id": "705285d6",
   "metadata": {},
   "outputs": [
    {
     "name": "stdout",
     "output_type": "stream",
     "text": [
      "This is Ipopt version 3.14.4, running with linear solver MUMPS 5.2.1.\n",
      "\n",
      "Number of nonzeros in equality constraint Jacobian...:      534\n",
      "Number of nonzeros in inequality constraint Jacobian.:        0\n",
      "Number of nonzeros in Lagrangian Hessian.............:      147\n",
      "\n",
      "Total number of variables............................:      225\n",
      "                     variables with only lower bounds:        0\n",
      "                variables with lower and upper bounds:        0\n",
      "                     variables with only upper bounds:        0\n",
      "Total number of equality constraints.................:      150\n",
      "Total number of inequality constraints...............:        0\n",
      "        inequality constraints with only lower bounds:        0\n",
      "   inequality constraints with lower and upper bounds:        0\n",
      "        inequality constraints with only upper bounds:        0\n",
      "\n",
      "iter    objective    inf_pr   inf_du lg(mu)  ||d||  lg(rg) alpha_du alpha_pr  ls\n",
      "   0  0.0000000e+00 4.00e+00 0.00e+00  -1.0 0.00e+00    -  0.00e+00 0.00e+00   0\n",
      "   1  2.0972646e-58 3.33e-01 1.31e-29  -1.0 4.00e+00    -  1.00e+00 1.00e+00h  1\n",
      "   2  7.9379366e-56 8.88e-16 1.96e-28  -1.7 5.17e+00    -  1.00e+00 1.00e+00h  1\n",
      "\n",
      "Number of Iterations....: 2\n",
      "\n",
      "                                   (scaled)                 (unscaled)\n",
      "Objective...............:   7.9379365803342188e-56    7.9379365803342188e-56\n",
      "Dual infeasibility......:   1.9563750449481093e-28    1.9563750449481093e-28\n",
      "Constraint violation....:   8.8817841970012523e-16    8.8817841970012523e-16\n",
      "Variable bound violation:   0.0000000000000000e+00    0.0000000000000000e+00\n",
      "Complementarity.........:   0.0000000000000000e+00    0.0000000000000000e+00\n",
      "Overall NLP error.......:   8.8817841970012523e-16    8.8817841970012523e-16\n",
      "\n",
      "\n",
      "Number of objective function evaluations             = 3\n",
      "Number of objective gradient evaluations             = 3\n",
      "Number of equality constraint evaluations            = 3\n",
      "Number of inequality constraint evaluations          = 0\n",
      "Number of equality constraint Jacobian evaluations   = 3\n",
      "Number of inequality constraint Jacobian evaluations = 0\n",
      "Number of Lagrangian Hessian evaluations             = 2\n",
      "Total seconds in IPOPT                               = 0.007\n",
      "\n",
      "EXIT: Optimal Solution Found.\n",
      "      solver  :   t_proc      (avg)   t_wall      (avg)    n_eval\n",
      "       nlp_f  |        0 (       0)   5.20us (  1.73us)         3\n",
      "       nlp_g  |        0 (       0)  27.10us (  9.03us)         3\n",
      "  nlp_grad_f  |        0 (       0)  14.20us (  3.55us)         4\n",
      "  nlp_hess_l  |        0 (       0)  14.20us (  7.10us)         2\n",
      "   nlp_jac_g  |        0 (       0)  85.90us ( 21.48us)         4\n",
      "       total  |   8.00ms (  8.00ms)   7.72ms (  7.72ms)         1\n"
     ]
    }
   ],
   "source": [
    "alpha1 = 0.2\n",
    "alpha2 = 0.5\n",
    "alpha3 = 0.3\n",
    "\n",
    "x0 = -4\n",
    "y0 = -0.9\n",
    "theta0 = 0\n",
    "\n",
    "xf = 0\n",
    "yf = 0\n",
    "thetaf = pi/2\n",
    "\n",
    "\n",
    "X,Y,THETA, V1,V2,W, U1,U2,U3 = Katja_Mombaur_DOC ( Xi, Xf, alpha1, alpha2, alpha3)"
   ]
  },
  {
   "cell_type": "code",
   "execution_count": 20,
   "id": "f3c0992b",
   "metadata": {},
   "outputs": [
    {
     "data": {
      "text/plain": [
       "Text(0, 0.5, 'valeur singulière')"
      ]
     },
     "execution_count": 20,
     "metadata": {},
     "output_type": "execute_result"
    },
    {
     "data": {
      "image/png": "[encoded data removed]",
      "text/plain": [
       "<Figure size 432x288 with 1 Axes>"
      ]
     },
     "metadata": {
      "needs_background": "light"
     },
     "output_type": "display_data"
    }
   ],
   "source": [
    "J = Jacobienne_K (U1,U2,U3, V1,V2,W , X,Y,THETA)\n",
    "J_w = Jacobienne_w (U1,U2,U3, V1,V2,W , X,Y,THETA)\n",
    "J_lambda = Jacobienne_lambda (U1,U2,U3, V1,V2,W , X,Y,THETA)\n",
    "\n",
    "U, Eps , V = np.linalg.svd(J)\n",
    "\n",
    "plt.plot(Eps,'*')\n",
    "plt.yscale('log')\n",
    "plt.ylabel(\"valeur singulière\")"
   ]
  },
  {
   "cell_type": "code",
   "execution_count": 21,
   "id": "4e177554",
   "metadata": {
    "scrolled": true
   },
   "outputs": [
    {
     "name": "stdout",
     "output_type": "stream",
     "text": [
      "The rank of the matrice J_w is :  3 and his dimension is :  (225, 3)\n",
      "The rank of the matrice J_lambda is  :  150 and his dimension is :  (225, 150)\n",
      "The rank of the matrice J is :  150 and his dimension is :  (225, 153)\n"
     ]
    }
   ],
   "source": [
    "print(\"The rank of the matrice J_w is : \", np.linalg.matrix_rank(J_w) , \"and his dimension is : \", J_w.shape)\n",
    "print(\"The rank of the matrice J_lambda is  : \", np.linalg.matrix_rank(J_lambda) , \"and his dimension is : \", J_lambda.shape)\n",
    "print(\"The rank of the matrice J is : \", np.linalg.matrix_rank(J) , \"and his dimension is : \", J.shape)"
   ]
  },
  {
   "cell_type": "code",
   "execution_count": 22,
   "id": "36e373c1",
   "metadata": {},
   "outputs": [],
   "source": [
    "Q,R = np.linalg.qr(J_lambda)\n",
    "b = np.zeros((R.shape[0],1))"
   ]
  },
  {
   "cell_type": "code",
   "execution_count": 23,
   "id": "f7e2d951",
   "metadata": {
    "scrolled": true
   },
   "outputs": [],
   "source": [
    "Lambda = np.linalg.solve(R, b)\n",
    "#Lambda == b"
   ]
  },
  {
   "cell_type": "code",
   "execution_count": 24,
   "id": "93becb7a",
   "metadata": {},
   "outputs": [
    {
     "name": "stdout",
     "output_type": "stream",
     "text": [
      "(225, 153)\n",
      "150\n"
     ]
    }
   ],
   "source": [
    "print(J.shape)\n",
    "print(np.linalg.matrix_rank(J))"
   ]
  },
  {
   "cell_type": "markdown",
   "id": "acc474af",
   "metadata": {},
   "source": [
    "# Ajoutant le jerk"
   ]
  },
  {
   "cell_type": "code",
   "execution_count": 25,
   "id": "d103f91c",
   "metadata": {},
   "outputs": [],
   "source": [
    "T = 5\n",
    "tau = T/n\n",
    "\n",
    "xi = SX.sym('xi',1)                   \n",
    "yi = SX.sym('yi',1)                \n",
    "thetai = SX.sym('thetai',1)\n",
    "\n",
    "\n",
    "xf = SX.sym('xf',1)\n",
    "yf = SX.sym('yf',1)\n",
    "thetaf = SX.sym('thetaf',1)\n",
    "\n",
    "alpha1 = SX.sym('alpha1',1)\n",
    "alpha2 = SX.sym('alpha2',1)\n",
    "alpha3 = SX.sym('alpha3',1)\n",
    "alpha4 = SX.sym('alpha4',1)\n",
    "alpha5 = SX.sym('alpha5',1)\n",
    "alpha6 = SX.sym('alpha6',1)\n",
    "\n",
    "\n",
    "## Position\n",
    "x=SX.sym('x',n)\n",
    "\n",
    "y=SX.sym('y',n)\n",
    "\n",
    "theta=SX.sym('theta',n)\n",
    "\n",
    "## Vitesse\n",
    "v1=SX.sym('v1',n)  \n",
    "\n",
    "v2=SX.sym('v2',n)  \n",
    "\n",
    "w=SX.sym('w',n)\n",
    "\n",
    "## accélération \n",
    "u1 = SX.sym('u1',n)\n",
    "u2 = SX.sym('u2',n)\n",
    "u3 = SX.sym('u3',n)\n",
    "\n",
    "\n",
    "Lambda = SX.sym('Lambda',6*(n))"
   ]
  },
  {
   "cell_type": "code",
   "execution_count": 26,
   "id": "888fc9c4",
   "metadata": {},
   "outputs": [],
   "source": [
    "p =vertcat(v1[1:],0)\n",
    "g = Function ('g',[v1],[p])"
   ]
  },
  {
   "cell_type": "code",
   "execution_count": 27,
   "id": "47f777ad",
   "metadata": {},
   "outputs": [],
   "source": [
    "F_K = SX.sym('F_K',6)\n",
    "\n",
    "F_K[0] = tau*dot(u1,u1)\n",
    "F_K[1] = tau*dot(u2,u2)\n",
    "F_K[2] = tau*dot(u3,u3)\n",
    "F_K[3] = dot((g(u1)-u1) ,(g(u1)-u1) )/tau\n",
    "F_K[4] = dot((g(u2)-u2) ,(g(u2)-u2) )/tau\n",
    "F_K[5] = dot((g(u3)-u3) ,(g(u3)-u3) )/tau\n",
    "\n",
    "\n",
    "G = SX.sym('G',6*(n))\n",
    "\n",
    "G[0] = x[0] - xi\n",
    "G[1] = y[0] - yi\n",
    "G[2] = theta[0] - thetai\n",
    "\n",
    "\n",
    "for i in range (0,n) :\n",
    "    G[6*i-3] = x[i-1] + tau * (v1[i-1] * cos(theta[i-1]) - sin(theta[i-1])*v2[i-1])- x[i]\n",
    "    G[6*i-2] = y[i-1] + tau *(v1[i-1] * sin(theta[i-1]) + cos(theta[i-1])*v2[i-1]) - y[i]\n",
    "    G[6*i-1] = theta[i-1] + tau * w[i-1]  - theta[i]\n",
    "    G[6*i] = v1[i-1] + tau * u1[i-1]  - v1[i]\n",
    "    G[6*i+1] = w[i-1] + tau * u2[i-1]  - w[i]\n",
    "    G[6*i+2] = v2[i-1] + tau * u3[i-1]  - v2[i]\n",
    "    \n",
    "    \n",
    "G [6*(n)-3] = x[-1] - xf\n",
    "G [6*(n)-2] = y[-1] - yf\n",
    "G [6*(n)-1] = theta[-1] - thetaf\n"
   ]
  },
  {
   "cell_type": "code",
   "execution_count": 28,
   "id": "640b63fe",
   "metadata": {},
   "outputs": [],
   "source": [
    "F_G = vertcat(F_K , G)\n",
    "X = vertcat(u1,u2,u3, v1,w,v2,x,y,theta)\n",
    "J_K = SX.zeros(X.shape[0],F_G.shape[0])\n",
    "J_w = SX.zeros(X.shape[0],F_K.shape[0])\n",
    "J_lambda = SX.zeros(X.shape[0],G.shape[0])\n",
    "\n",
    "\n",
    "for i in range (X.shape[0]):\n",
    "    for j in range (F_G.shape[0]) :\n",
    "        J_K[i,j] = jacobian(F_G[j], X[i])\n",
    "        \n",
    "for i in range (X.shape[0]):\n",
    "    for j in range (F_K.shape[0]) :\n",
    "        J_w[i,j] = jacobian(F_K[j], X[i])\n",
    "        \n",
    "for i in range (X.shape[0]):\n",
    "    for j in range (G.shape[0]) :\n",
    "        J_lambda[i,j] = jacobian(G[j], X[i])"
   ]
  },
  {
   "cell_type": "code",
   "execution_count": 29,
   "id": "d4bd5647",
   "metadata": {},
   "outputs": [],
   "source": [
    "Jacobienne_jerk = Function ('Jacobienne_jerk', [u1,u2, u3, v1,w,v2,x,y,theta], [J_K])\n",
    "Jacobienne_w_jerk = Function ('Jacobienne_w_jerk', [u1,u2, u3, v1,w,v2,x,y,theta], [J_w])\n",
    "Jacobienne_lambda_jerk = Function ('Jacobienne_lambda_jerk', [u1,u2, u3, v1,w,v2,x,y,theta], [J_lambda])"
   ]
  },
  {
   "cell_type": "code",
   "execution_count": 30,
   "id": "3c1205d7",
   "metadata": {},
   "outputs": [
    {
     "name": "stdout",
     "output_type": "stream",
     "text": [
      "This is Ipopt version 3.14.4, running with linear solver MUMPS 5.2.1.\n",
      "\n",
      "Number of nonzeros in equality constraint Jacobian...:      534\n",
      "Number of nonzeros in inequality constraint Jacobian.:        0\n",
      "Number of nonzeros in Lagrangian Hessian.............:      147\n",
      "\n",
      "Total number of variables............................:      225\n",
      "                     variables with only lower bounds:        0\n",
      "                variables with lower and upper bounds:        0\n",
      "                     variables with only upper bounds:        0\n",
      "Total number of equality constraints.................:      150\n",
      "Total number of inequality constraints...............:        0\n",
      "        inequality constraints with only lower bounds:        0\n",
      "   inequality constraints with lower and upper bounds:        0\n",
      "        inequality constraints with only upper bounds:        0\n",
      "\n",
      "iter    objective    inf_pr   inf_du lg(mu)  ||d||  lg(rg) alpha_du alpha_pr  ls\n",
      "   0  0.0000000e+00 4.00e+00 0.00e+00  -1.0 0.00e+00    -  0.00e+00 0.00e+00   0\n",
      "   1  2.0972646e-58 3.33e-01 1.31e-29  -1.0 4.00e+00    -  1.00e+00 1.00e+00h  1\n",
      "   2  7.9379366e-56 8.88e-16 1.96e-28  -1.7 5.17e+00    -  1.00e+00 1.00e+00h  1\n",
      "\n",
      "Number of Iterations....: 2\n",
      "\n",
      "                                   (scaled)                 (unscaled)\n",
      "Objective...............:   7.9379365803342188e-56    7.9379365803342188e-56\n",
      "Dual infeasibility......:   1.9563750449481093e-28    1.9563750449481093e-28\n",
      "Constraint violation....:   8.8817841970012523e-16    8.8817841970012523e-16\n",
      "Variable bound violation:   0.0000000000000000e+00    0.0000000000000000e+00\n",
      "Complementarity.........:   0.0000000000000000e+00    0.0000000000000000e+00\n",
      "Overall NLP error.......:   8.8817841970012523e-16    8.8817841970012523e-16\n",
      "\n",
      "\n",
      "Number of objective function evaluations             = 3\n",
      "Number of objective gradient evaluations             = 3\n",
      "Number of equality constraint evaluations            = 3\n",
      "Number of inequality constraint evaluations          = 0\n",
      "Number of equality constraint Jacobian evaluations   = 3\n",
      "Number of inequality constraint Jacobian evaluations = 0\n",
      "Number of Lagrangian Hessian evaluations             = 2\n",
      "Total seconds in IPOPT                               = 0.008\n",
      "\n",
      "EXIT: Optimal Solution Found.\n",
      "      solver  :   t_proc      (avg)   t_wall      (avg)    n_eval\n",
      "       nlp_f  |        0 (       0)   6.60us (  2.20us)         3\n",
      "       nlp_g  |        0 (       0)  41.80us ( 13.93us)         3\n",
      "  nlp_grad_f  |        0 (       0)  16.60us (  4.15us)         4\n",
      "  nlp_hess_l  |        0 (       0) 262.40us (131.20us)         2\n",
      "   nlp_jac_g  |        0 (       0)  94.60us ( 23.65us)         4\n",
      "       total  |   8.00ms (  8.00ms)   8.44ms (  8.44ms)         1\n"
     ]
    }
   ],
   "source": [
    "alpha1 = 0.2\n",
    "alpha2 = 0.5\n",
    "alpha3 = 0.3\n",
    "\n",
    "x0 = -4\n",
    "y0 = -0.9\n",
    "theta0 = 0\n",
    "\n",
    "xf = 0\n",
    "yf = 0\n",
    "thetaf = pi/2\n",
    "\n",
    "\n",
    "X,Y,THETA, V1,V2,W, U1,U2,U3 = Katja_Mombaur_DOC ( Xi, Xf, alpha1, alpha2, alpha3)"
   ]
  },
  {
   "cell_type": "code",
   "execution_count": 31,
   "id": "1198bd74",
   "metadata": {},
   "outputs": [
    {
     "data": {
      "text/plain": [
       "Text(0, 0.5, 'valeur singulière')"
      ]
     },
     "execution_count": 31,
     "metadata": {},
     "output_type": "execute_result"
    },
    {
     "data": {
      "image/png": "[encoded data removed]",
      "text/plain": [
       "<Figure size 432x288 with 1 Axes>"
      ]
     },
     "metadata": {
      "needs_background": "light"
     },
     "output_type": "display_data"
    }
   ],
   "source": [
    "J_K = Jacobienne_jerk (U1,U2,U3, V1,V2,W , X,Y,THETA)\n",
    "J_w = Jacobienne_w_jerk (U1,U2,U3, V1,V2,W , X,Y,THETA)\n",
    "J_lambda = Jacobienne_lambda_jerk (U1,U2,U3, V1,V2,W , X,Y,THETA)\n",
    "\n",
    "U, Eps , V = np.linalg.svd(J_K)\n",
    "\n",
    "plt.plot(Eps,'*')\n",
    "plt.yscale('log')\n",
    "plt.ylabel(\"valeur singulière\")"
   ]
  },
  {
   "cell_type": "code",
   "execution_count": 32,
   "id": "e9d328bd",
   "metadata": {},
   "outputs": [
    {
     "name": "stdout",
     "output_type": "stream",
     "text": [
      "le rang de la matrice J_K est :  150 et sa dimension est :  (225, 156)\n",
      "le rang de la matrice J_w est :  6 et sa dimension est :  (225, 6)\n",
      "le rang de la matrice J_lambda est :  150 et sa dimension est :  (225, 150)\n"
     ]
    }
   ],
   "source": [
    "print(\"le rang de la matrice J_K est : \", np.linalg.matrix_rank(J_K) , \"et sa dimension est : \", J_K.shape)\n",
    "print(\"le rang de la matrice J_w est : \", np.linalg.matrix_rank(J_w) , \"et sa dimension est : \", J_w.shape)\n",
    "print(\"le rang de la matrice J_lambda est : \", np.linalg.matrix_rank(J_lambda) , \"et sa dimension est : \", J_lambda.shape)"
   ]
  },
  {
   "cell_type": "markdown",
   "id": "dcde8fe3",
   "metadata": {},
   "source": [
    "# Ajoutant l'énergie cinétique"
   ]
  },
  {
   "cell_type": "code",
   "execution_count": 33,
   "id": "30b2ca86",
   "metadata": {},
   "outputs": [],
   "source": [
    "m = 73.9         ## masse moyenne\n",
    "\n",
    "T = 5\n",
    "tau = T/n\n",
    "\n",
    "xi = SX.sym('xi',1)                   \n",
    "yi = SX.sym('yi',1)                \n",
    "thetai = SX.sym('thetai',1)\n",
    "\n",
    "\n",
    "xf = SX.sym('xf',1)\n",
    "yf = SX.sym('yf',1)\n",
    "thetaf = SX.sym('thetaf',1)\n",
    "\n",
    "alpha1 = SX.sym('alpha1',1)\n",
    "alpha2 = SX.sym('alpha2',1)\n",
    "alpha3 = SX.sym('alpha3',1)\n",
    "alpha4 = SX.sym('alpha4',1)\n",
    "\n",
    "\n",
    "## Position\n",
    "x=SX.sym('x',n)\n",
    "\n",
    "y=SX.sym('y',n)\n",
    "\n",
    "theta=SX.sym('theta',n)\n",
    "\n",
    "## Vitesse\n",
    "v1=SX.sym('v1',n)  \n",
    "\n",
    "v2=SX.sym('v2',n)  \n",
    "\n",
    "w=SX.sym('w',n)\n",
    "\n",
    "## accélération \n",
    "u1 = SX.sym('u1',n)\n",
    "u2 = SX.sym('u2',n)\n",
    "u3 = SX.sym('u3',n)\n",
    "\n",
    "\n",
    "Lambda = SX.sym('Lambda',6*(n))"
   ]
  },
  {
   "cell_type": "code",
   "execution_count": 34,
   "id": "d3e86f24",
   "metadata": {},
   "outputs": [],
   "source": [
    "F_K = SX.sym('F_K',4)\n",
    "\n",
    "F_K[0] = tau*dot(u1,u1)\n",
    "F_K[1] = tau*dot(u2,u2)\n",
    "F_K[2] = tau*dot(u3,u3)\n",
    "F_K[3] = (m/2)*tau*dot(v2*cos(theta),v2*cos(theta) )\n",
    "\n",
    "\n",
    "\n",
    "G = SX.sym('G',6*(n))\n",
    "\n",
    "G[0] = x[0] - xi\n",
    "G[1] = y[0] - yi\n",
    "G[2] = theta[0] - thetai\n",
    "\n",
    "\n",
    "for i in range (0,n) :\n",
    "    G[6*i-3] = x[i-1] + tau * (v1[i-1] * cos(theta[i-1]) - sin(theta[i-1])*v2[i-1])- x[i]\n",
    "    G[6*i-2] = y[i-1] + tau *(v1[i-1] * sin(theta[i-1]) + cos(theta[i-1])*v2[i-1]) - y[i]\n",
    "    G[6*i-1] = theta[i-1] + tau * w[i-1]  - theta[i]\n",
    "    G[6*i] = v1[i-1] + tau * u1[i-1]  - v1[i]\n",
    "    G[6*i+1] = w[i-1] + tau * u2[i-1]  - w[i]\n",
    "    G[6*i+2] = v2[i-1] + tau * u3[i-1]  - v2[i]\n",
    "    \n",
    "    \n",
    "G [6*(n)-3] = x[-1] - xf\n",
    "G [6*(n)-2] = y[-1] - yf\n",
    "G [6*(n)-1] = theta[-1] - thetaf"
   ]
  },
  {
   "cell_type": "code",
   "execution_count": 35,
   "id": "52ac87da",
   "metadata": {},
   "outputs": [],
   "source": [
    "F_G = vertcat(F_K , G)\n",
    "X = vertcat(u1,u2,u3, v1,w,v2,x,y,theta)\n",
    "J_K = SX.zeros(X.shape[0],F_G.shape[0])\n",
    "J_w = SX.zeros(X.shape[0],F_K.shape[0])\n",
    "J_lambda = SX.zeros(X.shape[0],G.shape[0])\n",
    "\n",
    "\n",
    "for i in range (X.shape[0]):\n",
    "    for j in range (F_G.shape[0]) :\n",
    "        J_K[i,j] = jacobian(F_G[j], X[i])\n",
    "        \n",
    "for i in range (X.shape[0]):\n",
    "    for j in range (F_K.shape[0]) :\n",
    "        J_w[i,j] = jacobian(F_K[j], X[i])\n",
    "        \n",
    "for i in range (X.shape[0]):\n",
    "    for j in range (G.shape[0]) :\n",
    "        J_lambda[i,j] = jacobian(G[j], X[i])"
   ]
  },
  {
   "cell_type": "code",
   "execution_count": 36,
   "id": "e6a83d09",
   "metadata": {},
   "outputs": [],
   "source": [
    "Jacobienne_C = Function ('Jacobienne_C', [u1,u2, u3, v1,w,v2,x,y,theta], [J_K])\n",
    "Jacobienne_w_C = Function ('Jacobienne_w_C', [u1,u2, u3, v1,w,v2,x,y,theta], [J_w])\n",
    "Jacobienne_lambda_C = Function ('Jacobienne_lambda_C', [u1,u2, u3, v1,w,v2,x,y,theta], [J_lambda])"
   ]
  },
  {
   "cell_type": "code",
   "execution_count": 37,
   "id": "3f756920",
   "metadata": {},
   "outputs": [
    {
     "name": "stdout",
     "output_type": "stream",
     "text": [
      "This is Ipopt version 3.14.4, running with linear solver MUMPS 5.2.1.\n",
      "\n",
      "Number of nonzeros in equality constraint Jacobian...:      534\n",
      "Number of nonzeros in inequality constraint Jacobian.:        0\n",
      "Number of nonzeros in Lagrangian Hessian.............:      147\n",
      "\n",
      "Total number of variables............................:      225\n",
      "                     variables with only lower bounds:        0\n",
      "                variables with lower and upper bounds:        0\n",
      "                     variables with only upper bounds:        0\n",
      "Total number of equality constraints.................:      150\n",
      "Total number of inequality constraints...............:        0\n",
      "        inequality constraints with only lower bounds:        0\n",
      "   inequality constraints with lower and upper bounds:        0\n",
      "        inequality constraints with only upper bounds:        0\n",
      "\n",
      "iter    objective    inf_pr   inf_du lg(mu)  ||d||  lg(rg) alpha_du alpha_pr  ls\n",
      "   0  0.0000000e+00 4.00e+00 0.00e+00  -1.0 0.00e+00    -  0.00e+00 0.00e+00   0\n",
      "   1  2.0972646e-58 3.33e-01 1.31e-29  -1.0 4.00e+00    -  1.00e+00 1.00e+00h  1\n",
      "   2  7.9379366e-56 8.88e-16 1.96e-28  -1.7 5.17e+00    -  1.00e+00 1.00e+00h  1\n",
      "\n",
      "Number of Iterations....: 2\n",
      "\n",
      "                                   (scaled)                 (unscaled)\n",
      "Objective...............:   7.9379365803342188e-56    7.9379365803342188e-56\n",
      "Dual infeasibility......:   1.9563750449481093e-28    1.9563750449481093e-28\n",
      "Constraint violation....:   8.8817841970012523e-16    8.8817841970012523e-16\n",
      "Variable bound violation:   0.0000000000000000e+00    0.0000000000000000e+00\n",
      "Complementarity.........:   0.0000000000000000e+00    0.0000000000000000e+00\n",
      "Overall NLP error.......:   8.8817841970012523e-16    8.8817841970012523e-16\n",
      "\n",
      "\n",
      "Number of objective function evaluations             = 3\n",
      "Number of objective gradient evaluations             = 3\n",
      "Number of equality constraint evaluations            = 3\n",
      "Number of inequality constraint evaluations          = 0\n",
      "Number of equality constraint Jacobian evaluations   = 3\n",
      "Number of inequality constraint Jacobian evaluations = 0\n",
      "Number of Lagrangian Hessian evaluations             = 2\n",
      "Total seconds in IPOPT                               = 0.006\n",
      "\n",
      "EXIT: Optimal Solution Found.\n",
      "      solver  :   t_proc      (avg)   t_wall      (avg)    n_eval\n",
      "       nlp_f  |        0 (       0)   6.50us (  2.17us)         3\n",
      "       nlp_g  |        0 (       0)  19.50us (  6.50us)         3\n",
      "  nlp_grad_f  |        0 (       0)  12.60us (  3.15us)         4\n",
      "  nlp_hess_l  |        0 (       0)  16.10us (  8.05us)         2\n",
      "   nlp_jac_g  |        0 (       0)  65.50us ( 16.38us)         4\n",
      "       total  |   7.00ms (  7.00ms)   6.91ms (  6.91ms)         1\n"
     ]
    }
   ],
   "source": [
    "alpha1 = 0.2\n",
    "alpha2 = 0.5\n",
    "alpha3 = 0.3\n",
    "\n",
    "x0 = -4\n",
    "y0 = -0.9\n",
    "theta0 = 0\n",
    "\n",
    "xf = 0\n",
    "yf = 0\n",
    "thetaf = pi/2\n",
    "\n",
    "\n",
    "X,Y,THETA, V1,V2,W, U1,U2,U3 = Katja_Mombaur_DOC ( Xi, Xf, alpha1, alpha2, alpha3)"
   ]
  },
  {
   "cell_type": "code",
   "execution_count": 38,
   "id": "129713aa",
   "metadata": {},
   "outputs": [
    {
     "data": {
      "text/plain": [
       "Text(0, 0.5, 'valeur singulière')"
      ]
     },
     "execution_count": 38,
     "metadata": {},
     "output_type": "execute_result"
    },
    {
     "data": {
      "image/png": "[encoded data removed]",
      "text/plain": [
       "<Figure size 432x288 with 1 Axes>"
      ]
     },
     "metadata": {
      "needs_background": "light"
     },
     "output_type": "display_data"
    }
   ],
   "source": [
    "J_K = Jacobienne_C (U1,U2,U3, V1,V2,W , X,Y,THETA)\n",
    "J_w = Jacobienne_w_C (U1,U2,U3, V1,V2,W , X,Y,THETA)\n",
    "J_lambda = Jacobienne_lambda_C (U1,U2,U3, V1,V2,W , X,Y,THETA)\n",
    "\n",
    "U, Eps , V = np.linalg.svd(J_K)\n",
    "\n",
    "plt.plot(Eps,'*')\n",
    "plt.yscale('log')\n",
    "plt.ylabel(\"valeur singulière\")"
   ]
  },
  {
   "cell_type": "code",
   "execution_count": 39,
   "id": "f0176745",
   "metadata": {},
   "outputs": [
    {
     "name": "stdout",
     "output_type": "stream",
     "text": [
      "le rang de la matrice J_K est :  151 et sa dimension est :  (225, 154)\n",
      "le rang de la matrice J_w est :  1 et sa dimension est :  (225, 4)\n",
      "le rang de la matrice J_lambda est :  150 et sa dimension est :  (225, 150)\n"
     ]
    }
   ],
   "source": [
    "print(\"le rang de la matrice J_K est : \", np.linalg.matrix_rank(J_K) , \"et sa dimension est : \", J_K.shape)\n",
    "print(\"le rang de la matrice J_w est : \", np.linalg.matrix_rank(J_w) , \"et sa dimension est : \", J_w.shape)\n",
    "print(\"le rang de la matrice J_lambda est : \", np.linalg.matrix_rank(J_lambda) , \"et sa dimension est : \", J_lambda.shape)"
   ]
  },
  {
   "cell_type": "code",
   "execution_count": null,
   "id": "e0c97ece",
   "metadata": {},
   "outputs": [],
   "source": []
  }
 ],
 "metadata": {
  "kernelspec": {
   "display_name": "Python 3 (ipykernel)",
   "language": "python",
   "name": "python3"
  },
  "language_info": {
   "codemirror_mode": {
    "name": "ipython",
    "version": 3
   },
   "file_extension": ".py",
   "mimetype": "text/x-python",
   "name": "python",
   "nbconvert_exporter": "python",
   "pygments_lexer": "ipython3",
   "version": "3.9.7"
  }
 },
 "nbformat": 4,
 "nbformat_minor": 5
}
