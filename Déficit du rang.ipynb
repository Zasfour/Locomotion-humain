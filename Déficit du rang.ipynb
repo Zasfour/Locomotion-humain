{
 "cells": [
  {
   "cell_type": "code",
   "execution_count": 1,
   "id": "534d5873",
   "metadata": {},
   "outputs": [],
   "source": [
    "import numpy as np\n",
    "import matplotlib.pyplot as plt\n",
    "import random as random\n",
    "%matplotlib inline\n",
    "from casadi import *"
   ]
  },
  {
   "cell_type": "markdown",
   "id": "7cb5405a",
   "metadata": {},
   "source": [
    "# Puydupin\n"
   ]
  },
  {
   "cell_type": "code",
   "execution_count": 2,
   "id": "384e4f1a",
   "metadata": {},
   "outputs": [],
   "source": [
    "n = 25\n",
    "taux = 1/n"
   ]
  },
  {
   "cell_type": "code",
   "execution_count": 3,
   "id": "16804251",
   "metadata": {},
   "outputs": [],
   "source": [
    "x1i = SX.sym('x1i',1)                   \n",
    "x2i = SX.sym('x2i',1)                \n",
    "x3i = SX.sym('x3i',1)\n",
    "\n",
    "\n",
    "x1f = SX.sym('x1f',1)\n",
    "x2f = SX.sym('x2f',1)\n",
    "x3f = SX.sym('x3f',1)\n",
    "\n",
    "\n",
    "c1 = SX.sym('c1',1)\n",
    "c2 = SX.sym('c2',1)\n",
    "\n",
    "u1=SX.sym('u1',n)  \n",
    "\n",
    "u2=SX.sym('u2',n)  \n",
    "\n",
    "x1=SX.sym('x1',n)\n",
    "\n",
    "x2=SX.sym('x2',n)\n",
    "\n",
    "x3=SX.sym('x3',n)\n",
    "\n",
    "Lambda = SX.sym('Lambda',3*(n+1))"
   ]
  },
  {
   "cell_type": "code",
   "execution_count": 4,
   "id": "beb94c18",
   "metadata": {},
   "outputs": [],
   "source": [
    "F = SX.sym('F',2)\n",
    "\n",
    "F[0] = (taux/2)*dot(u1,u1)\n",
    "F[1] = (taux/2)*dot(u2,u2)\n",
    "\n",
    "G = SX.sym('G',3*(n+1))\n",
    "\n",
    "G[0] = x1[0] - x1i\n",
    "G[1] = x2[0] - x2i\n",
    "G[2] = x3[0] - x3i\n",
    "\n",
    "for i in range (1,n) :\n",
    "    G[3*i] = x1[i-1] + taux * u1[i-1] * cos(x3[i-1]) - x1[i]\n",
    "    G[3*i+1] = x2[i-1] + taux * u1[i-1] * sin(x3[i-1]) - x2[i]\n",
    "    G[3*i+2] = x3[i-1] + taux * u2[i-1]  - x3[i]\n",
    "    \n",
    "G [3*(n+1)-3] = x1[-1] - x1f\n",
    "G [3*(n+1)-2] = x2[-1] - x2f\n",
    "G [3*(n+1)-1] = x3[-1] - x3f\n",
    "\n",
    "\n",
    "## contrainte d'inégalite\n",
    "H = SX.sym('H',4 )\n",
    "\n",
    "H [0] =  u1[0] -0.0001 \n",
    "H [1] =  u2[0] -0.0001\n",
    "H [2] =  u1[-1] - 0.0001\n",
    "H [3] =  u2[-1] - 0.0001\n",
    "\n",
    "G0 = vertcat(G,H)\n",
    "F_G = vertcat(F , G, H)\n",
    "X = vertcat(u1,u2,x1,x2,x3)\n"
   ]
  },
  {
   "cell_type": "code",
   "execution_count": 5,
   "id": "4798ba42",
   "metadata": {},
   "outputs": [],
   "source": [
    "J = SX.zeros(5*n, F_G.shape[0])\n",
    "J_w = SX.zeros(X.shape[0],F.shape[0])\n",
    "J_lambda = SX.zeros(X.shape[0],G0.shape[0])"
   ]
  },
  {
   "cell_type": "code",
   "execution_count": 6,
   "id": "5a84aeed",
   "metadata": {},
   "outputs": [],
   "source": [
    "for i in range (X.shape[0]):\n",
    "    for j in range (F_G.shape[0]) :\n",
    "        J[i,j] = jacobian(F_G[j], X[i])\n",
    "        \n",
    "for i in range (X.shape[0]):\n",
    "    for j in range (F.shape[0]) :\n",
    "        J_w[i,j] = jacobian(F[j], X[i])\n",
    "        \n",
    "for i in range (X.shape[0]):\n",
    "    for j in range (G0.shape[0]) :\n",
    "        J_lambda[i,j] = jacobian(G0[j], X[i])\n",
    "        \n",
    "        \n",
    "Jacobienne = Function ('Jacobienne', [u1,u2,x1,x2,x3], [J])\n",
    "Jacobienne_w1 = Function ('Jacobienne_w1', [u1,u2,x1,x2,x3], [J_w])\n",
    "Jacobienne_lambda1 = Function ('Jacobienne_lambda1', [u1,u2,x1,x2,x3], [J_lambda])"
   ]
  },
  {
   "cell_type": "code",
   "execution_count": 7,
   "id": "bae05fd8",
   "metadata": {},
   "outputs": [],
   "source": [
    "x=SX.sym('x',n)\n",
    "f= Function('f',[x],[x[1:]])"
   ]
  },
  {
   "cell_type": "code",
   "execution_count": 8,
   "id": "83a93ad6",
   "metadata": {},
   "outputs": [],
   "source": [
    "def Unicycle_DOC (f, Xi , Xf , c1 , c2) :\n",
    "    x1i = Xi[0] \n",
    "    x2i = Xi[1]\n",
    "    x3i = Xi[2]\n",
    "    \n",
    "    x1f = Xf[0] \n",
    "    x2f = Xf[1]\n",
    "    x3f = Xf[2]\n",
    "    \n",
    "    opti = casadi.Opti()   # cette fonction nous permet de trouver la solution de problème\n",
    "\n",
    "    u1 = opti.variable(n)\n",
    "    u2 = opti.variable(n)\n",
    "    x1 = opti.variable(n)\n",
    "    x2 = opti.variable(n)\n",
    "    x3 = opti.variable(n)\n",
    "\n",
    "    opti.minimize(   (taux/2)*(c1*dot(u1,u1)+c2*dot(u2,u2))   )    # ma fonction objetion\n",
    "\n",
    "    # mes fonctions de contrainte d'égalité:\n",
    "\n",
    "    ## pour les condition initial\n",
    "    opti.subject_to( x1[0]==x1i)        \n",
    "    opti.subject_to( x2[0]==x2i)\n",
    "    opti.subject_to( x3[0]==x3i)\n",
    "\n",
    "    opti.subject_to( u1[0] == 0.0001 )\n",
    "    opti.subject_to( u2[0] == 0.0001 )\n",
    "    opti.subject_to( u1[-1] == 0.0001)\n",
    "    opti.subject_to( u2[-1] == 0.0001)\n",
    "\n",
    "    ## pour les contraintes d'égaliter\n",
    "    opti.subject_to( x1[:n-1]+taux*u1[:n-1]*cos(x3[:n-1])==f(x1) )\n",
    "    opti.subject_to( x2[:n-1]+taux*u1[:n-1]*sin(x3[:n-1])==f(x2) )\n",
    "    opti.subject_to( x3[:n-1]+taux*u2[:n-1] ==f(x3))\n",
    "\n",
    "    ## pour les conditions finales\n",
    "    opti.subject_to( x1[-1]==x1f)\n",
    "    opti.subject_to( x2[-1]==x2f)\n",
    "    opti.subject_to( x3[-1]==x3f)\n",
    "\n",
    "\n",
    "    opti.solver('ipopt')      # suivant la méthode de KKT\n",
    "\n",
    "\n",
    "    sol = opti.solve()\n",
    "    \n",
    "    X1 = sol.value(x1)\n",
    "    X2 = sol.value(x2)\n",
    "    X3 = sol.value(x3)\n",
    "    \n",
    "    U1 = sol.value(u1)\n",
    "    U2 = sol.value(u2)\n",
    "    \n",
    "    return X1,X2,X3,U1,U2"
   ]
  },
  {
   "cell_type": "code",
   "execution_count": 9,
   "id": "d6543e04",
   "metadata": {
    "scrolled": true
   },
   "outputs": [
    {
     "name": "stdout",
     "output_type": "stream",
     "text": [
      "\n",
      "******************************************************************************\n",
      "This program contains Ipopt, a library for large-scale nonlinear optimization.\n",
      " Ipopt is released as open source code under the Eclipse Public License (EPL).\n",
      "         For more information visit https://github.com/coin-or/Ipopt\n",
      "******************************************************************************\n",
      "\n",
      "This is Ipopt version 3.14.4, running with linear solver MUMPS 5.2.1.\n",
      "\n",
      "Number of nonzeros in equality constraint Jacobian...:      274\n",
      "Number of nonzeros in inequality constraint Jacobian.:        0\n",
      "Number of nonzeros in Lagrangian Hessian.............:       98\n",
      "\n",
      "Total number of variables............................:      125\n",
      "                     variables with only lower bounds:        0\n",
      "                variables with lower and upper bounds:        0\n",
      "                     variables with only upper bounds:        0\n",
      "Total number of equality constraints.................:       82\n",
      "Total number of inequality constraints...............:        0\n",
      "        inequality constraints with only lower bounds:        0\n",
      "   inequality constraints with lower and upper bounds:        0\n",
      "        inequality constraints with only upper bounds:        0\n",
      "\n",
      "iter    objective    inf_pr   inf_du lg(mu)  ||d||  lg(rg) alpha_du alpha_pr  ls\n",
      "   0  0.0000000e+00 4.00e+00 0.00e+00  -1.0 0.00e+00    -  0.00e+00 0.00e+00   0\n",
      "   1  1.1731471e+01 3.48e-01 3.57e+06  -1.0 5.12e+00    -  1.00e+00 1.00e+00h  1\n",
      "   2  1.7712920e+01 2.42e-01 3.02e+07  -1.0 5.73e+00   6.0 1.00e+00 1.00e+00h  1\n",
      "   3  1.4263682e+01 1.21e-01 3.12e+07  -1.0 6.22e+00   6.4 1.00e+00 1.00e+00f  1\n",
      "   4  1.6011891e+01 1.21e-02 1.78e+07  -1.0 1.68e+00   6.9 1.00e+00 1.00e+00h  1\n",
      "   5  1.6073599e+01 1.26e-04 3.46e+06  -1.0 2.37e-01   6.4 1.00e+00 1.00e+00h  1\n",
      "   6  1.6075201e+01 7.50e-09 1.12e+03  -1.0 1.39e-03   5.9 1.00e+00 1.00e+00h  1\n",
      "   7  1.6075200e+01 8.88e-16 8.99e-02  -1.0 3.41e-07   5.4 1.00e+00 1.00e+00h  1\n",
      "   8  1.4794351e+01 3.58e-01 1.95e-01  -2.5 2.23e+01    -  1.00e+00 5.00e-01f  2\n",
      "   9  1.3139015e+01 2.48e-02 7.39e-02  -2.5 3.20e+00    -  1.00e+00 1.00e+00f  1\n",
      "iter    objective    inf_pr   inf_du lg(mu)  ||d||  lg(rg) alpha_du alpha_pr  ls\n",
      "  10  1.3074849e+01 1.77e-03 1.51e-03  -2.5 1.19e+00    -  1.00e+00 1.00e+00h  1\n",
      "  11  1.3069151e+01 1.12e-06 1.74e-06  -3.8 2.00e-02    -  1.00e+00 1.00e+00h  1\n",
      "  12  1.3069146e+01 5.05e-12 1.44e-12  -8.6 4.48e-05    -  1.00e+00 1.00e+00h  1\n",
      "\n",
      "Number of Iterations....: 12\n",
      "\n",
      "                                   (scaled)                 (unscaled)\n",
      "Objective...............:   1.3069146236291168e+01    1.3069146236291168e+01\n",
      "Dual infeasibility......:   1.4379608614945028e-12    1.4379608614945028e-12\n",
      "Constraint violation....:   5.0475179591558117e-12    5.0475179591558117e-12\n",
      "Variable bound violation:   0.0000000000000000e+00    0.0000000000000000e+00\n",
      "Complementarity.........:   0.0000000000000000e+00    0.0000000000000000e+00\n",
      "Overall NLP error.......:   5.0475179591558117e-12    5.0475179591558117e-12\n",
      "\n",
      "\n",
      "Number of objective function evaluations             = 15\n",
      "Number of objective gradient evaluations             = 13\n",
      "Number of equality constraint evaluations            = 15\n",
      "Number of inequality constraint evaluations          = 0\n",
      "Number of equality constraint Jacobian evaluations   = 13\n",
      "Number of inequality constraint Jacobian evaluations = 0\n",
      "Number of Lagrangian Hessian evaluations             = 12\n",
      "Total seconds in IPOPT                               = 0.065\n",
      "\n",
      "EXIT: Optimal Solution Found.\n",
      "      solver  :   t_proc      (avg)   t_wall      (avg)    n_eval\n",
      "       nlp_f  |        0 (       0)  51.70us (  3.45us)        15\n",
      "       nlp_g  |        0 (       0) 287.70us ( 19.18us)        15\n",
      "  nlp_grad_f  |        0 (       0) 107.10us (  7.65us)        14\n",
      "  nlp_hess_l  |        0 (       0) 344.90us ( 28.74us)        12\n",
      "   nlp_jac_g  |   1.00ms ( 71.43us) 589.10us ( 42.08us)        14\n",
      "       total  |  67.00ms ( 67.00ms)  66.46ms ( 66.46ms)         1\n"
     ]
    }
   ],
   "source": [
    "c1 = 0.1                 # suivant l'article  on va essayé de le retrouver\n",
    "c2 = 0.9\n",
    "\n",
    "x1i = -4                   # condition initiale de x1\n",
    "x2i = -3                 # condition initiale de x2\n",
    "x3i = -pi              # condition initiale de x3\n",
    "\n",
    "\n",
    "x1f = 0            # condition final de x1\n",
    "x2f = 0            # condition final de x2\n",
    "x3f = pi/2         # condition final de x3\n",
    "\n",
    "Xi = [x1i,x2i,x3i]\n",
    "Xf = [x1f,x2f,x3f]\n",
    "\n",
    "X1,X2,X3,U1,U2 = Unicycle_DOC (f, Xi , Xf , c1 , c2)"
   ]
  },
  {
   "cell_type": "code",
   "execution_count": 10,
   "id": "b81cca85",
   "metadata": {},
   "outputs": [],
   "source": [
    "J = Jacobienne(U1,U2,X1,X2,X3)\n",
    "J_w = Jacobienne_w1 (U1,U2, X1,X2,X3)\n",
    "J_lambda = Jacobienne_lambda1 (U1,U2, X1,X2,X3)\n",
    "\n",
    "U, Eps , V = np.linalg.svd(J)"
   ]
  },
  {
   "cell_type": "code",
   "execution_count": 11,
   "id": "24c595fc",
   "metadata": {},
   "outputs": [
    {
     "data": {
      "text/plain": [
       "<matplotlib.legend.Legend at 0x1edff9dc070>"
      ]
     },
     "execution_count": 11,
     "metadata": {},
     "output_type": "execute_result"
    },
    {
     "data": {
      "image/png": "[encoded data removed]",
      "text/plain": [
       "<Figure size 432x288 with 1 Axes>"
      ]
     },
     "metadata": {
      "needs_background": "light"
     },
     "output_type": "display_data"
    }
   ],
   "source": [
    "plt.plot(Eps, \"*\", label = \"Valeur singulière avec la fonction svd 'de python'\")\n",
    "\n",
    "plt.ylabel(\"valeur singulière\")\n",
    "plt.yscale('log')\n",
    "plt.legend()"
   ]
  },
  {
   "cell_type": "code",
   "execution_count": 12,
   "id": "dfaab7f6",
   "metadata": {},
   "outputs": [
    {
     "name": "stdout",
     "output_type": "stream",
     "text": [
      "The rank of the matrice J_w is :  2 and his dimension is :  (125, 2)\n",
      "The rank of the matrice J_lambda is  :  82 and his dimension is :  (125, 82)\n",
      "The rank of the matrice J is :  83 and his dimension is :  (125, 84)\n"
     ]
    }
   ],
   "source": [
    "print(\"The rank of the matrice J_w is : \", np.linalg.matrix_rank(J_w) , \"and his dimension is : \", J_w.shape)\n",
    "print(\"The rank of the matrice J_lambda is  : \", np.linalg.matrix_rank(J_lambda) , \"and his dimension is : \", J_lambda.shape)\n",
    "print(\"The rank of the matrice J is : \", np.linalg.matrix_rank(J) , \"and his dimension is : \", J.shape)\n"
   ]
  },
  {
   "cell_type": "markdown",
   "id": "cefd329b",
   "metadata": {},
   "source": [
    "# Katja_MOMBAUR"
   ]
  },
  {
   "cell_type": "code",
   "execution_count": 13,
   "id": "73ee225e",
   "metadata": {},
   "outputs": [],
   "source": [
    "T = 5\n",
    "taux = T/n"
   ]
  },
  {
   "cell_type": "code",
   "execution_count": 14,
   "id": "c54d236e",
   "metadata": {},
   "outputs": [],
   "source": [
    "xi = SX.sym('xi',1)                   \n",
    "yi = SX.sym('yi',1)                \n",
    "thetai = SX.sym('thetai',1)\n",
    "\n",
    "\n",
    "xf = SX.sym('xf',1)\n",
    "yf = SX.sym('yf',1)\n",
    "thetaf = SX.sym('thetaf',1)\n",
    "\n",
    "alpha1 = SX.sym('alpha1',1)\n",
    "alpha2 = SX.sym('alpha2',1)\n",
    "alpha3 = SX.sym('alpha3',1)\n",
    "\n",
    "## Position\n",
    "x=SX.sym('x',n)\n",
    "\n",
    "y=SX.sym('y',n)\n",
    "\n",
    "theta=SX.sym('theta',n)\n",
    "\n",
    "## Vitesse\n",
    "v1=SX.sym('v1',n)  \n",
    "\n",
    "v2=SX.sym('v2',n)  \n",
    "\n",
    "w=SX.sym('w',n)\n",
    "\n",
    "## accélération \n",
    "u1 = SX.sym('u1',n)\n",
    "u2 = SX.sym('u2',n)\n",
    "u3 = SX.sym('u3',n)\n",
    "\n",
    "\n",
    "Lambda = SX.sym('Lambda',6*(n))"
   ]
  },
  {
   "cell_type": "code",
   "execution_count": 36,
   "id": "8c09a505",
   "metadata": {},
   "outputs": [],
   "source": [
    "F_K = SX.sym('F_K',3)\n",
    "\n",
    "F_K[0] = taux*dot(u1,u1)\n",
    "F_K[1] = taux*dot(u2,u2)\n",
    "F_K[2] = taux*dot(u3,u3)\n",
    "\n",
    "\n",
    "\n",
    "G = SX.sym('G',6*(n))\n",
    "\n",
    "G[0] = x[0] - xi\n",
    "G[1] = y[0] - yi\n",
    "G[2] = theta[0] - thetai\n",
    "\n",
    "\n",
    "for i in range (0,n) :\n",
    "    G[6*i-3] = x[i-1] + taux * (v1[i-1] * cos(theta[i-1]) - sin(theta[i-1])*v2[i-1])- x[i]\n",
    "    G[6*i-2] = y[i-1] + taux *(v1[i-1] * sin(theta[i-1]) + cos(theta[i-1])*v2[i-1]) - y[i]\n",
    "    G[6*i-1] = theta[i-1] + taux * w[i-1]  - theta[i]\n",
    "    G[6*i] = v1[i-1] + taux * u1[i-1]  - v1[i]\n",
    "    G[6*i+1] = w[i-1] + taux * u2[i-1]  - w[i]\n",
    "    G[6*i+2] = v2[i-1] + taux * u3[i-1]  - v2[i]\n",
    "    \n",
    "    \n",
    "G [6*(n)-3] = x[-1] - xf\n",
    "G [6*(n)-2] = y[-1] - yf\n",
    "G [6*(n)-1] = theta[-1] - thetaf\n",
    "\n",
    "H = SX.sym('H',12)\n",
    "\n",
    "H[0] = v1[0]-0.0001\n",
    "H[1] = w[0]-0.0001\n",
    "H[2] = v2[0]-0.0001\n",
    "\n",
    "\n",
    "H[3] = v1[-1]-0.0001\n",
    "H[4] = w[-1]-0.0001\n",
    "H[5] = v2[-1]-0.0001\n",
    "\n",
    "H[6] = u1[0]-0.0001\n",
    "H[7] = u2[0]-0.0001\n",
    "H[8] = u3[0]-0.0001\n",
    "\n",
    "\n",
    "H[9] = u1[-1]-0.0001\n",
    "H[10] = u2[-1]-0.0001\n",
    "H[11] = u3[-1]-0.0001\n"
   ]
  },
  {
   "cell_type": "code",
   "execution_count": 37,
   "id": "309282bb",
   "metadata": {},
   "outputs": [],
   "source": [
    "F_G = vertcat(F_K , G, H)\n",
    "G1 = vertcat(G,H)\n",
    "X = vertcat(u1,u2,u3, v1,w,v2,x,y,theta)\n",
    "J_K = SX.zeros(X.shape[0],F_G.shape[0])\n",
    "J_w = SX.zeros(X.shape[0],F_K.shape[0])\n",
    "J_lambda = SX.zeros(X.shape[0],G1.shape[0])\n",
    "\n",
    "\n",
    "for i in range (X.shape[0]):\n",
    "    for j in range (F_G.shape[0]) :\n",
    "        J_K[i,j] = jacobian(F_G[j], X[i])\n",
    "        \n",
    "for i in range (X.shape[0]):\n",
    "    for j in range (F_K.shape[0]) :\n",
    "        J_w[i,j] = jacobian(F_K[j], X[i])\n",
    "        \n",
    "for i in range (X.shape[0]):\n",
    "    for j in range (G1.shape[0]) :\n",
    "        J_lambda[i,j] = jacobian(G1[j], X[i])\n",
    "        "
   ]
  },
  {
   "cell_type": "code",
   "execution_count": 38,
   "id": "a8285acb",
   "metadata": {},
   "outputs": [],
   "source": [
    "Jacobienne_K = Function ('Jacobienne_K', [u1,u2, u3, v1,w,v2,x,y,theta], [J_K])\n",
    "Jacobienne_w = Function ('Jacobienne_w', [u1,u2, u3, v1,w,v2,x,y,theta], [J_w])\n",
    "Jacobienne_lambda = Function ('Jacobienne_lambda', [u1,u2, u3, v1,w,v2,x,y,theta], [J_lambda])\n"
   ]
  },
  {
   "cell_type": "code",
   "execution_count": 43,
   "id": "9fbe25c1",
   "metadata": {},
   "outputs": [],
   "source": [
    "def Katja_Mombaur_DOC ( Xi, Xf, alpha1, alpha2, alpha3):\n",
    "    xi = Xi[0] \n",
    "    yi = Xi[1]\n",
    "    thetai = Xi[2]\n",
    "    \n",
    "    xf = Xf[0] \n",
    "    yf = Xf[1]\n",
    "    thetaf = Xf[2]\n",
    "    \n",
    "    opti = casadi.Opti()   # cette fonction nous permet de trouver la solution de problème\n",
    "\n",
    "    ## les positions\n",
    "    x = opti.variable(n)\n",
    "    y = opti.variable(n)\n",
    "    theta = opti.variable(n)\n",
    "\n",
    "    ## les vitesses \n",
    "    v1 = opti.variable(n)        ## vitesse latérale\n",
    "    v2 = opti.variable(n)        ## vitesse orthogonal\n",
    "    w = opti.variable(n)         ## vitesse angulaire\n",
    "    \n",
    "        ## les vitesses \n",
    "    u1 = opti.variable(n)        ## accélération latérale\n",
    "    u3 = opti.variable(n)        ## accélération orthogonal\n",
    "    u2 = opti.variable(n)        ## accélération angulaire\n",
    "    \n",
    "    \n",
    "    \n",
    "    opti.minimize(  taux*(alpha1 * dot(u1,u1) + alpha2 * dot(u2,u2 ) + alpha3 * dot( u3 ,u3 ) ) )    # ma fonction objetion\n",
    "\n",
    "    # mes fonctions de contrainte d'égalité:\n",
    "\n",
    "    ## pour les condition initial\n",
    "    opti.subject_to( x[0] == xi)        \n",
    "    opti.subject_to( y[0] == yi)\n",
    "    opti.subject_to( theta[0] == thetai)\n",
    "\n",
    "        \n",
    "    opti.subject_to( v1[0] == 0.0001 )\n",
    "    opti.subject_to( w[0] == 0.0001 )\n",
    "    opti.subject_to( v2[0] == 0.0001 )\n",
    "    opti.subject_to( v1[-1] == 0.0001 )\n",
    "    opti.subject_to( w[-1] == 0.0001 )\n",
    "    opti.subject_to( v2[-1] == 0.0001 )\n",
    "\n",
    "    opti.subject_to( u1[-1] == 0.0001 )\n",
    "    opti.subject_to( u2[-1] == 0.0001 )\n",
    "    opti.subject_to( u3[-1] == 0.0001 )\n",
    "\n",
    "    opti.subject_to( u1[0] == 0.0001 )\n",
    "    opti.subject_to( u2[0] == 0.0001 )\n",
    "    opti.subject_to( u3[0] == 0.0001 )\n",
    "\n",
    "\n",
    "\n",
    "    ## pour les contraintes d'égaliter\n",
    "    opti.subject_to( x[1:] == x[:n-1]+taux*(cos(theta[:n-1])*v1[:n-1] - sin(theta[:n-1])*v2[:n-1]) )\n",
    "    opti.subject_to( y[1:] == y[:n-1]+taux*(sin(theta[:n-1])*v1[:n-1] + cos(theta[:n-1])*v2[:n-1]) )\n",
    "    opti.subject_to( theta[1:] == theta[:n-1] + taux*w[:n-1] )\n",
    "    opti.subject_to( (v1[:n-1] + taux* u1[:n-1] == v1[1:])  )\n",
    "    opti.subject_to( (v2[:n-1] + taux* u3[:n-1] == v2[1:]) )\n",
    "    opti.subject_to( (w[:n-1] + taux* u2[:n-1] == w[1:]) )\n",
    "    \n",
    "\n",
    "    ## pour les conditions finales\n",
    "    opti.subject_to( x[-1]==xf)\n",
    "    opti.subject_to( y[-1]==yf)\n",
    "    opti.subject_to( theta[-1]==thetaf)\n",
    "\n",
    "\n",
    "    opti.solver('ipopt')      # suivant la méthode de KKT\n",
    "\n",
    "\n",
    "    sol = opti.solve()\n",
    "    \n",
    "    \n",
    "    X = sol.value(x)\n",
    "    Y = sol.value(y)\n",
    "    THETA = sol.value(theta)\n",
    "    \n",
    "    V1 = sol.value(v1)\n",
    "    V2 = sol.value(v2)\n",
    "    W = sol.value(w)\n",
    "    \n",
    "    return X,Y,THETA, V1,V2,W, sol.value(u1),sol.value(u2),sol.value(u3)"
   ]
  },
  {
   "cell_type": "code",
   "execution_count": 44,
   "id": "705285d6",
   "metadata": {},
   "outputs": [
    {
     "name": "stdout",
     "output_type": "stream",
     "text": [
      "This is Ipopt version 3.14.4, running with linear solver MUMPS 5.2.1.\n",
      "\n",
      "Number of nonzeros in equality constraint Jacobian...:      546\n",
      "Number of nonzeros in inequality constraint Jacobian.:        0\n",
      "Number of nonzeros in Lagrangian Hessian.............:      147\n",
      "\n",
      "Total number of variables............................:      225\n",
      "                     variables with only lower bounds:        0\n",
      "                variables with lower and upper bounds:        0\n",
      "                     variables with only upper bounds:        0\n",
      "Total number of equality constraints.................:      162\n",
      "Total number of inequality constraints...............:        0\n",
      "        inequality constraints with only lower bounds:        0\n",
      "   inequality constraints with lower and upper bounds:        0\n",
      "        inequality constraints with only upper bounds:        0\n",
      "\n",
      "iter    objective    inf_pr   inf_du lg(mu)  ||d||  lg(rg) alpha_du alpha_pr  ls\n",
      "   0  0.0000000e+00 4.00e+00 0.00e+00  -1.0 0.00e+00    -  0.00e+00 0.00e+00   0\n",
      "   1  2.0996816e+00 4.65e-01 9.89e-02  -1.0 4.00e+00    -  1.00e+00 1.00e+00h  1\n",
      "   2  3.2919191e+00 1.55e-01 2.06e-01  -1.7 2.73e+00    -  1.00e+00 1.00e+00h  1\n",
      "   3  3.5281592e+00 2.75e-02 2.30e-02  -1.7 5.35e-01    -  1.00e+00 1.00e+00h  1\n",
      "   4  3.5635337e+00 1.62e-04 9.38e-04  -3.8 1.22e-01    -  1.00e+00 1.00e+00h  1\n",
      "   5  3.5642269e+00 4.39e-06 2.34e-06  -5.7 9.14e-03    -  1.00e+00 1.00e+00h  1\n",
      "   6  3.5642037e+00 5.61e-12 4.69e-12  -8.6 1.37e-05    -  1.00e+00 1.00e+00h  1\n",
      "\n",
      "Number of Iterations....: 6\n",
      "\n",
      "                                   (scaled)                 (unscaled)\n",
      "Objective...............:   3.5642037263820328e+00    3.5642037263820328e+00\n",
      "Dual infeasibility......:   4.6909143236462114e-12    4.6909143236462114e-12\n",
      "Constraint violation....:   5.6084026311964408e-12    5.6084026311964408e-12\n",
      "Variable bound violation:   0.0000000000000000e+00    0.0000000000000000e+00\n",
      "Complementarity.........:   0.0000000000000000e+00    0.0000000000000000e+00\n",
      "Overall NLP error.......:   5.6084026311964408e-12    5.6084026311964408e-12\n",
      "\n",
      "\n",
      "Number of objective function evaluations             = 7\n",
      "Number of objective gradient evaluations             = 7\n",
      "Number of equality constraint evaluations            = 7\n",
      "Number of inequality constraint evaluations          = 0\n",
      "Number of equality constraint Jacobian evaluations   = 7\n",
      "Number of inequality constraint Jacobian evaluations = 0\n",
      "Number of Lagrangian Hessian evaluations             = 6\n",
      "Total seconds in IPOPT                               = 0.053\n",
      "\n",
      "EXIT: Optimal Solution Found.\n",
      "      solver  :   t_proc      (avg)   t_wall      (avg)    n_eval\n",
      "       nlp_f  |        0 (       0)  32.20us (  4.60us)         7\n",
      "       nlp_g  |        0 (       0) 183.60us ( 26.23us)         7\n",
      "  nlp_grad_f  |        0 (       0)  62.90us (  7.86us)         8\n",
      "  nlp_hess_l  |        0 (       0) 118.40us ( 19.73us)         6\n",
      "   nlp_jac_g  |        0 (       0) 419.30us ( 52.41us)         8\n",
      "       total  |  53.00ms ( 53.00ms)  53.77ms ( 53.77ms)         1\n"
     ]
    }
   ],
   "source": [
    "alpha1 = 0.2\n",
    "alpha2 = 0.5\n",
    "alpha3 = 0.3\n",
    "\n",
    "x0 = -4\n",
    "y0 = -0.9\n",
    "theta0 = pi\n",
    "\n",
    "xf = 0\n",
    "yf = 0\n",
    "thetaf = pi/2\n",
    "\n",
    "\n",
    "X,Y,THETA, V1,V2,W, U1,U2,U3 = Katja_Mombaur_DOC ( Xi, Xf, alpha1, alpha2, alpha3)"
   ]
  },
  {
   "cell_type": "code",
   "execution_count": 45,
   "id": "f3c0992b",
   "metadata": {},
   "outputs": [
    {
     "data": {
      "text/plain": [
       "Text(0, 0.5, 'valeur singulière')"
      ]
     },
     "execution_count": 45,
     "metadata": {},
     "output_type": "execute_result"
    },
    {
     "data": {
      "image/png": "[encoded data removed]",
      "text/plain": [
       "<Figure size 432x288 with 1 Axes>"
      ]
     },
     "metadata": {
      "needs_background": "light"
     },
     "output_type": "display_data"
    }
   ],
   "source": [
    "J = Jacobienne_K (U1,U2,U3, V1,V2,W , X,Y,THETA)\n",
    "J_w = Jacobienne_w (U1,U2,U3, V1,V2,W , X,Y,THETA)\n",
    "J_lambda = Jacobienne_lambda (U1,U2,U3, V1,V2,W , X,Y,THETA)\n",
    "\n",
    "U, Eps , V = np.linalg.svd(J)\n",
    "\n",
    "plt.plot(Eps,'*')\n",
    "plt.yscale('log')\n",
    "plt.ylabel(\"valeur singulière\")"
   ]
  },
  {
   "cell_type": "code",
   "execution_count": 46,
   "id": "4e177554",
   "metadata": {
    "scrolled": true
   },
   "outputs": [
    {
     "name": "stdout",
     "output_type": "stream",
     "text": [
      "The rank of the matrice J_w is :  3 and his dimension is :  (225, 3)\n",
      "The rank of the matrice J_lambda is  :  159 and his dimension is :  (225, 162)\n",
      "The rank of the matrice J is :  162 and his dimension is :  (225, 165)\n"
     ]
    }
   ],
   "source": [
    "print(\"The rank of the matrice J_w is : \", np.linalg.matrix_rank(J_w) , \"and his dimension is : \", J_w.shape)\n",
    "print(\"The rank of the matrice J_lambda is  : \", np.linalg.matrix_rank(J_lambda) , \"and his dimension is : \", J_lambda.shape)\n",
    "print(\"The rank of the matrice J is : \", np.linalg.matrix_rank(J) , \"and his dimension is : \", J.shape)"
   ]
  },
  {
   "cell_type": "code",
   "execution_count": 47,
   "id": "36e373c1",
   "metadata": {},
   "outputs": [],
   "source": [
    "Q,R = np.linalg.qr(J_lambda)\n",
    "b = np.zeros((R.shape[0],1))"
   ]
  },
  {
   "cell_type": "code",
   "execution_count": 48,
   "id": "f7e2d951",
   "metadata": {
    "scrolled": true
   },
   "outputs": [],
   "source": [
    "Lambda = np.linalg.solve(R, b)\n",
    "#Lambda == b"
   ]
  },
  {
   "cell_type": "code",
   "execution_count": 49,
   "id": "93becb7a",
   "metadata": {},
   "outputs": [
    {
     "name": "stdout",
     "output_type": "stream",
     "text": [
      "(225, 165)\n",
      "162\n"
     ]
    }
   ],
   "source": [
    "print(J.shape)\n",
    "print(np.linalg.matrix_rank(J))"
   ]
  }
 ],
 "metadata": {
  "kernelspec": {
   "display_name": "Python 3.9.7 ('base')",
   "language": "python",
   "name": "python3"
  },
  "language_info": {
   "codemirror_mode": {
    "name": "ipython",
    "version": 3
   },
   "file_extension": ".py",
   "mimetype": "text/x-python",
   "name": "python",
   "nbconvert_exporter": "python",
   "pygments_lexer": "ipython3",
   "version": "3.9.7"
  },
  "vscode": {
   "interpreter": {
    "hash": "f54e52e1f8fcb0919fae341bfe8cdfc33f684a41677e67c1dde1ef0f788739d7"
   }
  }
 },
 "nbformat": 4,
 "nbformat_minor": 5
}
